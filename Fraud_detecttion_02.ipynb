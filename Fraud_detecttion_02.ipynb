{
  "nbformat": 4,
  "nbformat_minor": 0,
  "metadata": {
    "colab": {
      "name": "Fraud_detecttion_02.ipynb",
      "provenance": [],
      "collapsed_sections": [],
      "authorship_tag": "ABX9TyPPgUB/G66ARcEGD4WUCxBN",
      "include_colab_link": true
    },
    "kernelspec": {
      "name": "python3",
      "display_name": "Python 3"
    },
    "language_info": {
      "name": "python"
    }
  },
  "cells": [
    {
      "cell_type": "markdown",
      "metadata": {
        "id": "view-in-github",
        "colab_type": "text"
      },
      "source": [
        "<a href=\"https://colab.research.google.com/github/pfolaa/fraud_detection/blob/main/Fraud_detecttion_02.ipynb\" target=\"_parent\"><img src=\"https://colab.research.google.com/assets/colab-badge.svg\" alt=\"Open In Colab\"/></a>"
      ]
    },
    {
      "cell_type": "code",
      "execution_count": 1,
      "metadata": {
        "colab": {
          "base_uri": "https://localhost:8080/"
        },
        "id": "4OjVmokZqx5h",
        "outputId": "e4459861-2d8c-4924-d9ce-5e957c207826"
      },
      "outputs": [
        {
          "output_type": "stream",
          "name": "stdout",
          "text": [
            "Mounted at /content/drive\n"
          ]
        }
      ],
      "source": [
        "from google.colab import drive\n",
        "drive.mount('/content/drive')"
      ]
    },
    {
      "cell_type": "code",
      "source": [
        "import os\n",
        "import glob\n",
        "import glob2\n",
        "import tqdm\n",
        "import json\n",
        "import pandas as pd\n",
        "import sys"
      ],
      "metadata": {
        "id": "ITW0N7VfrL8W"
      },
      "execution_count": 2,
      "outputs": []
    },
    {
      "cell_type": "code",
      "source": [
        "cd /content/drive/MyDrive/datasets/"
      ],
      "metadata": {
        "colab": {
          "base_uri": "https://localhost:8080/"
        },
        "id": "kDoDD_EBrVGz",
        "outputId": "e608d25f-c055-4bf5-b343-c88b16aea082"
      },
      "execution_count": 3,
      "outputs": [
        {
          "output_type": "stream",
          "name": "stdout",
          "text": [
            "/content/drive/MyDrive/datasets\n"
          ]
        }
      ]
    },
    {
      "cell_type": "code",
      "source": [
        "sys.path.insert(0, '/content/drive/MyDrive/datasets/')"
      ],
      "metadata": {
        "id": "dFfbYllurZhK"
      },
      "execution_count": 4,
      "outputs": []
    },
    {
      "cell_type": "code",
      "source": [
        "from utils import convertToTimestamp\n",
        "from utils import read_json_insert_csv\n",
        "from utils import process_json\n",
        "from utils import getListFileCSV\n",
        "from utils import parse_wallet_sms_payload_success\n",
        "from utils import parse_providus_transfer_error_function\n",
        "from utils import parse_and_concatenate_Leadway_Success_Rows\n",
        "from utils import parse_Leadway_Success_Row\n",
        "from utils import parse_Error_Row\n",
        "from utils import parse_Error_Row_selfie_Function\n",
        "from utils import parse_Error_Row_selfie_INSERT_INTO_Function\n",
        "from utils import parse_Error_Row_Function\n",
        "from utils import df_number_of_operations_per_minute\n",
        "from utils import list_all_df_with_conversion_in_datetime\n",
        "from preproc import parse_ERROR_DF\n",
        "from preproc import parse_row_LOAN_PAYLOAD\n",
        "from preproc import parse_API_REQUEST_DF\n",
        "from preproc import parse_CLIENT_MOBILE_LOGIN_DF\n",
        "from preproc import parse_SMS_PAYLOAD_DF\n",
        "from preproc import parse_SMS_SUCCESS_DF\n",
        "from preproc import parse_WALLET_SUCCESS_DF\n",
        "from preproc import parse_OKRA_WEBHOOK_DF\n",
        "from preproc import parse_LEADWAY_DF\n",
        "from preproc import parse_PROVIDUS_PAYLOAD_DF\n",
        "from preproc import parse_PROVIDUS_SUCCESS_DF\n",
        "from preproc import parse_VTPASS_PAYLOAD_DF\n",
        "from preproc import parse_LEADWAY_ERROR_DF\n",
        "from preproc import parse_PROVIDUS_TRANSFER_ERROR_DF\n",
        "from preproc import parse_PROVIDUS_TRANSFER_SUCCESS_DF\n",
        "from preproc import parse_PROVIDUS_SETTLEMENT_INFO_DF\n",
        "from preproc import parse_PROVIDUS_VERIFY_SETTLEMENT_INFO_DF\n",
        "from preproc import subfilter_DF\n",
        "from preproc import concatenate_info_DF\n",
        "from preproc import get_unique_numbers_DF\n",
        "from preproc import save_info_per_phone_number_DF\n"
      ],
      "metadata": {
        "id": "t9XEBtDNrhD8"
      },
      "execution_count": 5,
      "outputs": []
    },
    {
      "cell_type": "code",
      "source": [
        "json_path = os.path.join('./nirra-log-bot','*.json')"
      ],
      "metadata": {
        "id": "eSNIke_oshqq"
      },
      "execution_count": 6,
      "outputs": []
    },
    {
      "cell_type": "code",
      "source": [
        "json_files = glob2.glob(os.path.join('./nirra-log-bot','*.json'))"
      ],
      "metadata": {
        "id": "GjqTKZCXsKvK"
      },
      "execution_count": 7,
      "outputs": []
    },
    {
      "cell_type": "code",
      "source": [
        "path_dest = os.path.join('./liberta_leasing')"
      ],
      "metadata": {
        "id": "Zg6e-phMsyxj"
      },
      "execution_count": 8,
      "outputs": []
    },
    {
      "cell_type": "code",
      "source": [
        "process_json('./nirra-log-bot', './liberta_leasing')"
      ],
      "metadata": {
        "colab": {
          "base_uri": "https://localhost:8080/"
        },
        "id": "tCEejTvQsyEk",
        "outputId": "900f68e5-7e3c-4755-dea5-14954ac76f46"
      },
      "execution_count": 9,
      "outputs": [
        {
          "output_type": "stream",
          "name": "stderr",
          "text": [
            "100%|██████████| 170/170 [01:12<00:00,  2.34it/s]\n"
          ]
        }
      ]
    },
    {
      "cell_type": "code",
      "source": [
        "cd /content/drive/MyDrive/datasets/liberta_leasing/"
      ],
      "metadata": {
        "colab": {
          "base_uri": "https://localhost:8080/"
        },
        "id": "sxjkjbTQtTDy",
        "outputId": "bd79ab17-8983-49ac-ff70-3b65da6f6df2"
      },
      "execution_count": 10,
      "outputs": [
        {
          "output_type": "stream",
          "name": "stdout",
          "text": [
            "/content/drive/MyDrive/datasets/liberta_leasing\n"
          ]
        }
      ]
    },
    {
      "cell_type": "code",
      "source": [
        "path_file_csv = os.getcwd()"
      ],
      "metadata": {
        "id": "2PHWlCc5u7Qi"
      },
      "execution_count": 11,
      "outputs": []
    },
    {
      "cell_type": "code",
      "source": [
        "all_df_list = getListFileCSV(path_file_csv)"
      ],
      "metadata": {
        "colab": {
          "base_uri": "https://localhost:8080/"
        },
        "id": "iGgIUnNNvC56",
        "outputId": "90ff37d1-1223-4d36-d1c6-8e441ed28349"
      },
      "execution_count": 12,
      "outputs": [
        {
          "output_type": "stream",
          "name": "stderr",
          "text": [
            "100%|██████████| 170/170 [00:01<00:00, 133.19it/s]\n"
          ]
        }
      ]
    },
    {
      "cell_type": "markdown",
      "source": [
        "### Concatener la liste des DataFrames pour avoir un dataframe entier"
      ],
      "metadata": {
        "id": "A3IkToe7xILp"
      }
    },
    {
      "cell_type": "code",
      "source": [
        "df_raw = pd.concat(all_df_list, ignore_index=True)"
      ],
      "metadata": {
        "id": "-x9beXAvxHC4"
      },
      "execution_count": 13,
      "outputs": []
    },
    {
      "cell_type": "markdown",
      "source": [
        "### Sauvegarder le dataframe en local"
      ],
      "metadata": {
        "id": "ICtjW054xaX_"
      }
    },
    {
      "cell_type": "code",
      "source": [
        "df_raw.to_csv('/content/drive/MyDrive/datasets/nirra_log_bot.csv', index=None, sep='|')"
      ],
      "metadata": {
        "id": "GBo5WEX_xQdw"
      },
      "execution_count": 14,
      "outputs": []
    },
    {
      "cell_type": "markdown",
      "source": [
        "### Dataframe LOAN ERROR"
      ],
      "metadata": {
        "id": "HjnQj28hxpDZ"
      }
    },
    {
      "cell_type": "code",
      "source": [
        "df_raw['text'].fillna('', inplace=True)\n",
        "error = df_raw[df_raw['text'].str.contains('LOAN ERROR')]\n",
        "df_error = parse_ERROR_DF(error)"
      ],
      "metadata": {
        "id": "Y8FwLH9fxoaQ"
      },
      "execution_count": null,
      "outputs": []
    },
    {
      "cell_type": "markdown",
      "source": [
        "### Dataframe LOAN PAYLOAD"
      ],
      "metadata": {
        "id": "KwY0Ki3o1JOH"
      }
    },
    {
      "cell_type": "code",
      "source": [
        "df_raw['text'].fillna('', inplace=True)\n",
        "loan_payload = df_raw[df_raw['text'].str.contains('LOAN PAYLOAD')]\n",
        "df_loan_payload = parse_row_LOAN_PAYLOAD(loan_payload)"
      ],
      "metadata": {
        "id": "Gj1f-S5A1IwO"
      },
      "execution_count": null,
      "outputs": []
    },
    {
      "cell_type": "markdown",
      "source": [
        "### Dataframe API REQUEST"
      ],
      "metadata": {
        "id": "z7uyPmM11V7I"
      }
    },
    {
      "cell_type": "code",
      "source": [
        "df_raw['text'].fillna('', inplace=True)\n",
        "api_request = df_raw[df_raw['text'].str.contains('API REQUEST')]\n",
        "df_api_request = parse_API_REQUEST_DF(api_request)"
      ],
      "metadata": {
        "id": "Nvtkg24Z1dHe"
      },
      "execution_count": null,
      "outputs": []
    },
    {
      "cell_type": "markdown",
      "source": [
        "### Dataframe CLIENT LOGIN MOBILE"
      ],
      "metadata": {
        "id": "bljjDFdy1lgP"
      }
    },
    {
      "cell_type": "code",
      "source": [
        "df_raw['text'].fillna('', inplace=True)\n",
        "client_mobile_login = df_raw[df_raw['text'].str.contains('CLIENT MOBILE LOGIN')]\n",
        "df_client_mobile_login = parse_CLIENT_MOBILE_LOGIN_DF(client_mobile_login)"
      ],
      "metadata": {
        "id": "SEF25JeK1pAX"
      },
      "execution_count": null,
      "outputs": []
    },
    {
      "cell_type": "markdown",
      "source": [
        "### Dataframe SMS PAYLOAD"
      ],
      "metadata": {
        "id": "2SljHcIz1w2v"
      }
    },
    {
      "cell_type": "code",
      "source": [
        "df_raw['text'].fillna('', inplace=True)\n",
        "sms_payload = df_raw[df_raw['text'].str.contains('SMS PAYLOAD')]\n",
        "df_sms_payload = parse_SMS_PAYLOAD_DF(sms_payload)"
      ],
      "metadata": {
        "id": "H7oLwsfj11C2"
      },
      "execution_count": null,
      "outputs": []
    },
    {
      "cell_type": "markdown",
      "source": [
        "### Dataframe SMS SUCCESS"
      ],
      "metadata": {
        "id": "ATFmCM5A19Zm"
      }
    },
    {
      "cell_type": "code",
      "source": [
        "df_raw['text'].fillna('', inplace=True)\n",
        "sms_success = df_raw[df_raw['text'].str.contains('SMS SUCCESS')]\n",
        "df_sms_success = parse_SMS_SUCCESS_DF(sms_success)"
      ],
      "metadata": {
        "id": "mV9rmoPf2CBW"
      },
      "execution_count": null,
      "outputs": []
    },
    {
      "cell_type": "markdown",
      "source": [
        "### Dataframe WALLET SUCCESS"
      ],
      "metadata": {
        "id": "icBTl2fj2J2d"
      }
    },
    {
      "cell_type": "code",
      "source": [
        "df_raw['text'].fillna('', inplace=True)\n",
        "wallet_success = df_raw[df_raw['text'].str.contains('WALLET SUCCESS')]\n",
        "df_wallet_success = parse_WALLET_SUCCESS_DF(wallet_success)"
      ],
      "metadata": {
        "id": "jMaDnRzx2Nat"
      },
      "execution_count": null,
      "outputs": []
    },
    {
      "cell_type": "markdown",
      "source": [
        "Dataframe OKRA WEBHOOK"
      ],
      "metadata": {
        "id": "LYTl6i5f2WqN"
      }
    },
    {
      "cell_type": "markdown",
      "source": [
        ""
      ],
      "metadata": {
        "id": "Ypr_Px7a2wdd"
      }
    },
    {
      "cell_type": "code",
      "source": [
        "df_raw['text'].fillna('', inplace=True)\n",
        "df_okra_webhook = parse_OKRA_WEBHOOK_DF(df_raw[df_raw['text'].str.contains('OKRA WEBHOOK')])"
      ],
      "metadata": {
        "id": "vM9nZVhI2Zgm"
      },
      "execution_count": null,
      "outputs": []
    },
    {
      "cell_type": "markdown",
      "source": [
        "### Dataframe PROVIDUS PAYLOAD"
      ],
      "metadata": {
        "id": "KldmJuiZ2xK1"
      }
    },
    {
      "cell_type": "code",
      "source": [
        "df_raw['text'].fillna('', inplace=True)\n",
        "providus_payload_df = df_raw[df_raw['text'].str.contains('PROVIDUS PAYLOAD')]\n",
        "df_providus_payload = parse_PROVIDUS_PAYLOAD_DF(providus_payload_df)"
      ],
      "metadata": {
        "id": "nn4hWG3g2qy0"
      },
      "execution_count": null,
      "outputs": []
    },
    {
      "cell_type": "markdown",
      "source": [
        "### Dataframe PROVIDUS SUCCESS"
      ],
      "metadata": {
        "id": "ROd8KSeW2-R1"
      }
    },
    {
      "cell_type": "code",
      "source": [
        "providus_success_df = df_raw[df_raw['text'].str.contains('PROVIDUS SUCCESS')]\n",
        "df_providus_success = parse_PROVIDUS_SUCCESS_DF(providus_success_df)"
      ],
      "metadata": {
        "id": "E_9vQO_z3C8e"
      },
      "execution_count": null,
      "outputs": []
    },
    {
      "cell_type": "markdown",
      "source": [
        "### Dataframe VTPASS PAYLOAD"
      ],
      "metadata": {
        "id": "v4olOOdV3Knl"
      }
    },
    {
      "cell_type": "code",
      "source": [
        "vtpass_payload = df_raw[df_raw['text'].str.contains('VTPASS PAYLOAD')]\n",
        "df_vtpass_payload = parse_VTPASS_PAYLOAD_DF(vtpass_payload)"
      ],
      "metadata": {
        "id": "jh0frkvN3Pd9"
      },
      "execution_count": null,
      "outputs": []
    },
    {
      "cell_type": "markdown",
      "source": [
        "### Dataframe LEADWAY ERROR"
      ],
      "metadata": {
        "id": "GDNial_j3XbF"
      }
    },
    {
      "cell_type": "code",
      "source": [
        "lead_error = df_raw[df_raw['text'].str.contains('LEADWAY ERROR')]\n",
        "df_lead_error = parse_LEADWAY_ERROR_DF(lead_error)"
      ],
      "metadata": {
        "id": "_92QpKDr3bHs"
      },
      "execution_count": null,
      "outputs": []
    },
    {
      "cell_type": "markdown",
      "source": [
        "### Dataframe PROVIDUS TRANSFER ERROR"
      ],
      "metadata": {
        "id": "xVEOuTHC3iXc"
      }
    },
    {
      "cell_type": "code",
      "source": [
        "providus_transfer_error = df_raw[df_raw['text'].str.contains('PROVIDUS TRANSFER ERROR')]\n",
        "df_providus_transfer_error = parse_PROVIDUS_TRANSFER_ERROR_DF(providus_transfer_error)"
      ],
      "metadata": {
        "id": "CdUrmVNY3mR2"
      },
      "execution_count": null,
      "outputs": []
    },
    {
      "cell_type": "markdown",
      "source": [
        "### Dataframe PROVIDUS TRANSFER SUCCESS"
      ],
      "metadata": {
        "id": "ZQhPvKNc3uCk"
      }
    },
    {
      "cell_type": "code",
      "source": [
        "providus_transfer_success = df_raw[df_raw['text'].str.contains('PROVIDUS TRANSFER SUCCESS')]\n",
        "df_providus_transfer_success = parse_PROVIDUS_TRANSFER_SUCCESS_DF(providus_transfer_success)"
      ],
      "metadata": {
        "id": "N9MZjTqP3xz9"
      },
      "execution_count": null,
      "outputs": []
    },
    {
      "cell_type": "markdown",
      "source": [
        "### Dataframe PROVIDUS SETTLEMENT INFO"
      ],
      "metadata": {
        "id": "MD7MiZ5I35G-"
      }
    },
    {
      "cell_type": "code",
      "source": [
        "providus_settlement_info = df_raw[df_raw['text'].str.contains('PROVIDUS SETTLEMENT INFO')]\n",
        "df_providus_settlement_info = parse_PROVIDUS_SETTLEMENT_INFO_DF(providus_settlement_info)"
      ],
      "metadata": {
        "id": "QYHfIlvy383m"
      },
      "execution_count": null,
      "outputs": []
    },
    {
      "cell_type": "markdown",
      "source": [
        "### Dataframe PROVIDUS VERIFY SETTLEMENT INFO"
      ],
      "metadata": {
        "id": "Gl8xItQi4FBt"
      }
    },
    {
      "cell_type": "code",
      "source": [
        "providus_verify_settlement_info = df_raw[df_raw['text'].str.contains('PROVIDUS VERIFY SETTLEMENT INFO')]\n",
        "df_providus_verify_settlement_info = parse_PROVIDUS_VERIFY_SETTLEMENT_INFO_DF(providus_verify_settlement_info)"
      ],
      "metadata": {
        "id": "QrBUzbB64JR9"
      },
      "execution_count": null,
      "outputs": []
    },
    {
      "cell_type": "markdown",
      "source": [
        "### Concatenation de tous les DF"
      ],
      "metadata": {
        "id": "OxpSryyJ4PDN"
      }
    },
    {
      "cell_type": "code",
      "source": [
        "pdList = [df_api_request, df_client_mobile_login, df_loan_payload, df_lead_error, df_okra_webhook, df_providus_payload, df_providus_settlement_info,\n",
        "          df_providus_success, df_providus_transfer_error, df_providus_transfer_success, df_providus_verify_settlement_info,\n",
        "          df_sms_payload, df_sms_success, df_vtpass_payload, df_wallet_success]  # List of our dataframes\n",
        "df_final = pd.concat(pdList, axis=0)"
      ],
      "metadata": {
        "id": "Tdk5QrQ-4TAU"
      },
      "execution_count": 33,
      "outputs": []
    },
    {
      "cell_type": "code",
      "metadata": {
        "id": "m8grT-h74Wth"
      },
      "source": [
        "df_final.sort_values('Date')"
      ],
      "execution_count": null,
      "outputs": []
    },
    {
      "cell_type": "code",
      "metadata": {
        "id": "YA3mWTUB1JMB"
      },
      "source": [
        "df_with_loan_amount = df_final[df_final['text'].str.contains('loan_amount')].copy()"
      ],
      "execution_count": 36,
      "outputs": []
    },
    {
      "cell_type": "code",
      "metadata": {
        "id": "YP8TSbfHszVY"
      },
      "source": [
        "df_with_total_sent = df_final[df_final['text'].str.contains('totalsent')].copy()"
      ],
      "execution_count": 37,
      "outputs": []
    },
    {
      "cell_type": "code",
      "metadata": {
        "id": "0GW60fb9CSF2"
      },
      "source": [
        "df_final.info(verbose=True, null_counts=True)"
      ],
      "execution_count": null,
      "outputs": []
    },
    {
      "cell_type": "code",
      "metadata": {
        "id": "b8SSc9xahps_"
      },
      "source": [
        "list_index_loan_amount = list(df_with_loan_amount.index)"
      ],
      "execution_count": 43,
      "outputs": []
    },
    {
      "cell_type": "code",
      "metadata": {
        "id": "vS_o2HCLtAe_"
      },
      "source": [
        "list_index_total_sent = list(df_with_total_sent.index)"
      ],
      "execution_count": 40,
      "outputs": []
    },
    {
      "cell_type": "code",
      "metadata": {
        "id": "CD7uzxvnaO26"
      },
      "source": [
        "import datetime\n",
        "\n",
        "def difference_ts(date_in_timestamp):\n",
        "  dt = datetime.datetime.fromtimestamp(date_in_timestamp)\n",
        "  res = dt - datetime.timedelta(minutes=30) \n",
        "  return datetime.datetime.timestamp(res)"
      ],
      "execution_count": 41,
      "outputs": []
    },
    {
      "cell_type": "code",
      "source": [
        "import numpy as np\n",
        "\n",
        "for index in tqdm.tqdm(list_index_loan_amount):\n",
        "  df_res = df_final[(df_final['ts'] <= df_final.loc[index, 'ts']) & (df_final['ts'] > difference_ts(df_final.loc[index, 'ts']))]\n",
        "  list_index = df_res[df_res['Phone_Number'].isnull() == False].index.values\n",
        "  if len(list_index) > 0:\n",
        "    min_index = np.min(list_index)\n",
        "    df_final['Phone_Number'][index] = df_res.loc[min_index, 'Phone_Number']"
      ],
      "metadata": {
        "id": "0JKP2eT549rM"
      },
      "execution_count": null,
      "outputs": []
    },
    {
      "cell_type": "code",
      "source": [
        "cd /content/drive/My Drive/datasets/final"
      ],
      "metadata": {
        "colab": {
          "base_uri": "https://localhost:8080/"
        },
        "id": "7pSba60t5Q3G",
        "outputId": "3e0f41ad-7462-470d-f53f-bcadd4ff8b74"
      },
      "execution_count": 47,
      "outputs": [
        {
          "output_type": "stream",
          "name": "stdout",
          "text": [
            "/content/drive/My Drive/datasets/final\n"
          ]
        }
      ]
    },
    {
      "cell_type": "markdown",
      "source": [
        "### Export DF"
      ],
      "metadata": {
        "id": "5BlTIES35TeL"
      }
    },
    {
      "cell_type": "code",
      "metadata": {
        "id": "Z-OennYvluQn"
      },
      "source": [
        "df_final.to_csv('/content/drive/MyDrive/datasets/final/nirra_log_bot_final.csv', index=None)"
      ],
      "execution_count": 48,
      "outputs": []
    },
    {
      "cell_type": "code",
      "source": [
        "all_users_phone_number = get_unique_numbers_DF(df_final)"
      ],
      "metadata": {
        "id": "vAaFRjZZ5mPF"
      },
      "execution_count": 53,
      "outputs": []
    },
    {
      "cell_type": "code",
      "metadata": {
        "colab": {
          "base_uri": "https://localhost:8080/"
        },
        "id": "NCdVwWuhOype",
        "outputId": "90c1aa4b-f03b-476b-854b-9fe59bf5e05c"
      },
      "source": [
        "all_df_phone_number = [] # to get list of dataframes\n",
        "for phoneNumber in tqdm.tqdm(all_users_phone_number):\n",
        "  df_phone_number = df_final[df_final['Phone_Number'] == phoneNumber] # récupérer les dataframes avec seulement les numéros de téléphone\n",
        "  all_df_phone_number.append(df_phone_number)  # mettre chaque dataframe dans la"
      ],
      "execution_count": 58,
      "outputs": [
        {
          "output_type": "stream",
          "name": "stderr",
          "text": [
            "100%|██████████| 6054/6054 [00:38<00:00, 157.04it/s]\n"
          ]
        }
      ]
    },
    {
      "cell_type": "markdown",
      "source": [
        "### Sauvegarder sur le disque les dataframes de chaque utilisateur"
      ],
      "metadata": {
        "id": "IqYo9ZWJ64Pz"
      }
    },
    {
      "cell_type": "code",
      "source": [
        "from tqdm import tqdm\n",
        "# tqdm permet\n",
        "for phoneNumber in tqdm(all_users_phone_number):\n",
        "  df_phone_number = df_final[df_final['Phone_Number'] == phoneNumber]\n",
        "  df_phone_number.to_csv(f'/content/drive/MyDrive/datasets/final/files/{phoneNumber}.csv', index=None)"
      ],
      "metadata": {
        "colab": {
          "base_uri": "https://localhost:8080/"
        },
        "id": "e128P0ia65Yn",
        "outputId": "c3bb86d3-c795-4356-ae5e-f1b0afaf6d4b"
      },
      "execution_count": 59,
      "outputs": [
        {
          "output_type": "stream",
          "name": "stderr",
          "text": [
            "100%|██████████| 6054/6054 [22:02<00:00,  4.58it/s]\n"
          ]
        }
      ]
    },
    {
      "cell_type": "markdown",
      "source": [
        "### se déplacer dans le dossier contenant les dataframes de chaque utilisateur"
      ],
      "metadata": {
        "id": "cHUHCMfz7I-j"
      }
    },
    {
      "cell_type": "code",
      "source": [
        "cd /content/drive/MyDrive/datasets/final/files/"
      ],
      "metadata": {
        "colab": {
          "base_uri": "https://localhost:8080/"
        },
        "id": "1fo_SpZb7KK7",
        "outputId": "ec73dd36-4ff3-4c64-f338-20ead713e621"
      },
      "execution_count": 60,
      "outputs": [
        {
          "output_type": "stream",
          "name": "stdout",
          "text": [
            "/content/drive/MyDrive/datasets/final/files\n"
          ]
        }
      ]
    },
    {
      "cell_type": "markdown",
      "source": [
        "### avoir le nombre de transactions de chaque utilisateur"
      ],
      "metadata": {
        "id": "Tcx1qCII7ZDM"
      }
    },
    {
      "cell_type": "code",
      "source": [
        "import pandas as pd\n",
        "import os\n",
        "import glob\n",
        "from tqdm import tqdm\n",
        "import pandas as pd\n",
        "from pandas.plotting import scatter_matrix\n",
        "import matplotlib.pyplot as plt\n",
        "import numpy as np\n",
        "\n",
        "\n",
        "# use glob to get all the csv files \n",
        "# in the folder\n",
        "path = os.getcwd()\n",
        "csv_files = glob.glob(os.path.join(path, \"*.csv\"))\n",
        "all_df_list = [] # list of all dataframe\n",
        "# loop over the list of csv files\n",
        "number_transactions = []\n",
        "all_df_list_with_number_transaction = []\n",
        "\n",
        "\n",
        "for f in tqdm(csv_files):    \n",
        "    # read the csv file\n",
        "    df = pd.read_csv(f)  \n",
        "    all_df_list.append(df)   \n",
        "\n",
        "for element in all_df_list:\n",
        "  element['Number_Transactions'] = element.shape[0] # faire la somme des lignes et mettre dans la colonne Number_Transactions\n",
        "  all_df_list_with_number_transaction.append(element)# mettre tous les éléments dans une nouvelle liste\n"
      ],
      "metadata": {
        "colab": {
          "base_uri": "https://localhost:8080/"
        },
        "id": "CqHXZnRs7RvL",
        "outputId": "5e1a79ce-05b5-4c59-8f89-3ace6e68952c"
      },
      "execution_count": 61,
      "outputs": [
        {
          "output_type": "stream",
          "name": "stderr",
          "text": [
            "100%|██████████| 6054/6054 [01:19<00:00, 76.58it/s]\n"
          ]
        }
      ]
    },
    {
      "cell_type": "code",
      "source": [
        ""
      ],
      "metadata": {
        "id": "G1Z88cbWDaDw"
      },
      "execution_count": null,
      "outputs": []
    },
    {
      "cell_type": "code",
      "source": [
        "#Faire la différence entre les timestamp et la mettre dans la colonne 'ts_diff'\n",
        "list_df_with_diff_ts = []\n",
        "for ele_with_num_trans in tqdm(all_df_list_with_number_transaction):\n",
        "  df_ts = pd.DataFrame(ele_with_num_trans['ts'])\n",
        "  df_ts.sort_values('ts')\n",
        "  ele_with_num_trans['ts_diff'] = df_ts.diff(axis=0)\n",
        "  list_df_with_diff_ts.append(ele_with_num_trans)"
      ],
      "metadata": {
        "colab": {
          "base_uri": "https://localhost:8080/"
        },
        "id": "MhFhQiHh7ktl",
        "outputId": "00f54be9-9ef1-4666-ed0e-d2d50a6ec5a6"
      },
      "execution_count": 62,
      "outputs": [
        {
          "output_type": "stream",
          "name": "stderr",
          "text": [
            "100%|██████████| 6054/6054 [00:08<00:00, 674.57it/s]\n"
          ]
        }
      ]
    },
    {
      "cell_type": "code",
      "source": [
        "path = os.getcwd()"
      ],
      "metadata": {
        "id": "FGYNMihkEGQQ"
      },
      "execution_count": 106,
      "outputs": []
    },
    {
      "cell_type": "code",
      "source": [
        "all_df_with_conversion_in_datetime = list_all_df_with_conversion_in_datetime(path)"
      ],
      "metadata": {
        "colab": {
          "base_uri": "https://localhost:8080/"
        },
        "id": "Ws1L7Kjv7xN8",
        "outputId": "dbe6e9d5-cb39-4b36-fffe-1422ed1b4711"
      },
      "execution_count": 64,
      "outputs": [
        {
          "output_type": "stream",
          "name": "stderr",
          "text": [
            "100%|██████████| 6054/6054 [01:39<00:00, 61.04it/s]\n"
          ]
        }
      ]
    },
    {
      "cell_type": "code",
      "source": [
        "from tqdm import tqdm\n",
        "# on sauvegarde les fichiers en fonction du phone_number et du type_request parce qu'un meme utilisateur\n",
        "# peut effectuer plusieurs opérations de différents type request, en faisant ainsi, il n'y'a pas de risque d'écraser\n",
        "# certains fichiers du meme utilisateur.\n",
        "for ele in tqdm(all_df_with_conversion_in_datetime):\n",
        "  if ele.shape[0] > 0:\n",
        "    phone_number = ele['Phone_Number'][0]\n",
        "    type_request = ele['Type_Request'][0]\n",
        "    t_r = type_request.replace(' ', '_')\n",
        "    ele.to_csv(f'/content/drive/MyDrive/datasets/final/new_files/{phone_number}_{t_r}.csv', index=None)"
      ],
      "metadata": {
        "colab": {
          "base_uri": "https://localhost:8080/"
        },
        "id": "yV_1wj4679lz",
        "outputId": "0fb3d8df-2b83-4f23-d879-ed1583b19961"
      },
      "execution_count": 65,
      "outputs": [
        {
          "output_type": "stream",
          "name": "stderr",
          "text": [
            "100%|██████████| 6054/6054 [01:13<00:00, 82.83it/s]\n"
          ]
        }
      ]
    },
    {
      "cell_type": "markdown",
      "source": [
        "### Fonction pour calculer le nombre d'opérations par minute"
      ],
      "metadata": {
        "id": "UJPKV-RD8EDE"
      }
    },
    {
      "cell_type": "code",
      "source": [
        "list_all_df_with_operations_per_minute = []\n",
        "for element in tqdm(all_df_list_new):\n",
        "  # pour debugger il faut utiliser try -  except et utiliser pass\n",
        "  # ainsi, en cas de problème on pourrait savoir dans quel DataFrame il se trouve\n",
        "  if element.shape[0] > 1:\n",
        "    element.sort_values('TS_to_DateTime')\n",
        "    list_all_df_with_operations_per_minute.append(df_number_of_operations_per_minute(element))"
      ],
      "metadata": {
        "colab": {
          "base_uri": "https://localhost:8080/"
        },
        "id": "GHft7vTD8UTb",
        "outputId": "9ef647f1-d0e2-4285-92a2-c93f0152eef5"
      },
      "execution_count": 67,
      "outputs": [
        {
          "output_type": "stream",
          "name": "stderr",
          "text": [
            "100%|██████████| 6054/6054 [04:00<00:00, 25.16it/s]\n"
          ]
        }
      ]
    },
    {
      "cell_type": "code",
      "metadata": {
        "id": "Sr95Fc8u-u23"
      },
      "source": [
        "list_all_df_with_operations_per_minute[0:50]"
      ],
      "execution_count": null,
      "outputs": []
    },
    {
      "cell_type": "code",
      "metadata": {
        "id": "zhzK4zPwS0xr"
      },
      "source": [
        "[element for element in list_all_df_with_operations_per_minute if element['Phone_Number'][0] == 8066738373]"
      ],
      "execution_count": null,
      "outputs": []
    },
    {
      "cell_type": "markdown",
      "source": [
        "### Diviser la liste des dataframes avec operations par minute en DF de Train et de Test"
      ],
      "metadata": {
        "id": "ZnwF8Gz68dCS"
      }
    },
    {
      "cell_type": "code",
      "metadata": {
        "id": "ViVM6mZvEM_z"
      },
      "source": [
        "# concatenation de la liste des dataframes\n",
        "df_with_operations_per_minute = pd.concat(list_all_df_with_operations_per_minute, axis=0).reset_index(drop=True)"
      ],
      "execution_count": 70,
      "outputs": []
    },
    {
      "cell_type": "code",
      "metadata": {
        "id": "cAAmegDzQ7uO"
      },
      "source": [
        "df_with_operations_per_minute"
      ],
      "execution_count": null,
      "outputs": []
    },
    {
      "cell_type": "code",
      "metadata": {
        "id": "h9Ws2C-EEDx9"
      },
      "source": [
        "from sklearn.model_selection import train_test_split\n",
        "#Split dataset into train and test\n",
        "X_train_with_operations_per_minute, X_test_with_operations_per_minute = train_test_split(df_with_operations_per_minute, test_size = 0.3)"
      ],
      "execution_count": 72,
      "outputs": []
    },
    {
      "cell_type": "markdown",
      "source": [
        "### DataSet de Train"
      ],
      "metadata": {
        "id": "7R-IcNuy80sl"
      }
    },
    {
      "cell_type": "code",
      "metadata": {
        "id": "fY47Mj2KQERc"
      },
      "source": [
        "X_train_with_operations_per_minute"
      ],
      "execution_count": null,
      "outputs": []
    },
    {
      "cell_type": "code",
      "metadata": {
        "id": "7YWlKZlRF0xz"
      },
      "source": [
        "df_phone_number_with_operations_per_minute = X_train_with_operations_per_minute[['Phone_Number', 'Type_Request']]"
      ],
      "execution_count": 74,
      "outputs": []
    },
    {
      "cell_type": "code",
      "metadata": {
        "id": "e0mU9HdFQj0l"
      },
      "source": [
        "# on récupère tous les index du Dataframe de test\n",
        "X_train_with_operations_per_minute.index"
      ],
      "execution_count": null,
      "outputs": []
    },
    {
      "cell_type": "code",
      "metadata": {
        "id": "AOBXP7TxF1Lr"
      },
      "source": [
        "# on drop les colonnes Phone_Number et Type_Request\n",
        "X_train_with_operations_per_minute.drop(['Phone_Number', 'Type_Request'],  axis=1, inplace=True)"
      ],
      "execution_count": 76,
      "outputs": []
    },
    {
      "cell_type": "code",
      "metadata": {
        "id": "3WZobGZJF1Ls"
      },
      "source": [
        "# convertir le dataframe de X_train en une liste\n",
        "list_with_operations_per_minute = X_train_with_operations_per_minute.values.tolist()"
      ],
      "execution_count": 77,
      "outputs": []
    },
    {
      "cell_type": "markdown",
      "source": [
        "### on applique le StandardScaler"
      ],
      "metadata": {
        "id": "JbyFibjw8-0W"
      }
    },
    {
      "cell_type": "code",
      "source": [
        "from sklearn.preprocessing import StandardScaler \n",
        "#Scaled_data = StandardScaler().fit_transform(list_resultats)\n",
        "Scaled_data_with_operations_per_minute = StandardScaler().fit_transform(list_with_operations_per_minute)"
      ],
      "metadata": {
        "id": "xLcYkGLF9ADR"
      },
      "execution_count": 78,
      "outputs": []
    },
    {
      "cell_type": "markdown",
      "source": [
        "### Application de l'algorithme IsolationForest"
      ],
      "metadata": {
        "id": "N-MGL_TY9FuK"
      }
    },
    {
      "cell_type": "code",
      "metadata": {
        "id": "lcIhs7HRIF4B"
      },
      "source": [
        "from sklearn.ensemble import IsolationForest\n",
        "model = IsolationForest(contamination=0.005)\n",
        "model.fit(list_with_operations_per_minute)\n",
        "\n",
        "# dans le résultat, on aura des 1 et des -1\n",
        "# les 1 représentent les données qui ne sont pas des anomalies\n",
        "# les -1 sont des données qui représentent des anomalies\n",
        "isol_pred_with_operations_per_minute = model.predict(list_with_operations_per_minute)"
      ],
      "execution_count": 79,
      "outputs": []
    },
    {
      "cell_type": "code",
      "metadata": {
        "id": "Cr3WfHZNIF4B"
      },
      "source": [
        "df_iso_with_operations_per_minute = pd.DataFrame(isol_pred_with_operations_per_minute, columns=['Isolation_with_operations_per_minute'])"
      ],
      "execution_count": 80,
      "outputs": []
    },
    {
      "cell_type": "code",
      "metadata": {
        "id": "zvlJk8ItyJ4U"
      },
      "source": [
        "list_utilisateurs_outliers_IsolationForest = df_iso_with_operations_per_minute[df_iso_with_operations_per_minute['Isolation_with_operations_per_minute'] == -1].index"
      ],
      "execution_count": 81,
      "outputs": []
    },
    {
      "cell_type": "code",
      "metadata": {
        "id": "tMbCmLjaHPcx"
      },
      "source": [
        "list_utilisateurs_outliers_IsolationForest"
      ],
      "execution_count": null,
      "outputs": []
    },
    {
      "cell_type": "code",
      "metadata": {
        "id": "jJVp2UL9IIAw"
      },
      "source": [
        "X_train_with_operations_per_minute.iloc[list_utilisateurs_outliers_IsolationForest]"
      ],
      "execution_count": null,
      "outputs": []
    },
    {
      "cell_type": "code",
      "metadata": {
        "id": "Z5LFaggIHWLi"
      },
      "source": [
        "df_phone_number_with_operations_per_minute.iloc[list_utilisateurs_outliers_IsolationForest]"
      ],
      "execution_count": null,
      "outputs": []
    },
    {
      "cell_type": "code",
      "metadata": {
        "id": "1RWFVTnMIRJJ"
      },
      "source": [
        "# concatener les deux dataframes\n",
        "pdList_operations_per_minute = [df_phone_number_with_operations_per_minute.iloc[list_utilisateurs_outliers_IsolationForest], \n",
        "                                 X_train_with_operations_per_minute.iloc[list_utilisateurs_outliers_IsolationForest]] # List of our dataframes\n",
        "df_final_operations_per_minute = pd.concat(pdList_operations_per_minute, axis=1)"
      ],
      "execution_count": 85,
      "outputs": []
    },
    {
      "cell_type": "code",
      "metadata": {
        "id": "hWafKXyiIx3b"
      },
      "source": [
        "df_final_operations_per_minute"
      ],
      "execution_count": null,
      "outputs": []
    },
    {
      "cell_type": "code",
      "metadata": {
        "id": "RHclkVBMmVJT"
      },
      "source": [
        "df_iso_with_operations_per_minute"
      ],
      "execution_count": null,
      "outputs": []
    },
    {
      "cell_type": "code",
      "metadata": {
        "id": "OQh9d7W5I-jA"
      },
      "source": [
        "df_iso_with_operations_per_minute.value_counts()"
      ],
      "execution_count": null,
      "outputs": []
    },
    {
      "cell_type": "code",
      "metadata": {
        "id": "A05uXWjeI7WG"
      },
      "source": [
        "# construisons le dictionnaire pour Isolation Forest qu'on va passer dans Standard Scaler\n",
        "my_dict_isolation_with_operations_per_minute = {-1:\"red\", 1:\"blue\"}\n",
        "my_colors_isolation_with_operations_per_minute = [my_dict_isolation_with_operations_per_minute[el_1] for el_1 in isol_pred_with_operations_per_minute]"
      ],
      "execution_count": 89,
      "outputs": []
    },
    {
      "cell_type": "markdown",
      "source": [
        "### Dataset de Test"
      ],
      "metadata": {
        "id": "f7kM86bl9ZIk"
      }
    },
    {
      "cell_type": "code",
      "metadata": {
        "id": "iUTVmQCbbW7g"
      },
      "source": [
        "X_test_with_operations_per_minute"
      ],
      "execution_count": null,
      "outputs": []
    },
    {
      "cell_type": "code",
      "metadata": {
        "id": "YIK_G7BcbiO-"
      },
      "source": [
        "df_test_phone_number_with_operations_per_minute = X_test_with_operations_per_minute[['Phone_Number', 'Type_Request']]"
      ],
      "execution_count": 91,
      "outputs": []
    },
    {
      "cell_type": "code",
      "metadata": {
        "id": "uhqmnk6jbiha"
      },
      "source": [
        "X_test_with_operations_per_minute.index"
      ],
      "execution_count": null,
      "outputs": []
    },
    {
      "cell_type": "code",
      "metadata": {
        "id": "dp6N9jxmbihb"
      },
      "source": [
        "X_test_with_operations_per_minute.drop(['Phone_Number', 'Type_Request'],  axis=1, inplace=True)"
      ],
      "execution_count": 93,
      "outputs": []
    },
    {
      "cell_type": "code",
      "metadata": {
        "id": "SWdf8EKcbihc"
      },
      "source": [
        "# convertir le dataframe de X_train en une liste\n",
        "list_test_with_operations_per_minute = X_test_with_operations_per_minute.values.tolist()"
      ],
      "execution_count": 94,
      "outputs": []
    },
    {
      "cell_type": "code",
      "metadata": {
        "id": "BqP0nG0wbihc"
      },
      "source": [
        "from sklearn.preprocessing import StandardScaler \n",
        "#Scaled_data = StandardScaler().fit_transform(list_resultats)\n",
        "Scaled_test_data_with_operations_per_minute = StandardScaler().fit_transform(list_test_with_operations_per_minute)"
      ],
      "execution_count": 95,
      "outputs": []
    },
    {
      "cell_type": "markdown",
      "source": [
        "### Isolation Forest pour dataset de test"
      ],
      "metadata": {
        "id": "IMzNGNPI9iIi"
      }
    },
    {
      "cell_type": "code",
      "metadata": {
        "id": "ZeMzy3-Abihc"
      },
      "source": [
        "from sklearn.ensemble import IsolationForest\n",
        "model = IsolationForest(contamination=0.005)\n",
        "model.fit(list_test_with_operations_per_minute)\n",
        "\n",
        "# dans le résultat, on aura des 1 et des -1\n",
        "# les 1 représentent les données qui ne sont pas des anomalies\n",
        "# les -1 sont des données qui représentent des anomalies\n",
        "isol_test_pred_with_operations_per_minute = model.predict(list_test_with_operations_per_minute)"
      ],
      "execution_count": 96,
      "outputs": []
    },
    {
      "cell_type": "code",
      "metadata": {
        "id": "RaK49zMjcYW6"
      },
      "source": [
        "df_test_iso_with_operations_per_minute = pd.DataFrame(isol_test_pred_with_operations_per_minute, columns=['Isolation_test_with_operations_per_minute'])"
      ],
      "execution_count": 97,
      "outputs": []
    },
    {
      "cell_type": "code",
      "metadata": {
        "id": "zjZrUA2TcYW7"
      },
      "source": [
        "list_test_utilisateurs_outliers_IsolationForest = df_test_iso_with_operations_per_minute[df_test_iso_with_operations_per_minute['Isolation_test_with_operations_per_minute'] == -1].index"
      ],
      "execution_count": 98,
      "outputs": []
    },
    {
      "cell_type": "code",
      "metadata": {
        "colab": {
          "base_uri": "https://localhost:8080/"
        },
        "id": "jhjcfRuucYW7",
        "outputId": "4d7ee435-eab5-4787-9249-05e31fe2c281"
      },
      "source": [
        "list_test_utilisateurs_outliers_IsolationForest"
      ],
      "execution_count": 99,
      "outputs": [
        {
          "output_type": "execute_result",
          "data": {
            "text/plain": [
              "Int64Index([64, 72, 445, 556], dtype='int64')"
            ]
          },
          "metadata": {},
          "execution_count": 99
        }
      ]
    },
    {
      "cell_type": "code",
      "metadata": {
        "id": "f-DyWfhacYW8"
      },
      "source": [
        "X_test_with_operations_per_minute.iloc[list_test_utilisateurs_outliers_IsolationForest]"
      ],
      "execution_count": null,
      "outputs": []
    },
    {
      "cell_type": "code",
      "metadata": {
        "id": "bKvhzjBfdxLV"
      },
      "source": [
        "df_test_phone_number_with_operations_per_minute.iloc[list_test_utilisateurs_outliers_IsolationForest]"
      ],
      "execution_count": null,
      "outputs": []
    },
    {
      "cell_type": "code",
      "metadata": {
        "id": "0_0cKsrzcYW8"
      },
      "source": [
        "# concatener les deux dataframes\n",
        "pdList_test_operations_per_minute = [df_test_phone_number_with_operations_per_minute.iloc[list_test_utilisateurs_outliers_IsolationForest], \n",
        "                                 X_test_with_operations_per_minute.iloc[list_test_utilisateurs_outliers_IsolationForest]] # List of our dataframes\n",
        "df_final_test_operations_per_minute = pd.concat(pdList_test_operations_per_minute, axis=1)"
      ],
      "execution_count": 102,
      "outputs": []
    },
    {
      "cell_type": "code",
      "metadata": {
        "colab": {
          "base_uri": "https://localhost:8080/"
        },
        "id": "dt0m9F-IgNK1",
        "outputId": "ea261398-5549-43d0-da4b-5573d33103a6"
      },
      "source": [
        "df_test_iso_with_operations_per_minute.value_counts()"
      ],
      "execution_count": 103,
      "outputs": [
        {
          "output_type": "execute_result",
          "data": {
            "text/plain": [
              "Isolation_test_with_operations_per_minute\n",
              " 1                                           787\n",
              "-1                                             4\n",
              "dtype: int64"
            ]
          },
          "metadata": {},
          "execution_count": 103
        }
      ]
    },
    {
      "cell_type": "code",
      "metadata": {
        "id": "WG7AXdcxgNK3"
      },
      "source": [
        "# construisons le dictionnaire pour Isolation Forest qu'on va passer dans Standard Scaler\n",
        "my_dict_test_isolation_with_operations_per_minute = {-1:\"black\", 1:\"green\"}\n",
        "my_colors_test_isolation_with_operations_per_minute = [my_dict_test_isolation_with_operations_per_minute[el_1] for el_1 in isol_test_pred_with_operations_per_minute]"
      ],
      "execution_count": 104,
      "outputs": []
    },
    {
      "cell_type": "markdown",
      "source": [
        "### PCA pour les Dataframe de Train et de Test"
      ],
      "metadata": {
        "id": "y73Ht8qL-Cuj"
      }
    },
    {
      "cell_type": "code",
      "source": [
        "from sklearn.decomposition import PCA\n",
        "from mpl_toolkits import mplot3d\n",
        "import random\n",
        "\n",
        "# Scale data before applying PCA\n",
        "#scaling=StandardScaler()\n",
        " \n",
        "# Use fit and transform method\n",
        "#scaling.fit(df1)\n",
        "#Scaled_data=scaling.transform(df1)\n",
        " \n",
        "# Set the n_components=3\n",
        "principal=PCA(n_components=2)\n",
        "principal.fit(Scaled_data_with_operations_per_minute)\n",
        "# x pour le dataframe de Train\n",
        "x = principal.transform(Scaled_data_with_operations_per_minute)\n",
        "# x_prime pour le dataframe de Test\n",
        "x_prime = principal.transform(Scaled_test_data_with_operations_per_minute)\n",
        " \n",
        "# Check the dimensions of data after PCA\n",
        "#print(x.shape)\n",
        "\n",
        "principal.components_\n",
        "\n",
        "#df_sortie pour le dataframe de train\n",
        "df_sortie = pd.DataFrame(x, columns=['pc1', 'pc2'])\n",
        "# df_sortie_prime pour le dataframe de test\n",
        "df_sortie_prime = pd.DataFrame(x_prime, columns=['pc1', 'pc2'])\n",
        "#print(df_sortie)\n",
        "df_filtre = df_sortie[(df_sortie['pc1'] >= 5) & (df_sortie['pc2'] >= 3)]\n",
        "print(df_filtre)\n",
        "\n",
        "# attribut (x) et labels (y) pour le dataframe de train à deux dimensions\n",
        "x=df_sortie['pc1']\n",
        "y=df_sortie['pc2']\n",
        "#z=df_sortie['pc3']\n",
        "# attribut (x_prime) et labels (y_prime) pour le dataframe de train à deux dimensions\n",
        "x_prime=df_sortie_prime['pc1']\n",
        "y_prime=df_sortie_prime['pc2']\n",
        " \n",
        "# Creating figure\n",
        "#fig = plt.figure(figsize = (10, 7))\n",
        "#ax = plt.axes(projection =\"3d\")\n",
        "\n",
        " \n",
        "# Creating plot\n",
        "#ax.scatter3D(x, y, z, color = my_colors_isolation_with_operations_per_minute)\n",
        "#plt.title(\"simple 3D scatter plot\")\n",
        "\n",
        "plt.figure(figsize=(8,8))\n",
        "#plt.scatter(x[:,0]+random.uniform(0, 1)/10, x[:,1]+random.uniform(0, 1)/100, c=my_colors_isolation_with_operations_per_minute, cmap='plasma', marker='x', alpha=0.4)\n",
        "# scatter pour le dataframe de train\n",
        "plt.scatter(x, y, color=my_colors_isolation_with_operations_per_minute, cmap='plasma', marker='x', alpha=0.6)\n",
        "# scatter pour le dataframe de test\n",
        "plt.scatter(x_prime, y_prime, color=my_colors_test_isolation_with_operations_per_minute, cmap='plasma', marker='x', alpha=0.6)\n",
        "plt.xlabel('pc1')\n",
        "plt.ylabel('pc2')\n",
        "\n",
        "\n",
        "# show plot\n",
        "plt.show()"
      ],
      "metadata": {
        "colab": {
          "base_uri": "https://localhost:8080/",
          "height": 566
        },
        "id": "I82IZORq-D5B",
        "outputId": "f925997f-00dc-4e6d-b61f-e4bfd29b0337"
      },
      "execution_count": 105,
      "outputs": [
        {
          "output_type": "stream",
          "name": "stdout",
          "text": [
            "            pc1       pc2\n",
            "147    7.912068  3.154426\n",
            "1136  13.432055  5.184494\n",
            "1668  10.981713  4.785758\n"
          ]
        },
        {
          "output_type": "display_data",
          "data": {
            "image/png": "[encoded data removed]",
            "text/plain": [
              "<Figure size 576x576 with 1 Axes>"
            ]
          },
          "metadata": {
            "needs_background": "light"
          }
        }
      ]
    }
  ]
}