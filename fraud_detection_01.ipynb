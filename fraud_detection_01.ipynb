{
  "nbformat": 4,
  "nbformat_minor": 0,
  "metadata": {
    "colab": {
      "name": "fraud_detection_01.ipynb",
      "provenance": [],
      "collapsed_sections": [],
      "authorship_tag": "ABX9TyPPPhE8Bu53zy2ao0GNC+Ym",
      "include_colab_link": true
    },
    "kernelspec": {
      "display_name": "Python 3",
      "name": "python3"
    },
    "language_info": {
      "name": "python"
    }
  },
  "cells": [
    {
      "cell_type": "markdown",
      "metadata": {
        "id": "view-in-github",
        "colab_type": "text"
      },
      "source": [
        "<a href=\"https://colab.research.google.com/github/pfolaa/fraud_detection/blob/main/fraud_detection_01.ipynb\" target=\"_parent\"><img src=\"https://colab.research.google.com/assets/colab-badge.svg\" alt=\"Open In Colab\"/></a>"
      ]
    },
    {
      "cell_type": "code",
      "metadata": {
        "colab": {
          "base_uri": "https://localhost:8080/"
        },
        "id": "rBkuHMcekLs0",
        "outputId": "8f0fdb7f-4694-4780-9cd3-7d9504d1202b"
      },
      "source": [
        "from google.colab import drive\n",
        "drive.mount('/content/drive')"
      ],
      "execution_count": 1,
      "outputs": [
        {
          "output_type": "stream",
          "name": "stdout",
          "text": [
            "Mounted at /content/drive\n"
          ]
        }
      ]
    },
    {
      "cell_type": "code",
      "metadata": {
        "id": "AlJ4DsLDm3OP"
      },
      "source": [
        "import os\n",
        "import glob\n",
        "import glob2\n",
        "import tqdm\n",
        "import json\n",
        "import pandas as pd\n"
      ],
      "execution_count": 3,
      "outputs": []
    },
    {
      "cell_type": "code",
      "metadata": {
        "colab": {
          "base_uri": "https://localhost:8080/"
        },
        "id": "hxvxpGmXjwcU",
        "outputId": "a43a5427-0b85-46cc-c16a-778cab9420e8"
      },
      "source": [
        "cd /content/drive/MyDrive/datasets/"
      ],
      "execution_count": 4,
      "outputs": [
        {
          "output_type": "stream",
          "name": "stdout",
          "text": [
            "/content/drive/MyDrive/datasets\n"
          ]
        }
      ]
    },
    {
      "cell_type": "code",
      "metadata": {
        "id": "9v1c4xv3jFmT"
      },
      "source": [
        "def read_json_insert_csv(root_path, json_file, file_csv):\n",
        "  data = json.load(json_file)\n",
        "  df = pd.DataFrame.from_records(data)\n",
        "  # convert file to csv\n",
        "  df.to_csv(f'{root_path}/{file_csv}', \n",
        "            sep='|', \n",
        "            index= None)\n",
        "\n",
        "  # return 1 fichier csv fer json file\n",
        "  return df "
      ],
      "execution_count": 5,
      "outputs": []
    },
    {
      "cell_type": "code",
      "metadata": {
        "id": "2TZcB6c4jX06"
      },
      "source": [
        "def process_json( path_file_json=\"./nirra-log-bot\", dest_path=\"./liberta_leasing\"):\n",
        "  # créer toute l'aborescence du fichier, crée le chemin\n",
        "  os.makedirs(dest_path, exist_ok=True) \n",
        "  # read all json files\n",
        "\n",
        "  json_files = glob2.glob(os.path.join(path_file_json,'*.json'))\n",
        "  json_files = sorted(json_files)\n",
        "  for file_name in tqdm.tqdm(json_files):\n",
        "    with open(file_name) as json_file:\n",
        "      path_file_csv = file_name.replace(\".json\", \".csv\").split(\"/\")[-1]\n",
        "      read_json_insert_csv(dest_path, json_file, path_file_csv)"
      ],
      "execution_count": 6,
      "outputs": []
    },
    {
      "cell_type": "code",
      "metadata": {
        "colab": {
          "base_uri": "https://localhost:8080/"
        },
        "id": "xA-YDRr_RGOy",
        "outputId": "0d503209-0cea-444e-cfcf-65d8192e60a5"
      },
      "source": [
        "cd /content/drive/MyDrive/datasets/"
      ],
      "execution_count": 7,
      "outputs": [
        {
          "output_type": "stream",
          "name": "stdout",
          "text": [
            "/content/drive/MyDrive/datasets\n"
          ]
        }
      ]
    },
    {
      "cell_type": "code",
      "metadata": {
        "id": "5Fv5tpRwHg7p"
      },
      "source": [
        "json_files = glob2.glob(os.path.join('./nirra-log-bot','*.json'))\n",
        "#json_files = filter(lambda x: x.endswith('.json'), os.listdir('./nirra-log-bot'))\n",
        "files = sorted(json_files)"
      ],
      "execution_count": 8,
      "outputs": []
    },
    {
      "cell_type": "code",
      "metadata": {
        "id": "edJBAro0HsEp"
      },
      "source": [
        ""
      ],
      "execution_count": 8,
      "outputs": []
    },
    {
      "cell_type": "code",
      "metadata": {
        "colab": {
          "base_uri": "https://localhost:8080/"
        },
        "id": "n5g5SpxFmowA",
        "outputId": "d3792f29-92b7-4d48-b33f-dd53bcd1b0b5"
      },
      "source": [
        "process_json('./nirra-log-bot', './liberta_leasing')"
      ],
      "execution_count": 9,
      "outputs": [
        {
          "output_type": "stream",
          "name": "stderr",
          "text": [
            "100%|██████████| 171/171 [02:03<00:00,  1.38it/s]\n"
          ]
        }
      ]
    },
    {
      "cell_type": "code",
      "metadata": {
        "colab": {
          "base_uri": "https://localhost:8080/"
        },
        "id": "noiqJADKqiG2",
        "outputId": "650f1c5a-87c6-4103-822d-db403328cf06"
      },
      "source": [
        "cd /content/drive/MyDrive/datasets/liberta_leasing/"
      ],
      "execution_count": 10,
      "outputs": [
        {
          "output_type": "stream",
          "name": "stdout",
          "text": [
            "/content/drive/MyDrive/datasets/liberta_leasing\n"
          ]
        }
      ]
    },
    {
      "cell_type": "code",
      "metadata": {
        "colab": {
          "base_uri": "https://localhost:8080/"
        },
        "id": "uFG_FlZCqhVf",
        "outputId": "5f8eeea7-4b4c-429b-ce1b-9d9267988097"
      },
      "source": [
        "import pandas as pd\n",
        "import os\n",
        "import glob\n",
        "from tqdm import tqdm\n",
        "import pandas as pd\n",
        "from pandas.plotting import scatter_matrix\n",
        "import matplotlib.pyplot as plt\n",
        "import numpy as np\n",
        "\n",
        "\n",
        "# use glob to get all the csv files \n",
        "# in the folder\n",
        "path = os.getcwd()\n",
        "csv_files = glob.glob(os.path.join(path, \"*.csv\"))\n",
        "csv_files = sorted(csv_files)\n",
        "all_df_list = [] # list of all dataframe\n",
        "for f in tqdm(csv_files):    \n",
        "    # read the csv file\n",
        "    #col_names = [\"type\", \"subtype\", \"text\", \"ts\", \"bot_id\"]\n",
        "    df=pd.read_csv(f, sep=\"|\")\n",
        "    all_df_list.append(df) "
      ],
      "execution_count": 11,
      "outputs": [
        {
          "output_type": "stream",
          "name": "stderr",
          "text": [
            "100%|██████████| 171/171 [00:01<00:00, 124.33it/s]\n"
          ]
        }
      ]
    },
    {
      "cell_type": "code",
      "metadata": {
        "colab": {
          "base_uri": "https://localhost:8080/"
        },
        "id": "CzFoFdsXsBqG",
        "outputId": "f2642721-1466-4273-9990-718de2e9aaad"
      },
      "source": [
        "print(len(all_df_list))"
      ],
      "execution_count": 12,
      "outputs": [
        {
          "output_type": "stream",
          "name": "stdout",
          "text": [
            "171\n"
          ]
        }
      ]
    },
    {
      "cell_type": "code",
      "metadata": {
        "colab": {
          "base_uri": "https://localhost:8080/",
          "height": 50
        },
        "id": "8PM0Fv1PL36b",
        "outputId": "eb7066d0-15e5-48e4-d492-204470d2dc11"
      },
      "source": [
        "all_df_list[0][all_df_list[0]['type']== 'type']"
      ],
      "execution_count": 13,
      "outputs": [
        {
          "output_type": "execute_result",
          "data": {
            "text/html": [
              "<div>\n",
              "<style scoped>\n",
              "    .dataframe tbody tr th:only-of-type {\n",
              "        vertical-align: middle;\n",
              "    }\n",
              "\n",
              "    .dataframe tbody tr th {\n",
              "        vertical-align: top;\n",
              "    }\n",
              "\n",
              "    .dataframe thead th {\n",
              "        text-align: right;\n",
              "    }\n",
              "</style>\n",
              "<table border=\"1\" class=\"dataframe\">\n",
              "  <thead>\n",
              "    <tr style=\"text-align: right;\">\n",
              "      <th></th>\n",
              "      <th>type</th>\n",
              "      <th>subtype</th>\n",
              "      <th>ts</th>\n",
              "      <th>user</th>\n",
              "      <th>text</th>\n",
              "      <th>bot_id</th>\n",
              "      <th>bot_link</th>\n",
              "    </tr>\n",
              "  </thead>\n",
              "  <tbody>\n",
              "  </tbody>\n",
              "</table>\n",
              "</div>"
            ],
            "text/plain": [
              "Empty DataFrame\n",
              "Columns: [type, subtype, ts, user, text, bot_id, bot_link]\n",
              "Index: []"
            ]
          },
          "metadata": {},
          "execution_count": 13
        }
      ]
    },
    {
      "cell_type": "markdown",
      "metadata": {
        "id": "Vm7b9wtC3MWT"
      },
      "source": [
        "### Concatener tous la liste des dataframes dans un seul DataFrame"
      ]
    },
    {
      "cell_type": "code",
      "metadata": {
        "id": "IeyAENxG1h9m"
      },
      "source": [
        "df_raw = pd.concat(all_df_list, ignore_index=True)"
      ],
      "execution_count": 14,
      "outputs": []
    },
    {
      "cell_type": "code",
      "metadata": {
        "id": "iaZ3gAcgEvrt"
      },
      "source": [
        "df_raw.to_csv('/content/drive/MyDrive/datasets/nirra_log_bot.csv', index=None, sep='|')"
      ],
      "execution_count": 15,
      "outputs": []
    },
    {
      "cell_type": "code",
      "metadata": {
        "colab": {
          "base_uri": "https://localhost:8080/"
        },
        "id": "TyLEBiBuNxJN",
        "outputId": "6287c75c-7736-40f6-8512-153cdab53ca2"
      },
      "source": [
        "df_temp = pd.read_csv('/content/drive/MyDrive/datasets/nirra_log_bot.csv', sep='|')"
      ],
      "execution_count": 16,
      "outputs": [
        {
          "output_type": "stream",
          "name": "stderr",
          "text": [
            "/usr/local/lib/python3.7/dist-packages/IPython/core/interactiveshell.py:2718: DtypeWarning: Columns (3,6,7,8,9,10,11,12,13) have mixed types.Specify dtype option on import or set low_memory=False.\n",
            "  interactivity=interactivity, compiler=compiler, result=result)\n"
          ]
        }
      ]
    },
    {
      "cell_type": "code",
      "metadata": {
        "colab": {
          "base_uri": "https://localhost:8080/"
        },
        "id": "qYCxywmRODjf",
        "outputId": "b3b6a20a-2664-400d-8a54-4613f75eb4a3"
      },
      "source": [
        "df_temp.info()"
      ],
      "execution_count": 17,
      "outputs": [
        {
          "output_type": "stream",
          "name": "stdout",
          "text": [
            "<class 'pandas.core.frame.DataFrame'>\n",
            "RangeIndex: 95963 entries, 0 to 95962\n",
            "Data columns (total 14 columns):\n",
            " #   Column         Non-Null Count  Dtype  \n",
            "---  ------         --------------  -----  \n",
            " 0   type           95963 non-null  object \n",
            " 1   subtype        95962 non-null  object \n",
            " 2   ts             95963 non-null  float64\n",
            " 3   user           7 non-null      object \n",
            " 4   text           95963 non-null  object \n",
            " 5   bot_id         95957 non-null  object \n",
            " 6   bot_link       1 non-null      object \n",
            " 7   client_msg_id  1 non-null      object \n",
            " 8   team           1 non-null      object \n",
            " 9   user_team      1 non-null      object \n",
            " 10  source_team    1 non-null      object \n",
            " 11  user_profile   1 non-null      object \n",
            " 12  blocks         1 non-null      object \n",
            " 13  inviter        1 non-null      object \n",
            "dtypes: float64(1), object(13)\n",
            "memory usage: 10.3+ MB\n"
          ]
        }
      ]
    },
    {
      "cell_type": "code",
      "metadata": {
        "id": "MlkOAge1sVOr"
      },
      "source": [
        "def parse_wallet_sms_payload_success(text_type_request):\n",
        "  ''' la fonction permet de parser les types de requete \"Okra WebHook\", \"Wallet success\", \n",
        "      \"SMS Success\" et SMS Payload en object json.\n",
        "      Elle prend en paramètre le text contenu dans le type de requete,\n",
        "      elle retourne un objet de type JSON.'''\n",
        "\n",
        "  pattern = regex.compile(r'\\{(?:[^{}]|(?R))*}')\n",
        "  resul_patt = pattern.findall(text_type_request)\n",
        "  res = resul_patt[0].replace(\"\\\\\", \" \")\n",
        "  s = json.loads(res)\n",
        "  out_dict = {} # dictionnary vide\n",
        "  for key, value in s.items():\n",
        "    out_dict[key.strip()] = value # à la clé on passe chaque valeur, strip() enlève les espaces au début et à la fin.\n",
        "\n",
        "\n",
        "  out_dump = json.dumps(out_dict) # input est un dictionnaire et ça retourne un json sous forme string\n",
        "  out_wallet_success = json.loads(out_dump) # convertir le string json en object json.\n",
        "  return out_wallet_success\n"
      ],
      "execution_count": 18,
      "outputs": []
    },
    {
      "cell_type": "code",
      "metadata": {
        "id": "WXFZHNE_Eft4"
      },
      "source": [
        "def parse_providus_transfer_error_function(text_type_request):\n",
        "  pattern = regex.compile(r'\\{(?:[^{}]|(?R))*}')\n",
        "  resul_patt = pattern.findall(text_type_request)\n",
        "  if len(resul_patt) != 0:\n",
        "    res = resul_patt[0].replace(\"\\\\\", \" \")\n",
        "    s = json.loads(res)\n",
        "    out_dict = {} # dictionnary vide\n",
        "    for key, value in s.items():\n",
        "      out_dict[key.strip()] = value # à la clé on passe chaque valeur, strip() enlève les espaces au début et à la fin.\n",
        "    out_dump = json.dumps(out_dict) # input est un dictionnaire et ça retourne un json sous forme string\n",
        "    out_wallet_success = json.loads(out_dump) # convertir le string json en object json.\n",
        "    return out_wallet_success\n",
        "  else:\n",
        "    resultat = 'Transfer to virtual account is not allowed!'\n",
        "    return resultat\n"
      ],
      "execution_count": 19,
      "outputs": []
    },
    {
      "cell_type": "code",
      "metadata": {
        "id": "Kv7AQb4Ysb5D"
      },
      "source": [
        "import re\n",
        "\n",
        "# la fonction doit prendre en paramètre quelque chose\n",
        "def parse_and_concatenate_Leadway_Success_Rows(df_raw):\n",
        "  '''Cette fonction permet de parser et de concatener le texte qui a LEADWAY SUCCESS\n",
        "     comme type de requete\n",
        "     elle prend comme paramètre un dataframe et retourne les valeurs suivantes:\n",
        "     - un texte concatené\n",
        "     - l'index de la 1ère ligne qu'on va utiliser ensuite pour l'effacer\n",
        "     - l'index de la dernière ligne qu'on va utiliser ensuite pour l'effacer '''\n",
        "\n",
        "  first_index = 0\n",
        "  last_index = 0\n",
        "  text_leadway_concat = ''\n",
        "  for index, row in df_raw.iterrows():  # boucler sur les colonnes de type text\n",
        "      text_row = row['text']  \n",
        "      if re.search('LEADWAY SUCCESS', text_row):\n",
        "        text_leadway_concat = text_row\n",
        "        first_index = index\n",
        "        first_index +=1\n",
        "        new_df = df_raw[first_index:]\n",
        "        for first_index, new_row in new_df.iterrows():\n",
        "          xxx = new_row['text']      \n",
        "          if not xxx.startswith('['):          \n",
        "            first_index += 1\n",
        "            text_leadway_concat = text_row + xxx       \n",
        "          elif xxx.startswith('['):\n",
        "            last_index = first_index-1\n",
        "            break\n",
        "\n",
        "\n",
        "  return text_leadway_concat, first_index, last_index\n"
      ],
      "execution_count": 20,
      "outputs": []
    },
    {
      "cell_type": "code",
      "metadata": {
        "id": "B1_on8resgdJ"
      },
      "source": [
        "\n",
        "# use this function when type request is LEADWAY SUCCESS\n",
        "import regex\n",
        "import json\n",
        "\n",
        "\n",
        "def parse_Leadway_Success_Row(text_leadway):\n",
        "  ''' fonction permettant de parser le text concatené pour le type de requet LEADWAY SUCCESS\n",
        "      elle retourner un dictionnaire.'''\n",
        "  pattern = regex.compile(r'\\{(?:[^{}]|(?R))*}')\n",
        "  resul_patt = pattern.findall(text_leadway)\n",
        "  resul_patt[0] = resul_patt[0].replace(\"\\\\\", \"\")\n",
        "  x = resul_patt[0].replace(\"make,\", \"\")\n",
        "  y = x.replace('\"\"makeName\"', '\"makeName\"')\n",
        "  z = json.loads(y)\n",
        "  vehicleMake = z.get('vehicleMake')\n",
        "  leadway_dict = {}\n",
        "  for element in vehicleMake:\n",
        "    leadway_dict[element['id']] = element['makeName']\n",
        "\n",
        "  return leadway_dict"
      ],
      "execution_count": 21,
      "outputs": []
    },
    {
      "cell_type": "code",
      "metadata": {
        "id": "u470nALIsoTx"
      },
      "source": [
        "import regex\n",
        "import json\n",
        "\n",
        "def parse_Error_Row(error_row):\n",
        "  error_row = error_row.replace('\"', \"'\")\n",
        "  pattern = regex.compile(r\"{?[a-z :A-Z 0-9\\\\,=_`']+selfie\")\n",
        "  resul_patt = pattern.findall(error_row)\n",
        "  res = resul_patt[0].replace(\"\\\\\", \" \")\n",
        "  res = res.replace(\"'name'\", \"name\").replace(\"`\", \"\").replace(\"'18'\", \"18\").replace(\"'monthly'\", \"monthly\")\n",
        "  res = res+'\"}'\n",
        "  res = res.replace(\"'\", '\"')\n",
        "  s = json.loads(res)\n",
        "  out_error_dict = {} # dictionnary vide\n",
        "  for key, value in s.items():\n",
        "    out_error_dict[key.strip()] = value # à la clé on passe chaque valeur, strip() enlève les espaces au début et à la fin.\n",
        "\n",
        "  out_error_dump = json.dumps(out_error_dict) # input est un dictionnaire et ça retourne un json sous forme string\n",
        "  out_error_text = json.loads(out_error_dump) # convertir le string json en object json.\n",
        "  return out_error_text\n"
      ],
      "execution_count": 22,
      "outputs": []
    },
    {
      "cell_type": "code",
      "metadata": {
        "id": "TKcYlDZoRfqD"
      },
      "source": [
        "import regex\n",
        "import json\n",
        "\n",
        "def parse_Error_Row_selfie_Function(error_row):\n",
        "  error_row = error_row.replace('\"', \"'\")\n",
        "  pattern = regex.compile(r\"({?[a-z :A-Z 0-9\\\\,=_`']+)selfie\")\n",
        "  resul_patt = pattern.findall(error_row)\n",
        "  # checker si la liste contient au moins un element\n",
        "  if len(resul_patt) !=0 :\n",
        "    res = resul_patt[0].replace(\"\\\\\", \" \")\n",
        "    res = res+'\"}'\n",
        "    res = res.replace(\"'monthly'\", \"monthly\").replace(\"'\", '\"').replace('\"\"', '\"').replace('\"monthly \", \"', '\"monthly\"')\n",
        "    s = json.loads(res)\n",
        "    out_error_dict = {} # dictionnary vide\n",
        "    for key, value in s.items():\n",
        "      out_error_dict[key.strip()] = value # à la clé on passe chaque valeur, strip() enlève les espaces au début et à la fin.\n",
        "    out_error_dump = json.dumps(out_error_dict) # input est un dictionnaire et ça retourne un json sous forme string\n",
        "    out_error_text = json.loads(out_error_dump)\n",
        "    out_error_text\n",
        "    return out_error_text\n",
        "  #si la liste est vide, on la retourne\n",
        "  else:\n",
        "    return resul_patt"
      ],
      "execution_count": 23,
      "outputs": []
    },
    {
      "cell_type": "code",
      "metadata": {
        "id": "YBN4__k_x7Gf"
      },
      "source": [
        "def parse_Error_Row_selfie_INSERT_INTO_Function(error_row):\n",
        "  error_row = df_raw['text'][28813]\n",
        "  error_row = error_row.replace('\"', \"'\")\n",
        "  pattern = regex.compile(r\"({?[a-z :A-Z 0-9\\\\,=_`']+)selfie\")\n",
        "  resul_patt = pattern.findall(error_row)\n",
        "  if len(resul_patt) !=0 :\n",
        "      res = resul_patt[0].replace(\"\\\\\", \" \")\n",
        "      res = res+'\"}'\n",
        "      res = res.replace(\"'monthly'\", \"monthly\").replace(\"'\", '\"').replace('\"\"', '\"').replace(\"`\", '\"').replace('monthly, \"', '\"monthly\"').replace('\"name\"', 'name')\n",
        "      res = res.replace('\"product\"', 'product').replace('\"loan_amount\"', 'loan_amount').replace('\"tenor\"', 'tenor').replace('\"loan_purpose\"', 'loan_purpose')\n",
        "      res = res.replace('\"14\"', '14').replace('\"tenor_type\"', 'tenor_type').replace('\"monthly\"', 'monthly')\n",
        "      s = json.loads(res)\n",
        "      out_error_dict = {} # dictionnary vide\n",
        "      for key, value in s.items():\n",
        "        out_error_dict[key.strip()] = value # à la clé on passe chaque valeur, strip() enlève les espaces au début et à la fin.\n",
        "      out_error_dump = json.dumps(out_error_dict) # input est un dictionnaire et ça retourne un json sous forme string\n",
        "      out_error_text = json.loads(out_error_dump)\n",
        "      out_error_text\n",
        "      return out_error_text\n",
        "    #si la liste est vide, on la retourne\n",
        "  else:\n",
        "      return resul_patt"
      ],
      "execution_count": 24,
      "outputs": []
    },
    {
      "cell_type": "code",
      "metadata": {
        "id": "6ZZ0t3_iPhlj"
      },
      "source": [
        "def parse_Error_Row_Function (error_row):\n",
        "  res = []\n",
        "  pattern = regex.compile(r'\\{(?:[^{}]|(?R))*}')\n",
        "  resul_patt = pattern.findall(error_row)\n",
        "  for one_res in resul_patt:\n",
        "    res.append(one_res.replace(\"\\\\\", \" \").replace(\"`\", \"\").replace(\"\\'\", \"\"))\n",
        "  list_json = [json.loads(stuff) for stuff in res]\n",
        "  return list_json"
      ],
      "execution_count": 25,
      "outputs": []
    },
    {
      "cell_type": "code",
      "metadata": {
        "id": "y4JECgNVsrrw"
      },
      "source": [
        "import datetime\n",
        "\n",
        "# function to convert date to Timestamp\n",
        "def convertToTimestamp(str):\n",
        "  element = datetime.datetime.strptime(str,\"%Y-%m-%dT%H:%M:%S.%fZ\")\n",
        "  return datetime.datetime.timestamp(element)"
      ],
      "execution_count": 26,
      "outputs": []
    },
    {
      "cell_type": "code",
      "metadata": {
        "colab": {
          "base_uri": "https://localhost:8080/"
        },
        "id": "raIfy0cxVX9z",
        "outputId": "38c1c8bb-1b2d-4203-b8c0-6af7ff94921a"
      },
      "source": [
        "convertToTimestamp('2021-08-12T13:53:23.624Z')"
      ],
      "execution_count": 27,
      "outputs": [
        {
          "output_type": "execute_result",
          "data": {
            "text/plain": [
              "1628776403.624"
            ]
          },
          "metadata": {},
          "execution_count": 27
        }
      ]
    },
    {
      "cell_type": "markdown",
      "metadata": {
        "id": "kWCkinr1V27P"
      },
      "source": [
        "### Prendre la valeur de la colonne Timestamp comme date"
      ]
    },
    {
      "cell_type": "code",
      "metadata": {
        "id": "h8hteMxKsueg"
      },
      "source": [
        "type_request_dictionnary = {}\n",
        "regex_list_api_request = []\n",
        "regex_list_api_request.append('[\\w.+-]+@[\\w-]+\\.[\\w.-]+')\n",
        "regex_list_api_request.append('/[/a-z 0-9?=&;/_A-Z+]+')\n",
        "regex_list_api_request.append('(\\d{4})-(\\d\\d)-(\\d\\d)T(\\d\\d):(\\d\\d):(\\d\\d).(\\d{3})*[a-zA-Z]')\n",
        "regex_list_api_request.append('[0-9]+')\n",
        "\n",
        "type_request_dictionnary['API REQUEST'] = regex_list_api_request\n",
        "\n",
        "regex_list_client_mobile = []\n",
        "regex_list_client_mobile.append('[\\w.+-]+@[\\w-]+\\.[\\w.-]+')\n",
        "regex_list_client_mobile.append('(\\d{4})-(\\d\\d)-(\\d\\d)T(\\d\\d):(\\d\\d):(\\d\\d).(\\d{3})*[a-zA-Z]')\n",
        "regex_list_client_mobile.append('[0-9]+')\n",
        "\n",
        "type_request_dictionnary['CLIENT MOBILE LOGIN'] = regex_list_client_mobile\n",
        "\n",
        "type_request_dictionnary['SMS PAYLOAD'] = '\\{(?:[^{}]|(?R))*}'\n",
        "type_request_dictionnary['SMS SUCCESS'] = '\\{(?:[^{}]|(?R))*}'\n",
        "type_request_dictionnary['WALLET SUCCESS'] = '\\{(?:[^{}]|(?R))*}'\n",
        "type_request_dictionnary['LEADWAY SUCCESS'] = '\\{(?:[^{}]|(?R))*}'"
      ],
      "execution_count": 28,
      "outputs": []
    },
    {
      "cell_type": "code",
      "metadata": {
        "id": "BVGf909EUhmO"
      },
      "source": [
        ""
      ],
      "execution_count": 28,
      "outputs": []
    },
    {
      "cell_type": "code",
      "metadata": {
        "id": "iU-m87ITsx60"
      },
      "source": [
        "import re\n",
        "import regex\n",
        "import json\n",
        "\n",
        "\n",
        "def parse_row_error(df_):\n",
        "  log_level_col = []\n",
        "  type_request_col = []\n",
        "  error_code_col = []\n",
        "  error_number_col = []\n",
        "  error_sql_message_col = []\n",
        "  error_sql_state_col = []\n",
        "  error_index_col = []\n",
        "  error_sql_col = []\n",
        "  loan_amount_col = []\n",
        "  loan_purpose_col = []\n",
        "  product_col = []\n",
        "  tenor_col = []\n",
        "  tenor_type_col = []\n",
        "  error_created_by_col = []\n",
        "  error_creator_type_col = []\n",
        "  error_date_created_col = []\n",
        "  error_name_col = []\n",
        "  error_rate_col = []\n",
        "  error_request_col = []\n",
        "  error_status_col = []\n",
        "  error_userID_col = []\n",
        "  date_col = []\n",
        "  \n",
        "  list_all_colum = []\n",
        "  list_all_colum = [type_request_col, log_level_col, error_code_col, error_number_col, error_sql_message_col, error_sql_state_col, \n",
        "                    error_index_col, error_sql_col, loan_amount_col, loan_purpose_col, product_col, tenor_col, tenor_type_col,\n",
        "                    error_created_by_col, error_creator_type_col, error_date_created_col, error_name_col, error_rate_col,\n",
        "                    error_request_col, error_status_col, error_userID_col, date_col]\n",
        "\n",
        "  for index, row in df_.iterrows():\n",
        "    str_text = row['text']\n",
        "    \n",
        "    if not str_text.startswith('['):\n",
        "      for i in range(len(list_all_colum)):\n",
        "          list_all_colum[i].append(None)\n",
        "    \n",
        "    if re.search('error', str_text):\n",
        "      log_level = re.search('error', str_text)\n",
        "      type_of_request = re.search('LOAN ERROR', str_text)\n",
        "      date_col.append(row['ts'])\n",
        "\n",
        "      if 'INSERT INTO' not in str_text:  \n",
        "          try:\n",
        "            log_level_col.append(log_level.group(0))\n",
        "          except AttributeError:\n",
        "            log_level_col.append(None)\n",
        "          try:\n",
        "            type_request_col.append(type_of_request.group(0))\n",
        "          except AttributeError:\n",
        "            type_request_col.append(None)         \n",
        "          try:\n",
        "            loan_error = parse_Error_Row_selfie_Function(str_text) \n",
        "          except json.decoder.JSONDecodeError:\n",
        "            raise          \n",
        "          try:\n",
        "            loan_amount_col.append(loan_error.get('loan_amount'))           \n",
        "          except AttributeError:\n",
        "            loan_amount_col.append(None)\n",
        "          try:\n",
        "            loan_purpose_col.append(loan_error.get('loan_purpose'))              \n",
        "          except AttributeError:\n",
        "            loan_purpose_col.append(None)\n",
        "          try:\n",
        "            product_col.append(loan_error.get('product'))\n",
        "          except AttributeError:\n",
        "            product_col.append(None)\n",
        "          try:\n",
        "            tenor_col.append(loan_error.get('tenor'))\n",
        "          except AttributeError:\n",
        "            tenor_col.append(None)\n",
        "          try:\n",
        "            tenor_type_col.append(loan_error.get('tenor_type'))\n",
        "          except AttributeError:\n",
        "            tenor_type_col.append(None)            \n",
        "          \n",
        "          error_code_col.append(None)\n",
        "          error_number_col.append(None)\n",
        "          error_sql_message_col.append(None)\n",
        "          error_sql_state_col.append(None)\n",
        "          error_index_col.append(None)\n",
        "          error_sql_col.append(None)  \n",
        "          error_userID_col.append(None)\n",
        "          error_status_col.append(None) \n",
        "          error_request_col.append(None)  \n",
        "          error_rate_col.append(None)\n",
        "          error_name_col.append(None)\n",
        "          error_date_created_col.append(None)\n",
        "          error_creator_type_col.append(None)\n",
        "          error_created_by_col.append(None)    \n",
        "      else:     \n",
        "        try:\n",
        "          loan_error = parse_Error_Row_selfie_INSERT_INTO_Function(str_text) \n",
        "          #print(loan_error)\n",
        "        except json.decoder.JSONDecodeError:\n",
        "          raise\n",
        "        loan_amount_col.append(None)\n",
        "        loan_purpose_col.append(None)\n",
        "        product_col.append(None)\n",
        "        tenor_col.append(None)\n",
        "        tenor_type_col.append(None)\n",
        "        try:\n",
        "          log_level_col.append(log_level.group(0))\n",
        "        except AttributeError:\n",
        "          log_level_col.append(None)\n",
        "        try:\n",
        "          type_request_col.append(type_of_request.group(0))\n",
        "        except AttributeError:\n",
        "          type_request_col.append(None)\n",
        "        try:\n",
        "          error_code_col.append(loan_error.get('code'))\n",
        "        except AttributeError:\n",
        "          error_code_col.append(None)\n",
        "        try:\n",
        "          error_number_col.append(loan_error.get('errno'))\n",
        "        except AttributeError:\n",
        "          error_number_col.append(None)\n",
        "        try:\n",
        "          error_sql_message_col.append(loan_error.get('sqlMessage'))\n",
        "        except AttributeError:\n",
        "          error_sql_message_col.append(None)\n",
        "        try:\n",
        "          error_sql_state_col.append(loan_error.get('sqlState'))\n",
        "        except AttributeError:\n",
        "          error_sql_state_col.append(None)\n",
        "        try:\n",
        "          error_created_by_col.append(loan_error.get('created_by'))\n",
        "        except AttributeError:\n",
        "          error_created_by_col.append(None)\n",
        "        try:\n",
        "          error_creator_type_col.append(loan_error.get('creator_type'))\n",
        "        except AttributeError:\n",
        "          error_creator_type_col.append(None)\n",
        "        try:\n",
        "          error_date_created_col.append(loan_error.get('date_created'))\n",
        "        except AttributeError:\n",
        "          error_date_created_col.append(None)\n",
        "        try:\n",
        "          error_sql_col.append(loan_error.get('sql'))\n",
        "        except AttributeError:\n",
        "          error_sql_col.append(None)\n",
        "        try:\n",
        "          error_name_col.append(loan_error.get('name'))\n",
        "        except AttributeError:\n",
        "          error_name_col.append(None)\n",
        "        try:\n",
        "          error_rate_col.append(loan_error.get('rate'))\n",
        "        except AttributeError:\n",
        "          error_rate_col.append(None)\n",
        "        try:\n",
        "          error_index_col.append(loan_error.get('index'))\n",
        "        except AttributeError:\n",
        "          error_index_col.append(None)\n",
        "        try:\n",
        "          error_request_col.append(loan_error.get('request'))\n",
        "        except AttributeError:\n",
        "          error_request_col.append(None)\n",
        "        try:\n",
        "          error_status_col.append(loan_error.get('status'))\n",
        "        except AttributeError:\n",
        "          error_status_col.append(None)\n",
        "        try:\n",
        "          error_userID_col.append(loan_error.get('userID'))\n",
        "        except AttributeError:\n",
        "          error_userID_col.append(None)\n",
        "\n",
        "  df_['Type_Request'] = type_request_col\n",
        "  df_['Date'] = date_col\n",
        "  df_['Log_Level'] = log_level_col\n",
        "  df_['Error Code'] = error_code_col\n",
        "  df_['Error Number'] = error_number_col\n",
        "  df_['Error Sql Message'] = error_sql_message_col\n",
        "  df_['Error Sql State'] = error_sql_state_col\n",
        "  df_['Error Index'] = error_index_col\n",
        "  df_['Error Sql'] = error_sql_col\n",
        "  df_['Loan Amount'] = loan_amount_col\n",
        "  df_['Loan Purpose'] = loan_purpose_col\n",
        "  df_['Product'] = product_col\n",
        "  df_['Tenor'] = tenor_col\n",
        "  df_['Tenor Type'] = tenor_type_col\n",
        "  df_['Error created by'] = error_created_by_col\n",
        "  df_['Error creator Type'] = error_creator_type_col \n",
        "  df_['Error Date created'] = error_date_created_col\n",
        "  df_['Error Name'] = error_name_col\n",
        "  df_['Error Rate'] = error_rate_col\n",
        "  df_['Error Request'] = error_request_col\n",
        "  df_['Error Status'] = error_status_col\n",
        "  df_['Error UserID'] = error_userID_col\n",
        "\n",
        "\n",
        "  return df_"
      ],
      "execution_count": 29,
      "outputs": []
    },
    {
      "cell_type": "code",
      "metadata": {
        "id": "lUFaAC7BtJbh"
      },
      "source": [
        "df_raw['text'].fillna('', inplace=True)\n",
        "error = df_raw[df_raw['text'].str.contains('LOAN ERROR')]\n",
        "df_error = parse_row_error(error)\n"
      ],
      "execution_count": null,
      "outputs": []
    },
    {
      "cell_type": "code",
      "metadata": {
        "id": "jxv3O9kZDlMa"
      },
      "source": [
        "import re\n",
        "import regex\n",
        "import json\n",
        "\n",
        "def parse_row_LOAN_PAYLOAD(df_loan_payload):\n",
        "\n",
        "  log_level_col = []\n",
        "  type_request_col = []\n",
        "  loan_amount_col = []\n",
        "  loan_purpose_col = []\n",
        "  product_col = []\n",
        "  tenor_col = []\n",
        "  tenor_type_col = []\n",
        "  date_col = []\n",
        "\n",
        "\n",
        "  list_all_colum = []\n",
        "  list_all_colum = [type_request_col, log_level_col, loan_amount_col, loan_purpose_col, product_col, tenor_col, tenor_type_col, date_col]\n",
        "          \n",
        "  for index, row in df_loan_payload.iterrows():\n",
        "    str_text = row['text']\n",
        "    \n",
        "    if not str_text.startswith('['):\n",
        "      for i in range(len(list_all_colum)):\n",
        "          list_all_colum[i].append(None)\n",
        "    \n",
        "    if re.search('info', str_text):\n",
        "        log_level = re.search('info', str_text)\n",
        "        type_of_request = re.search('LOAN PAYLOAD', str_text)\n",
        "        date_col.append(row['ts'])\n",
        "\n",
        "        try:\n",
        "          log_level_col.append(log_level.group(0))\n",
        "        except AttributeError:\n",
        "          log_level_col.append(None)\n",
        "        try:\n",
        "          type_request_col.append(type_of_request.group(0))\n",
        "        except AttributeError:\n",
        "          type_request_col.append(None)         \n",
        "        try:\n",
        "          loan_error = parse_Error_Row_selfie_Function(str_text) \n",
        "        except json.decoder.JSONDecodeError:\n",
        "          raise \n",
        "        try:\n",
        "            loan_amount_col.append(loan_error.get('loan_amount'))           \n",
        "        except AttributeError:\n",
        "            loan_amount_col.append(None)\n",
        "        try:\n",
        "          loan_purpose_col.append(loan_error.get('loan_purpose'))              \n",
        "        except AttributeError:\n",
        "          loan_purpose_col.append(None)\n",
        "        try:\n",
        "          product_col.append(loan_error.get('product'))\n",
        "        except AttributeError:\n",
        "          product_col.append(None)\n",
        "        try:\n",
        "          tenor_col.append(loan_error.get('tenor'))\n",
        "        except AttributeError:\n",
        "          tenor_col.append(None)\n",
        "        try:\n",
        "          tenor_type_col.append(loan_error.get('tenor_type'))\n",
        "        except AttributeError:\n",
        "          tenor_type_col.append(None)  \n",
        "\n",
        "  \n",
        "  df_loan_payload['Type_Request'] = type_request_col\n",
        "  df_loan_payload['Log_Level'] = log_level_col\n",
        "  df_loan_payload['Loan Amount'] = loan_amount_col\n",
        "  df_loan_payload['Loan Purpose'] = loan_purpose_col\n",
        "  df_loan_payload['Product'] = product_col\n",
        "  df_loan_payload['Tenor'] = tenor_col\n",
        "  df_loan_payload['Tenor Type'] = tenor_type_col\n",
        "  df_loan_payload['Date'] = date_col\n",
        "\n",
        "  return df_loan_payload\n"
      ],
      "execution_count": 31,
      "outputs": []
    },
    {
      "cell_type": "code",
      "metadata": {
        "id": "M5cXVXeZUOua"
      },
      "source": [
        "df_raw['text'].fillna('', inplace=True)\n",
        "loan_payload = df_raw[df_raw['text'].str.contains('LOAN PAYLOAD')]\n",
        "df_loan_payload = parse_row_LOAN_PAYLOAD(loan_payload)"
      ],
      "execution_count": null,
      "outputs": []
    },
    {
      "cell_type": "code",
      "metadata": {
        "id": "ObQowf3DowAM"
      },
      "source": [
        "df_loan_payload.head(5)"
      ],
      "execution_count": null,
      "outputs": []
    },
    {
      "cell_type": "markdown",
      "metadata": {
        "id": "my38DIJIaPcF"
      },
      "source": [
        "### Handle DataFrame for API REQUEST Type request"
      ]
    },
    {
      "cell_type": "code",
      "metadata": {
        "id": "-O9Ghnbls4hN"
      },
      "source": [
        "import re\n",
        "import regex\n",
        "import json\n",
        "\n",
        "def parse_row_api_request(df_api_request):\n",
        "  log_level_col = []\n",
        "  api_request_col = []\n",
        "  type_request_col = []\n",
        "  phone_col = []\n",
        "  date_col = []\n",
        "  endpoint_col = []\n",
        "  email_col = []\n",
        "  message_sms_payload_col = []\n",
        "  totalsent_col = []\n",
        "  cost_col = []\n",
        "  status_col = []\n",
        "  account_number_col = []\n",
        "  account_name_col = []\n",
        "  bvn_col = []\n",
        "  requestSuccessful_col = []\n",
        "  responseMessage_col = []\n",
        "  responseCode_col = []\n",
        "\n",
        "  list_column_none_api_request = []\n",
        "  list_column_none_api_request = [message_sms_payload_col, totalsent_col, cost_col, status_col,\n",
        "                                  bvn_col, requestSuccessful_col, responseMessage_col,\n",
        "                                  responseCode_col, account_name_col, account_number_col]\n",
        "  \n",
        "  list_all_colum = []\n",
        "  list_all_colum = [type_request_col, phone_col, date_col, endpoint_col, log_level_col, email_col, \n",
        "                    message_sms_payload_col, totalsent_col, cost_col, status_col, account_number_col,\n",
        "                    account_name_col, bvn_col, requestSuccessful_col, responseMessage_col, responseCode_col]\n",
        "\n",
        "  for index, row in df_api_request.iterrows():\n",
        "    str_text = row['text']\n",
        "    \n",
        "    if not str_text.startswith('['):\n",
        "      for i in range(len(list_all_colum)):\n",
        "          list_all_colum[i].append(None)\n",
        "\n",
        "    # check if the row contains \"info\" string\n",
        "    if re.search('info', str_text):\n",
        "        log_level = re.search('info', str_text)\n",
        "        try:\n",
        "          log_level_col.append(log_level.group(0))\n",
        "        except AttributeError:\n",
        "          log_level_col.append(None)        \n",
        "        # check if the row contains an email address \n",
        "        # pour tous les types request créer un dictionnaire dans lequel mapper\n",
        "        # key = type de request et value = les regex définis\n",
        "        # pour chaque condition IF créer une liste de colonnes auxquelles affecter None\n",
        "        if 'mailto' in str_text:\n",
        "            if re.search('API REQUEST', str_text):\n",
        "                type_of_request = re.search('API REQUEST', str_text)                \n",
        "                phone_or_email_api_req = re.search(type_request_dictionnary['API REQUEST'][0], str_text)                              \n",
        "                endpoint = re.search(type_request_dictionnary['API REQUEST'][1], str_text)\n",
        "                pattern = type_request_dictionnary['API REQUEST'][2]\n",
        "                datepattern = re.compile(\"(?:%s)\"%(pattern))\n",
        "                datematcher = datepattern.search(str_text)  # extract date\n",
        "\n",
        "                for i in range(len(list_column_none_api_request)):\n",
        "                  list_column_none_api_request[i].append(None)\n",
        "                               \n",
        "                try:\n",
        "                  type_request_col.append(type_of_request.group(0)) # add type request inside type request column\n",
        "                except AttributeError:\n",
        "                  type_request_col.append(None)               \n",
        "                try:\n",
        "                  email_col.append(phone_or_email_api_req.group(0)) # add email inside email column\n",
        "                  phone_col.append(None)  # in this case there is no phone number\n",
        "                except AttributeError:\n",
        "                  email_col.append(None)\n",
        "                try:\n",
        "                  endpoint_col.append(endpoint.group(0)) # add endpoint inside endpoint column\n",
        "                except AttributeError:\n",
        "                  endpoint_col.append(None)\n",
        "                try:\n",
        "                  date_col.append(convertToTimestamp(datematcher.group(0))) # convert date to timestamp and add it inside date column\n",
        "                except AttributeError:\n",
        "                  date_col.append(None)\n",
        "              \n",
        "\n",
        "        elif 'mailto' not in str_text:\n",
        "            if re.search('API REQUEST', str_text):\n",
        "                type_of_request = re.search('API REQUEST', str_text)                            \n",
        "                # extract a phone number for API REQUEST\n",
        "                phone_or_email_api_req = re.search(type_request_dictionnary['API REQUEST'][3], str_text)                              \n",
        "                endpoint = re.search(type_request_dictionnary['API REQUEST'][1], str_text)\n",
        "                pattern = type_request_dictionnary['API REQUEST'][2]\n",
        "                datepattern = re.compile(\"(?:%s)\"%(pattern))\n",
        "                datematcher = datepattern.search(str_text)  # extract date\n",
        "\n",
        "                for i in range(len(list_column_none_api_request)):\n",
        "                  list_column_none_api_request[i].append(None)\n",
        "\n",
        "                try:\n",
        "                  if len(phone_or_email_api_req.group(0)) > 4:\n",
        "                      phone_col.append(phone_or_email_api_req.group(0)) # add phone number inside phone number column\n",
        "                      email_col.append(None) # in this case there is no email address\n",
        "                  else:\n",
        "                      phone_col.append(None)\n",
        "                      email_col.append(None)\n",
        "                except AttributeError:\n",
        "                  phone_col.append(None)\n",
        "                try:\n",
        "                  type_request_col.append(type_of_request.group(0))\n",
        "                except AttributeError:\n",
        "                  type_request_col.append(None)\n",
        "                try:\n",
        "                  endpoint_col.append(endpoint.group(0)) # add endpoint inside endpoint column\n",
        "                except AttributeError:\n",
        "                  endpoint_col.append(None)\n",
        "                try:\n",
        "                  date_col.append(convertToTimestamp(datematcher.group(0))) # convert date to timestamp and add it inside date column\n",
        "                except AttributeError:\n",
        "                  date_col.append(None)\n",
        "\n",
        "  df_api_request['Type_Request'] = type_request_col\n",
        "  df_api_request['Phone_Number'] = phone_col\n",
        "  df_api_request['Date'] = date_col\n",
        "  df_api_request['EndPoint'] = endpoint_col\n",
        "  df_api_request['Log_Level'] = log_level_col\n",
        "  df_api_request['Email'] = email_col\n",
        "  df_api_request['Message SMS Payload'] = message_sms_payload_col\n",
        "  df_api_request['Total Sent'] = totalsent_col\n",
        "  df_api_request['Cost'] = cost_col\n",
        "  df_api_request['Status'] = status_col\n",
        "  df_api_request['Account Number'] = account_number_col\n",
        "  df_api_request['Account Name'] = account_name_col\n",
        "  df_api_request['BVN'] = bvn_col\n",
        "  df_api_request['Request Successful'] = requestSuccessful_col\n",
        "  df_api_request['Response Message'] = responseMessage_col\n",
        "  df_api_request['Response Code'] = responseCode_col\n",
        " \n",
        "  return df_api_request"
      ],
      "execution_count": 153,
      "outputs": []
    },
    {
      "cell_type": "code",
      "metadata": {
        "id": "-XIIds-DtBOP"
      },
      "source": [
        "df_raw['text'].fillna('', inplace=True)\n",
        "api_request = df_raw[df_raw['text'].str.contains('API REQUEST')]\n",
        "df_api_request = parse_row_api_request(api_request)"
      ],
      "execution_count": null,
      "outputs": []
    },
    {
      "cell_type": "markdown",
      "metadata": {
        "id": "0R69yc9BaHdc"
      },
      "source": [
        "### Handle DataFrame for CLIENT MOBILE LOGIN Type request"
      ]
    },
    {
      "cell_type": "code",
      "metadata": {
        "id": "Bj661cCus7YS"
      },
      "source": [
        "import re\n",
        "import regex\n",
        "import json\n",
        "\n",
        "def parse_row_client_mobile_login(df_client_mob):\n",
        "  log_level_col = []\n",
        "  api_request_col = []\n",
        "  type_request_col = []\n",
        "  phone_col = []\n",
        "  date_col = []\n",
        "  endpoint_Col = []\n",
        "  email_col = []\n",
        "  message_sms_payload_col = []\n",
        "  totalsent_col = []\n",
        "  cost_col = []\n",
        "  status_col = []\n",
        "  account_number_col = []\n",
        "  account_name_col = []\n",
        "  bvn_col = []\n",
        "  requestSuccessful_col = []\n",
        "  responseMessage_col = []\n",
        "  responseCode_col = []\n",
        "\n",
        "  list_column_none_client_mobile = []\n",
        "  list_column_none_client_mobile = [message_sms_payload_col, totalsent_col, cost_col, status_col,\n",
        "                                  account_number_col, bvn_col, requestSuccessful_col, responseMessage_col,\n",
        "                                  responseCode_col, account_name_col, endpoint_Col]\n",
        "  \n",
        "  list_all_colum = []\n",
        "  list_all_colum = [type_request_col, phone_col, date_col, endpoint_Col, log_level_col, email_col, \n",
        "                    message_sms_payload_col, totalsent_col, cost_col, status_col, account_number_col,\n",
        "                    account_name_col, bvn_col, requestSuccessful_col, responseMessage_col, responseCode_col]\n",
        "\n",
        "  for index, row in df_client_mob.iterrows():\n",
        "    str_text = row['text']\n",
        "    \n",
        "    if not str_text.startswith('['):\n",
        "      for i in range(len(list_all_colum)):\n",
        "          list_all_colum[i].append(None)\n",
        "\n",
        "    # check if the row contains \"info\" string\n",
        "    if re.search('info', str_text):\n",
        "        log_level = re.search('info', str_text)\n",
        "        try:\n",
        "          log_level_col.append(log_level.group(0))\n",
        "        except AttributeError:\n",
        "          log_level_col.append(None)        \n",
        "        # check if the row contains an email address \n",
        "        # pour tous les types request créer un dictionnaire dans lequel mapper\n",
        "        # key = type de request et value = les regex définis\n",
        "        # pour chaque condition IF créer une liste de colonnes auxquelles affecter None\n",
        "        if 'mailto' in str_text:\n",
        "            if re.search('CLIENT MOBILE LOGIN', str_text):   # CLIENT MOBILE LOGIN with email address\n",
        "                  type_of_request = re.search('CLIENT MOBILE LOGIN', str_text)\n",
        "                  # extract address email for CLIENT MOBILE LOGIN\n",
        "                  phone_or_email_client_mobile = re.search(type_request_dictionnary['CLIENT MOBILE LOGIN'][0], str_text)                               \n",
        "                  pattern = type_request_dictionnary['CLIENT MOBILE LOGIN'][1]\n",
        "                  datepattern = re.compile(\"(?:%s)\"%(pattern))\n",
        "                  datematcher = datepattern.search(str_text)  # extract date for CLIENT MOBILE LOGIN type request\n",
        "                  \n",
        "                  for j in range(len(list_column_none_client_mobile)):\n",
        "                    list_column_none_client_mobile[j].append(None)\n",
        "\n",
        "                  try:\n",
        "                    type_request_col.append(type_of_request.group(0)) # add type request inside type request column\n",
        "                  except AttributeError:\n",
        "                    type_request_col.append(None) \n",
        "                  try:\n",
        "                    email_col.append(phone_or_email_client_mobile.group(0)) # add email inside email column\n",
        "                    phone_col.append(None)  # in this case there is no phone number\n",
        "                  except AttributeError:\n",
        "                    email_col.append(None)\n",
        "                  try:\n",
        "                    date_col.append(convertToTimestamp(datematcher.group(0))) # convert date to timestamp and add it inside date column\n",
        "                  except AttributeError:\n",
        "                    date_col.append(None)\n",
        "\n",
        "        elif 'mailto' not in str_text:\n",
        "            if re.search('CLIENT MOBILE LOGIN', str_text): # when type request is CLIENT MOBILE LOGIN, there is no EndPoint\n",
        "                type_of_request = re.search('CLIENT MOBILE LOGIN', str_text)\n",
        "                # extract a phone number for CLIENT MOBILE LOGIN\n",
        "                phone_or_email_client_mobile = re.search(type_request_dictionnary['CLIENT MOBILE LOGIN'][2], str_text)                  \n",
        "                pattern = type_request_dictionnary['CLIENT MOBILE LOGIN'][1]\n",
        "                datepattern = re.compile(\"(?:%s)\"%(pattern))\n",
        "                datematcher = datepattern.search(str_text)  # extract date\n",
        "\n",
        "                for j in range(len(list_column_none_client_mobile)):\n",
        "                    list_column_none_client_mobile[j].append(None)\n",
        "\n",
        "                try:\n",
        "                  phone_col.append(phone_or_email_client_mobile.group(0))\n",
        "                  email_col.append(None)\n",
        "                except AttributeError:\n",
        "                  phone_col.append(None)\n",
        "                try:\n",
        "                  type_request_col.append(type_of_request.group(0))\n",
        "                except AttributeError:\n",
        "                  type_request_col.append(None)\n",
        "                try:\n",
        "                  date_col.append(convertToTimestamp(datematcher.group(0))) # convert date to timestamp and add it inside date column\n",
        "                except AttributeError:\n",
        "                  date_col.append(None) \n",
        "\n",
        "  df_client_mob['Type_Request'] = type_request_col\n",
        "  df_client_mob['Phone_Number'] = phone_col\n",
        "  df_client_mob['Date'] = date_col\n",
        "  df_client_mob['EndPoint'] = endpoint_Col\n",
        "  df_client_mob['Log_Level'] = log_level_col\n",
        "  df_client_mob['Email'] = email_col\n",
        "  df_client_mob['Message SMS Payload'] = message_sms_payload_col\n",
        "  df_client_mob['Total Sent'] = totalsent_col\n",
        "  df_client_mob['Cost'] = cost_col\n",
        "  df_client_mob['Status'] = status_col\n",
        "  df_client_mob['Account Number'] = account_number_col\n",
        "  df_client_mob['Account Name'] = account_name_col\n",
        "  df_client_mob['BVN'] = bvn_col\n",
        "  df_client_mob['Request Successful'] = requestSuccessful_col\n",
        "  df_client_mob['Response Message'] = responseMessage_col\n",
        "  df_client_mob['Response Code'] = responseCode_col\n",
        " \n",
        "  return df_client_mob"
      ],
      "execution_count": 155,
      "outputs": []
    },
    {
      "cell_type": "code",
      "metadata": {
        "id": "YnqWyhXp3U-5"
      },
      "source": [
        "df_raw['text'].fillna('', inplace=True)\n",
        "client_mobile_login = df_raw[df_raw['text'].str.contains('CLIENT MOBILE LOGIN')]\n",
        "df_client_mobile_login = parse_row_client_mobile_login(client_mobile_login)"
      ],
      "execution_count": null,
      "outputs": []
    },
    {
      "cell_type": "markdown",
      "metadata": {
        "id": "kpBB-0cg3hAG"
      },
      "source": [
        "Handle DataFrame for SMS PAYLOAD Type request"
      ]
    },
    {
      "cell_type": "code",
      "metadata": {
        "id": "8XVntz9o3mbD"
      },
      "source": [
        "import re\n",
        "import regex\n",
        "import json\n",
        "\n",
        "def parse_row_sms_payload_function(df_sms_payload):\n",
        "  log_level_col = []\n",
        "  api_request_col = []\n",
        "  type_request_col = []\n",
        "  phone_col = []\n",
        "  date_col = []\n",
        "  endpoint_Col = []\n",
        "  email_col = []\n",
        "  message_sms_payload_col = []\n",
        "  totalsent_col = []\n",
        "  cost_col = []\n",
        "  status_col = []\n",
        "  account_number_col = []\n",
        "  account_name_col = []\n",
        "  bvn_col = []\n",
        "  requestSuccessful_col = []\n",
        "  responseMessage_col = []\n",
        "  responseCode_col = []\n",
        "  \n",
        "  list_column_none_sms_payload = []\n",
        "  list_column_none_sms_payload = [totalsent_col, cost_col, status_col,\n",
        "                                  account_number_col, bvn_col, requestSuccessful_col, responseMessage_col,\n",
        "                                  responseCode_col, account_name_col, email_col, endpoint_Col]\n",
        "  \n",
        "  list_all_colum = []\n",
        "  list_all_colum = [type_request_col, phone_col, date_col, endpoint_Col, log_level_col, email_col, \n",
        "                    message_sms_payload_col, totalsent_col, cost_col, status_col, account_number_col,\n",
        "                    account_name_col, bvn_col, requestSuccessful_col, responseMessage_col, responseCode_col]\n",
        "\n",
        "  for index, row in df_sms_payload.iterrows():\n",
        "    str_text = row['text']\n",
        "    \n",
        "    if not str_text.startswith('['):\n",
        "      for i in range(len(list_all_colum)):\n",
        "          list_all_colum[i].append(None)\n",
        "\n",
        "    # check if the row contains \"info\" string\n",
        "    if re.search('info', str_text):\n",
        "        log_level = re.search('info', str_text)\n",
        "        date_col.append(row['ts'])\n",
        "        try:\n",
        "          log_level_col.append(log_level.group(0))\n",
        "        except AttributeError:\n",
        "          log_level_col.append(None)             \n",
        "        if 'mailto' not in str_text:\n",
        "            if re.search('SMS PAYLOAD', str_text):\n",
        "                type_of_request = re.search('SMS PAYLOAD', str_text)            \n",
        "                sms_payload = parse_wallet_sms_payload_success(str_text)               \n",
        "                for l in range(len(list_column_none_sms_payload)):\n",
        "                    list_column_none_sms_payload[l].append(None)             \n",
        "                try:\n",
        "                  type_request_col.append(type_of_request.group(0))\n",
        "                except AttributeError:\n",
        "                  type_request_col.append(None)\n",
        "                try:\n",
        "                  phone_col.append(sms_payload.get('phone'))\n",
        "                except AttributeError:\n",
        "                  phone_col.append(None)\n",
        "                try:\n",
        "                  message_sms_payload_col.append(sms_payload.get('message'))\n",
        "                except AttributeError:\n",
        "                  message_sms_payload_col.append(None)\n",
        "\n",
        "\n",
        "  df_sms_payload['Type_Request'] = type_request_col\n",
        "  df_sms_payload['Phone_Number'] = phone_col\n",
        "  df_sms_payload['Date'] = date_col\n",
        "  df_sms_payload['EndPoint'] = endpoint_Col\n",
        "  df_sms_payload['Log_Level'] = log_level_col\n",
        "  df_sms_payload['Email'] = email_col\n",
        "  df_sms_payload['Message SMS Payload'] = message_sms_payload_col\n",
        "  df_sms_payload['Total Sent'] = totalsent_col\n",
        "  df_sms_payload['Cost'] = cost_col\n",
        "  df_sms_payload['Status'] = status_col\n",
        "  df_sms_payload['Account Number'] = account_number_col\n",
        "  df_sms_payload['Account Name'] = account_name_col\n",
        "  df_sms_payload['BVN'] = bvn_col\n",
        "  df_sms_payload['Request Successful'] = requestSuccessful_col\n",
        "  df_sms_payload['Response Message'] = responseMessage_col\n",
        "  df_sms_payload['Response Code'] = responseCode_col\n",
        " \n",
        "  return df_sms_payload\n"
      ],
      "execution_count": 40,
      "outputs": []
    },
    {
      "cell_type": "code",
      "metadata": {
        "id": "LOM6gkyh3-B0"
      },
      "source": [
        "df_raw['text'].fillna('', inplace=True)\n",
        "sms_payload = df_raw[df_raw['text'].str.contains('SMS PAYLOAD')]\n",
        "df_sms_payload = parse_row_sms_payload_function(sms_payload)\n"
      ],
      "execution_count": null,
      "outputs": []
    },
    {
      "cell_type": "markdown",
      "metadata": {
        "id": "CrJjMbac4HGd"
      },
      "source": [
        "Handle DataFrame for SMS Success Type request"
      ]
    },
    {
      "cell_type": "code",
      "metadata": {
        "id": "pD8J_KpN4H7J"
      },
      "source": [
        "import re\n",
        "import regex\n",
        "import json\n",
        "\n",
        "def parse_row_sms_success_function(df_sms_success):\n",
        "  log_level_col = []\n",
        "  api_request_col = []\n",
        "  type_request_col = []\n",
        "  phone_Col = []\n",
        "  date_col = []\n",
        "  endpoint_Col = []\n",
        "  email_col = []\n",
        "  message_sms_payload_col = []\n",
        "  totalsent_col = []\n",
        "  cost_col = []\n",
        "  status_col = []\n",
        "  account_number_col = []\n",
        "  account_name_col = []\n",
        "  bvn_col = []\n",
        "  requestSuccessful_col = []\n",
        "  responseMessage_col = []\n",
        "  responseCode_col = []\n",
        "  \n",
        "  list_column_none_sms_success = []\n",
        "  list_column_none_sms_success = [message_sms_payload_col, account_number_col, bvn_col, requestSuccessful_col, \n",
        "                                  responseMessage_col, responseCode_col, account_name_col, email_col, \n",
        "                                  phone_Col, endpoint_Col]\n",
        "  \n",
        "  list_all_colum = []\n",
        "  list_all_colum = [type_request_col, phone_Col, date_col, endpoint_Col, log_level_col, email_col, \n",
        "                    message_sms_payload_col, totalsent_col, cost_col, status_col, account_number_col,\n",
        "                    account_name_col, bvn_col, requestSuccessful_col, responseMessage_col, responseCode_col]\n",
        "\n",
        "  for index, row in df_sms_success.iterrows():\n",
        "    str_text = row['text']\n",
        "    \n",
        "    if not str_text.startswith('['):\n",
        "      for i in range(len(list_all_colum)):\n",
        "          list_all_colum[i].append(None)\n",
        "\n",
        "    # check if the row contains \"info\" string\n",
        "    if re.search('info', str_text):\n",
        "        log_level = re.search('info', str_text)\n",
        "        date_col.append(row['ts'])\n",
        "        try:\n",
        "          log_level_col.append(log_level.group(0))\n",
        "        except AttributeError:\n",
        "          log_level_col.append(None)             \n",
        "        if 'mailto' not in str_text:\n",
        "            if re.search('SMS SUCCESS', str_text): \n",
        "                type_of_request = re.search('SMS SUCCESS', str_text)\n",
        "                sms_success = parse_wallet_sms_payload_success(str_text)                \n",
        "                for m in range(len(list_column_none_sms_success)):\n",
        "                    list_column_none_sms_success[m].append(None) \n",
        "           \n",
        "                try:\n",
        "                  type_request_col.append(type_of_request.group(0))\n",
        "                except AttributeError:\n",
        "                  type_request_col.append(None)\n",
        "                try:                 \n",
        "                  totalsent_col.append(sms_success.get('response').get('totalsent '))\n",
        "                except AttributeError:\n",
        "                  totalsent_col.append(None)\n",
        "                try:                 \n",
        "                  cost_col.append(sms_success.get('response').get('cost '))\n",
        "                except AttributeError:\n",
        "                  cost_col.append(None)\n",
        "                try:                 \n",
        "                  status_col.append(sms_success.get('response').get('status '))\n",
        "                except AttributeError:\n",
        "                  status_col.append(None)\n",
        "                     \n",
        "        elif re.search('OKRA PAYLOAD', str_text): # Nothing\n",
        "          type_of_request = re.search('OKRA PAYLOAD', str_text)\n",
        "        elif re.search('OKRA SUCCESS', str_text):   # Nothing\n",
        "          type_of_request = re.search('OKRA SUCCESS', str_text)\n",
        "        elif re.search('VTPASS SUCCESS', str_text):   # Nothing\n",
        "          type_of_request = re.search('VTPASS SUCCESS', str_text)    \n",
        "\n",
        "  df_sms_success['Type_Request'] = type_request_col\n",
        "  df_sms_success['Phone_Number'] = phone_Col\n",
        "  df_sms_success['Date'] = date_col\n",
        "  df_sms_success['EndPoint'] = endpoint_Col\n",
        "  df_sms_success['Log_Level'] = log_level_col\n",
        "  df_sms_success['Email'] = email_col\n",
        "  df_sms_success['Message SMS Payload'] = message_sms_payload_col\n",
        "  df_sms_success['Total Sent'] = totalsent_col\n",
        "  df_sms_success['Cost'] = cost_col\n",
        "  df_sms_success['Status'] = status_col\n",
        "  df_sms_success['Account Number'] = account_number_col\n",
        "  df_sms_success['Account Name'] = account_name_col\n",
        "  df_sms_success['BVN'] = bvn_col\n",
        "  df_sms_success['Request Successful'] = requestSuccessful_col\n",
        "  df_sms_success['Response Message'] = responseMessage_col\n",
        "  df_sms_success['Response Code'] = responseCode_col\n",
        " \n",
        "  return df_sms_success\n"
      ],
      "execution_count": 43,
      "outputs": []
    },
    {
      "cell_type": "code",
      "metadata": {
        "id": "nE_Z6cSQ4Ou9"
      },
      "source": [
        "df_raw['text'].fillna('', inplace=True)\n",
        "sms_success = df_raw[df_raw['text'].str.contains('SMS SUCCESS')]\n",
        "df_sms_success = parse_row_sms_success_function(sms_success)"
      ],
      "execution_count": null,
      "outputs": []
    },
    {
      "cell_type": "markdown",
      "metadata": {
        "id": "UgN9dHMi4WhI"
      },
      "source": [
        "Handle DataFrame for WALLET SUCCESS Type request"
      ]
    },
    {
      "cell_type": "code",
      "metadata": {
        "id": "SqjCjokx4X-5"
      },
      "source": [
        "import re\n",
        "import regex\n",
        "import json\n",
        "\n",
        "def parse_row_wallet_success_function(df_wallet_success):\n",
        "  log_level_col = []\n",
        "  api_request_col = []\n",
        "  type_request_col = []\n",
        "  phone_col = []\n",
        "  date_col = []\n",
        "  endpoint_Col = []\n",
        "  email_col = []\n",
        "  message_sms_payload_col = []\n",
        "  totalsent_col = []\n",
        "  cost_col = []\n",
        "  status_col = []\n",
        "  account_number_col = []\n",
        "  account_name_col = []\n",
        "  bvn_col = []\n",
        "  requestSuccessful_col = []\n",
        "  responseMessage_col = []\n",
        "  responseCode_col = []\n",
        "  message_error_col = []\n",
        "\n",
        "  list_column_none_wallet_success = []\n",
        "  list_column_none_wallet_success = [totalsent_col, message_sms_payload_col, cost_col, status_col, \n",
        "                                     email_col, endpoint_Col]\n",
        "  \n",
        "  list_all_colum = []\n",
        "  list_all_colum = [type_request_col, phone_col, date_col, endpoint_Col, log_level_col, email_col, \n",
        "                    message_sms_payload_col, totalsent_col, cost_col, status_col, account_name_col, bvn_col, \n",
        "                    requestSuccessful_col, responseMessage_col, responseCode_col]\n",
        "  \n",
        "  for index, row in df_wallet_success.iterrows():\n",
        "    str_text = row['text']\n",
        "    \n",
        "    if not str_text.startswith('['):\n",
        "      for i in range(len(list_all_colum)):\n",
        "          list_all_colum[i].append(None)\n",
        "\n",
        "    # check if the row contains \"info\" string\n",
        "    if re.search('info', str_text):\n",
        "        log_level = re.search('info', str_text)\n",
        "        date_col.append(row['ts'])\n",
        "        try:\n",
        "          log_level_col.append(log_level.group(0))\n",
        "        except AttributeError:\n",
        "          log_level_col.append(None)\n",
        "\n",
        "        if re.search('WALLET SUCCESS', str_text):\n",
        "            type_of_request = re.search('WALLET SUCCESS', str_text)           \n",
        "\n",
        "            if 'Faithfully yours, nginx' in str_text:\n",
        "                error_text = 'Sorry, the page you are looking for is currently unavailable, Please try again later.'\n",
        "                message_error_col.append(error_text)\n",
        "                type_request_col.append(type_of_request.group(0))\n",
        "                account_name_col.append(None)\n",
        "                bvn_col.append(None)\n",
        "                requestSuccessful_col.append(None)\n",
        "                responseMessage_col.append(None)\n",
        "                responseCode_col.append(None)\n",
        "                phone_col.append(None)\n",
        "            else:\n",
        "                try:\n",
        "                  wallet_success = parse_providus_transfer_error_function(str_text)\n",
        "                except json.decoder.JSONDecodeError:\n",
        "                  #print(str_text)\n",
        "                  raise\n",
        "                message_error_col.append(None)\n",
        "                try:\n",
        "                  type_request_col.append(type_of_request.group(0))\n",
        "                except AttributeError:\n",
        "                  type_request_col.append(None)\n",
        "                try:\n",
        "                  phone_col.append(wallet_success.get('account_number'))\n",
        "                except AttributeError:\n",
        "                  phone_col.append(None)\n",
        "                try:\n",
        "                  account_name_col.append(wallet_success.get('account_name'))\n",
        "                except AttributeError:\n",
        "                  account_name_col.append(None)\n",
        "                try:\n",
        "                  bvn_col.append(wallet_success.get('bvn'))\n",
        "                except AttributeError:\n",
        "                  bvn_col.append(None)\n",
        "                try:\n",
        "                  requestSuccessful_col.append(wallet_success.get('requestSuccessful'))\n",
        "                except AttributeError:\n",
        "                  requestSuccessful_col.append(None)\n",
        "                try:\n",
        "                  responseMessage_col.append((wallet_success.get('responseMessage')))\n",
        "                except AttributeError:\n",
        "                  responseMessage_col.append(None)\n",
        "                try:\n",
        "                  responseCode_col.append((wallet_success.get('responseCode')))\n",
        "                except AttributeError:\n",
        "                  responseCode_col.append(None)\n",
        "\n",
        "            for n in range(len(list_column_none_wallet_success)):\n",
        "              list_column_none_wallet_success[n].append(None) \n",
        "\n",
        "                       \n",
        "\n",
        "  df_wallet_success['Type_Request'] = type_request_col\n",
        "  df_wallet_success['Phone_Number'] = phone_col\n",
        "  df_wallet_success['Date'] = date_col\n",
        "  df_wallet_success['EndPoint'] = endpoint_Col\n",
        "  df_wallet_success['Log_Level'] = log_level_col\n",
        "  df_wallet_success['Email'] = email_col\n",
        "  df_wallet_success['Message SMS Payload'] = message_sms_payload_col\n",
        "  df_wallet_success['Total Sent'] = totalsent_col\n",
        "  df_wallet_success['Cost'] = cost_col\n",
        "  df_wallet_success['Status'] = status_col\n",
        "  df_wallet_success['Account Name'] = account_name_col\n",
        "  df_wallet_success['BVN'] = bvn_col\n",
        "  df_wallet_success['Request Successful'] = requestSuccessful_col\n",
        "  df_wallet_success['Response Message'] = responseMessage_col\n",
        "  df_wallet_success['Response Code'] = responseCode_col\n",
        "  df_wallet_success['Error Message Wallet'] = message_error_col\n",
        " \n",
        "  return df_wallet_success"
      ],
      "execution_count": 46,
      "outputs": []
    },
    {
      "cell_type": "code",
      "metadata": {
        "id": "YnoeVazJ4fZE"
      },
      "source": [
        "df_raw['text'].fillna('', inplace=True)\n",
        "wallet_success = df_raw[df_raw['text'].str.contains('WALLET SUCCESS')]\n",
        "df_wallet_success = parse_row_wallet_success_function(wallet_success)"
      ],
      "execution_count": null,
      "outputs": []
    },
    {
      "cell_type": "markdown",
      "metadata": {
        "id": "9xYItsxk8Ion"
      },
      "source": [
        "### Handle DataFrame for OKRA WEBHOOK Type request"
      ]
    },
    {
      "cell_type": "code",
      "metadata": {
        "id": "QZ2J1GQ88N4b"
      },
      "source": [
        "import re\n",
        "import regex\n",
        "import json\n",
        "\n",
        "def parse_row_okra_webhook_function(df_okra):\n",
        "  log_level_col = []\n",
        "  api_request_col = []\n",
        "  type_request_col = []\n",
        "  phone_col = []\n",
        "  date_col = []\n",
        "  endpoint_Col = []\n",
        "  email_col = []\n",
        "  message_sms_payload_col = []\n",
        "  totalsent_col = []\n",
        "  cost_col = []\n",
        "  status_col = []\n",
        "  account_number_col = []\n",
        "  account_name_col = []\n",
        "  bvn_col = []\n",
        "  requestSuccessful_col = []\n",
        "  responseMessage_col = []\n",
        "  responseCode_col = []\n",
        "  accountId_col = []\n",
        "  authorization_v_col = []\n",
        "  authorization_id_col = []\n",
        "  authorization_customer_col = []\n",
        "  authorization_account_col = []\n",
        "  authorization_account_id_col = []\n",
        "  authorization_account_manual_col = []\n",
        "  authorization_account_name_col = []\n",
        "  authorization_account_nuban_col = []\n",
        "  authorization_account_bank_col = []\n",
        "  authorization_account_created_at_col = []\n",
        "  authorization_account_last_updated_col = []\n",
        "  authorization_account_balance_col = []\n",
        "  authorization_account_customer_col = []\n",
        "  authorization_account_type_col = []\n",
        "  authorization_account_currency_col = []\n",
        "  authorization_accounts_col = []\n",
        "  authorization_amount_col = []\n",
        "  authorization_bank_col = []\n",
        "  authorization_created_at_col = []\n",
        "  authorization_currency_col = []\n",
        "  authorization_customerDetails_col = []\n",
        "  authorization_disconnect_col = []\n",
        "  authorization_disconnected_at_col = []\n",
        "  authorization_duration_col = []\n",
        "  authorization_env_col = []\n",
        "  authorization_garnish_col = []\n",
        "  authorization_initialAmount_col = []\n",
        "  authorization_initiated_col = []\n",
        "  authorization_last_updated_col = []\n",
        "  authorization_link_col = []\n",
        "  authorization_next_payment_col = []\n",
        "  authorization_owner_col = []\n",
        "  authorization_payLink_col = []\n",
        "  authorization_type_col = []\n",
        "  authorization_used_col = []\n",
        "  authorizationId_col = []\n",
        "  bankId_col = []\n",
        "  bankName_col = []\n",
        "  bankSlug_col = []\n",
        "  bankType_col = []\n",
        "  callbackURL_col = []\n",
        "  callback_code_col = []\n",
        "  callback_type_col = []\n",
        "  callback_url_col = []\n",
        "  code_col = []\n",
        "  country_col = []\n",
        "  current_project_col = []\n",
        "  customerEmail_col = []\n",
        "  customerId_col = []\n",
        "  ended_at_col = []\n",
        "  env_col = []\n",
        "  extras_col = []\n",
        "  identityType_col = []\n",
        "  login_type_col = []\n",
        "  message_col = []\n",
        "  meta_col = []\n",
        "  method_col = []\n",
        "  options_col = []\n",
        "  owner_col = []\n",
        "  record_col = []\n",
        "  recordId_col = []\n",
        "  started_at_col = []\n",
        "  status_webhook_col = []\n",
        "  token_col = []\n",
        "  type_col = []\n",
        "\n",
        "  list_column_none_okra_webhook = []\n",
        "  list_column_none_okra_webhook = [api_request_col, account_number_col, account_name_col, totalsent_col, \n",
        "                                   message_sms_payload_col, cost_col, status_col, responseCode_col,\n",
        "                                   bvn_col, requestSuccessful_col, responseMessage_col, email_col, \n",
        "                                   endpoint_Col]\n",
        "  \n",
        "  list_all_colum = []\n",
        "  list_all_colum = [type_request_col, phone_col, date_col, endpoint_Col, log_level_col, email_col, \n",
        "                    message_sms_payload_col, totalsent_col, cost_col, status_col, account_number_col,\n",
        "                    account_name_col, bvn_col, requestSuccessful_col, responseMessage_col, responseCode_col]\n",
        "\n",
        "  for index, row in df_okra.iterrows():\n",
        "    str_text = row['text']\n",
        "    \n",
        "    if not str_text.startswith('['):\n",
        "      for i in range(len(list_all_colum)):\n",
        "          list_all_colum[i].append(None)\n",
        "\n",
        "    # check if the row contains \"info\" string\n",
        "    if re.search('info', str_text):\n",
        "        date_col.append(row['ts'])\n",
        "        log_level = re.search('info', str_text)\n",
        "        try:\n",
        "          log_level_col.append(log_level.group(0))\n",
        "        except AttributeError:\n",
        "          log_level_col.append(None)             \n",
        "        if 'mailto' not in str_text:\n",
        "            if re.search('OKRA WEBHOOK', str_text):\n",
        "                  type_of_request = re.search('OKRA WEBHOOK', str_text)\n",
        "                  okra_webhook = parse_wallet_sms_payload_success(str_text) \n",
        "                  if 'authorization' in str_text:\n",
        "                      accountId_col.append(okra_webhook.get('accountId'))\n",
        "                      authorization_v_col.append(okra_webhook.get('authorization').get('__v '))\n",
        "                      authorization_id_col.append(okra_webhook.get('authorization').get('_id '))\n",
        "                      authorization_customer_col.append(okra_webhook.get('authorization').get('customer '))\n",
        "                      authorization_account_col.append(okra_webhook.get('authorization').get('account '))\n",
        "                      authorization_account_id_col.append(okra_webhook.get('authorization').get('account ')[0].get('_id '))\n",
        "                      authorization_account_manual_col.append(okra_webhook.get('authorization').get('account ')[0].get('manual '))\n",
        "                      authorization_account_name_col.append(okra_webhook.get('authorization').get('account ')[0].get('name '))\n",
        "                      authorization_account_nuban_col.append(okra_webhook.get('authorization').get('account ')[0].get('nuban '))\n",
        "                      authorization_account_bank_col.append(okra_webhook.get('authorization').get('account ')[0].get('bank '))\n",
        "                      authorization_account_created_at_col.append(okra_webhook.get('authorization').get('account ')[0].get('created_at '))\n",
        "                      authorization_account_last_updated_col.append(okra_webhook.get('authorization').get('account ')[0].get('last_updated '))\n",
        "                      authorization_account_balance_col.append(okra_webhook.get('authorization').get('account ')[0].get('balance '))\n",
        "                      authorization_account_customer_col.append(okra_webhook.get('authorization').get('account ')[0].get('customer '))\n",
        "                      authorization_account_type_col.append(okra_webhook.get('authorization').get('account ')[0].get('type '))\n",
        "                      authorization_account_currency_col.append(okra_webhook.get('authorization').get('account ')[0].get('currency '))\n",
        "                      authorization_accounts_col.append(okra_webhook.get('authorization').get('accounts '))\n",
        "                      authorization_amount_col.append(okra_webhook.get('authorization').get('amount '))\n",
        "                      authorization_bank_col.append(okra_webhook.get('authorization').get('bank '))\n",
        "                      authorization_created_at_col.append(okra_webhook.get('authorization').get('created_at '))\n",
        "                      authorization_currency_col.append(okra_webhook.get('authorization').get('currency '))\n",
        "                      authorization_customerDetails_col.append(okra_webhook.get('authorization').get('customerDetails '))\n",
        "                      authorization_disconnect_col.append(okra_webhook.get('authorization').get('disconnect '))\n",
        "                      authorization_disconnected_at_col.append(okra_webhook.get('authorization').get('disconnected_at '))\n",
        "                      authorization_duration_col.append(okra_webhook.get('authorization').get('duration '))\n",
        "                      authorization_env_col.append(okra_webhook.get('authorization').get('env '))\n",
        "                      authorization_garnish_col.append(okra_webhook.get('authorization').get('garnish '))\n",
        "                      authorization_initialAmount_col.append(okra_webhook.get('authorization').get('initialAmount '))\n",
        "                      authorization_initiated_col.append(okra_webhook.get('authorization').get('initiated '))\n",
        "                      authorization_last_updated_col.append(okra_webhook.get('authorization').get('last_updated '))\n",
        "                      authorization_link_col.append(okra_webhook.get('authorization').get('link '))\n",
        "                      authorization_next_payment_col.append(okra_webhook.get('authorization').get('next_payment '))\n",
        "                      authorization_owner_col.append(okra_webhook.get('authorization').get('owner '))\n",
        "                      authorization_payLink_col.append(okra_webhook.get('authorization').get('payLink '))\n",
        "                      authorization_type_col.append(okra_webhook.get('authorization').get('type '))\n",
        "                      authorization_used_col.append(okra_webhook.get('authorization').get('used '))\n",
        "                      authorizationId_col.append(None)\n",
        "                      bankId_col.append(None)\n",
        "                      bankName_col.append(None)\n",
        "                      bankSlug_col.append(None)\n",
        "                      bankType_col.append(None)\n",
        "                      callbackURL_col.append(None)\n",
        "                      callback_code_col.append(None)\n",
        "                      callback_type_col.append(None)\n",
        "                      callback_url_col.append(None)\n",
        "                      code_col.append(None)\n",
        "                      country_col.append(None)\n",
        "                      current_project_col.append(None)\n",
        "                      customerEmail_col.append(None)\n",
        "                      customerId_col.append(None)\n",
        "                      ended_at_col.append(None)\n",
        "                      env_col.append(None)\n",
        "                      extras_col.append(None)\n",
        "                      identityType_col.append(None)\n",
        "                      login_type_col.append(None)\n",
        "                      message_col.append(None)\n",
        "                      meta_col.append(None)\n",
        "                      method_col.append(None)\n",
        "                      options_col.append(None)\n",
        "                      owner_col.append(None)\n",
        "                      record_col.append(None)\n",
        "                      recordId_col.append(None)\n",
        "                      started_at_col.append(None)\n",
        "                      status_webhook_col.append(None)\n",
        "                      token_col.append(None)\n",
        "                      type_col.append(None)\n",
        "                      phone_col.append(None)\n",
        "                      try:\n",
        "                        type_request_col.append(type_of_request.group(0))\n",
        "                      except AttributeError:\n",
        "                        type_request_col.append(None)\n",
        "                  else:\n",
        "                      authorizationId_col.append(okra_webhook.get('authorizationId'))\n",
        "                      bankId_col.append(okra_webhook.get('bankId'))\n",
        "                      bankName_col.append(okra_webhook.get('bankName'))\n",
        "                      bankSlug_col.append(okra_webhook.get('bankSlug'))\n",
        "                      bankType_col.append(okra_webhook.get('bankType'))\n",
        "                      callbackURL_col.append(okra_webhook.get('callbackURL'))\n",
        "                      callback_code_col.append(okra_webhook.get('callback_code'))\n",
        "                      callback_type_col.append(okra_webhook.get('callback_type'))\n",
        "                      callback_url_col.append(okra_webhook.get('callback_url'))\n",
        "                      code_col.append(okra_webhook.get('code'))\n",
        "                      country_col.append(okra_webhook.get('country'))\n",
        "                      current_project_col.append(okra_webhook.get('current_project'))\n",
        "                      customerEmail_col.append(okra_webhook.get('customerEmail'))\n",
        "                      customerId_col.append(okra_webhook.get('customerId'))\n",
        "                      ended_at_col.append(okra_webhook.get('ended_at'))\n",
        "                      env_col.append(okra_webhook.get('env'))\n",
        "                      extras_col.append(okra_webhook.get('extras'))\n",
        "                      identityType_col.append(okra_webhook.get('identityType'))\n",
        "                      login_type_col.append(okra_webhook.get('login_type'))\n",
        "                      message_col.append(okra_webhook.get('message'))\n",
        "                      meta_col.append(okra_webhook.get('meta'))\n",
        "                      method_col.append(okra_webhook.get('method'))\n",
        "                      options_col.append(okra_webhook.get('options'))\n",
        "                      owner_col.append(okra_webhook.get('owner'))\n",
        "                      record_col.append(okra_webhook.get('record'))\n",
        "                      recordId_col.append(okra_webhook.get('recordId'))\n",
        "                      started_at_col.append(okra_webhook.get('started_at'))\n",
        "                      status_webhook_col.append(okra_webhook.get('status'))\n",
        "                      token_col.append(okra_webhook.get('token'))\n",
        "                      type_col.append(okra_webhook.get('type'))\n",
        "                      if okra_webhook.get('identity') != None:\n",
        "                        try:\n",
        "                          phone_col.append(okra_webhook.get('identity').get('phone ')[0])\n",
        "                        except AttributeError:\n",
        "                          phone_col.append(None)\n",
        "                          print(okra_webhook)\n",
        "                          raise\n",
        "                      else :\n",
        "                        phone_col.append(None)\n",
        "                        \n",
        "                      accountId_col.append(None)\n",
        "                      authorization_v_col.append(None)\n",
        "                      authorization_id_col.append(None)\n",
        "                      authorization_customer_col.append(None)\n",
        "                      authorization_account_col.append(None)\n",
        "                      authorization_account_id_col.append(None)\n",
        "                      authorization_account_manual_col.append(None)\n",
        "                      authorization_account_name_col.append(None)\n",
        "                      authorization_account_nuban_col.append(None)\n",
        "                      authorization_account_bank_col.append(None)\n",
        "                      authorization_account_created_at_col.append(None)\n",
        "                      authorization_account_last_updated_col.append(None)\n",
        "                      authorization_account_balance_col.append(None)\n",
        "                      authorization_account_customer_col.append(None)\n",
        "                      authorization_account_type_col.append(None)\n",
        "                      authorization_account_currency_col.append(None)\n",
        "                      authorization_accounts_col.append(None)\n",
        "                      authorization_amount_col.append(None)\n",
        "                      authorization_bank_col.append(None)\n",
        "                      authorization_created_at_col.append(None)\n",
        "                      authorization_currency_col.append(None)\n",
        "                      authorization_customerDetails_col.append(None)\n",
        "                      authorization_disconnect_col.append(None)\n",
        "                      authorization_disconnected_at_col.append(None)\n",
        "                      authorization_duration_col.append(None)\n",
        "                      authorization_env_col.append(None)\n",
        "                      authorization_garnish_col.append(None)\n",
        "                      authorization_initialAmount_col.append(None)\n",
        "                      authorization_initiated_col.append(None)\n",
        "                      authorization_last_updated_col.append(None)\n",
        "                      authorization_link_col.append(None)\n",
        "                      authorization_next_payment_col.append(None)\n",
        "                      authorization_owner_col.append(None)\n",
        "                      authorization_payLink_col.append(None)\n",
        "                      authorization_type_col.append(None)\n",
        "                      authorization_used_col.append(None)\n",
        "                      try:\n",
        "                        type_request_col.append(type_of_request.group(0))\n",
        "                      except AttributeError:\n",
        "                        type_request_col.append(None)\n",
        "                  \n",
        "                  for n in range(len(list_column_none_okra_webhook)):\n",
        "                    list_column_none_okra_webhook[n].append(None) \n",
        "\n",
        "       \n",
        "  df_okra['Type_Request'] = type_request_col\n",
        "  df_okra['Phone_Number'] = phone_col\n",
        "  df_okra['Date'] = date_col\n",
        "  df_okra['EndPoint'] = endpoint_Col\n",
        "  df_okra['Log_Level'] = log_level_col\n",
        "  df_okra['Email'] = email_col\n",
        "  df_okra['Message SMS Payload'] = message_sms_payload_col\n",
        "  df_okra['Total Sent'] = totalsent_col\n",
        "  df_okra['Cost'] = cost_col\n",
        "  df_okra['Status'] = status_col\n",
        "  df_okra['Account Number'] = account_number_col\n",
        "  df_okra['Account Name'] = account_name_col\n",
        "  df_okra['BVN'] = bvn_col\n",
        "  df_okra['Request Successful'] = requestSuccessful_col\n",
        "  df_okra['Response Message'] = responseMessage_col\n",
        "  df_okra['Response Code'] = responseCode_col\n",
        "  df_okra['Account Id'] = accountId_col\n",
        "  df_okra['Authorization_V'] = authorization_v_col\n",
        "  df_okra['Authorization_Id'] = authorization_id_col\n",
        "  df_okra['Authorization_Customer'] = authorization_customer_col\n",
        "  df_okra['Authorization_Owner'] = authorization_owner_col\n",
        "  df_okra['Authorization_Account'] = authorization_account_col\n",
        "  df_okra['Authorization_account_Id'] = authorization_account_id_col\n",
        "  df_okra['Authorization_account_manual'] = authorization_account_manual_col\n",
        "  df_okra['Authorization_account_name'] = authorization_account_name_col\n",
        "  df_okra['Authorization_account_nuban'] = authorization_account_nuban_col\n",
        "  df_okra['Authorization_account_bank'] = authorization_account_bank_col\n",
        "  df_okra['Authorization_account_created_at'] = authorization_account_created_at_col\n",
        "  df_okra['Authorization_account_last_updated'] = authorization_account_last_updated_col\n",
        "  df_okra['Authorization_account_balance'] = authorization_account_balance_col\n",
        "  df_okra['Authorization_account_customer'] = authorization_account_customer_col\n",
        "  df_okra['Authorization_account_type'] = authorization_account_type_col\n",
        "  df_okra['Authorization_account_currency'] = authorization_account_currency_col\n",
        "  df_okra['Authorization_accounts'] = authorization_accounts_col\n",
        "  df_okra['Authorization_amount'] = authorization_amount_col\n",
        "  df_okra['Authorization_bank'] = authorization_bank_col\n",
        "  df_okra['Authorization_created_at'] = authorization_created_at_col\n",
        "  df_okra['Authorization_currency'] = authorization_currency_col \n",
        "  df_okra['Authorization_customerDetails'] = authorization_customerDetails_col\n",
        "  df_okra['Authorization_disconnect'] = authorization_disconnect_col\n",
        "  df_okra['Authorization_disconnected_at'] = authorization_disconnected_at_col\n",
        "  df_okra['Authorization_duration'] = authorization_duration_col\n",
        "  df_okra['Authorization_env'] = authorization_env_col\n",
        "  df_okra['Authorization_garnish'] = authorization_garnish_col\n",
        "  df_okra['Authorization_initialAmount'] = authorization_initialAmount_col\n",
        "  df_okra['Authorization_initiated'] = authorization_initiated_col\n",
        "  df_okra['Authorization_last_updated'] = authorization_last_updated_col\n",
        "  df_okra['Authorization_link'] = authorization_link_col\n",
        "  df_okra['Authorization_next_payment'] = authorization_next_payment_col\n",
        "  df_okra['Authorization_payLink'] = authorization_payLink_col\n",
        "  df_okra['Authorization_type'] = authorization_type_col\n",
        "  df_okra['Authorization_used'] = authorization_used_col\n",
        "  df_okra['AuthorizationId'] = authorizationId_col\n",
        "  df_okra['BankId'] = bankId_col\n",
        "  df_okra['BankName'] = bankName_col\n",
        "  df_okra['bankSlug'] = bankSlug_col\n",
        "  df_okra['bankType'] = bankType_col\n",
        "  df_okra['callbackURL'] = callbackURL_col\n",
        "  df_okra['callback_code'] = callback_code_col\n",
        "  df_okra['callback_type'] = callback_type_col \n",
        "  df_okra['callback_url'] = callback_url_col\n",
        "  df_okra['code'] = code_col\n",
        "  df_okra['country'] = country_col\n",
        "  df_okra['current_project'] = current_project_col\n",
        "  df_okra['customerEmail'] = customerEmail_col\n",
        "  df_okra['customerId'] = customerId_col\n",
        "  df_okra['ended_at'] = ended_at_col\n",
        "  df_okra['env'] = env_col\n",
        "  df_okra['extras'] = extras_col\n",
        "  df_okra['identityType'] = identityType_col\n",
        "  df_okra['login_type'] = login_type_col\n",
        "  df_okra['message'] = message_col\n",
        "  df_okra['meta'] = meta_col\n",
        "  df_okra['method'] = method_col\n",
        "  df_okra['options'] = options_col\n",
        "  df_okra['owner'] = owner_col\n",
        "  df_okra['record'] = record_col \n",
        "  df_okra['recordId'] = recordId_col\n",
        "  df_okra['started_at'] = started_at_col\n",
        "  df_okra['status_webhook'] = status_webhook_col\n",
        "  df_okra['token'] = token_col\n",
        "  df_okra['type'] = type_col\n",
        " \n",
        "  return df_okra\n"
      ],
      "execution_count": 49,
      "outputs": []
    },
    {
      "cell_type": "code",
      "metadata": {
        "id": "9uiWq1Np8Rxx"
      },
      "source": [
        "df_raw['text'].fillna('', inplace=True)\n",
        "df_okra_webhook = parse_row_okra_webhook_function(df_raw[df_raw['text'].str.contains('OKRA WEBHOOK')])"
      ],
      "execution_count": null,
      "outputs": []
    },
    {
      "cell_type": "code",
      "metadata": {
        "id": "eBBybNxmhkfV"
      },
      "source": [
        "df_okra_webhook[df_okra_webhook['Phone_Number'].isnull() == False ]"
      ],
      "execution_count": null,
      "outputs": []
    },
    {
      "cell_type": "markdown",
      "metadata": {
        "id": "JDihv11g8lnJ"
      },
      "source": [
        "Handle DataFrame for LEADWAY SUCCESS Type request"
      ]
    },
    {
      "cell_type": "code",
      "metadata": {
        "id": "s46Md54R8phm"
      },
      "source": [
        "import re\n",
        "import regex\n",
        "import json\n",
        "\n",
        "def parse_row_leadway_function(df_leadway_success):\n",
        "  log_level_col = []\n",
        "  api_request_col = []\n",
        "  type_request_col = []\n",
        "  phone_Col = []\n",
        "  date_col = []\n",
        "  endpoint_Col = []\n",
        "  email_col = []\n",
        "  message_sms_payload_col = []\n",
        "  totalsent_col = []\n",
        "  cost_col = []\n",
        "  status_col = []\n",
        "  account_number_col = []\n",
        "  account_name_col = []\n",
        "  bvn_col = []\n",
        "  requestSuccessful_col = []\n",
        "  responseMessage_col = []\n",
        "  responseCode_col = []\n",
        "\n",
        "  list_column_none_leadway_success = []\n",
        "  list_column_none_leadway_success = [message_sms_payload_col, totalsent_col, cost_col, status_col, \n",
        "                                     account_number_col, bvn_col, requestSuccessful_col, responseMessage_col,\n",
        "                                     responseCode_col, account_name_col, email_col, phone_Col, endpoint_Col]\n",
        "  \n",
        "  list_all_colum = []\n",
        "  list_all_colum = [type_request_col, phone_Col, date_col, endpoint_Col, log_level_col, email_col, \n",
        "                    message_sms_payload_col, totalsent_col, cost_col, status_col, account_number_col,\n",
        "                    account_name_col, bvn_col, requestSuccessful_col, responseMessage_col, responseCode_col]\n",
        "\n",
        "  for index, row in df_leadway_success.iterrows():\n",
        "    str_text = row['text']\n",
        "    \n",
        "    if not str_text.startswith('['):\n",
        "      for i in range(len(list_all_colum)):\n",
        "          list_all_colum[i].append(None)\n",
        "\n",
        "    # check if the row contains \"info\" string\n",
        "    if re.search('info', str_text):\n",
        "        date_col.append(row['ts'])\n",
        "        log_level = re.search('info', str_text)\n",
        "        try:\n",
        "          log_level_col.append(log_level.group(0))\n",
        "        except AttributeError:\n",
        "          log_level_col.append(None)             \n",
        "        if 'mailto' not in str_text:\n",
        "            if re.search('LEADWAY SUCCESS', str_text):\n",
        "                  type_of_request = re.search('LEADWAY SUCCESS', str_text)\n",
        "                  leadway_success_concat_text, index_first_succ, index_last_succ = parse_and_concatenate_Leadway_Success_Rows(df_)\n",
        "                  res_text_leadway = parse_Leadway_Success_Row(leadway_success_concat_text)\n",
        "                  for o in range(len(list_column_none_leadway_success)):\n",
        "                    list_column_none_leadway_success[o].append(None)\n",
        "\n",
        "                  try:\n",
        "                    type_request_col.append(type_of_request.group(0))\n",
        "                  except AttributeError:\n",
        "                    type_request_col.append(None)\n",
        "                   \n",
        "        elif re.search('OKRA PAYLOAD', str_text): # Nothing\n",
        "          type_of_request = re.search('OKRA PAYLOAD', str_text)\n",
        "        elif re.search('OKRA SUCCESS', str_text):   # Nothing\n",
        "          type_of_request = re.search('OKRA SUCCESS', str_text)\n",
        "        elif re.search('VTPASS SUCCESS', str_text):   # Nothing\n",
        "          type_of_request = re.search('VTPASS SUCCESS', str_text)  \n",
        "\n",
        "  df_leadway_success['Type_Request'] = type_request_col\n",
        "  df_leadway_success['Phone_Number'] = phone_Col\n",
        "  df_leadway_success['Date'] = date_col\n",
        "  df_leadway_success['EndPoint'] = endpoint_Col\n",
        "  df_leadway_success['Log_Level'] = log_level_col\n",
        "  df_leadway_success['Email'] = email_col\n",
        "  df_leadway_success['Message SMS Payload'] = message_sms_payload_col\n",
        "  df_leadway_success['Total Sent'] = totalsent_col\n",
        "  df_leadway_success['Cost'] = cost_col\n",
        "  df_leadway_success['Status'] = status_col\n",
        "  df_leadway_success['Account Number'] = account_number_col\n",
        "  df_leadway_success['Account Name'] = account_name_col\n",
        "  df_leadway_success['BVN'] = bvn_col\n",
        "  df_leadway_success['Request Successful'] = requestSuccessful_col\n",
        "  df_leadway_success['Response Message'] = responseMessage_col\n",
        "  df_leadway_success['Response Code'] = responseCode_col\n",
        " \n",
        "  return df_leadway_success\n"
      ],
      "execution_count": 52,
      "outputs": []
    },
    {
      "cell_type": "markdown",
      "metadata": {
        "id": "cUIQgzNCcraR"
      },
      "source": [
        "Handle DataFrame for PROVIDUS PAYLOAD Type request"
      ]
    },
    {
      "cell_type": "code",
      "metadata": {
        "id": "CwSI2WLjFYyn"
      },
      "source": [
        "def parse_PROVIDUS_PAYLOAD_DF(df_providus_payload):\n",
        "    \"\"\"\n",
        "    la fonction permet de parser les types de requete \"PROVIDUS PAYLOAD\" sur tout le dataframe\n",
        "    \"\"\"\n",
        "    \n",
        "    beneficiary_account_name_col = []\n",
        "    beneficiary_account_number_col = []\n",
        "    beneficiary_bank_col = []\n",
        "    currency_code_col = []\n",
        "    narration_col = []\n",
        "    source_account_name_col = []\n",
        "    transaction_amount_col = []\n",
        "    transaction_reference_col = []\n",
        "    log_level_col = []\n",
        "    api_request_col = []\n",
        "    type_request_col = []\n",
        "    phone_col = []\n",
        "    date_col = []\n",
        "    endpoint_col = []\n",
        "    email_col = []\n",
        "    message_sms_payload_col = []\n",
        "    totalsent_col = []\n",
        "    cost_col = []\n",
        "    status_col = []\n",
        "    account_number_col = []\n",
        "    account_name_col = []\n",
        "    bvn_col = []\n",
        "    requestSuccessful_col = []\n",
        "    responseMessage_col = []\n",
        "    responseCode_col = []\n",
        "\n",
        "    list_column_none_providus_payload = []\n",
        "    list_column_none_providus_payload = [totalsent_col, \n",
        "                                        message_sms_payload_col, \n",
        "                                        cost_col, \n",
        "                                        status_col, \n",
        "                                        email_col, \n",
        "                                        beneficiary_account_number_col, \n",
        "                                        endpoint_col,\n",
        "                                        account_number_col, account_name_col, bvn_col,\n",
        "                                        requestSuccessful_col, responseMessage_col,\n",
        "                                        responseCode_col]\n",
        "\n",
        "\n",
        "    list_all_colum = []\n",
        "    list_all_colum = [type_request_col,phone_col, date_col, endpoint_col, log_level_col, email_col, \n",
        "                    message_sms_payload_col, totalsent_col, cost_col, status_col, account_number_col,\n",
        "                    account_name_col, bvn_col, requestSuccessful_col, responseMessage_col, responseCode_col,\n",
        "                    beneficiary_account_name_col, beneficiary_account_number_col, beneficiary_bank_col,\n",
        "                    currency_code_col, narration_col, source_account_name_col, transaction_amount_col,\n",
        "                    transaction_reference_col]\n",
        "\n",
        "    for index, row in df_providus_payload.iterrows():\n",
        "        str_text = row['text']\n",
        "\n",
        "        if not str_text.startswith('['):\n",
        "            for i in range(len(list_all_colum)):\n",
        "                list_all_colum[i].append(None)\n",
        "\n",
        "        # check if the row contains \"info\" string\n",
        "        if re.search('info', str_text):\n",
        "            date_col.append(row['ts'])\n",
        "            log_level = re.search('info', str_text)\n",
        "            try:\n",
        "                log_level_col.append(log_level.group(0))\n",
        "            except AttributeError:\n",
        "                log_level_col.append(None)             \n",
        "            if 'mailto' not in str_text:\n",
        "                if re.search('PROVIDUS PAYLOAD', str_text):               \n",
        "                    providus_payload = parse_wallet_sms_payload_success(str_text)\n",
        "                    type_of_request = re.search('PROVIDUS PAYLOAD', str_text)\n",
        "                       \n",
        "                    try:\n",
        "                        type_request_col.append(type_of_request.group(0))\n",
        "                    except AttributeError:\n",
        "                        type_request_col.append(None)\n",
        "                    try:\n",
        "                        beneficiary_account_name_col.append(providus_payload.get('beneficiaryAccountName'))\n",
        "                    except AttributeError:\n",
        "                        beneficiary_account_name_col.append(None)\n",
        "                    try:\n",
        "                        phone_col.append(providus_payload.get('beneficiaryAccountNumber'))\n",
        "                    except AttributeError:\n",
        "                        phone_col.append(None)\n",
        "                    try:\n",
        "                        beneficiary_bank_col.append(providus_payload.get('beneficiaryBank'))\n",
        "                    except AttributeError:\n",
        "                        beneficiary_bank_col.append(None)\n",
        "                    try:\n",
        "                        currency_code_col.append(providus_payload.get('currencyCode'))\n",
        "                    except AttributeError:\n",
        "                        currency_code_col.append(None)\n",
        "                    try:\n",
        "                        narration_col.append((providus_payload.get('narration')))\n",
        "                    except AttributeError:\n",
        "                        narration_col.append(None)\n",
        "                    try:\n",
        "                        source_account_name_col.append((providus_payload.get('sourceAccountName')))\n",
        "                    except AttributeError:\n",
        "                        source_account_name_col.append(None)\n",
        "                    try:\n",
        "                        transaction_amount_col.append((providus_payload.get('transactionAmount')))\n",
        "                    except AttributeError:\n",
        "                        transaction_amount_col.append(None)\n",
        "                    try:\n",
        "                        transaction_reference_col.append((providus_payload.get('transactionReference')))\n",
        "                    except AttributeError:\n",
        "                        transaction_reference_col.append(None)\n",
        "\n",
        "                    for n in range(len(list_column_none_providus_payload)):\n",
        "                        list_column_none_providus_payload[n].append(None) \n",
        "              \n",
        "            elif re.search('OKRA PAYLOAD', str_text): # Nothing\n",
        "                type_of_request = re.search('OKRA PAYLOAD', str_text)\n",
        "\n",
        "            elif re.search('OKRA SUCCESS', str_text):   # Nothing\n",
        "                type_of_request = re.search('OKRA SUCCESS', str_text)\n",
        "\n",
        "            elif re.search('VTPASS SUCCESS', str_text):   # Nothing\n",
        "                type_of_request = re.search('VTPASS SUCCESS', str_text)\n",
        "\n",
        "   \n",
        "    df_providus_payload['Beneficiary_Account_Name'] = beneficiary_account_name_col\n",
        "    df_providus_payload['Beneficiary_Account_Number'] = beneficiary_account_number_col\n",
        "    df_providus_payload['Beneficiary_Bank'] = beneficiary_bank_col\n",
        "    df_providus_payload['Currency_Code'] = currency_code_col\n",
        "    df_providus_payload['Narration'] = narration_col\n",
        "    df_providus_payload['Source_Account_Name'] = source_account_name_col\n",
        "    df_providus_payload['Transaction_Amount'] = transaction_amount_col\n",
        "    df_providus_payload['Transaction_Reference'] = transaction_reference_col\n",
        "    df_providus_payload['Type_Request'] = type_request_col\n",
        "    df_providus_payload['Phone_Number'] = phone_col\n",
        "    df_providus_payload['Date'] = date_col\n",
        "    df_providus_payload['EndPoint'] = endpoint_col\n",
        "    df_providus_payload['Log_Level'] = log_level_col\n",
        "    df_providus_payload['Email'] = email_col\n",
        "    df_providus_payload['Message SMS Payload'] = message_sms_payload_col\n",
        "    df_providus_payload['Total Sent'] = totalsent_col\n",
        "    df_providus_payload['Cost'] = cost_col\n",
        "    df_providus_payload['Status'] = status_col\n",
        "    df_providus_payload['Account Number'] = account_number_col\n",
        "    df_providus_payload['Account Name'] = account_name_col\n",
        "    df_providus_payload['BVN'] = bvn_col\n",
        "    df_providus_payload['Request Successful'] = requestSuccessful_col\n",
        "    df_providus_payload['Response Message'] = responseMessage_col\n",
        "    df_providus_payload['Response Code'] = responseCode_col\n",
        " \n",
        "    return df_providus_payload\n"
      ],
      "execution_count": 53,
      "outputs": []
    },
    {
      "cell_type": "code",
      "metadata": {
        "id": "FZo3IJz2Fc4S"
      },
      "source": [
        "providus_payload_df = df_raw[df_raw['text'].str.contains('PROVIDUS PAYLOAD')]\n",
        "df_providus_payload = parse_PROVIDUS_PAYLOAD_DF(providus_payload_df)"
      ],
      "execution_count": null,
      "outputs": []
    },
    {
      "cell_type": "markdown",
      "metadata": {
        "id": "h4vA4j3kdCeX"
      },
      "source": [
        "Handle DataFrame for PROVIDUS SUCCESS Type request"
      ]
    },
    {
      "cell_type": "code",
      "metadata": {
        "id": "fEg3vA6Fc7Ym"
      },
      "source": [
        "def parse_PROVIDUS_SUCCESS_DF(df_providus_success):\n",
        "    \"\"\"\n",
        "    la fonction permet de parser les types de requete \"PROVIDUS SUCCESS\" sur tout le dataframe\n",
        "    \"\"\"\n",
        "\n",
        "    log_level_col = []\n",
        "    api_request_col = []\n",
        "    type_request_col = []\n",
        "    phone_col = []\n",
        "    date_col = []\n",
        "    endpoint_col = []\n",
        "    email_col = []\n",
        "    message_sms_payload_col = []\n",
        "    totalsent_col = []\n",
        "    cost_col = []\n",
        "    status_col = []\n",
        "    account_number_col = []\n",
        "    account_name_col = []\n",
        "    bvn_col = []\n",
        "    requestSuccessful_col = []\n",
        "    responseMessage_col = []\n",
        "    responseCode_col = []\n",
        "    sessionId_col = []\n",
        "    transaction_reference_col = []\n",
        "\n",
        "\n",
        "\n",
        "\n",
        "    list_column_none_providus_success = []\n",
        "    list_column_none_providus_success = [totalsent_col, \n",
        "                                        message_sms_payload_col, \n",
        "                                        cost_col, \n",
        "                                        status_col, \n",
        "                                        email_col, \n",
        "                                        phone_col, \n",
        "                                        endpoint_col,\n",
        "                                        account_number_col, account_name_col, bvn_col,\n",
        "                                        requestSuccessful_col]\n",
        "\n",
        "\n",
        "    list_all_colum = []\n",
        "    list_all_colum = [type_request_col,phone_col, date_col, endpoint_col, log_level_col, email_col, \n",
        "                    message_sms_payload_col, totalsent_col, cost_col, status_col, account_number_col,\n",
        "                    account_name_col, bvn_col, requestSuccessful_col, responseMessage_col, responseCode_col, \n",
        "                    sessionId_col, transaction_reference_col]\n",
        "\n",
        "    for index, row in df_providus_success.iterrows():\n",
        "        str_text = row['text']\n",
        "\n",
        "        if not str_text.startswith('['):\n",
        "            for i in range(len(list_all_colum)):\n",
        "                list_all_colum[i].append(None)\n",
        "\n",
        "        # check if the row contains \"info\" string\n",
        "        if re.search('info', str_text):\n",
        "            date_col.append(row['ts'])\n",
        "            log_level = re.search('info', str_text)\n",
        "            try:\n",
        "                log_level_col.append(log_level.group(0))\n",
        "            except AttributeError:\n",
        "                log_level_col.append(None)             \n",
        "            if 'mailto' not in str_text:\n",
        "                if re.search('PROVIDUS SUCCESS', str_text):\n",
        "                    providus_success = parse_wallet_sms_payload_success(str_text)\n",
        "                    type_of_request = re.search('PROVIDUS SUCCESS', str_text)\n",
        "                       \n",
        "                    try:\n",
        "                        type_request_col.append(type_of_request.group(0))\n",
        "                    except AttributeError:\n",
        "                        type_request_col.append(None)\n",
        "                    try:\n",
        "                        responseCode_col.append(providus_success.get('responseCode'))\n",
        "                    except AttributeError:\n",
        "                        responseCode_col.append(None)\n",
        "                    try:\n",
        "                        responseMessage_col.append(providus_success.get('responseMessage'))\n",
        "                    except AttributeError:\n",
        "                        responseMessage_col.append(None)\n",
        "                    try:\n",
        "                        sessionId_col.append(providus_success.get('sessionId'))\n",
        "                    except AttributeError:\n",
        "                        sessionId_col.append(None)\n",
        "                    try:\n",
        "                        transaction_reference_col.append(providus_success.get('transactionReference'))\n",
        "                    except AttributeError:\n",
        "                        transaction_reference_col.append(None)\n",
        "\n",
        "                    for n in range(len(list_column_none_providus_success)):\n",
        "                        list_column_none_providus_success[n].append(None) \n",
        "\n",
        "    \n",
        "    df_providus_success['SessionId'] = sessionId_col\n",
        "    df_providus_success['Transaction_Reference'] = transaction_reference_col\n",
        "    df_providus_success['Type_Request'] = type_request_col\n",
        "    df_providus_success['Phone_Number'] = phone_col\n",
        "    df_providus_success['Date'] = date_col\n",
        "    df_providus_success['EndPoint'] = endpoint_col\n",
        "    df_providus_success['Log_Level'] = log_level_col\n",
        "    df_providus_success['Email'] = email_col\n",
        "    df_providus_success['Message SMS Payload'] = message_sms_payload_col\n",
        "    df_providus_success['Total Sent'] = totalsent_col\n",
        "    df_providus_success['Cost'] = cost_col\n",
        "    df_providus_success['Status'] = status_col\n",
        "    df_providus_success['Account Number'] = account_number_col\n",
        "    df_providus_success['Account Name'] = account_name_col\n",
        "    df_providus_success['BVN'] = bvn_col\n",
        "    df_providus_success['Request Successful'] = requestSuccessful_col\n",
        "    df_providus_success['Response Message'] = responseMessage_col\n",
        "    df_providus_success['Response Code'] = responseCode_col\n",
        " \n",
        "    return df_providus_success\n"
      ],
      "execution_count": 56,
      "outputs": []
    },
    {
      "cell_type": "code",
      "metadata": {
        "id": "rWCAd27TdGCe"
      },
      "source": [
        "providus_success_df = df_raw[df_raw['text'].str.contains('PROVIDUS SUCCESS')]\n",
        "df_providus_success = parse_PROVIDUS_SUCCESS_DF(providus_success_df)"
      ],
      "execution_count": null,
      "outputs": []
    },
    {
      "cell_type": "markdown",
      "metadata": {
        "id": "y5AkmLaNdbcS"
      },
      "source": [
        "Handle DataFrame for VTPASS PAYLOAD Type request"
      ]
    },
    {
      "cell_type": "code",
      "metadata": {
        "id": "yj5XJfcXdb40"
      },
      "source": [
        "def parse_VTPASS_PAYLOAD_DF(df_vtpass_payload):\n",
        "    \"\"\"\n",
        "    la fonction permet de parser les types de requete \"VTPASS PAYLOAD\" sur tout le dataframe\n",
        "    \"\"\"\n",
        "\n",
        "    amount_col = []\n",
        "    request_id_col = []\n",
        "    serviceID_col = []\n",
        "    log_level_col = []\n",
        "    api_request_col = []\n",
        "    type_request_col = []\n",
        "    phone_col = []\n",
        "    date_col = []\n",
        "    endpoint_col = []\n",
        "    email_col = []\n",
        "    message_sms_payload_col = []\n",
        "    totalsent_col = []\n",
        "    cost_col = []\n",
        "    status_col = []\n",
        "    account_number_col = []\n",
        "    account_name_col = []\n",
        "    bvn_col = []\n",
        "    requestSuccessful_col = []\n",
        "    responseMessage_col = []\n",
        "    responseCode_col = []\n",
        "\n",
        "\n",
        "    list_column_none_providus_success = []\n",
        "    list_column_none_providus_success = [totalsent_col, \n",
        "                                        message_sms_payload_col, \n",
        "                                        cost_col, \n",
        "                                        status_col, \n",
        "                                        email_col, \n",
        "                                        endpoint_col,\n",
        "                                        account_number_col, account_name_col, bvn_col,\n",
        "                                        requestSuccessful_col, responseMessage_col, responseCode_col]\n",
        "\n",
        "\n",
        "    list_all_colum = []\n",
        "    list_all_colum = [type_request_col,phone_col, date_col, endpoint_col, log_level_col, email_col, \n",
        "                    message_sms_payload_col, totalsent_col, cost_col, status_col, account_number_col,\n",
        "                    account_name_col, bvn_col, requestSuccessful_col, responseMessage_col, responseCode_col,\n",
        "                    amount_col, request_id_col, serviceID_col]\n",
        "\n",
        "    for index, row in df_vtpass_payload.iterrows():\n",
        "        str_text = row['text']\n",
        "\n",
        "        if not str_text.startswith('['):\n",
        "            for i in range(len(list_all_colum)):\n",
        "                list_all_colum[i].append(None)\n",
        "\n",
        "        # check if the row contains \"info\" string\n",
        "        if re.search('info', str_text):\n",
        "            date_col.append(row['ts'])\n",
        "            log_level = re.search('info', str_text)\n",
        "            try:\n",
        "                log_level_col.append(log_level.group(0))\n",
        "            except AttributeError:\n",
        "                log_level_col.append(None)             \n",
        "            if 'mailto' not in str_text:\n",
        "                if re.search('VTPASS PAYLOAD', str_text):\n",
        "                    providus_success = parse_wallet_sms_payload_success(str_text)\n",
        "                    type_of_request = re.search('VTPASS PAYLOAD', str_text)\n",
        "                       \n",
        "                    try:\n",
        "                        type_request_col.append(type_of_request.group(0))\n",
        "                    except AttributeError:\n",
        "                        type_request_col.append(None)\n",
        "                    try:\n",
        "                        amount_col.append(providus_success.get('amount'))\n",
        "                    except AttributeError:\n",
        "                        amount_col.append(None)\n",
        "                    try:\n",
        "                        phone_col.append(providus_success.get('phone'))\n",
        "                    except AttributeError:\n",
        "                        phone_col.append(None)\n",
        "                    try:\n",
        "                        request_id_col.append(providus_success.get('request_id'))\n",
        "                    except AttributeError:\n",
        "                        request_id_col.append(None)\n",
        "                    try:\n",
        "                        serviceID_col.append(providus_success.get('serviceID'))\n",
        "                    except AttributeError:\n",
        "                        serviceID_col.append(None)\n",
        "\n",
        "                    for n in range(len(list_column_none_providus_success)):\n",
        "                        list_column_none_providus_success[n].append(None) \n",
        "              \n",
        "\n",
        "\n",
        "    df_vtpass_payload['Service_ID'] = serviceID_col\n",
        "    df_vtpass_payload['Amount'] = amount_col\n",
        "    df_vtpass_payload['Request_Id'] = request_id_col\n",
        "    df_vtpass_payload['Type_Request'] = type_request_col\n",
        "    df_vtpass_payload['Phone_Number'] = phone_col\n",
        "    df_vtpass_payload['Date'] = date_col\n",
        "    df_vtpass_payload['EndPoint'] = endpoint_col\n",
        "    df_vtpass_payload['Log_Level'] = log_level_col\n",
        "    df_vtpass_payload['Email'] = email_col\n",
        "    df_vtpass_payload['Message SMS Payload'] = message_sms_payload_col\n",
        "    df_vtpass_payload['Total Sent'] = totalsent_col\n",
        "    df_vtpass_payload['Cost'] = cost_col\n",
        "    df_vtpass_payload['Status'] = status_col\n",
        "    df_vtpass_payload['Account Number'] = account_number_col\n",
        "    df_vtpass_payload['Account Name'] = account_name_col\n",
        "    df_vtpass_payload['BVN'] = bvn_col\n",
        "    df_vtpass_payload['Request Successful'] = requestSuccessful_col\n",
        "    df_vtpass_payload['Response Message'] = responseMessage_col\n",
        "    df_vtpass_payload['Response Code'] = responseCode_col\n",
        " \n",
        "    return df_vtpass_payload\n"
      ],
      "execution_count": 59,
      "outputs": []
    },
    {
      "cell_type": "code",
      "metadata": {
        "id": "dPHvlp86deaH"
      },
      "source": [
        "vtpass_payload = df_raw[df_raw['text'].str.contains('VTPASS PAYLOAD')]\n",
        "df_vtpass_payload = parse_VTPASS_PAYLOAD_DF(vtpass_payload)"
      ],
      "execution_count": null,
      "outputs": []
    },
    {
      "cell_type": "markdown",
      "metadata": {
        "id": "iV2OBj_kxLGp"
      },
      "source": [
        "Handle DataFrame for LEADWAY ERROR Type request"
      ]
    },
    {
      "cell_type": "code",
      "metadata": {
        "id": "RWThX6Dhd-4G"
      },
      "source": [
        "def parse_LEADWAY_ERROR_DF(df_leadway_error):\n",
        "    \"\"\"\n",
        "    la fonction permet de parser les types de requete \"LEADWAY ERROR\" sur tout le dataframe\n",
        "    \"\"\"\n",
        "    log_level_col = []\n",
        "    api_request_col = []\n",
        "    type_request_col = []\n",
        "    phone_col = []\n",
        "    date_col = []\n",
        "    endpoint_col = []\n",
        "    email_col = []\n",
        "    message_sms_payload_col = []\n",
        "    totalsent_col = []\n",
        "    cost_col = []\n",
        "    status_col = []\n",
        "    account_number_col = []\n",
        "    account_name_col = []\n",
        "    bvn_col = []\n",
        "    requestSuccessful_col = []\n",
        "    responseMessage_col = []\n",
        "    responseCode_col = []\n",
        "    error_code_col = []\n",
        "    error_number_col = []\n",
        "    port_col = []\n",
        "    syscall_col = []\n",
        "    address_col = []\n",
        "  \n",
        "    #list_column_none_level_log_error = []\n",
        "    # columns set to None\n",
        "    list_column_none = [message_sms_payload_col, totalsent_col, cost_col, status_col, email_col,\n",
        "                        endpoint_col, bvn_col, requestSuccessful_col, responseMessage_col,\n",
        "                        responseCode_col, account_name_col, account_number_col, phone_col]\n",
        "    \n",
        "\n",
        "    # columns which will be populated\n",
        "    list_all_colum = []\n",
        "    list_all_colum = [type_request_col,phone_col, date_col, endpoint_col, log_level_col, email_col, \n",
        "                    message_sms_payload_col, totalsent_col, cost_col, status_col, account_number_col,\n",
        "                    account_name_col, bvn_col, requestSuccessful_col, responseMessage_col, responseCode_col,\n",
        "                    error_code_col, error_number_col, port_col, syscall_col, \n",
        "                    address_col]\n",
        "\n",
        "    for index, row in df_leadway_error.iterrows():\n",
        "        str_text = row['text']\n",
        "\n",
        "        if not str_text.startswith('['):\n",
        "            for i in range(len(list_all_colum)):\n",
        "                list_all_colum[i].append(None)\n",
        "\n",
        "        if re.search('error', str_text):\n",
        "            log_level = re.search('error', str_text)\n",
        "            date_col.append(row['ts'])\n",
        "                \n",
        "            try:\n",
        "                log_level_col.append(log_level.group(0))\n",
        "            except AttributeError:\n",
        "                log_level_col.append(None)\n",
        "\n",
        "            if re.search('LEADWAY ERROR', str_text):\n",
        "                type_of_request = re.search('LEADWAY ERROR', str_text)\n",
        "                leadway_error = parse_wallet_sms_payload_success(str_text)\n",
        "                try:\n",
        "                    error_code_col.append(leadway_error.get('code'))\n",
        "                except AttributeError:\n",
        "                    error_code_col.append(None)\n",
        "                try:\n",
        "                    error_number_col.append(leadway_error.get('errno'))\n",
        "                except AttributeError:\n",
        "                    error_number_col.append(None)\n",
        "                try:\n",
        "                    address_col.append(leadway_error.get('address'))\n",
        "                except AttributeError:\n",
        "                    address_col.append(None)\n",
        "                try:\n",
        "                    port_col.append(leadway_error.get('port'))\n",
        "                except AttributeError:\n",
        "                    port_col.append(None)\n",
        "                try:\n",
        "                    syscall_col.append(leadway_error.get('syscall'))\n",
        "                except AttributeError:\n",
        "                    syscall_col.append(None)      \n",
        "                try:\n",
        "                    type_request_col.append(type_of_request.group(0))\n",
        "                except AttributeError:\n",
        "                    type_request_col.append(None)\n",
        "\n",
        "                for p in range(len(list_column_none)):\n",
        "                    list_column_none[p].append(None)\n",
        "\n",
        "    # set columns to their corresponding list values\n",
        "\n",
        "    df_leadway_error['Type_Request'] = type_request_col\n",
        "    df_leadway_error['Phone_Number'] =phone_col\n",
        "    df_leadway_error['Date'] = date_col\n",
        "    df_leadway_error['EndPoint'] = endpoint_col\n",
        "    df_leadway_error['Log_Level'] = log_level_col\n",
        "    df_leadway_error['Email'] = email_col\n",
        "    df_leadway_error['Message SMS Payload'] = message_sms_payload_col\n",
        "    df_leadway_error['Total Sent'] = totalsent_col\n",
        "    df_leadway_error['Cost'] = cost_col\n",
        "    df_leadway_error['Status'] = status_col\n",
        "    df_leadway_error['Account Number'] = account_number_col\n",
        "    df_leadway_error['Account Name'] = account_name_col\n",
        "    df_leadway_error['BVN'] = bvn_col\n",
        "    df_leadway_error['Request Successful'] = requestSuccessful_col\n",
        "    df_leadway_error['Response Message'] = responseMessage_col\n",
        "    df_leadway_error['Response Code'] = responseCode_col\n",
        "    df_leadway_error['Error Code'] = error_code_col\n",
        "    df_leadway_error['Error Number'] = error_number_col\n",
        "    df_leadway_error['Error Port'] = port_col\n",
        "    df_leadway_error['Error Syscall'] = syscall_col\n",
        "    df_leadway_error['Error Address'] = address_col\n",
        "\n",
        "\n",
        "    return df_leadway_error\n"
      ],
      "execution_count": 62,
      "outputs": []
    },
    {
      "cell_type": "code",
      "metadata": {
        "id": "viASPHzLeBOc"
      },
      "source": [
        "lead_error = df_raw[df_raw['text'].str.contains('LEADWAY ERROR')]\n",
        "df_lead_error = parse_LEADWAY_ERROR_DF(lead_error)"
      ],
      "execution_count": null,
      "outputs": []
    },
    {
      "cell_type": "markdown",
      "metadata": {
        "id": "cg7u65AZxluN"
      },
      "source": [
        "Handle DataFrame for PROVIDUS TRANSFER ERROR Type request"
      ]
    },
    {
      "cell_type": "code",
      "metadata": {
        "id": "rsgEs6lNxYET"
      },
      "source": [
        "def parse_PROVIDUS_TRANSFER_ERROR_DF(df_providus_transfer_error):\n",
        "    \"\"\"\n",
        "    la fonction permet de parser les types de requete \"PROVIDUS TRANSFER ERROR\" sur tout le dataframe\n",
        "    \"\"\"\n",
        "    log_level_col = []\n",
        "    api_request_col = []\n",
        "    type_request_col = []\n",
        "    phone_col = []\n",
        "    date_col = []\n",
        "    endpoint_col = []\n",
        "    email_col = []\n",
        "    message_sms_payload_col = []\n",
        "    totalsent_col = []\n",
        "    cost_col = []\n",
        "    status_col = []\n",
        "    account_number_col = []\n",
        "    account_name_col = []\n",
        "    bvn_col = []\n",
        "    requestSuccessful_col = []\n",
        "    responseMessage_col = []\n",
        "    responseCode_col = []\n",
        "    error_code_col = []\n",
        "    error_number_col = []\n",
        "    port_col = []\n",
        "    syscall_col = []\n",
        "    address_col = []\n",
        "  \n",
        "    #list_column_none_level_log_error = []\n",
        "    # columns set to None\n",
        "    list_column_none = [message_sms_payload_col, totalsent_col, cost_col, status_col, email_col,\n",
        "                        endpoint_col, bvn_col, requestSuccessful_col, responseMessage_col,\n",
        "                        responseCode_col, account_name_col, account_number_col, phone_col]\n",
        "    \n",
        "\n",
        "    # columns which will be populated\n",
        "    list_all_colum = []\n",
        "    list_all_colum = [type_request_col,phone_col, date_col, endpoint_col, log_level_col, email_col, \n",
        "                    message_sms_payload_col, totalsent_col, cost_col, status_col, account_number_col,\n",
        "                    account_name_col, bvn_col, requestSuccessful_col, responseMessage_col, responseCode_col,\n",
        "                    error_code_col, error_number_col, port_col, syscall_col, \n",
        "                    address_col]  \n",
        "\n",
        "    for index, row in df_providus_transfer_error.iterrows():\n",
        "        str_text = row['text']\n",
        "\n",
        "        if not str_text.startswith('['):\n",
        "            for i in range(len(list_all_colum)):\n",
        "                list_all_colum[i].append(None)\n",
        "\n",
        "        if re.search('error', str_text):\n",
        "            log_level = re.search('error', str_text)\n",
        "            date_col.append(row['ts'])\n",
        "            try:\n",
        "                log_level_col.append(log_level.group(0))\n",
        "            except AttributeError:\n",
        "                log_level_col.append(None)\n",
        "\n",
        "            if re.search('PROVIDUS TRANSFER ERROR', str_text):\n",
        "                type_of_request = re.search('PROVIDUS TRANSFER ERROR', str_text)\n",
        "                leadway_error = parse_providus_transfer_error_function(str_text)\n",
        "                try:\n",
        "                    error_code_col.append(leadway_error.get('code'))\n",
        "                except AttributeError:\n",
        "                    error_code_col.append(None)\n",
        "                try:\n",
        "                    error_number_col.append(leadway_error.get('errno'))\n",
        "                except AttributeError:\n",
        "                    error_number_col.append(None)\n",
        "                try:\n",
        "                    address_col.append(leadway_error.get('address'))\n",
        "                except AttributeError:\n",
        "                    address_col.append(None)\n",
        "                try:\n",
        "                    port_col.append(leadway_error.get('port'))\n",
        "                except AttributeError:\n",
        "                    port_col.append(None)\n",
        "                try:\n",
        "                    syscall_col.append(leadway_error.get('syscall'))\n",
        "                except AttributeError:\n",
        "                    syscall_col.append(None)      \n",
        "                try:\n",
        "                    type_request_col.append(type_of_request.group(0))\n",
        "                except AttributeError:\n",
        "                    type_request_col.append(None)\n",
        "\n",
        "                for p in range(len(list_column_none)):\n",
        "                    list_column_none[p].append(None)\n",
        "\n",
        "    # set columns to their corresponding list values\n",
        "\n",
        "    df_providus_transfer_error['Type_Request'] = type_request_col\n",
        "    df_providus_transfer_error['Phone_Number'] =phone_col\n",
        "    df_providus_transfer_error['Date'] = date_col\n",
        "    df_providus_transfer_error['EndPoint'] = endpoint_col\n",
        "    df_providus_transfer_error['Log_Level'] = log_level_col\n",
        "    df_providus_transfer_error['Email'] = email_col\n",
        "    df_providus_transfer_error['Message SMS Payload'] = message_sms_payload_col\n",
        "    df_providus_transfer_error['Total Sent'] = totalsent_col\n",
        "    df_providus_transfer_error['Cost'] = cost_col\n",
        "    df_providus_transfer_error['Status'] = status_col\n",
        "    df_providus_transfer_error['Account Number'] = account_number_col\n",
        "    df_providus_transfer_error['Account Name'] = account_name_col\n",
        "    df_providus_transfer_error['BVN'] = bvn_col\n",
        "    df_providus_transfer_error['Request Successful'] = requestSuccessful_col\n",
        "    df_providus_transfer_error['Response Message'] = responseMessage_col\n",
        "    df_providus_transfer_error['Response Code'] = responseCode_col\n",
        "    df_providus_transfer_error['Error Code'] = error_code_col\n",
        "    df_providus_transfer_error['Error Number'] = error_number_col\n",
        "    df_providus_transfer_error['Error Port'] = port_col\n",
        "    df_providus_transfer_error['Error Syscall'] = syscall_col\n",
        "    df_providus_transfer_error['Error Address'] = address_col\n",
        "\n",
        "\n",
        "    return df_providus_transfer_error\n"
      ],
      "execution_count": 65,
      "outputs": []
    },
    {
      "cell_type": "code",
      "metadata": {
        "id": "yLJ1mqMJxbCn"
      },
      "source": [
        "providus_transfer_error = df_raw[df_raw['text'].str.contains('PROVIDUS TRANSFER ERROR')]\n",
        "df_providus_transfer_error = parse_PROVIDUS_TRANSFER_ERROR_DF(providus_transfer_error)"
      ],
      "execution_count": null,
      "outputs": []
    },
    {
      "cell_type": "markdown",
      "metadata": {
        "id": "kjy32dtmyQJS"
      },
      "source": [
        "Handle DataFrame for PROVIDUS TRANSFER SUCCESS Type request"
      ]
    },
    {
      "cell_type": "code",
      "metadata": {
        "id": "wmn8hk_ZyGAz"
      },
      "source": [
        "\n",
        "def parse_PROVIDUS_TRANSFER_SUCCESS_DF(df_providus_transfer_success):\n",
        "    \"\"\"\n",
        "    la fonction permet de parser les types de requete \"PROVIDUS TRANSFER SUCCESS\" sur tout le dataframe\n",
        "    \"\"\"\n",
        "\n",
        "    log_level_col = []\n",
        "    api_request_col = []\n",
        "    type_request_col = []\n",
        "    phone_col = []\n",
        "    date_col = []\n",
        "    endpoint_col = []\n",
        "    email_col = []\n",
        "    message_sms_payload_col = []\n",
        "    totalsent_col = []\n",
        "    cost_col = []\n",
        "    status_col = []\n",
        "    account_number_col = []\n",
        "    account_name_col = []\n",
        "    bvn_col = []\n",
        "    requestSuccessful_col = []\n",
        "    responseMessage_col = []\n",
        "    responseCode_col = []\n",
        "    sessionId_col = []\n",
        "    transaction_reference_col = []\n",
        "    message_error_col = []\n",
        "\n",
        "\n",
        "    list_column_none_providus_success = []\n",
        "    list_column_none_providus_success = [totalsent_col, \n",
        "                                        message_sms_payload_col, \n",
        "                                        cost_col, \n",
        "                                        status_col, \n",
        "                                        email_col, \n",
        "                                        phone_col, \n",
        "                                        endpoint_col,\n",
        "                                        account_number_col, account_name_col, bvn_col,\n",
        "                                        requestSuccessful_col]\n",
        "\n",
        "    list_all_colum = []\n",
        "    list_all_colum = [type_request_col,phone_col, date_col, endpoint_col, log_level_col, email_col, \n",
        "                    message_sms_payload_col, totalsent_col, cost_col, status_col, account_number_col,\n",
        "                    account_name_col, bvn_col, requestSuccessful_col, responseMessage_col, responseCode_col, \n",
        "                    sessionId_col, transaction_reference_col]\n",
        "\n",
        "    for index, row in df_providus_transfer_success.iterrows():\n",
        "        str_text = row['text']\n",
        "\n",
        "        if not str_text.startswith('['):\n",
        "            for i in range(len(list_all_colum)):\n",
        "                list_all_colum[i].append(None)\n",
        "\n",
        "        # check if the row contains \"info\" string\n",
        "        if re.search('info', str_text):\n",
        "            date_col.append(row['ts'])\n",
        "            log_level = re.search('info', str_text)\n",
        "            try:\n",
        "                log_level_col.append(log_level.group(0))\n",
        "            except AttributeError:\n",
        "                log_level_col.append(None) \n",
        "\n",
        "            if re.search('PROVIDUS TRANSFER SUCCESS', str_text):\n",
        "              \n",
        "              if 'Faithfully yours, nginx' in str_text:\n",
        "                  error_text = 'Sorry, the page you are looking for is currently unavailable, Please try again later.'\n",
        "                  message_error_col.append(error_text)\n",
        "                  responseCode_col.append(None)\n",
        "                  responseMessage_col.append(None)\n",
        "                  sessionId_col.append(None)\n",
        "                  transaction_reference_col.append(None)\n",
        "                  type_request_col.append(type_of_request.group(0))\n",
        "              else:\n",
        "                  message_error_col.append(None)\n",
        "                  try:\n",
        "                    providus_transfer_success = parse_wallet_sms_payload_success(str_text)\n",
        "                  except json.decoder.JSONDecodeError:\n",
        "                    print(str_text)\n",
        "                    raise\n",
        "\n",
        "                  type_of_request = re.search('PROVIDUS TRANSFER SUCCESS', str_text)\n",
        "                      \n",
        "                  try:\n",
        "                      type_request_col.append(type_of_request.group(0))\n",
        "                  except AttributeError:\n",
        "                      type_request_col.append(None)\n",
        "                  try:\n",
        "                      responseCode_col.append(providus_transfer_success.get('responseCode'))\n",
        "                  except AttributeError:\n",
        "                      responseCode_col.append(None)\n",
        "                  try:\n",
        "                      responseMessage_col.append(providus_transfer_success.get('responseMessage'))\n",
        "                  except AttributeError:\n",
        "                      responseMessage_col.append(None)\n",
        "                  try:\n",
        "                      sessionId_col.append(providus_transfer_success.get('sessionId'))\n",
        "                  except AttributeError:\n",
        "                      sessionId_col.append(None)\n",
        "                  try:\n",
        "                      transaction_reference_col.append(providus_transfer_success.get('transactionReference'))\n",
        "                  except AttributeError:\n",
        "                      transaction_reference_col.append(None)\n",
        "              for n in range(len(list_column_none_providus_success)):\n",
        "                  list_column_none_providus_success[n].append(None) \n",
        "    \n",
        "    df_providus_transfer_success['SessionId'] = sessionId_col\n",
        "    df_providus_transfer_success['Transaction_Reference'] = transaction_reference_col\n",
        "    df_providus_transfer_success['Type_Request'] = type_request_col\n",
        "    df_providus_transfer_success['Phone_Number'] = phone_col\n",
        "    df_providus_transfer_success['Date'] = date_col\n",
        "    df_providus_transfer_success['EndPoint'] = endpoint_col\n",
        "    df_providus_transfer_success['Log_Level'] = log_level_col\n",
        "    df_providus_transfer_success['Email'] = email_col\n",
        "    df_providus_transfer_success['Message SMS Payload'] = message_sms_payload_col\n",
        "    df_providus_transfer_success['Total Sent'] = totalsent_col\n",
        "    df_providus_transfer_success['Cost'] = cost_col\n",
        "    df_providus_transfer_success['Status'] = status_col\n",
        "    df_providus_transfer_success['Account Number'] = account_number_col\n",
        "    df_providus_transfer_success['Account Name'] = account_name_col\n",
        "    df_providus_transfer_success['BVN'] = bvn_col\n",
        "    df_providus_transfer_success['Request Successful'] = requestSuccessful_col\n",
        "    df_providus_transfer_success['Response Message'] = responseMessage_col\n",
        "    df_providus_transfer_success['Response Code'] = responseCode_col\n",
        "    df_providus_transfer_success['Error Message Providus Transfer'] = message_error_col\n",
        " \n",
        "    return df_providus_transfer_success\n"
      ],
      "execution_count": 68,
      "outputs": []
    },
    {
      "cell_type": "code",
      "metadata": {
        "id": "zZPumx0gyI9w"
      },
      "source": [
        "providus_transfer_success = df_raw[df_raw['text'].str.contains('PROVIDUS TRANSFER SUCCESS')]\n",
        "df_providus_transfer_success = parse_PROVIDUS_TRANSFER_SUCCESS_DF(providus_transfer_success)"
      ],
      "execution_count": null,
      "outputs": []
    },
    {
      "cell_type": "code",
      "metadata": {
        "id": "FYqmcPFSyvo4"
      },
      "source": [
        "def parse_PROVIDUS_SETTLEMENT_INFO_DF(df_providus_settlement_info):\n",
        "    \"\"\"\n",
        "    la fonction permet de parser les types de requete \"PROVIDUS SETTLEMENT INFO\" sur tout le dataframe\n",
        "    \"\"\"\n",
        "\n",
        "    log_level_col = []\n",
        "    api_request_col = []\n",
        "    type_request_col = []\n",
        "    phone_col = []\n",
        "    date_col = []\n",
        "    endpoint_col = []\n",
        "    email_col = []\n",
        "    message_sms_payload_col = []\n",
        "    totalsent_col = []\n",
        "    cost_col = []\n",
        "    status_col = []\n",
        "    account_number_col = []\n",
        "    account_name_col = []\n",
        "    bvn_col = []\n",
        "    requestSuccessful_col = []\n",
        "    responseMessage_col = []\n",
        "    responseCode_col = []\n",
        "    sessionId_col = []\n",
        "    channelId_col = []\n",
        "    feeAmount_col = []\n",
        "    currency_col = []\n",
        "    initiation_tranRef_col = []\n",
        "    settled_amount_col = []\n",
        "    settlementId_col = []\n",
        "    source_account_name_col = []\n",
        "    source_account_number_col = []\n",
        "    source_bank_name_col = []\n",
        "    tran_date_time_col = []\n",
        "    tran_remarks_col = []\n",
        "    transaction_amount_col = []\n",
        "    vat_amount_col = []\n",
        "\n",
        "\n",
        "    list_column_none_providus_success = []\n",
        "    list_column_none_providus_success = [totalsent_col, \n",
        "                                        message_sms_payload_col, \n",
        "                                        cost_col, \n",
        "                                        status_col, \n",
        "                                        email_col, \n",
        "                                        account_number_col, \n",
        "                                        endpoint_col,\n",
        "                                        account_name_col, bvn_col,\n",
        "                                        requestSuccessful_col, responseCode_col, responseMessage_col]\n",
        "\n",
        "\n",
        "    list_all_colum = []\n",
        "    list_all_colum = [type_request_col,phone_col, date_col, endpoint_col, log_level_col, email_col, \n",
        "                    message_sms_payload_col, totalsent_col, cost_col, status_col, account_number_col,\n",
        "                    account_name_col, bvn_col, requestSuccessful_col, responseMessage_col, responseCode_col, \n",
        "                    sessionId_col, channelId_col, feeAmount_col, currency_col, initiation_tranRef_col,\n",
        "                    settled_amount_col, settlementId_col, source_account_name_col, source_account_number_col,\n",
        "                    source_bank_name_col, tran_date_time_col, tran_remarks_col, transaction_amount_col, vat_amount_col]\n",
        "\n",
        "    for index, row in df_providus_settlement_info.iterrows():\n",
        "        str_text = row['text']\n",
        "\n",
        "        if not str_text.startswith('['):\n",
        "            for i in range(len(list_all_colum)):\n",
        "                list_all_colum[i].append(None)\n",
        "\n",
        "        # check if the row contains \"info\" string\n",
        "        if re.search('info', str_text):\n",
        "            log_level = re.search('info', str_text)\n",
        "            date_col.append(row['ts'])\n",
        "            try:\n",
        "                log_level_col.append(log_level.group(0))\n",
        "            except AttributeError:\n",
        "                log_level_col.append(None)             \n",
        "            if 'mailto' not in str_text:\n",
        "                if re.search('PROVIDUS SETTLEMENT INFO', str_text):\n",
        "                    providus_settlement_info = parse_wallet_sms_payload_success(str_text)\n",
        "                    #print(providus_settlement_info)\n",
        "                    type_of_request = re.search('PROVIDUS SETTLEMENT INFO', str_text)\n",
        "          \n",
        "                    try:\n",
        "                        type_request_col.append(type_of_request.group(0))\n",
        "                    except AttributeError:\n",
        "                        type_request_col.append(None)\n",
        "                    try:\n",
        "                        phone_col.append(providus_settlement_info.get('accountNumber'))\n",
        "                    except AttributeError:\n",
        "                        phone_col.append(None)\n",
        "                    try:\n",
        "                        channelId_col.append(providus_settlement_info.get('channelId'))\n",
        "                    except AttributeError:\n",
        "                        channelId_col.append(None)\n",
        "                    try:\n",
        "                        sessionId_col.append(providus_settlement_info.get('sessionId'))\n",
        "                    except AttributeError:\n",
        "                        sessionId_col.append(None)\n",
        "                    try:\n",
        "                        currency_col.append(providus_settlement_info.get('currency'))\n",
        "                    except AttributeError:\n",
        "                        currency_col.append(None)\n",
        "                    try:\n",
        "                        feeAmount_col.append(providus_settlement_info.get('feeAmount'))\n",
        "                    except AttributeError:\n",
        "                        feeAmount_col.append(None)\n",
        "                    try:\n",
        "                        initiation_tranRef_col.append(providus_settlement_info.get('initiationTranRef'))\n",
        "                    except AttributeError:\n",
        "                        initiation_tranRef_col.append(None)\n",
        "                    try:\n",
        "                        settled_amount_col.append(providus_settlement_info.get('settledAmount'))\n",
        "                    except AttributeError:\n",
        "                        settled_amount_col.append(None)\n",
        "                    try:\n",
        "                        settlementId_col.append(providus_settlement_info.get('settlementId'))\n",
        "                    except AttributeError:\n",
        "                        settlementId_col.append(None)\n",
        "                    try:\n",
        "                        source_account_name_col.append(providus_settlement_info.get('sourceAccountName'))\n",
        "                    except AttributeError:\n",
        "                        source_account_name_col.append(None)\n",
        "                    try:\n",
        "                        source_account_number_col.append(providus_settlement_info.get('sourceAccountNumber'))\n",
        "                    except AttributeError:\n",
        "                        source_account_number_col.append(None)\n",
        "                    try:\n",
        "                        source_bank_name_col.append(providus_settlement_info.get('sourceBankName'))\n",
        "                    except AttributeError:\n",
        "                        source_bank_name_col.append(None)\n",
        "                    try:\n",
        "                        tran_date_time_col.append(providus_settlement_info.get('tranDateTime'))\n",
        "                    except AttributeError:\n",
        "                        tran_date_time_col.append(None)\n",
        "                    try:\n",
        "                        tran_remarks_col.append(providus_settlement_info.get('tranRemarks'))\n",
        "                    except AttributeError:\n",
        "                        tran_remarks_col.append(None)\n",
        "                    try:\n",
        "                        transaction_amount_col.append(providus_settlement_info.get('transactionAmount'))\n",
        "                    except AttributeError:\n",
        "                        transaction_amount_col.append(None)\n",
        "                    try:\n",
        "                        vat_amount_col.append(providus_settlement_info.get('vatAmount'))\n",
        "                    except AttributeError:\n",
        "                        vat_amount_col.append(None)\n",
        "\n",
        "                    for n in range(len(list_column_none_providus_success)):\n",
        "                        list_column_none_providus_success[n].append(None) \n",
        "\n",
        "    \n",
        "    df_providus_settlement_info['Vat_Amount'] = vat_amount_col\n",
        "    df_providus_settlement_info['Transaction_Amount'] = transaction_amount_col\n",
        "    df_providus_settlement_info['Tran_Remarks'] = tran_remarks_col\n",
        "    df_providus_settlement_info['Tran_Date_Time'] = tran_date_time_col\n",
        "    df_providus_settlement_info['Source_Bank_Name'] = source_bank_name_col\n",
        "    df_providus_settlement_info['Source_Account_Number'] = source_account_number_col\n",
        "    df_providus_settlement_info['Source_Account_Name'] = source_account_name_col\n",
        "    df_providus_settlement_info['SettlementId'] = settlementId_col\n",
        "    df_providus_settlement_info['settled_Amount'] = settled_amount_col\n",
        "    df_providus_settlement_info['Initiation_TranRef'] = initiation_tranRef_col\n",
        "    df_providus_settlement_info['FeeAmount'] = feeAmount_col\n",
        "    df_providus_settlement_info['Currency'] = currency_col\n",
        "    df_providus_settlement_info['ChannelId'] = channelId_col\n",
        "    df_providus_settlement_info['SessionId'] = sessionId_col\n",
        "    df_providus_settlement_info['Type_Request'] = type_request_col\n",
        "    df_providus_settlement_info['Phone_Number'] = phone_col\n",
        "    df_providus_settlement_info['Date'] = date_col\n",
        "    df_providus_settlement_info['EndPoint'] = endpoint_col\n",
        "    df_providus_settlement_info['Log_Level'] = log_level_col\n",
        "    df_providus_settlement_info['Email'] = email_col\n",
        "    df_providus_settlement_info['Message SMS Payload'] = message_sms_payload_col\n",
        "    df_providus_settlement_info['Total Sent'] = totalsent_col\n",
        "    df_providus_settlement_info['Cost'] = cost_col\n",
        "    df_providus_settlement_info['Status'] = status_col\n",
        "    df_providus_settlement_info['Account Number'] = account_number_col\n",
        "    df_providus_settlement_info['Account Name'] = account_name_col\n",
        "    df_providus_settlement_info['BVN'] = bvn_col\n",
        "    df_providus_settlement_info['Request Successful'] = requestSuccessful_col\n",
        "    df_providus_settlement_info['Response Message'] = responseMessage_col\n",
        "    df_providus_settlement_info['Response Code'] = responseCode_col\n",
        " \n",
        "    return df_providus_settlement_info\n"
      ],
      "execution_count": 71,
      "outputs": []
    },
    {
      "cell_type": "code",
      "metadata": {
        "id": "ioxUKvX0yzEj"
      },
      "source": [
        "providus_settlement_info = df_raw[df_raw['text'].str.contains('PROVIDUS SETTLEMENT INFO')]\n",
        "df_providus_settlement_info = parse_PROVIDUS_SETTLEMENT_INFO_DF(providus_settlement_info)"
      ],
      "execution_count": null,
      "outputs": []
    },
    {
      "cell_type": "code",
      "metadata": {
        "id": "1-g1LdhAzRIy"
      },
      "source": [
        "def parse_PROVIDUS_VERIFY_SETTLEMENT_INFO_DF(df_providus_verify_settlement_info):\n",
        "    \"\"\"\n",
        "    la fonction permet de parser les types de requete \"PROVIDUS VERIFY SETTLEMENT INFO\" sur tout le dataframe\n",
        "    \"\"\"\n",
        "\n",
        "    log_level_col = []\n",
        "    type_request_col = []\n",
        "    phone_col = []\n",
        "    date_col = []\n",
        "    endpoint_col = []\n",
        "    email_col = []\n",
        "    message_sms_payload_col = []\n",
        "    totalsent_col = []\n",
        "    cost_col = []\n",
        "    status_col = []\n",
        "    account_number_col = []\n",
        "    account_name_col = []\n",
        "    bvn_col = []\n",
        "    requestSuccessful_col = []\n",
        "    responseMessage_col = []\n",
        "    responseCode_col = []\n",
        "    sessionId_col = []\n",
        "    channelId_col = []\n",
        "    feeAmount_col = []\n",
        "    currency_col = []\n",
        "    initiation_tranRef_col = []\n",
        "    settled_amount_col = []\n",
        "    settlementId_col = []\n",
        "    source_account_name_col = []\n",
        "    source_account_number_col = []\n",
        "    source_bank_name_col = []\n",
        "    tran_date_time_col = []\n",
        "    tran_remarks_col = []\n",
        "    transaction_amount_col = []\n",
        "    vat_amount_col = []\n",
        "\n",
        "\n",
        "    list_column_none_providus_success = []\n",
        "    list_column_none_providus_success = [totalsent_col, \n",
        "                                        message_sms_payload_col, \n",
        "                                        cost_col, \n",
        "                                        status_col, \n",
        "                                        email_col, \n",
        "                                        account_number_col, \n",
        "                                        endpoint_col, \n",
        "                                        account_name_col, bvn_col,\n",
        "                                        requestSuccessful_col, responseMessage_col, responseCode_col]\n",
        "\n",
        "\n",
        "    list_all_colum = []\n",
        "    list_all_colum = [type_request_col,phone_col, date_col, endpoint_col, log_level_col, email_col, \n",
        "                    message_sms_payload_col, totalsent_col, cost_col, status_col, account_number_col,\n",
        "                    account_name_col, bvn_col, requestSuccessful_col, responseMessage_col, responseCode_col, \n",
        "                    sessionId_col, channelId_col, feeAmount_col, currency_col, initiation_tranRef_col,\n",
        "                    settled_amount_col, settlementId_col, source_account_name_col, source_account_number_col,\n",
        "                    source_bank_name_col, tran_date_time_col, tran_remarks_col, transaction_amount_col, vat_amount_col]\n",
        "\n",
        "    for index, row in df_providus_verify_settlement_info.iterrows():\n",
        "        str_text = row['text']\n",
        "\n",
        "        if not str_text.startswith('['):\n",
        "            for i in range(len(list_all_colum)):\n",
        "                list_all_colum[i].append(None)\n",
        "\n",
        "        # check if the row contains \"info\" string\n",
        "        if re.search('info', str_text):\n",
        "            log_level = re.search('info', str_text)\n",
        "            date_col.append(row['ts'])\n",
        "            try:\n",
        "                log_level_col.append(log_level.group(0))\n",
        "            except AttributeError:\n",
        "                log_level_col.append(None)             \n",
        "            if 'mailto' not in str_text:\n",
        "                if re.search('PROVIDUS VERIFY SETTLEMENT INFO', str_text):\n",
        "                    providus_verify_settlement_info = parse_wallet_sms_payload_success(str_text)\n",
        "                    print(providus_verify_settlement_info)\n",
        "                    type_of_request = re.search('PROVIDUS VERIFY SETTLEMENT INFO', str_text)\n",
        "\n",
        "\n",
        "                    try:\n",
        "                        type_request_col.append(type_of_request.group(0))\n",
        "                    except AttributeError:\n",
        "                        type_request_col.append(None)\n",
        "                    try:\n",
        "                        phone_col.append(providus_verify_settlement_info.get('accountNumber'))\n",
        "                    except AttributeError:\n",
        "                        phone_col.append(None)\n",
        "                    try:\n",
        "                        channelId_col.append(providus_verify_settlement_info.get('channelId'))\n",
        "                    except AttributeError:\n",
        "                        channelId_col.append(None)\n",
        "                    try:\n",
        "                        sessionId_col.append(providus_verify_settlement_info.get('sessionId'))\n",
        "                    except AttributeError:\n",
        "                        sessionId_col.append(None)\n",
        "                    try:\n",
        "                        currency_col.append(providus_verify_settlement_info.get('currency'))\n",
        "                    except AttributeError:\n",
        "                        currency_col.append(None)\n",
        "                    try:\n",
        "                        feeAmount_col.append(providus_verify_settlement_info.get('feeAmount'))\n",
        "                    except AttributeError:\n",
        "                        feeAmount_col.append(None)\n",
        "                    try:\n",
        "                        initiation_tranRef_col.append(providus_verify_settlement_info.get('initiationTranRef'))\n",
        "                    except AttributeError:\n",
        "                        initiation_tranRef_col.append(None)\n",
        "                    try:\n",
        "                        settled_amount_col.append(providus_verify_settlement_info.get('settledAmount'))\n",
        "                    except AttributeError:\n",
        "                        settled_amount_col.append(None)\n",
        "                    try:\n",
        "                        settlementId_col.append(providus_verify_settlement_info.get('settlementId'))\n",
        "                    except AttributeError:\n",
        "                        settlementId_col.append(None)\n",
        "                    try:\n",
        "                        source_account_name_col.append(providus_verify_settlement_info.get('sourceAccountName'))\n",
        "                    except AttributeError:\n",
        "                        source_account_name_col.append(None)\n",
        "                    try:\n",
        "                        source_account_number_col.append(providus_verify_settlement_info.get('sourceAccountNumber'))\n",
        "                    except AttributeError:\n",
        "                        source_account_number_col.append(None)\n",
        "                    try:\n",
        "                        source_bank_name_col.append(providus_verify_settlement_info.get('sourceBankName'))\n",
        "                    except AttributeError:\n",
        "                        source_bank_name_col.append(None)\n",
        "                    try:\n",
        "                        tran_date_time_col.append(providus_verify_settlement_info.get('tranDateTime'))\n",
        "                    except AttributeError:\n",
        "                        tran_date_time_col.append(None)\n",
        "                    try:\n",
        "                        tran_remarks_col.append(providus_verify_settlement_info.get('tranRemarks'))\n",
        "                    except AttributeError:\n",
        "                        tran_remarks_col.append(None)\n",
        "                    try:\n",
        "                        transaction_amount_col.append(providus_verify_settlement_info.get('transactionAmount'))\n",
        "                    except AttributeError:\n",
        "                        transaction_amount_col.append(None)\n",
        "                    try:\n",
        "                        vat_amount_col.append(providus_verify_settlement_info.get('vatAmount'))\n",
        "                    except AttributeError:\n",
        "                        vat_amount_col.append(None)\n",
        "\n",
        "                    for n in range(len(list_column_none_providus_success)):\n",
        "                        list_column_none_providus_success[n].append(None)  \n",
        "    \n",
        "    df_providus_verify_settlement_info['Vat_Amount'] = vat_amount_col\n",
        "    df_providus_verify_settlement_info['Transaction_Amount'] = transaction_amount_col\n",
        "    df_providus_verify_settlement_info['Tran_Remarks'] = tran_remarks_col\n",
        "    df_providus_verify_settlement_info['Tran_Date_Time'] = tran_date_time_col\n",
        "    df_providus_verify_settlement_info['Source_Bank_Name'] = source_bank_name_col\n",
        "    df_providus_verify_settlement_info['Source_Account_Number'] = source_account_number_col\n",
        "    df_providus_verify_settlement_info['Source_Account_Name'] = source_account_name_col\n",
        "    df_providus_verify_settlement_info['SettlementId'] = settlementId_col\n",
        "    df_providus_verify_settlement_info['settled_Amount'] = settled_amount_col\n",
        "    df_providus_verify_settlement_info['Initiation_TranRef'] = initiation_tranRef_col\n",
        "    df_providus_verify_settlement_info['FeeAmount'] = feeAmount_col\n",
        "    df_providus_verify_settlement_info['Currency'] = currency_col\n",
        "    df_providus_verify_settlement_info['ChannelId'] = channelId_col\n",
        "    df_providus_verify_settlement_info['SessionId'] = sessionId_col\n",
        "    df_providus_verify_settlement_info['Type_Request'] = type_request_col\n",
        "    df_providus_verify_settlement_info['Phone_Number'] = phone_col\n",
        "    df_providus_verify_settlement_info['Date'] = date_col\n",
        "    df_providus_verify_settlement_info['EndPoint'] = endpoint_col\n",
        "    df_providus_verify_settlement_info['Log_Level'] = log_level_col\n",
        "    df_providus_verify_settlement_info['Email'] = email_col\n",
        "    df_providus_verify_settlement_info['Message SMS Payload'] = message_sms_payload_col\n",
        "    df_providus_verify_settlement_info['Total Sent'] = totalsent_col\n",
        "    df_providus_verify_settlement_info['Cost'] = cost_col\n",
        "    df_providus_verify_settlement_info['Status'] = status_col\n",
        "    df_providus_verify_settlement_info['Account Number'] = account_number_col\n",
        "    df_providus_verify_settlement_info['Account Name'] = account_name_col\n",
        "    df_providus_verify_settlement_info['BVN'] = bvn_col\n",
        "    df_providus_verify_settlement_info['Request Successful'] = requestSuccessful_col\n",
        "    df_providus_verify_settlement_info['Response Message'] = responseMessage_col\n",
        "    df_providus_verify_settlement_info['Response Code'] = responseCode_col\n",
        " \n",
        "    return df_providus_verify_settlement_info\n"
      ],
      "execution_count": 74,
      "outputs": []
    },
    {
      "cell_type": "code",
      "metadata": {
        "id": "fRUSLfr4zVJR"
      },
      "source": [
        "providus_verify_settlement_info = df_raw[df_raw['text'].str.contains('PROVIDUS VERIFY SETTLEMENT INFO')]\n",
        "df_providus_verify_settlement_info = parse_PROVIDUS_VERIFY_SETTLEMENT_INFO_DF(providus_verify_settlement_info)"
      ],
      "execution_count": null,
      "outputs": []
    },
    {
      "cell_type": "markdown",
      "metadata": {
        "id": "5e0EsxMifCEU"
      },
      "source": [
        "### on fait la concatenation par ligne car dans chaque df on les "
      ]
    },
    {
      "cell_type": "code",
      "metadata": {
        "id": "oRCfDmlrlBTd"
      },
      "source": [
        "pdList = [df_api_request, df_client_mobile_login, df_loan_payload, df_error, df_lead_error, df_okra_webhook, df_providus_payload, df_providus_settlement_info,\n",
        "          df_providus_success, df_providus_transfer_error, df_providus_transfer_success, df_providus_verify_settlement_info,\n",
        "          df_sms_payload, df_sms_success, df_vtpass_payload, df_wallet_success]  # List of our dataframes\n",
        "df_final = pd.concat(pdList, axis=0)"
      ],
      "execution_count": 157,
      "outputs": []
    },
    {
      "cell_type": "code",
      "metadata": {
        "id": "m8grT-h74Wth"
      },
      "source": [
        "df_final.sort_values('Date')"
      ],
      "execution_count": null,
      "outputs": []
    },
    {
      "cell_type": "code",
      "metadata": {
        "id": "aOvXUqm5zfvk"
      },
      "source": [
        "#df_final.reset_index(drop=True, inplace=True)"
      ],
      "execution_count": 79,
      "outputs": []
    },
    {
      "cell_type": "code",
      "metadata": {
        "id": "YA3mWTUB1JMB"
      },
      "source": [
        "df_with_loan_amount = df_final[df_final['text'].str.contains('loan_amount')].copy()"
      ],
      "execution_count": 161,
      "outputs": []
    },
    {
      "cell_type": "code",
      "metadata": {
        "id": "YP8TSbfHszVY"
      },
      "source": [
        "df_with_total_sent = df_final[df_final['text'].str.contains('totalsent')].copy()"
      ],
      "execution_count": 162,
      "outputs": []
    },
    {
      "cell_type": "code",
      "metadata": {
        "id": "0GW60fb9CSF2"
      },
      "source": [
        "df_final.info(verbose=True, null_counts=True)"
      ],
      "execution_count": null,
      "outputs": []
    },
    {
      "cell_type": "code",
      "metadata": {
        "id": "RDLgeXIC16i-"
      },
      "source": [
        "df_with_loan_amount.to_csv('/content/drive/MyDrive/datasets/final/loan_amount/loan_amount.csv', index=True)"
      ],
      "execution_count": 83,
      "outputs": []
    },
    {
      "cell_type": "code",
      "metadata": {
        "id": "b8SSc9xahps_"
      },
      "source": [
        "list_index_loan_amount = list(df_with_loan_amount.index)"
      ],
      "execution_count": 164,
      "outputs": []
    },
    {
      "cell_type": "code",
      "metadata": {
        "id": "vS_o2HCLtAe_"
      },
      "source": [
        "list_index_total_sent = list(df_with_total_sent.index)"
      ],
      "execution_count": 165,
      "outputs": []
    },
    {
      "cell_type": "code",
      "metadata": {
        "id": "CD7uzxvnaO26"
      },
      "source": [
        "import datetime\n",
        "\n",
        "def difference_ts(date_in_timestamp):\n",
        "  dt = datetime.datetime.fromtimestamp(date_in_timestamp)\n",
        "  res = dt - datetime.timedelta(minutes=30) \n",
        "  return datetime.datetime.timestamp(res)"
      ],
      "execution_count": 166,
      "outputs": []
    },
    {
      "cell_type": "code",
      "metadata": {
        "colab": {
          "base_uri": "https://localhost:8080/"
        },
        "id": "tvTyCSM6h66x",
        "outputId": "aff03101-1be0-4070-b16e-053f335f5b7a"
      },
      "source": [
        "df_final.loc[179, 'ts']"
      ],
      "execution_count": null,
      "outputs": [
        {
          "data": {
            "text/plain": [
              "1616891445.0048"
            ]
          },
          "execution_count": 93,
          "metadata": {},
          "output_type": "execute_result"
        }
      ]
    },
    {
      "cell_type": "code",
      "metadata": {
        "id": "ydrC_YLJku1p"
      },
      "source": [
        "df_rr = df_final[(df_final['ts'] <= df_final.loc[402, 'ts']) & (df_final['ts'] > difference_ts(df_final.loc[402, 'ts']))]"
      ],
      "execution_count": null,
      "outputs": []
    },
    {
      "cell_type": "code",
      "metadata": {
        "id": "UefOGWOOnuIO"
      },
      "source": [
        "df_rr.loc[402, 'Phone_Number']"
      ],
      "execution_count": null,
      "outputs": []
    },
    {
      "cell_type": "code",
      "metadata": {
        "id": "7dYiyqpV4zio"
      },
      "source": [
        "#df_final.iloc[66624:66630]\n",
        "#1- filtrer le dataset sur la colonne Phone_Number avec le filtre != null ou != o\n",
        "#2- ensuite on récupère les index\n",
        "#3- on prend le plus grand index \n",
        "#4- on récupère le Phone_Number du grand index \n",
        "#5- on met ce phone number dans la colonne Phone_Number de la ligne contenant  \n",
        "# \"LOAN PAYLOAD\" ou \"LOAN ERROR\" sans numéro de téléphone\n",
        "# ensuite on repart dans la liste index_loan_amount, on récupère le prochain\n",
        "# indexe pour exécuter les précédantes opérations"
      ],
      "execution_count": null,
      "outputs": []
    },
    {
      "cell_type": "code",
      "metadata": {
        "colab": {
          "background_save": true
        },
        "id": "ztwIFc6NhBvo"
      },
      "source": [
        "#import numpy as np\n",
        "\n",
        "#for index in tqdm(list_index_total_sent):\n",
        " # df_res = df_final[(df_final['ts'] <= df_final.loc[index, 'ts']) & (df_final['ts'] > difference_ts(df_final.loc[index, 'ts']))]\n",
        "  #list_index = df_res[df_res['Phone_Number'].isnull() == False].index.values\n",
        "  #if len(list_index) > 0:\n",
        "   # min_index = np.min(list_index)\n",
        "    #df_final['Phone_Number'][index] = df_res.loc[min_index, 'Phone_Number']"
      ],
      "execution_count": null,
      "outputs": []
    },
    {
      "cell_type": "code",
      "metadata": {
        "id": "MY8oSgQVttST"
      },
      "source": [
        "for index in tqdm(list_index_loan_amount):\n",
        "  df_res = df_final[(df_final['ts'] <= df_final.loc[index, 'ts']) & (df_final['ts'] > difference_ts(df_final.loc[index, 'ts']))]\n",
        "  list_index = df_res[df_res['Phone_Number'].isnull() == False].index.values\n",
        "  if len(list_index) > 0:\n",
        "    min_index = np.min(list_index)\n",
        "    df_final['Phone_Number'][index] = df_res.loc[min_index, 'Phone_Number']"
      ],
      "execution_count": null,
      "outputs": []
    },
    {
      "cell_type": "code",
      "metadata": {
        "colab": {
          "background_save": true
        },
        "id": "w_HH3TASA5_L"
      },
      "source": [
        "#df_final[df_final['Loan Amount'] == 50000.0]"
      ],
      "execution_count": null,
      "outputs": []
    },
    {
      "cell_type": "code",
      "metadata": {
        "colab": {
          "background_save": true
        },
        "id": "klzQhg_I2iIv"
      },
      "source": [
        "import matplotlib.pyplot\n",
        "#df_final.plot.bar()"
      ],
      "execution_count": null,
      "outputs": []
    },
    {
      "cell_type": "markdown",
      "metadata": {
        "id": "0gURUbWDcWkO"
      },
      "source": [
        "### Supprimer les colonnes peu remplies"
      ]
    },
    {
      "cell_type": "code",
      "metadata": {
        "colab": {
          "background_save": true
        },
        "id": "IcX5DFI46pyw"
      },
      "source": [
        "pct_null = df_final.isnull().sum() / len(df_final)"
      ],
      "execution_count": null,
      "outputs": []
    },
    {
      "cell_type": "code",
      "metadata": {
        "colab": {
          "background_save": true
        },
        "id": "W1faUt6C6yEX"
      },
      "source": [
        "#missing_features = pct_null[pct_null > 0.998].index\n",
        "#df_final.drop(missing_features, axis=1, inplace=True)"
      ],
      "execution_count": null,
      "outputs": []
    },
    {
      "cell_type": "code",
      "metadata": {
        "colab": {
          "background_save": true
        },
        "id": "G0RjV7oPcES-"
      },
      "source": [
        ""
      ],
      "execution_count": null,
      "outputs": []
    },
    {
      "cell_type": "code",
      "metadata": {
        "colab": {
          "background_save": true
        },
        "id": "DmWjA-7c2oKe"
      },
      "source": [
        "#master_df.info(verbose=True, null_counts=True)"
      ],
      "execution_count": null,
      "outputs": []
    },
    {
      "cell_type": "code",
      "metadata": {
        "colab": {
          "background_save": true
        },
        "id": "7ILWbhc724al"
      },
      "source": [
        "# prendre toute une ligne du dataframe qui contient des éléments de types object (String),\n",
        "# partout où on trouve des NaN, les remplacer par string vide '', ensuite où on trouve\n",
        "# une valeur, on fait la concatenation ou le Join.\n",
        "#df_final.apply(lambda row: ('').join(row['type'].fillna('').values), axis=1)"
      ],
      "execution_count": null,
      "outputs": []
    },
    {
      "cell_type": "code",
      "metadata": {
        "colab": {
          "background_save": true
        },
        "id": "E6rhrpxL1Ruj"
      },
      "source": [
        "#df_final.apply(lambda row: ('').join(row['ts'].fillna('').values), axis=1)"
      ],
      "execution_count": null,
      "outputs": []
    },
    {
      "cell_type": "code",
      "metadata": {
        "colab": {
          "background_save": true
        },
        "id": "QNuyqcMM1bCU"
      },
      "source": [
        "#df_final['ts'].fillna(0).sum(axis=1)"
      ],
      "execution_count": null,
      "outputs": []
    },
    {
      "cell_type": "code",
      "metadata": {
        "colab": {
          "background_save": true
        },
        "id": "IpdCBMBQ6uNR"
      },
      "source": [
        "#df_final.apply(lambda row: ('').join(row['subtype'].fillna('').values), axis=1)"
      ],
      "execution_count": null,
      "outputs": []
    },
    {
      "cell_type": "code",
      "metadata": {
        "colab": {
          "background_save": true
        },
        "id": "6ywNqkPT7jbB"
      },
      "source": [
        "#df_final['Loan Amount'].fillna(0).sum(axis=1)"
      ],
      "execution_count": null,
      "outputs": []
    },
    {
      "cell_type": "code",
      "metadata": {
        "colab": {
          "base_uri": "https://localhost:8080/"
        },
        "id": "c3RrsGciOYX3",
        "outputId": "448e85fa-344a-46ee-a51a-6cdcc47d9a4b"
      },
      "source": [
        "cd /content/drive/My Drive/datasets/final"
      ],
      "execution_count": 87,
      "outputs": [
        {
          "output_type": "stream",
          "name": "stdout",
          "text": [
            "/content/drive/My Drive/datasets/final\n"
          ]
        }
      ]
    },
    {
      "cell_type": "markdown",
      "metadata": {
        "id": "ipUndaAClsTk"
      },
      "source": [
        "### Export DF"
      ]
    },
    {
      "cell_type": "code",
      "metadata": {
        "id": "Z-OennYvluQn"
      },
      "source": [
        "df_final.to_csv('/content/drive/MyDrive/datasets/final/nirra_log_bot_final.csv', index=None)"
      ],
      "execution_count": 88,
      "outputs": []
    },
    {
      "cell_type": "code",
      "metadata": {
        "id": "TSp3sqTVOSC9"
      },
      "source": [
        "df_final['Phone_Number'].unique() # récupérer la liste des différents numéros de téléphone\n",
        "all_users_phone_number = [element for element in df_final['Phone_Number'].unique() if element != None] # all userId\n",
        "#all_users_phone_number # liste de tous les différents numéros de téléphone."
      ],
      "execution_count": 89,
      "outputs": []
    },
    {
      "cell_type": "code",
      "metadata": {
        "colab": {
          "base_uri": "https://localhost:8080/"
        },
        "id": "3_wJucRPvdOE",
        "outputId": "bbdcfb7c-9acf-48e7-838d-df3b8976917b"
      },
      "source": [
        "print(all_users_phone_number)"
      ],
      "execution_count": 91,
      "outputs": [
        {
          "output_type": "stream",
          "name": "stdout",
          "text": [
            "['541', '4529', '4734', '4736', '1970', '4551', '2', '4771', '4772', '4080', '4773', '4759', '4753', '4765', '3458', '4775', '4537', '4776', '4777', '4764', '4664', '07082554542', '08063843521', '08033984930', '08028958657', '08057886893', '08139351847', '09074900701', '08101504777', '08135316877', '08118503876', '08103749094', '07063492113', '09046487271', '08038814408', '07080442961', '08034420667', '08076522187', '07038249341', '07039257229', '08105184283', '09030102637', '08036475440', '08167469194', '09057487305', '09035810134', '07086403699', '08065377908', '08032191817', '07015446066', '09058282053', '08139169243', '08168428404', '07051839788', '09075541848', '07035714636', '07035391300', '07053561296', '07043728129', '09074958552', '09028982954', '08035825060', '07063316251', '08027170517', '08080378382', '07062885951', '07037550257', '08027758379', '09062491268', '07044054623', '08167322466', '08135465805', '07030857322', '08161132096', '09064809729', '08066201333', '08128803857', '07013295935', '08101652173', '08083902842', '08035598360', '07060636702', '08140934637', '09053516552', '08166935326', '07033338015', '09054664207', '07068063494', '07041675349', '08167624285', '08139480760', '08144784434', '08139257740', '09063858788', '08067405496', '07068886333', '08146457518', '07060800291', '09067406193', '08130007413', '08164968566', '09032065291', '08064156295', '08039183824', '08100094784', '08029715767', '08064502412', '08138487880', '08034826884', '08123160693', '08162839787', '08174452805', '08167074112', '07037892624', '08086452943', '08167012798', '08063058539', '08038214904', '08109935430', '08167740886', '08039826873', '09036456088', '07067141492', '08136723402', '07083029055', '08036638713', '08147257649', '07038126387', '08147774729', '08036687853', '08100539326', '07030966289', '08166225222', '08145159975', '07069324535', '08036704396', '09067695699', '09035288710', '09036422835', '07064615067', '08032287196', '08036421295', '08104428839', '08032647925', '07069451795', '08036280229', '09067686909', '08035864593', '09054804650', '07035387316', '07046427306', '08065401430', '08038711270', '08066582369', '07037934974', '08136584612', '08130020613', '08122812049', '08036827229', '09057822321', '08051909801', '09061508261', '08033380839', '07061241008', '08151257660', '09158205248', '08116711351', '08165594767', '08146222424', '08168711028', '08065905545', '08167159579', '09011318634', '08132858028', '08062162048', '08132601321', '08159857793', '09033191511', '09033631698', '08062129090', '07066046677', '08037433896', '08032151111', '08089344163', '08141534560', '08080286624', '00906658514', '09066585146', '08166464239', '08068638613', '09138858149', '07065622885', '09150482247', '09014487469', '08128354064', '09066249177', '08069788085', '09055210121', '07061539201', '07060523911', '07040406507', '07063658954', '07064464791', '08162401831', '08032554565', '08032395700', '08161732612', '07019306894', '08067637697', '08134111113', '08103284422', '08038388417', '09135072736', '08076176963', '08129870034', '08155499487', '08036069353', '08066232594', '08063696868', '08156653211', '09050568305', '08164128861', '07018402108', '08135729988', '07015524022', '09066361553', '07026000089', '08050323056', '09049572744', '08132174851', '09024334521', '08083865432', '09077705581', '09030388225', '08137506465', '07035664640', '08132577038', '07032239427', '08069263894', '07035890262', '08066738373', '07063505893', '08139153129', '07068070026', '07056371200', '09069660563', '08147117375', '09134943830', '09136682599', '07049410240', '09034966950', '07037961695', '09044920461', '08154430154', '08123347203', '08059626258', '09077179997', '08037004871', '08083053663', '09053451768', '07065061799', '08147316538', '09054033143', '07063339248', '08071942481', '08129811186', '08028445937', '09015066261', '08124605158', '08162998648', '09058328292', '09024902568', '08036702589', '07068074503', '07044597280', '08109942626', '07035998452', '09064522303', '07035099017', '08103030121', '08141194675', '08038739266', '09010908410', '08166918898', '08028567174', '09021753831', '08062359727', '09033339958', '08033362933', '08140098480', '08062686759', '08132394779', '08066183256', '08107347040', '09033122982', '08085253999', '07030059926', '08145502889', '09044517475', '08143177118', '09036720117', '08109623179', '08110554782', '07030447955', '08035942640', '09049750827', '07030773345', '09039400689', '08074521336', '07089121282', '09066576444', '07081508450', '08129319809', '07087130086', '09026630871', '08059132143', '08105179588', '08055938238', '07042889148', '8055938238', '08060600180', '07049262783', '09059623736', '07039735031', '07064240647', '08100529554', '08101315429', '09991152332', '07035172609', '09021936880', '08058510038', '08038718591', '07055904604', '07063084989', '08020905974', '08105009461', '07069450610', '08036059925', '09068530379', '08165865541', '08036087395', '07047495630', '07033145382', '09158639908', '08023958269', '08062222313', '09033363409', '08136020025', '07048093214', '07039056756', '08133308323', '08143345537', '07038198526', '09067041206', '07030735955', '08167453515', '08142800685', '08139719113', '07083075646', '09082041961', '08108909375', '08085428788', '09069185442', '07083329088', '08032295453', '07064598594', '08167473687', '07011071534', '08163339050', '08123383841', '09066455273', '08123397528', '08089797546', '07065995611', '09061728928', '07037223704', '08104606303', '08107175923', '08131514768', '09033018028', '08065532446', '08035738744', '07035359155', '09017892940', '08032614802', '08030456697', '08139751110', '08130036064', '07065769412', '08032934769', '08039628925', '07068962544', '08120001994', '09060643395', '08131355504', '07069026973', '08162469673', '07030752271', '08037355643', '09076947828', '09151754926', '08036573837', '08064034406', '08164837480', '07061085698', '09035535971', '08133798101', '09035467664', '07032085397', '08063194318', '08036638735', '07061971470', '08038287807', '08033949644', '08133584591', '08063239523', '08148090967', '07013794528', '07039540531', '08169725210', '07068867325', '07065125702', '09021335663', '09037152346', '08032211161', '08032593780', '07010755462', '08103638527', '08100932074', '09069034874', '08062479117', '08160552791', '08101075707', '08126188478', '08142529625', '09042328627', '07044391015', '09137779621', '08160010018', '08107711472', '07030197924', '07030050038', '07031275619', '09131478162', '08054596799', '09017297550', '08076854586', '08066314535', '09069397352', '08077001069', '08038194350', '08035705790', '07039432707', '08083517011', '07068100029', '08033401754', '08100879473', '07049952101', '08035628595', '08134676606', '07037188825', '08146393058', '08035122948', '07054257001', '08062638204', '09075790291', '08131360172', '08036371508', '09066858181', '08123111441', '08135592272', '09032399123', '08166034174', '08137092098', '08037105350', '08139169569', '07056852182', '07035864882', '08135267134', '08027050994', '08029309469', '08053022735', '08108182033', '08023195022', '08135369988', '08116559590', '00816911569', '08169115699', '08035063634', '08143873988', '08134416963', '07039213873', '08039818604', '08121263607', '08066901092', '08132808112', '08067100596', '07060551691', '08035455051', '07060427011', '07036918307', '08162869646', '07065796631', '08075007760', '09024868556', '08168057663', '08032572750', '07030133000', '09152152920', '08037910994', '08144139640', '07038426222', '08164287002', '07062694948', '08147526550', '09065431222', '07061925133', '08037945002', '08102348850', '07031891781', '08154390923', '08160556746', nan, '2348165967191 ', '08066738373 ', '0130444508 ', '3056218753 ', '9977673608 ', '9977672151 ', '0111480288 ', '0017674260 ', '9977674344 ', '2005016266 ', '0031568246 ', '0051553475 ', '6170767007 ', '2159808809 ', '0091219720 ', '9980405959 ', '9982628514 ', '3046143395 ', '0211933330 ', '1238053408 ', '0060535546 ', '0449336604 ', '9980929987 ', '7810318302 ', '9980255477 ', '9979557335 ', '9978621730 ', '9979520964 ', '9981974252 ', '9978955154 ', '9979036731 ', '9980492418 ', '9981654297 ', '9977739557 ', '9980509905 ', '9981464834 ', '9980046550 ', '9982946922 ', '2001078936 ', '0421969178 ', '9980802242 ', '9981556913 ', '9982785673 ', '9980342379 ', '9977879417 ', '9979404099 ', '9982069906 ', '9978316739 ', '9978427808 ', '9980315362 ', '9980615237 ', '9979674166 ', '9982293262 ', '9982027100 ', '9980474951 ', '9981293667 ', '9979840572 ', '9979726450 ', '9982922243 ', '9980304715 ', '9979569659 ', '9980805717 ', '9978247693 ', '9979581774 ', '9980359124 ', '9978154438 ', '9982429735 ', '9980342362 ', '9978989861 ', '9982353030 ', '9978815005 ', '9981367739 ', '9981198944 ', '9982305400 ', '9978513875 ', '9981949816 ', '9978506006 ', '9980135690 ', '9981583418 ', '9981595103 ', '9981462438 ', '9978995547 ', '9980000309 ', ' ', '2347069189651 ', '2348177608934 ', '2340812332561 ', '2349060545537 ', '2347086089589 ', '2348033984930 ', '2348036707155 ', '2348066738373 ', '2349061113439 ', '2347054257001 ', '2349091178484 ', '2347053592969 ', '2348023105039 ', '2348023367445 ', '2348093613092 ', '2348038293877 ', '2348067191062 ', '2347060909375 ', '2348033292155 ', '2348143381489 ', '2348023928081 ', '2348020902346 ', '2348096555659 ', '2348066123006 ', '2348123932105 ', '2348035201621 ', '2349060323248 ', '2340813088819 ', '2348130888196 ', '2340803435455 ', '2348034420667 ', '2348034354554 ', '2348116025745 ', '2348033357419 ', '2348102058568 ', '2340810205856 ', '2348102058560 ', '2348058080005 ', '2348027170517 ', '2348026157073 ', '2348039505596 ', '2347067996294 ', '2348164769362 ', '2348133700890 ', '2348068802264 ', '2347067544769 ', '2349034794992 ', '2348062562533 ', '2340810271857 ', '2348102718577 ', '2348034667672 ', '2348134667672 ', '2348022623056 ', '2348164782441 ', '2349064787583 ', '2347069066051 ', '2348122222406 ', '2348023937300 ', '2349068732616 ', '2340816934459 ', '2348179224819 ', '2347032425010 ', '2340703942960 ', '2347039429602 ', '2348054318526 ', '2348107073698 ', '2348166715418 ', '2347063023747 ', '2348135085683 ', '2348102721100 ', '2347036068770 ', '2349056167501 ', '2347061242848 ', '2348034372548 ', '2348060290701 ', '2348066923647 ', '2347085534315 ', '2348184852040 ', '2348188157321 ', '2348072539963 ', '2347814925809 ', '2347035372447 ', '2348167390884 ', '2349071900099 ', '2348060842765 ', '2348167299299 ', '2348160543510 ', '2348167833796 ', '2349069623006 ', '2347033394682 ', '2348165562576 ', '2348039628925 ', '2347062625203 ', '2347065509625 ', '2347011110162 ', '2349012803903 ', '2348137552564 ', '2349081726187 ', '2347033432564 ', '2348066978926 ', '2348136693776 ', '2347032516064 ', '2348035598360 ', '2348067558008 ', '2348108773661 ', '2348166419934 ', '2347056852182 ', '2340905892246 ', '2349058922469 ', '2347030197924 ', '2347065375586 ', '2347088487195 ', '2349036997809 ', '2348105665966 ', '2340903198624 ', '2349042495142 ', '2348870991701 ', '2348039659935 ', '2347032922526 ', '2347038102944 ', '2348105740663 ', '2348158123485 ', '2347034331354 ', '2347037090181 ', '2349019397664 ', '2348169029268 ', '2348034941674 ', '2348038292264 ', '2348034811217 ', '2348037744550 ', '2347036918307 ', '2348060959591 ', '2348110366300 ', '2348135267134 ', '2347063136633 ', '2349030103646 ', '2348034649433 ', '2347088490259 ', '2349069001645 ', '2348034624376 ', '2340802595994 ', '2348025959940 ', '2348031354061 ', '2348109690422 ', '2347038688839 ', '2348091778572 ', '2348034682901 ', '2348167149797 ', '2347064659597 ', '2348101666365 ', '2340813781581 ', '2348137815811 ', '2348063893384 ', '2347031535556 ', '2340659272778 ', '2348037321339 ', '2347035860063 ', '2349033873844 ', '2347064628260 ', '2348069243691 ', '2348093328880 ', '2348023763117 ', '2347061118619 ', '2348121231964 ', '2348058118092 ', '2348064721720 ', '2348134359601 ', '2348171937840 ', '2349028972402 ', '2348067792116 ', '2348034723430 ', '2348179380505 ', '2348105063999 ', '2349086323780 ', '2348035093102 ', '2348081262937 ', '2347060752299 ', '2348103802105 ', '2349030591847 ', '2348026380799 ', '2347088898833 ', '2348169699617 ', '2348139203775 ', '2348136618408 ', '2349074050231 ', '2347034290558 ', '2348054782891 ', '2349066987792 ', '2348081265937 ', '2348135364510 ', '2349011680361 ', '2348053539492 ', '2348161316130 ', '2348069400972 ', '2348086452943 ', '2349066535303 ', '2348032614802 ', '2348019872373 ', '2348162880026 ', '2340810833183 ', '2348108331838 ', '2347013750644 ', '2347067580240 ', '2347039555371 ', '2347026831333 ', '2348168755682 ', '2348030481499 ', '2347039674814 ', '2348074143281 ', '2348186057772 ', '2348037530758 ', '2340813233836 ', '2348132338369 ', '2348113375843 ', '2348025139360 ', '2347061842664 ', '2347030205740 ', '2348128457110 ', '2347037562041 ', '2348035002577 ', '2347071888100 ', '2348141304995 ', '2348063646259 ', '2347033759175 ', '2348036274960 ', '2348060235000 ', '2349135811550 ', '2348039515833 ', '2348104483326 ', '2348132575148 ', '2348079176741 ', '2347031030900 ', '2348028034952 ', '2347218998401 ', '2347068324027 ', '2349075807057 ', '2348146049043 ', '2349036158401 ', '2347067141492 ', '2348148700791 ', '2348060483413 ', '2348169453755 ', '2348132988357 ', '2347033845481 ', '2348160552791 ', '2349045003064 ', '2347032566997 ', '2348162222201 ', '2348185822100 ', '2348062381952 ', '2347061844855 ', '2348165083635 ', '2348076560582 ', '2348072757853 ', '2347018816298 ', '2347735511457 ', '2348060255953 ', '2348030467042 ', '2348172912183 ', '2347030300855 ', '2347060621033 ', '2347065335571 ', '2348139025734 ', '2348035289015 ', '2349060467726 ', '2348066898062 ', '2347068984257 ', '2348035912166 ', '2348078188451 ', '2348105870975 ', '2348035789251 ', '2347035574108 ', '2348034413692 ', '2340803385024 ', '2348033850242 ', '2348143780462 ', '2348164149385 ', '2348067026020 ', '2348163060454 ', '2340814252962 ', '2348142529625 ', '2340803537281 ', '2348153172239 ', '2347060419255 ', '2348030640245 ', '2348133740338 ', '2348069748855 ', '2348065834578 ', '2349038041219 ', '2348135701186 ', '2348122874804 ', '2348028580754 ', '2349068381059 ', '2348034120386 ', '2347066120017 ', '2347033855977 ', '2347033050208 ', '2348055118057 ', '2347084202092 ', '2348029575981 ', '2348102667300 ', '2347067137028 ', '2347025871491 ', '2348081570798 ', '2348132152993 ', '2348102471450 ', '2348039181181 ', '2348034131417 ', '2349094115305 ', '2348033894126 ', '2347025741566 ', '2348061553410 ', '2348188609427 ', '2347034670919 ', '2349077705581 ', '2348025306668 ', '2349905777645 ', '2347230969328 ', '2348063755847 ', '2347054210914 ', '2347068320028 ', '2348134522285 ', '2348032653289 ', '2348060429182 ', '2348144712859 ', '2347032926828 ', '2348039187984 ', '2348069222437 ', '2347062663476 ', '2348353939756 ', '2349131500074 ', '2349098933144 ', '2340906907409 ', '2347067610038 ', '2347065507946 ', '2348158399066 ', '2349097295827 ', '2348057257077 ', '2349022996622 ', '2348029548756 ', '2348129319809 ', '2348161294703 ', '2348134752013 ', '2347064894329 ', '2347037757709 ', '2348133172239 ', '2347017886495 ', '2349033397681 ', '2348138388081 ', '2347033448697 ', '2348039253385 ', '2347037110627 ', '2347019910083 ', '2348034000767 ', '2348062638204 ', '2340701448659 ', '2347014486592 ', '2347069779090 ', '2348131360172 ', '2348062481423 ', '2347036825314 ', '2348060958500 ', '2347030881343 ', '2348165490666 ', '2348033163218 ', '2347039161605 ', '2347039363674 ', '2349032178788 ', '2348038693754 ', '2348028163609 ', '2348134515197 ', '2348062698724 ', '2348135435619 ', '2348076176963 ', '2348056738548 ', '2349070748158 ', '2349036153393 ', '2347064856029 ', '2349415951211 ', '2347030321417 ', '2348092238812 ', '2348081369501 ', '2347065995611 ', '2348109163881 ', '2347038416517 ', '2349025180473 ', '2348100399711 ', '2348100273191 ', '2347057136722 ', '2348091563124 ', '2347037860434 ', '2347668744776 ', '2348023453766 ', '2340802345376 ', '2347049178640 ', '2348034802721 ', '2348062574523 ', '2348037531948 ', '2348133996081 ', '2348062150814 ', '2347038521987 ', '2347086622134 ', '2347058761029 ', '2348060729302 ', '2348086239093 ', '2347051839788 ', '2348184560466 ', '2347053359195 ', '2348184560469 ', '2348123654400 ', '2340906997915 ', '2349069979151 ', '2347032192741 ', '2349067457914 ', '2348107501175 ', '2347038862923 ', '2348038957436 ', '2349029481919 ', '2347063005324 ', '2348068934468 ', '2347018387447 ', '2347069590271 ', '2348165467179 ', '2347087460152 ', '2348111339938 ', '2348060765010 ', '2348146938743 ', '2349047941081 ', '2348140762347 ', '2348062885550 ', '2348103747510 ', '2347060959654 ', '2348130660182 ', '2348036013894 ', '2349021172207 ', '2348061140838 ', '2348037937958 ', '2349075790291 ', '2349066161246 ', '2348618178445 ', '2349032692744 ', '2348037333960 ', '2348034194112 ', '2349022143415 ', '2348033399183 ', '2348036244115 ', '2349069295493 ', '2348155684335 ', '2348134944261 ', '2348027995242 ', '2348146547832 ', '2348100624778 ', '2348023456789 ', '2347067755712 ', '2348104197172 ', '2347036523564 ', '2347067960436 ', '2348148337215 ', '2348029083518 ', '2348067282227 ', '2349069247918 ', '2347035120431 ', '2347035664640 ', '2348124258829 ', '2348076854586 ', '2349074767147 ', '2348020882060 ', '2347063925116 ', '2347064202040 ', '2348066171655 ', '2347030050420 ', '2349035196668 ', '2348168831881 ', '2347067595127 ', '2347038771757 ', '2348162955012 ', '2349099289746 ', '2348031127034 ', '2348168957062 ', '2348167676893 ', '2348035659863 ', '2348128854727 ', '2348109971133 ', '2349063838604 ', '2349032269076 ', '2347060998533 ', '2348101559186 ', '2349924396774 ', '2349328988522 ', '2348030508272 ', '2347038596454 ', '2347033283175 ', '2348033276546 ', '2348144481792 ', '2348109419118 ', '2347032263574 ', '2347067017547 ', '2348174893320 ', '2347032053505 ', '2348028528962 ', '2348027015508 ', '2348141872999 ', '2346239899443 ', '2348146404648 ', '2349097777124 ', '2348101559486 ', '2348025828653 ', '2348108938187 ', '2348032601000 ', '2348138766620 ', '2348036005907 ', '2348069217699 ', '2348136584612 ', '2348039531279 ', '2340813797357 ', '2348137973571 ', '2348133526439 ', '2348166660409 ', '2348185212371 ', '2348188212371 ', '2348168200585 ', '2347035157424 ', '2348036412417 ', '2347064784561 ', '2349138246028 ', '2347035796495 ', '2348066232594 ', '2347036287577 ', '2347035302608 ', '2347037295637 ', '2348170348596 ', '2348091587058 ', '2348162928946 ', '2348077988364 ', '2348032793930 ', '2347038183346 ', '2347038600871 ', '2348023128235 ', '2349133137179 ', '2348163109053 ', '2348060608929 ', '2347032401359 ', '2347032101414 ', '2347069017643 ', '2349021335663 ', '2349731777976 ', '2349193474784 ', '2348056473868 ', '2348066573439 ', '2348066177398 ', '2349038881821 ', '2348309738125 ', '2348140842311 ', '2349034830313 ', '2349034967056 ', '2348035491188 ', '2348166198860 ', '2348160908288 ', '2348167228570 ', '2348063204052 ', '2348111838692 ', '2347063279373 ', '2348143239233 ', '2348120281616 ', '2349027129505 ', '2349080276516 ', '2348107975607 ', '2348106599538 ', '2349035793249 ', '2348121758708 ', '2348169344598 ', '2348189956528 ', '2348029582627 ', '2348035638123 ', '2348161810187 ', '2348032493836 ', '2347035959953 ', '2347011273975 ', '2348095472615 ', '2340806733197 ', '2347038306337 ', '2348132649429 ', '2347039685667 ', '2349004295743 ', '2348130075530 ', '2348144524084 ', '2348032275196 ', '2348109882000 ', '2347030098843 ', '2348050324708 ', '2348068400795 ', '2347087464480 ', '2348033583642 ', '2348097428705 ', '2348067331970 ', '2349033546958 ', '2340913350659 ', '2348091148683 ', '2347061156426 ', '2348030458054 ', '2348147766401 ', '2349887422226 ', '2348024585945 ', '2348065134903 ', '2348068696146 ', '2349076277254 ', '2347067122767 ', '2348081191963 ', '2348069494872 ', '2348064776832 ', '2340809114868 ', '2348143496259 ', '2347068565714 ', '2348063682176 ', '2348133288868 ', '2348142531994 ', '2347012300607 ', '2348089608299 ', '2348037946873 ', '2348131636060 ', '2347217721067 ', '2348147662090 ', '2348028687159 ', '2348176013850 ', '2348112596758 ', '2348112596785 ', '2348095054711 ', '2348069777195 ', '2348068414898 ', '2348066076522 ', '2349030560666 ', '2348132021651 ', '2340809505471 ', '2348036674138 ', '2349097513002 ', '2347038588036 ', '2349060507203 ', '2348035942640 ', '2348107535440 ', '2348087300382 ', '2348094029199 ', '2348038620378 ', '2348169226727 ', '2348160624288 ', '2347086368319 ', '2349030825029 ', '2348125080491 ', '2347055302411 ', '2348138040976 ', '2347060707691 ', '2349033732860 ', '2348138041668 ', '2348171270027 ', '2348032311330 ', '2348137788019 ', '2348091044967 ', '2347065072220 ', '2347038678015 ', '2347061663708 ', '2348038624944 ', '2347041172006 ', '2349053562922 ', '2349055428649 ', '2347035161336 ', '2349068835131 ', '2348066030913 ', '2348050713304 ', '2348066834345 ', '2348146706860 ', '2349095477262 ', '2348107615661 ', '2348137025919 ', '2347059707081 ', '2348066516083 ', '2348108075833 ', '2348035432667 ', '2348063647424 ', '2348051906847 ', '2347032397411 ', '2348057221689 ', '2348063208622 ', '2348068164224 ', '2347035747526 ', '2348063859844 ', '2348036594475 ', '2348161879774 ', '2348068498270 ', '2348146763393 ', '2348108128671 ', '2348181123833 ', '2348127020342 ', '2348091438914 ', '2348106570185 ', '2347082985025 ', '2348028245464 ', '2348142313097 ', '2348167564923 ', '2348106412391 ', '2349061246328 ', '2347038939441 ', '2348138082325 ', '2340706423099 ', '2347064230996 ', '2348086080667 ', '2347030721044 ', '2349063903778 ', '2348083340700 ', '2348037105350 ', '2348078571606 ', '2347017453980 ', '2348140905424 ', '2347000211285 ', '2348035411171 ', '2349054860802 ', '2347030858131 ', '2348064220765 ', '2348104225510 ', '2348160362594 ', '2347019586014 ', '2348134573250 ', '2347064592908 ', '2348034550471 ', '2349019643555 ', '2349032919557 ', '2348164291400 ', '2348134986274 ', '2348055216414 ', '2349072735993 ', '2348160025617 ', '2348038929666 ', '2348028060047 ', '2348034142738 ', '2348166431007 ', '2348065601403 ', '2348163857865 ', '2348033569918 ', '2348035868715 ', '2348107712118 ', '2348020311152 ', '2347018296741 ', '2348101655183 ', '2348083953742 ', '2348066893372 ', '2349064625124 ', '2348154147168 ', '2348025362884 ', '2347034264577 ', '2348062066907 ', '2349027250163 ', '2348165166448 ', '2348032441895 ', '2348161532742 ', '2347035159624 ', '2348030442031 ', '2349136511127 ', '2348062081998 ', '2349050904949 ', '2347049588181 ', '2348065657279 ', '2347039549760 ', '2348183864050 ', '2347037748575 ', '2347052564898 ', '2348146381814 ', '2348135744218 ', '2347035553310 ', '2348108795784 ', '2347033752346 ', '2349090237693 ', '2348032625409 ', '2348137092098 ', '2348183086378 ', '2348074717268 ', '2348037465830 ', '2348023202382 ', '2347032771984 ', '2347051852841 ', '2348148423628 ', '2348067171088 ', '2348064945235 ', '2348137995326 ', '2347060691368 ', '2340706221990 ', '2348158592161 ', '2348146885944 ', '2348035769088 ', '2348125121065 ', '2348064737996 ', '2348039321767 ', '2347061934091 ', '2348105982041 ', '2347033654633 ', '2348133533306 ', '2347033151776 ', '2349095048592 ', '2349069319969 ', '2347038368046 ', '2349018399979 ', '2348139589957 ', '2349099309927 ', '2348162886668 ', '2348034691690 ', '2348148417819 ', '2348148417816 ', '2347908764435 ', '2348062812223 ', '2347011293933 ', '2347069284527 ', '2348036635540 ', '2347033198336 ', '2348124215341 ', '2348146154427 ', '2348036880330 ', '2348066331036 ', '2347047366490 ', '2347012430500 ', '2349310822838 ', '2348169601213 ', '2348166690981 ', '2348168110614 ', '2347068255926 ', '2349095346429 ', '2347031104808 ', '2348029614137 ', '2348104899526 ', '2348057400352 ', '2349066674473 ', '2347012380677 ', '2348185408902 ', '2347033020937 ', '2348068607826 ', '2340806860786 ', '2348104049919 ', '2348024454766 ', '2348163280642 ', '2349072117930 ', '2348063777520 ', '2348033324966 ', '2348037851685 ', '2347063748687 ', '2348064192127 ', '2349136880787 ', '2348086053045 ', '2347036483935 ', '2340808605304 ', '2348071999113 ', '2347039409698 ', '2348056013749 ', '2348136745550 ', '2348154430154 ', '2348145173658 ', '2348065853092 ', '2348036011989 ', '2349059627223 ', '2347062610512 ', '2347305396691 ', '2348070985947 ', '2348030998755 ', '2348027764742 ', '2348126801951 ', '2347030197967 ', '2347041854422 ', '2349038026768 ', '2348038797331 ', '2348036317794 ', '2348109090802 ', '2347036548983 ', '2348038710156 ', '2347060890703 ', '2348130307648 ', '2340813563103 ', '2348135631034 ', '2349075802915 ', '2347030644828 ', '2348080809379 ', '2347065123310 ', '2349047208790 ', '2348075482526 ', '2348075452526 ', '2348169353670 ', '2348083637545 ', '2349625664528 ', '2348037088787 ', '2347064727011 ', '2348064306702 ', '2347061072133 ', '2340706107213 ', '2348025940168 ', '2348069383971 ', '2348142495054 ', '2349073080164 ', '2347039579902 ', '2348035144605 ', '2348027828789 ', '2348082240339 ', '2348025040630 ', '2347064525282 ', '2347040858627 ', '2348038025925 ', '2348079495721 ', '2348068372286 ', '2348144333386 ', '2347019967211 ', '2348056661545 ', '2348036942855 ', '2348101089440 ', '2347039766000 ', '2347034834299 ', '2347032312508 ', '2340984840505 ', '2340702574156 ', '2348077653221 ', '2348035691101 ', '2348135866153 ', '2340810104155 ', '2348038533154 ', '2349099907287 ', '2340706962126 ', '2347069621265 ', '2349065722914 ', '2349074841900 ', '2348138866711 ', '2348089774782 ', '2348377918336 ', '2348082646233 ', '2349076275942 ', '2348076688158 ', '2347066960731 ', '2348138282531 ', '2347085582375 ', '2340810428652 ', '2348104286529 ', '2349011150122 ', '2348163688539 ', '2348093819613 ', '2348051447177 ', '2348064757438 ', '2348141695143 ', '2349937725491 ', '2349937254913 ', '2347016711820 ', '2347030633208 ', '2348024576837 ', '2349035949076 ', '2349030358455 ', '2348100305460 ', '2349018011066 ', '2348133198646 ', '2348071603171 ', '2348056084867 ', '2340905982158 ', '2349048523836 ', '2348130469486 ', '2348069161187 ', '2348141381509 ', '2349070764887 ', '2349054222603 ', '2349069541745 ', '2348038722838 ', '2348169725210 ', '2349066858181 ', '2349037258960 ', '2348055938238 ', '2348065940040 ', '2349050156184 ', '2348168791150 ', '2347013342502 ', '2348166612921 ', '2348021398162 ', '2348129764421 ', '2348147563171 ', '2348034852696 ', '2348032647925 ', '2348060640766 ', '2347038195796 ', '2347035385590 ', '2348133027934 ', '2349068584276 ', '2348051666715 ', '2348167816382 ', '2347035383849 ', '2347763807797 ', '2348135529658 ', '2348105355049 ', '2348144787309 ', '2348036036413 ', '2348117121656 ', '2348069372902 ', '2348039510650 ', '2348097426957 ', '2347068455584 ', '2347030966289 ', '2348068415926 ', '2349011414748 ', '2349069900499 ', '2348143271885 ', '2348171254679 ', '2347035306581 ', '2348166853564 ', '2349032721055 ', '2349036375997 ', '2348033644126 ', '2348160010018 ', '2340817094208 ', '2348170942087 ', '2347050415280 ', '2348063207383 ', '2349034605876 ', '2349069900496 ', '2348155618992 ', '2348027252457 ', '2348111310121 ', '2348166367678 ', '2348095290277 ', '2347809529027 ', '2348104649377 ', '2349832065291 ', '2348123009299 ', '2348038579758 ', '2349971831023 ', '2348153667277 ', '2349060261015 ', '2348065924378 ', '2348136043177 ', '2349032065291 ', '2348144406055 ', '2349024318113 ', '2347039823117 ', '2348103096463 ', '2347081112007 ', '2347042238156 ', '2348033392826 ', '2347828400458 ', '2348750289931 ', '2348137031059 ', '2348130407646 ', '2348060915769 ', '2348166225222 ', '2348066679486 ', '2349041519052 ', '2348067864999 ', '2349072638442 ', '2348066337427 ', '2348126188478 ', '2348164743191 ', '2349085694886 ', '2348038912811 ', '2348038386784 ', '2348169059770 ', '2348163785658 ', '2340810808804 ', '2348108088040 ', '2348170972087 ', '2348037147473 ', '2348034206151 ', '2348034789736 ', '2347012770606 ', '2348032706083 ', '2348035412254 ', '2348160452592 ', '2348130521289 ', '2349381488436 ', '2348069323544 ', '2348036798933 ', '2348153047603 ', '2348060521663 ', '2348120027587 ', '2349020483378 ', '2348038499374 ', '2348038627283 ', '2348132611271 ', '2348135251718 ', '2348098550223 ', '2348069553830 ', '2348039560365 ', '2347972216397 ', '2348134289932 ', '2347062942179 ', '2348169352512 ', '2349036313276 ', '2348135210318 ', '2349057549707 ', '2348028104394 ', '2347025152750 ', '2347047575726 ', '2340703243696 ', '2347032436961 ', '2348170289361 ', '2347035834700 ', '2349063925161 ', '2348035118006 ', '2348066384698 ', '2347064653019 ', '2348144558826 ', '2348062970602 ', '2348137076824 ', '2348085167812 ', '2347053795837 ', '2348100196113 ', '2348025499581 ', '2348089809894 ', '2348102802587 ', '2348137943565 ', '2347062509356 ', '2347067235820 ', '2349065215559 ', '2348166181659 ', '2349077060712 ', '2349064342540 ', '2347032726690 ', '2348108738922 ', '2348105573062 ', '2347338259693 ', '2348166216729 ', '2348120987704 ', '2348065992031 ', '2348180095941 ', '2348109110749 ', '2348088858797 ', '2348032616682 ', '2348063155938 ', '2349055303933 ', '2348145516063 ', '2349133253371 ', '2348131878391 ', '2347039328090 ', '2348102363046 ', '2348034480732 ', '2347055777876 ', '2348107606105 ', '2348156983356 ', '2347062906880 ', '2347068040887 ', '2348166935326 ', '2347033949163 ', '2349060412107 ', '2348136847237 ', '2348032934339 ', '2349733075372 ', '2340813935184 ', '2348139351847 ', '2347002231957 ', '2348125970793 ', '2348038488887 ', '2347066059555 ', '2348088678406 ', '2348138779879 ', '2348179032392 ', '2349846989800 ', '2348034831223 ', '2347052688798 ', '2348031157445 ', '2347034625894 ', '2348099514323 ', '2349083954285 ', '2348160809139 ', '2348083262177 ', '2348139087377 ', '2340753945105 ', '2348171589722 ', '2348058866836 ', '2348156863860 ', '2348143367300 ', '2349056242228 ', '2348101921125 ', '2349015754039 ', '2340806052163 ', '2347065008423 ', '2349027845293 ', '2348099449730 ', '2348104646377 ', '2349035559323 ', '2348134647076 ', '2347063616464 ', '2348027218533 ', '2348069200298 ', '2348145853560 ', '2347016441976 ', '2347063949369 ', '2347086926097 ', '2347033590944 ', '2348168264855 ', '2349801885672 ', '2347992329833 ', '2348092132146 ', '2348035095725 ', '2349053518849 ', '2349061751566 ', '2348137885622 ', '2347032112530 ', '2349719237070 ', '2349955222012 ', '2348167452875 ', '2347069473119 ', '2348020757977 ', '2347033345967 ', '2348064242586 ', '2348032357528 ', '2349037206717 ', '2348162755025 ', '2349098697709 ', '2347063920351 ', '2348174942382 ', '2348100856111 ', '2348024876985 ', '2340903802676 ', '2347013715749 ', '2349033734897 ', '2347080167250 ', '2348035503266 ', '2349068665768 ', '2340706845170 ', '2349056872681 ', '2349036640489 ', '2348139376561 ', '2348145301190 ', '2347036318755 ', '2348030634116 ', '2347060954704 ', '2347062873814 ', '2348030792714 ', '2348166055689 ', '2348152130773 ', '2340813369767 ', '2348133697677 ', '2348035710201 ', '2349096030954 ', '2349032638865 ', '2348068361651 ', '2348130847499 ', '2349046190641 ', '2349625159671 ', '2347038364266 ', '2348100957734 ', '2347033500159 ', '2348087966408 ', '2349020409881 ', '2349060053687 ', '2349055642061 ', '2340813084749 ', '2348060845575 ', '2348093750069 ', '2347055222235 ', '2348102892912 ', '2348022299159 ', '2347083962768 ', '2349060640715 ', '2348036527685 ', '2348033315164 ', '2349050889474 ', '2348059372152 ', '2348058595151 ', '2348065378138 ', '2348036065368 ', '2348156001716 ', '2347031696987 ', '2347035632908 ', '2347039225064 ', '2347033693566 ', '2348033494418 ', '2348082379390 ', '2348037986405 ', '2348060767877 ', '2348035672364 ', '2348189615441 ', '2349093974454 ', '2349090642978 ', '2348074661447 ', '2348063577262 ', '2348036838535 ', '2348138860383 ', '2347012860290 ', '2348069041179 ', '2347044385035 ', '2348101658650 ', '2349057868056 ', '2348142220900 ', '2349061380040 ', '2348032618870 ', '2349086337104 ', '2348077791613 ', '2349056364201 ', '2348053169910 ', '2347037169087 ', '2348136006043 ', '2348133417030 ', '2348102308892 ', '2348132651293 ', '2348035688478 ', '2349068631826 ', '2348121263607 ', '2348032092753 ', '2347066106645 ', '2348080938175 ', '2348102203717 ', '2347061970414 ', '2348034772343 ', '2347011262305 ', '2348032854342 ', '2348033207610 ', '2347033813464 ', '2349015570711 ', '2347032861390 ', '2349069714547 ', '2348082861460 ', '2348137040005 ', '2340803872283 ', '2347039034394 ', '2340907671398 ', '2348033814385 ', '2348103080011 ', '2347063658954 ', '2349011861594 ', '2348154640409 ', '2347069410286 ', '2349035867010 ', '2348103293217 ', '2349018778780 ', '2348142250050 ', '2348065914492 ', '2349046964644 ', '2348167582541 ', '2347045996584 ', '2348136670300 ', '2348033769441 ', '2348027003546 ', '2348125725951 ', '2348104225945 ', '2340704033029 ', '2348104225645 ', '2347061294344 ', '2340810184525 ', '2348699260321 ', '2347700042900 ', '2349037299018 ', '2349024241055 ', '2348148383361 ', '2347038249341 ', '2347068718601 ', '2348065448831 ', '2348032978341 ', '2340704171389 ', '2347041713898 ', '2348135249571 ', '2348164198072 ', '2349034127333 ', '2349016725155 ', '2348063845984 ', '2348035658899 ', '2348167961252 ', '2340803272885 ', '2348032728850 ', '2348033418815 ', '2348106072695 ', '2348187060906 ', '2349063198079 ', '2347030412872 ', '2348128696615 ', '2348143315210 ', '2348103823893 ', '2348144845021 ', '2349023431229 ', '2348038796124 ', '2348167827028 ', '2348032913457 ', '2349039553523 ', '2349021155182 ', '2347041056301 ', '2348065710106 ', '2348165296802 ', '2347053434622 ', '2340806463208 ', '2349583380737 ', '2348099876470 ', '2348188247926 ', '2347033640262 ', '2348101652173 ', '2349039518062 ', '2347032492770 ', '2347038427175 ', '2348025628789 ', '2348033665506 ', '2348146680522 ', '2348113318342 ', '2340812960795 ', '2348160280970 ', '2348138263014 ', '2348129165505 ', '2348076159688 ', '2349078589543 ', '2348163891283 ', '2348161654388 ', '2348144300028 ', '2349091332949 ', '2348166918898 ', '2348058054382 ', '2348036306748 ', '2347080104760 ', '2348031838455 ', '2348161225523 ', '2347031573735 ', '2348133015361 ', '2347037062030 ', '2348065489005 ', '2347089963068 ', '2348026479272 ', '2348060674866 ', '2348160138309 ', '2348062429180 ', '2347060580441 ', '2348160556746 ', '2348032910193 ', '2347083575955 ', '2347064395644 ', '2348052753141 ', '2348147622458 ', '2349026331155 ', '2347404040327 ', '2348136740649 ', '2348034998431 ', '2347065908494 ', '2348115260233 ', '2349015041325 ', '2347030741413 ', '2348029407807 ', '2348136556274 ', '2348132190990 ', '2347039224477 ', '2340902321981 ', '2348129607952 ', '2348107534087 ', '2348136516959 ', '2348039209509 ', '2347060937353 ', '2348036128774 ', '2347034804171 ', '2348132204870 ', '2348118073414 ', '2347039188012 ', '2348745971025 ', '2348069152120 ', '2348058159130 ', '2348179878497 ', '2348035035946 ', '2349080762962 ', '2348070436792 ', '2348099360654 ', '2347030114402 ', '2348083418199 ', '2348107436954 ', '2348060575726 ', '2348034319825 ', '2348166547720 ', '2348168472413 ', '2347025047133 ', '2348034511354 ', '2349079010992 ', '2348127814917 ', '2349016710080 ', '2349033584527 ', '2349130205514 ', '2347013271575 ', '2348031167776 ', '2349066058046 ', '2348165008626 ', '2348161190556 ', '2347012984511 ', '2348180103338 ', '2348098141042 ', '2348053733640 ', '2348102585919 ', '2340803469760 ', '2348066201333 ', '2347066085552 ', '2348163712144 ', '2348150743626 ', '2349013549444 ', '2348137647571 ', '2347068608998 ', '2349034808830 ', '2347032968227 ', '2348054044464 ', '2349066881307 ', '2348025718950 ', '2348062686759 ', '2348033595491 ', '2347010748352 ', '2348037894080 ', '2347034849343 ', '2348032868606 ', '2347065097311 ', '2348156633113 ', '2348146860063 ', '2348066377726 ', '2348068315585 ', '2347068736766 ', '2348118384078 ', '2347012762274 ', '2348153889613 ', '2340813217151 ', '2348071583961 ', '2348117025537 ', '2348167862733 ', '2348032375712 ', '2348108388173 ', '2348130824093 ', '2347033096780 ', '2347031800910 ', '2347046950309 ', '2348034333810 ', '2348167339833 ', '2348167024204 ', '2348036694936 ', '2348060218203 ', '2347049984018 ', '2348037884904 ', '2349031281590 ', '2348036291826 ', '2348038257324 ', '2347040040026 ', '2349038938235 ', '2348160606234 ', '2340808979754 ', '2348035285629 ', '2347034559159 ', '2349052640247 ', '2349035575317 ', '2348162065915 ', '2349024958406 ', '2348103994664 ', '2348182924081 ', '2348130067833 ', '2349036505013 ', '2349060632281 ', '2347035555717 ', '2349036468011 ', '2348103749094 ', '2348149744632 ', '2348134170226 ', '2349016425155 ', '2340806233926 ', '2348062339266 ', '2348094503679 ', '2347065702701 ', '2347039554738 ', '2348021080980 ', '2348050394702 ', '2349055125455 ', '2348027174998 ', '2348161619104 ', '2348067389334 ', '2348118462888 ', '2348095675211 ', '2348076546542 ', '2348145197905 ', '2347013673767 ', '2349063167687 ', '2348068543819 ', '2348066323854 ', '2348137996844 ', '2348034464791 ', '2340701367376 ', '2348033653229 ', '2348028938383 ', '2348031351702 ', '2349025293367 ', '2347062829380 ', '2349038367912 ', '2348188719946 ', '2349068256868 ', '2349033440391 ', '2348168706691 ', '2348169894027 ', '2348106141592 ', '2348169638498 ', '2348064972088 ', '2348038974326 ', '2349030644381 ', '2348064032900 ', '2348103045686 ', '2348061671766 ', '2348109800344 ', '2347067453339 ', '2348063063535 ', '2348066678746 ', '2347067897996 ', '2349063140893 ', '2349064155620 ', '2349137563898 ', '2348169405131 ', '2348122426481 ', '2348135258108 ', '2348157608498 ', '2348168064975 ', '2348067869931 ', '2348105819908 ', '2348034746515 ', '2348090663208 ', '2348143873988 ', '2348161189393 ', '2348063908748 ', '2347066766715 ', '2348091745919 ', '2348162089481 ', '2348168040564 ', '2348063273723 ', '2348162204696 ', '2347033938300 ', '2347081051704 ', '2348106341791 ', '2349068249564 ', '2348097121954 ', '2348096614462 ', '2347067720168 ', '2348108678498 ', '2347066237198 ', '2347038226780 ', '2340805979265 ', '2348059792656 ', '2348067577694 ', '2348039263294 ', '2349099387586 ', '2348138837341 ', '2347066157393 ', '2340703436800 ', '2347034368008 ', '2348093602692 ', '2348108153035 ', '2349131702301 ', '2347086030329 ', '2348104628909 ', '2348032922923 ', '2348087632307 ', '2347047879860 ', '2347047879760 ', '2348140428524 ', '2347069165953 ', '2348034313732 ', '2348149589938 ', '2349055139133 ', '2348033497180 ', '2349090941382 ', '2348038411997 ', '2348133036516 ', '2349023348623 ', '2340704807296 ', '2348038684488 ', '2347048072966 ', '2348034793135 ', '2340806335957 ', '2348063359574 ', '2348038440140 ', '2349078609269 ', '2347066648770 ', '2348035966767 ', '2348185341552 ', '2348036661593 ', '2348033719183 ', '2348064059820 ', '2348120617226 ', '2348065930196 ', '2348166483862 ', '2347063625437 ', '2348137372326 ', '2347064424671 ', '2347052951570 ', '2348185416116 ', '2349093931851 ', '2348180722060 ', '2347033002481 ', '2348038214904 ', '2348148939337 ', '2347059163287 ', '2348140697792 ', '2348105625195 ', '2348037316586 ', '2348033930481 ', '2349064767253 ', '2348133196298 ', '2348086812434 ', '2349152480262 ', '2348138557565 ', '2349056083912 ', '2347016786954 ', '2349685222347 ', '2349380231285 ', '2348038449361 ', '2349000324875 ', '2347056695836 ', '2347038803998 ', '2348067764682 ', '2347065100162 ', '2347010003944 ', '2347013480897 ', '2348068285841 ', '2340758638138 ', '2347795275971 ', '2348074040113 ', '2348065530061 ', '2348067143674 ', '2348032674082 ', '2348028478333 ', '2347030070903 ', '2348116383175 ', '2349056279430 ', '2348035946688 ', '2348104385755 ', '2340706352970 ', '2348035964451 ', '2348147219744 ', '2349036234353 ', '2348166834774 ', '2347062233198 ', '2348085273717 ', '2348066756373 ', '2347037012771 ', '2347068414932 ', '2348183875298 ', '2348145502889 ', '2348151280178 ', '2347030059926 ', '2348134348592 ', '2348062274603 ', '2348168711028 ', '2348106928362 ', '2347039803912 ', '2349067686342 ', '2348032232891 ', '2348059070370 ', '2348125079780 ', '2340703879521 ', '2347038795219 ', '2348073475500 ', '2340817034859 ', '2348107008236 ', '2348039708757 ', '2348136240188 ', '2348060697305 ', '2348089125085 ', '2347066494971 ', '2348168930494 ', '2348160616720 ', '2348038255757 ', '2348039216832 ', '2348060652563 ', '2347062871207 ', '2347063241297 ', '2348039098797 ', '2348033800150 ', '2349064104540 ', '2348032415669 ', '2349045601300 ', '2347013868204 ', '2347033392957 ', '2348026637659 ', '2348035457558 ', '2348130642653 ', '2348102108370 ', '2347037695531 ', '2348163373665 ', '2348173627689 ', '2347063339248 ', '2348160401401 ', '2340902722111 ', '2348064901969 ', '2340813153796 ', '2348131537963 ', '2348144498753 ', '2348121776064 ', '2340813007553 ', '2348028856063 ', '2348025760442 ', '2348166325698 ', '2348180675716 ', '2347039619226 ', '2348034180582 ', '2348080378382 ', '2347067658063 ', '2347030773345 ', '2348142923035 ', '2347068413634 ', '2347063266212 ', '2348026616591 ', '2349065221702 ', '2348139650203 ', '2347036873888 ', '2349065583080 ', '2348108227880 ', '2348064057135 ', '2347065555940 ', '2349063516751 ', '2349011046866 ', '2348180802815 ', '2347062818134 ', '2348066194452 ', '2348123323561 ', '2347080153937 ', '2348037543192 ', '2347065622885 ', '2348149941188 ', '2348035237906 ', '2347302025478 ', '2349056872605 ', '2348136186347 ', '2348035469751 ', '2340813674555 ', '2348137942704 ', '2349058788868 ', '2348026190011 ', '2347032690518 ', '2340831745550 ', '2347040251355 ', '2349031888597 ', '2348108432100 ', '2348029571209 ', '2347042997561 ', '2349068232331 ', '2348162960049 ', '2348143320988 ', '2349068005014 ', '2347037961695 ', '2348038814408 ', '2348190403828 ', '2348160403828 ', '2347033307868 ', '2347032452860 ', '2348023790694 ', '2348034430722 ', '2348104753969 ', '2349873439255 ', '2348067598307 ', '2348067316114 ', '2347082471244 ', '2348140726219 ', '2349028520569 ', '2340708288600 ', '2347082886000 ', '2347067039167 ', '2347030749032 ', '2349014037665 ', '2348060985447 ', '2348037632057 ', '2348105054880 ', '2349031811919 ', '2348080802613 ', '2349060639390 ', '2348037471445 ', '2348033255962 ', '2347063629022 ', '2348091900479 ', '2348023958269 ', '2348126400158 ', '2348061323728 ', '2347015732842 ', '2347061172524 ', '2348069605117 ', '2347032496387 ', '2348100278168 ', '2348064816273 ', '2348166110464 ', '2349033782245 ', '2347034405569 ', '2347039867431 ', '2347032327401 ', '2348133948181 ', '2347030591532 ', '2347030379319 ', '2340902621104 ', '2349026211040 ', '2349095195269 ', '2347036506224 ', '2347067339166 ', '2347033681612 ', '2348135828940 ', '2348065755147 ', '2348035456546 ', '2348167933058 ', '2347046423984 ', '2340746423984 ', '2348037634612 ', '2348034204300 ', '2348169772728 ', '2348028811479 ', '2348021436804 ', '2340949436020 ', '2348035937460 ', '2348163910391 ', '2348079921808 ', '2348138430909 ', '2349017724688 ', '2349095275908 ', '2347035430479 ', '2348147523556 ', '2349023386931 ', '2348023113996 ', '2348078086671 ', '2348039433743 ', '2348131126784 ', '2349064414612 ', '2349069587721 ', '2347065982129 ', '2349030708759 ', '2348036342751 ', '2348069816489 ', '2349057371921 ', '2348027599145 ', '2348138207890 ', '2347064826554 ', '2348148715633 ', '2348068637083 ', '2348057011338 ', '2348137836767 ', '2348134368294 ', '2347032472428 ', '2348030893089 ', '2348139694618 ', '2349030125828 ', '2348135169492 ', '2348067596921 ', '2348160636337 ', '2348038638451 ', '2348139568884 ', '2349067272641 ', '2348149412362 ', '2348066925659 ', '2348100731111 ', '2348072796165 ', '2348154036065 ', '2348090909690 ', '2348143221562 ', '2348100518562 ', '2348010825280 ', '2347066758337 ', '2347031679054 ', '2340803744258 ', '2348037442587 ', '2347033323703 ', '2349019034405 ', '2347032078368 ', '2348068810319 ', '2348171127355 ', '2348039245582 ', '2348022703239 ', '2340817112735 ', '2347036143753 ', '2348061241303 ', '2348064156295 ', '2348160629058 ', '2349032780567 ', '2348035904685 ', '2347080257676 ', '2348161391850 ', '2349066056972 ', '2348066057520 ', '2348162536133 ', '2348135367328 ', '2348060203224 ', '2348069779328 ', '2347069720380 ', '2349081740605 ', '2348065643492 ', '2348101232790 ', '2348169139478 ', '2348038532154 ', '2348037191680 ', '2347043439814 ', '2348032725108 ', '2348163425968 ', '2348138621992 ', '2348067405496 ', '2348037215184 ', '2349065687363 ', '2347061956949 ', '2348066857675 ', '2348167256909 ', '2347065499301 ', '2348067730123 ', '2347031616457 ', '2349061245169 ', '2348091422135 ', '2340809142213 ', '2347031218005 ', '2348031140099 ', '2348076262368 ', '2348031911120 ', '2348082908192 ', '2348024586813 ', '2347038026773 ', '2349027286899 ', '2348166209907 ', '2348055172726 ', '2347044591605 ', '2348084451443 ', '2348104889904 ', '2348063337134 ', '2347037121858 ', '2348103664633 ', '2348167056487 ', '2348138894317 ', '2349072562434 ', '2348160596732 ', '2347037939693 ', '2349060709670 ', '2348185487658 ', '2348105487658 ', '2348061589200 ', '2349099543946 ', '2347030922363 ', '2347067912761 ', '2349086133922 ', '2348064973020 ', '2348132015958 ', '2348117145609 ', '2348157936996 ', '2348144970107 ', '2348066211094 ', '2348020751218 ', '2348083719453 ', '2347051960280 ', '2347086666037 ', '2347051930280 ', '2348035685190 ', '2349023970645 ', '2347063919032 ', '2348051510788 ', '2348039390114 ', '2348023449211 ', '2348037719611 ', '2347056170259 ', '2348024286480 ', '2347061545355 ', '2348036355225 ', '2347050405000 ', '2347033773354 ', '2348074492996 ', '2348130923419 ', '2348135393554 ', '2348065254804 ', '2348110861168 ', '2348166130670 ', '2348061202559 ', '2348072159470 ', '2348060483218 ', '2340806795802 ', '2348067958026 ', '2349031100498 ', '2340806111138 ', '2348061111388 ', '2348160109656 ', '2348082004255 ', '2348035508052 ', '2347059595929 ', '2348120636549 ', '2348027512383 ', '2347031961397 ', '2347062245138 ', '2348142514232 ', '2348150664720 ', '2340705196028 ', '2349036553202 ', '2348065281367 ', '2348161104154 ', '2349037379155 ', '2348135633954 ', '2347032574150 ', '2348038875674 ', '2348091717744 ', '2348159625495 ', '2348064632087 ', '2349081613747 ', '2348107839898 ', '2340813761632 ', '2348038404070 ', '2348133694114 ', '2348055006240 ', '2348035731306 ', '2348077874509 ', '2340903538228 ', '2349035382285 ', '2347034621054 ', '2348137616329 ', '2348169533630 ', '2348167334793 ', '2348131078767 ', '2348063109608 ', '2347030989024 ', '2348137772005 ', '2348057769894 ', '2348035411044 ', '2348130618086 ', '2348103991735 ', '2348108786158 ', '2348130569005 ', '2348141894347 ', '2348104244827 ', '2347088196303 ', '2349030319649 ', '2348022562258 ', '2349094264081 ', '2348063783572 ', '2347037918201 ', '2348121112147 ', '2347033669602 ', '2348108664431 ', '2347062398045 ', '2348167548490 ', '2349075867707 ', '2348157035515 ', '2349061999712 ', '2348165091388 ', '2348139296783 ', '2348064058362 ', '2348167956479 ', '2348126999497 ', '2348130990935 ', '2348130587037 ', '2349052684393 ', '2348129501901 ', '2348066285927 ', '2348132953574 ', '2349015066261 ', '2348106815269 ', '2348035752244 ', '2348061126821 ', '2347082507187 ', '2348056763430 ', '2348137583301 ', '2349036841196 ', '2347067870967 ', '2349070788490 ', '2347058124377 ', '2348058002295 ', '2347034711547 ', '2348065135758 ', '2347057714558 ', '2347031026037 ', '2347067926484 ', '2340812988242 ', '2348129882425 ', '2348039285048 ', '2348135367584 ', '2348135983892 ', '2347060804794 ', '2349072549757 ', '2347055957730 ', '2349054664207 ', '2348069198711 ', '2349038462162 ', '2348034697602 ', '2348131312135 ', '2347041618262 ', '2348058843101 ', '2348037603997 ', '2348148906843 ', '2348089738335 ', '2349033569061 ', '2348168451471 ', '2349053418946 ', '2348088773409 ', '2347062242413 ', '2348065553007 ', '2348139700611 ', '2348079719863 ', '2348165540090 ', '2348125846205 ', '2347037958192 ', '2349085304773 ', '2348138591526 ', '2348140897569 ', '2348033576758 ', '2349064092801 ', '2347085506360 ', '2348060894404 ', '2347019095718 ', '2348128332102 ', '2347033641910 ', '2348112522083 ', '2348064609825 ', '2348123309206 ', '2348094722794 ', '2347030202007 ', '2348166889921 ', '2348078984450 ', '2347062785729 ', '2348032353718 ', '2348035220053 ', '2347011012929 ', '2348130937750 ', '2348162717723 ', '2348030753784 ', '2348150238486 ', '2340803240879 ', '2348110971753 ', '2347066372714 ', '2348122635572 ', '2347034903336 ', '2348037878008 ', '2348072119775 ', '2348188974811 ', '2348065992824 ', '2347032819454 ', '2348100836679 ', '2348055200876 ', '2347066614009 ', '2348139423700 ', '2348135399908 ', '2347065932440 ', '2348036970557 ', '2348161144742 ', '2348074843442 ', '2348129883558 ', '2348162537841 ', '2349082373336 ', '2347052958666 ', '2347035663919 ', '2349121414357 ', '2348126877754 ', '2348138153506 ', '2349066047971 ', '2348168051622 ', '2348091944401 ', '2347069197133 ', '2347069179133 ', '2348068784914 ', '2347030609381 ', '2347064676491 ', '2349013080024 ', '2348136917845 ', '2348069089058 ', '2348062594572 ', '2348069338959 ', '2347057059819 ', '2349010885209 ', '2349023751339 ', '2347030893571 ', '2348069968281 ', '2347061045930 ', '2348149826081 ', '2348106343327 ', '2348032500661 ', '2348037388032 ', '2348035462074 ', '2348036342990 ', '2347062295949 ', '2348098565632 ', '2347044064569 ', '2348077426992 ', '2340908019222 ', '2349080192223 ', '2348111222678 ', '2348068628239 ', '2348034692117 ', '2347032966112 ', '2348034155865 ', '2348096169807 ', '2347055875987 ', '2348132021221 ', '2348109708437 ', '2347019655026 ', '2347088036235 ', '2349020035541 ', '2348069672456 ', '2348032101326 ', '2347067480309 ', '2347065167446 ', '2348022804802 ', '2347033871106 ', '2348167245779 ', '2348157022033 ', '2348037556700 ', '2347034704164 ', '2349039200855 ', '2348066694533 ', '2348078011369 ', '2348173464790 ', '2348138955760 ', '2348024701997 ', '2348129054668 ', '2349030745674 ', '2347066073985 ', '2348036395019 ', '2348063216610 ', '2349049272138 ', '2348101315429 ', '2348102990082 ', '2348101679501 ', '2348126347684 ', '2348027861957 ', '2348147563888 ', '2348039646681 ', '2348143382991 ', '2348036638713 ', '2348057744498 ', '2347032985325 ', '2349082920893 ', '2347035168484 ', '2349091411183 ', '2348034010891 ', '2349719159416 ', '2349068802173 ', '2348133593744 ', '2347065828090 ', '2348144103113 ', '2348032553656 ', '2340803387018 ', '2348033870185 ', '2348092672836 ', '2348176562060 ', '2348034955270 ', '2348081585950 ', '2349061889086 ', '2348033403605 ', '2348066081705 ', '2348065408098 ', '2348038194350 ', '2349026492139 ', '2347034848763 ', '2348166750403 ', '2348036371508 ', '2348023332375 ', '2348064144824 ', '2349022223454 ', '2349075855980 ', '2347064232060 ', '2348032408798 ', '2348035501945 ', '2348118194800 ', '2348037116320 ', '2349034425328 ', '2347032745742 ', '2347025601437 ', '2348068296092 ', '2349081807785 ', '2347039175455 ', '2340803479338 ', '2340706124024 ', '2347031847717 ', '2348169699792 ', '2348166971061 ', '2347063934061 ', '2348108621668 ', '2348033318149 ', '2348169682574 ', '2348038469281 ', '2348146214421 ', '2348146214428 ', '2348147449824 ', '2348032469862 ', '2347037364337 ', '2348036078796 ', '2348136176294 ', '2348146187222 ', '2349077574674 ', '2348101009096 ', '2348037238804 ', '2347032741017 ', '2347066112783 ', '2347018890611 ', '2348168573217 ', '2348100524030 ', '2348160165162 ', '2349034337333 ', '2349036965294 ', '2348187145867 ', '2348064537467 ', '2348038253568 ', '2349956893896 ', '2347018244250 ', '2348138319557 ', '2348063084531 ', '2348053620127 ', '2347082371288 ', '2349024590576 ', '2348030839051 ', '2349381292359 ', '2348164837480 ', '2348037670272 ', '2348169792520 ', '2347063833608 ', '2347061234124 ', '2348067382764 ', '2347063859848 ', '2348024491365 ', '2348178477000 ', '2348064544975 ', '2349077465334 ', '2347061288773 ', '2348134473430 ', '2349035538437 ', '2348139610129 ', '2348146156699 ', '2348100077736 ', '2340704008582 ', '2347040085820 ', '2347061240054 ', '2347061240024 ', '2348038786593 ', '2349071123849 ', '2348034900196 ', '2349092851832 ', '2348100991344 ', '2348171213612 ', '2348100324272 ', '2348187470910 ', '2348171182616 ', '2340703166499 ', '2347031664997 ', '2348135998432 ', '2348166568043 ', '2349037088468 ', '2349030532102 ', '2348086004860 ', '2349025844803 ', '2348037384650 ', '2348167977561 ', '2349156579574 ', '2348065915969 ', '2348096973442 ', '2348023308904 ', '2348169138061 ', '2348055915847 ', '2348063560827 ', '2348038592445 ', '2347019095648 ', '2348035520688 ', '2348130502450 ', '2347039568251 ', '2348078784079 ', '2348078774079 ', '2347088231591 ', '2349032429974 ', '2347089786647 ', '2349012703927 ', '2348067279400 ', '2348021049029 ', '2348164449021 ', '2348159437275 ', '2347085219543 ', '2340904201055 ', '2347063101351 ', '2340942010558 ', '2349042010558 ', '2347010793779 ', '2340904304114 ', '2349043041146 ', '2348068638613 ', '2349060111701 ', '2348038130523 ', '2340813889135 ', '2348103889135 ', '2348173303628 ', '2348066582369 ', '2349090544906 ', '2348033552227 ', '2348024544637 ', '2348064236414 ', '2347032444998 ', '2347038652577 ', '2349018919113 ', '2349074608130 ', '2347067876224 ', '2349015593531 ', '2348103285743 ', '2348060799040 ', '2347034372786 ', '2340806398748 ', '2348135632898 ', '2348187255911 ', '2348037731118 ', '2348078130506 ', '2348181329071 ', '2348137569689 ', '2348135973356 ', '2348148630687 ', '2349066861585 ', '2348180494921 ', '2348061100611 ', '2348023474041 ', '2348101307892 ', '2348155905339 ', '2349018044512 ', '2348061786386 ', '2348132457012 ', '2347061140114 ', '2348089557391 ', '2340706623790 ', '2347066237900 ', '2347066489897 ', '2348032978190 ', '2347037282155 ', '2340905347840 ', '2349014276366 ', '2340705183978 ', '2348069152307 ', '2348067009521 ', '2348104885612 ', '2348102205447 ', '2347010644271 ', '2348160045345 ', '2349053351125 ', '2348062676699 ', '2348038195838 ', '2348034081232 ', '2349075127819 ', '2348089797546 ', '2348181298611 ', '2347065551857 ', '2348061193245 ', '2348060821557 ', '2347033048607 ', '2348177658621 ', '2348064757765 ', '2347036812652 ', '2348137649655 ', '2348064201177 ', '2348129180004 ', '2348035564114 ', '2348167537604 ', '2348079569092 ', '2347066090712 ', '2348105456949 ', '2347067610702 ', '2347064323610 ', '2348126040136 ', '2348141673058 ', '2349136399041 ', '2348037244776 ', '2348039327824 ', '2347067873456 ', '2348122113708 ', '2349052497225 ', '2348032833390 ', '2348035960235 ', '2348130296961 ', '2348020748189 ', '2347037283503 ', '2348109303897 ', '2349056170465 ', '2348134134397 ', '2347037430413 ', '2348063576939 ', '2347012220329 ', '2349086577699 ', '2348039301357 ', '2349059841586 ', '2348036101424 ', '2348067600121 ', '2348031586577 ', '2348092149052 ', '2348079862788 ', '2347030960769 ', '2347033041128 ', '2347069770421 ', '2340816165438 ', '2347069282060 ', '2340816517846 ', '2348060733591 ', '2348038679462 ', '2348030700265 ', '2348075518772 ', '2348064297418 ', '2348149640128 ', '2348148713040 ', '2349093933371 ', '2348064670808 ', '2348025731693 ', '2348051169167 ', '2348134916814 ', '2348038544540 ', '2348130562636 ', '2348091290535 ', '2347063459883 ', '2349064029063 ', '2340906402906 ', '2348020742121 ', '2347025052265 ', '2348106144730 ', '2349011486121 ', '2347066358894 ', '2349080787624 ', '2348104562620 ', '2348067820197 ', '2348136596501 ', '2349016633492 ', '2348061515961 ', '2348091530317 ', '2349054494655 ', '2348037257901 ', '2348060284862 ', '2347037871374 ', '2348105526684 ', '2348125843410 ', '2340810696196 ', '2348025519986 ', '2348127165613 ', '2348125639395 ', '2348030602029 ', '2348037581787 ', '2347088423967 ', '2347065885546 ', '2349058922912 ', '2348030438694 ', '2348030468694 ', '2349060171484 ', '2347032435859 ', '2347030061055 ', '2348189451481 ', '2347048758090 ', '2348104547369 ', '2347397497994 ', '2348073582914 ', '2348088778627 ', '2348060751580 ', '2348107980200 ', '2348132314960 ', '2348100588689 ', '2347030804023 ', '2347030423464 ', '2348064264029 ', '2348069130757 ', '2347340542211 ', '2348061144031 ', '2348035336522 ', '2348058760289 ', '2348035117519 ', '2348188252567 ', '2348024510949 ', '2348167886365 ', '2340907570350 ', '2349075703509 ', '2348135231769 ', '2347066357284 ', '2348100484368 ', '2348162050880 ', '2340703019792 ', '2348106502307 ', '2348079562350 ', '2347038451096 ', '2340810154131 ', '2348173303928 ', '2348039300600 ', '2348164504153 ', '2348035339223 ', '2348035010179 ', '2347062898250 ', '2349033376779 ', '2349077646740 ', '2347051001936 ', '2349032400632 ', '2349031345873 ', '2348083649025 ', '2348033357988 ', '2340706457601 ', '2348033357955 ', '2347064576016 ', '2348064582346 ', '2348603758740 ', '2340705896322 ', '2349016254254 ', '2347055889632 ', '2348060913548 ', '2348164718828 ', '2347087167751 ', '2348039574090 ', '2348034392477 ', '2348165556205 ', '2348023177197 ', '2340806879689 ', '2347066559707 ', '2348068796892 ', '2348067769569 ', '2347037392345 ', '2347067972540 ', '2347084830232 ', '2348060207794 ', '2348162036992 ', '2348077754162 ', '2349082943506 ', '2349034899508 ', '2349064109871 ', '2348134676606 ', '2349054369942 ', '2348155938153 ', '2349138754678 ', '2340706793567 ', '2348138250402 ', '2348142617228 ', '2347011030860 ', '2348146486400 ', '2348103893221 ', '2348172746648 ', '2349084495581 ', '2348140404094 ', '2349095254957 ', '2349039256784 ', '2348083947715 ', '2348130020613 ', '2349650336855 ', '2348100528728 ', '2347033899556 ', '2348134210918 ', '2348133784253 ', '2348038443291 ', '2348180966417 ', '2348095588380 ', '2348067975617 ', '2348067419555 ', '2347066247234 ', '2347042319919 ', '2347041501816 ', '2348165323194 ', '2347063897760 ', '2348147320270 ', '2348037990394 ', '2349880201655 ', '2348164419545 ', '2348032116156 ', '2349326943209 ', '2340812726686 ', '2348137266866 ', '2340813726686 ', '2348183389105 ', '2349017104093 ', '2349045925435 ', '2348167607101 ', '2348062205919 ', '2349032430259 ', '2348034170833 ', '2348034953197 ', '2348103923777 ', '2348105806959 ', '2348108131813 ', '2347087535595 ', '2348087005763 ', '2348022516138 ', '2348050279561 ', '2347089984146 ', '2347040564426 ', '2347012709592 ', '2340815989503 ', '2348159895037 ', '2348160736000 ', '2348036901674 ', '2348106961969 ', '2348151257660 ', '2348072042314 ', '2349039605923 ', '2348072647691 ', '2348169222300 ', '2347039317061 ', '2348064616471 ', '2348110735614 ', '2340904974529 ', '2348166416654 ', '2348038230310 ', '2348123601516 ', '2348107035092 ', '2348162270717 ', '2348161535055 ', '2348067430894 ', '2349036157979 ', '2348063531363 ', '2347068780427 ', '2347033003657 ', '2347082272955 ', '2347082272655 ', '2348105909481 ', '2347047257353 ', '2348132126613 ', '2348080600436 ', '2340813474036 ', '2348134740369 ', '2347058963223 ', '2348088809759 ', '2347067408815 ', '2348026462734 ', '2348132594025 ', '2348098769762 ', '2347039284449 ', '2348030972591 ', '2349138266382 ', '2348033740965 ', '2348052887188 ', '2348020900111 ', '2348111218844 ', '2349011352510 ', '2348068172490 ', '2348053341628 ', '2348032593780 ', '2349039073969 ', '2348028754282 ', '2348069118626 ', '2348166609931 ', '2349029308812 ', '2340706676554 ', '2348033162671 ', '2348068950298 ', '2348037813906 ', '2349039902530 ', '2347054824859 ', '2348061164717 ', '2348153269614 ', '2348035697196 ', '2348033560467 ', '2348033809905 ', '2349053518845 ', '2347034657815 ', '2348034308128 ', '2347033949140 ', '2349056080820 ', '2348133071328 ', '2348065064135 ', '2347033773681 ', '2348158631282 ', '2348093647122 ', '2348142230045 ', '2347035862284 ', '2347039103111 ', '2347062889833 ', '2347080183509 ', '2349034000827 ', '2348031828570 ', '2347033602639 ', '2347060839553 ', '2348080356583 ', '2347037044287 ', '2348036926783 ', '2348063680349 ', '2348037322437 ', '2348087214731 ', '2348032571152 ', '2348067456135 ', '2340704599658 ', '2348143895914 ', '2348034550938 ', '2348134401244 ', '2347035995839 ', '2348135941225 ', '2348036702589 ', '2348104788987 ', '2347065556451 ', '2348100017068 ', '2348169068578 ', '2347042206252 ', '2349049117152 ', '2348165400335 ', '2348115989665 ', '2348115989965 ', '2348074144498 ', '2347018759162 ', '2348026488912 ', '2348062266617 ', '2349057043481 ', '2347011071534 ', '2348105569775 ', '2347051801676 ', '2348093235065 ', '2347573941114 ', '2347394111400 ', '2347068063494 ', '2348037180451 ', '2347039446013 ', '2340706876485 ', '2347068764859 ', '2349076713986 ', '2349051186914 ', '2348102347918 ', '2347053549425 ', '2347017397231 ', '2347038424295 ', '2348143571708 ', '2349134222310 ', '2349092195703 ', '2347030295620 ', '2349013411516 ', '2349086841208 ', '2348106043765 ', '2347067935673 ', '2348102259262 ', '2348038674252 ', '2348035916161 ', '2348067133116 ', '2348038192028 ', '2348119857398 ', '2348077128861 ', '2349038468061 ', '2348167404835 ', '2348139480760 ', '2347088576164 ', '2348038894370 ', '2348148832070 ', '2348142572749 ', '2348039322755 ', '2348122941453 ', '2347032111268 ', '2348033707891 ', '2348108739922 ', '2349072133541 ', '2348039765565 ', '2349092296239 ', '2340915181792 ', '2349151817924 ', '2348027645780 ', '2349034145305 ', '2349135373719 ', '2348169651969 ', '2348158518283 ', '2340906556542 ', '2349065565426 ', '2347031908166 ', '2348139061095 ', '2348036051034 ', '2340809640812 ', '2348096408129 ', '2349135351648 ', '2348055715913 ', '2348037757197 ', '2348028757868 ', '2347062955139 ', '2348132808112 ', '2348065768883 ', '2348136778784 ', '2348067690657 ', '2349036422835 ', '2340902984949 ', '2349029849494 ', '2347037342949 ', '2347087914281 ', '2348021265444 ', '2348169997727 ', '2348067590344 ', '2348055056401 ', '2347039898864 ', '2347067489177 ', '2349092110839 ', '2348168948260 ', '2348164316190 ', '2347035145311 ', '2349013739392 ', '2348034467056 ', '2348065882959 ', '2349064114432 ', '2348066377613 ', '2348146519443 ', '2348035719022 ', '2348024759724 ', '2348652548190 ', '2347038956828 ', '2349098518661 ', '2348169696414 ', '2348065263253 ', '2349041926805 ', '2347048154416 ', '2348144936498 ', '2348102340211 ', '2347045899432 ', '2348063351686 ', '2348131617498 ', '2349024506599 ', '2349096999499 ', '2348075245129 ', '2348134452259 ', '2349038071561 ', '2348023672756 ', '2348078706792 ', '2348037485918 ', '2348100089228 ', '2347062845896 ', '2348034926628 ', '2348036211447 ', '2348138155622 ', '2348131606657 ', '2348060367296 ', '2348064576358 ', '2340810399466 ', '2347068971684 ', '2348101360201 ', '2348106578008 ', '2348069326809 ', '2349036588593 ', '2349036260059 ', '2348132296618 ', '2348032538988 ', '2349066998811 ', '2348129909061 ', '2348031830669 ', '2348037281090 ', '2348136485304 ', '2348139552705 ', '2348120153920 ', '2347052847451 ', '2349090284622 ', '2348057886893 ', '2349036111693 ', '2348097275792 ', '2348034114726 ', '2347060970481 ', '2348038332690 ', '2348022127510 ', '2349054661328 ', '2348118739190 ', '2340802294183 ', '2347034729971 ', '2348065771942 ', '2348108355732 ', '2348124451197 ', '2348022941831 ', '2347036456708 ', '2347035609611 ', '2348133644809 ', '2348069788085 ', '2347082554542 ', '2348167147316 ', '2348188682194 ', '2348138328155 ', '2348078562526 ', '2348035594992 ', '2348038838899 ', '2348060143542 ', '2347062535420 ', '2348032161447 ', '2347061324141 ', '2347035424887 ', '2348162467639 ', '2340803572672 ', '2349020034498 ', '2349027317476 ', '2348035726720 ', '2349077843153 ', '2348038741184 ', '2348032785313 ', '2348052862739 ', '2348146541038 ', '2348035775770 ', '2347037742179 ', '2348126046630 ', '2348164602433 ', '2349029417859 ', '2348065118931 ', '2348031840531 ', '2348083843225 ', '2348130043950 ', '2348036552436 ', '2348169816227 ', '2348073912859 ', '2349069207492 ', '2347010290716 ', '2349095321381 ', '2348103949747 ', '2340705229497 ', '2347052294970 ', '2348037202619 ', '2340803591261 ', '2348035912615 ', '2340906425480 ', '2348157244638 ', '2340805393235 ', '2348053932353 ', '2349155257321 ', '2347034632176 ', '2347062789767 ', '2347089121282 ', '2348056426063 ', '2348182843865 ', '2348068513650 ', '2347010909963 ', '2347053255022 ', '2349034675994 ', '2347035681704 ', '2348162708386 ', '2348132682703 ', '2340802096767 ', '2348020967675 ', '2347068876692 ', '2348034160939 ', '2348079451571 ', '2349064254804 ', '2347064356866 ', '2349845127757 ', '2348096604503 ', '2347063316251 ', '2348039598380 ', '2347063982314 ', '2347063338353 ', '2349058846951 ', '2340703693312 ', '2349441138803 ', '2348064270343 ', '2340913712208 ', '2349137122087 ', '2348067771662 ', '2348164291801 ', '2348087046426 ', '2348143657084 ', '2348024696626 ', '2348132963915 ', '2349089841208 ', '2347031890449 ', '2348023458162 ', '2348102619338 ', '2349039705183 ', '2348138499362 ', '2347036508343 ', '2348053866740 ', '2348066856348 ', '2348166954892 ', '2348149597151 ', '2348092368463 ', '2348062368463 ', '2348105072051 ', '2347064761464 ', '2348166137613 ', '2348064167797 ', '2348170045645 ', '2348157327056 ', '2348122300667 ', '2347030050038 ', '2348066748492 ', '2348027516073 ', '2349046465282 ', '2349011961170 ', '2348037768624 ', '2348037218367 ', '2347032053232 ', '2340701029071 ', '2348032335137 ', '2348034667329 ', '2349052125184 ', '2348145972978 ', '2340703067262 ', '2347030672624 ', '2348107712542 ', '2348020338178 ', '2340802033817 ', '2348140701315 ', '2347030403310 ', '2349881881580 ', '2348060329335 ', '2348112049289 ', '2347088843506 ', '2348060372225 ', '2347067113814 ', '2349061339043 ', '2347039470747 ', '2348104501829 ', '2347032239427 ', '2348061104489 ', '2348032718158 ', '2347011764206 ', '2348136959908 ', '2348167117552 ', '2349090285273 ', '2340814018020 ', '2348140180204 ', '2348164528915 ', '2348025450601 ', '2347034726967 ', '2348132946417 ', '2348108937508 ', '2340802242849 ', '2348022428490 ', '2349063910556 ', '2348069466543 ', '2349079873752 ', '2347030103534 ', '2347037581086 ', '2348140273725 ', '2349038656049 ', '2347060879834 ', '2348038199326 ', '2348102542048 ', '2348161649550 ', '2348166439090 ', '2348036050993 ', '2349012694259 ', '2348065681160 ', '2348181896251 ', '2347066733938 ', '2349023222048 ', '2347510622429 ', '2348129423143 ', '2348036687853 ', '2348101342006 ', '2347035561300 ', '2349027042309 ', '2347025353682 ', '2348085245655 ', '2348135801599 ', '2348125236097 ', '2347082135615 ', '2347065265055 ', '2347060516211 ', '2348035847578 ', '2348032743526 ', '2347032376197 ', '2347060746469 ', '2348030650013 ', '2348132127754 ', '2348107127689 ', '2349082572993 ', '2348058121521 ', '2346387966339 ', '2348066081870 ', '2348154348930 ', '2340706792755 ', '2348062220021 ', '2347067927559 ', '2348037514270 ', '2348033202901 ', '2349029302293 ', '2348060464395 ', '2349138707358 ', '2348100816467 ', '2347010755462 ', '2347082092971 ', '2347035453401 ', '2348038846634 ', '2347064615339 ', '2347035494079 ', '2349060958461 ', '2348100652884 ', '2348100274965 ', '2348034831954 ', '2348051681212 ', '2347039423136 ', '2349063481590 ', '2348054080572 ', '2348073596226 ', '2340181686616 ', '2347060979056 ', '2348181686616 ', '2348034372233 ', '2347033436779 ', '2347038722409 ', '2348124605158 ', '2348069107923 ', '2349027492202 ', '2348115434644 ', '2348133985728 ', '2349037509682 ', '2348117727333 ', '2349031540413 ', '2347063534022 ', '2348062977560 ', '2348033274013 ', '2347069787160 ', '2348090687202 ', '2348032295453 ', '2340814811985 ', '2348032725262 ', '2348062206690 ', '2348130660424 ', '2348140176104 ', '2348038194492 ', '2348034742966 ', '2340803474296 ', '2347063084989 ', '2348139760999 ', '2348161128127 ', '2340816893049 ', '2348025237620 ', '2348031520148 ', '2348068533391 ', '2347062885951 ', '2348157185138 ', '2347084077775 ', '2348060595421 ', '2347044671788 ', '2340808781060 ', '2348188740672 ', '2348064418287 ', '2348026074529 ', '2348122614999 ', '2348183098371 ', '2347068990966 ', '2348162688278 ', '2348112867843 ', '2348036208774 ', '2347062040430 ', '2348167170575 ', '2348139434541 ', '2348068505777 ', '2348134926255 ', '2348066132693 ', '2348034265053 ', '2348162301601 ', '2347030063689 ', '2348035501295 ', '2348038369007 ', '2349121024564 ', '2348104527441 ', '2348089252444 ', '2348106302570 ', '2348156555378 ', '2348061528053 ', '2348087426705 ', '2347086609932 ', '2348164303275 ', '2347031378753 ', '2340703137875 ', '2347051896897 ', '2348065255545 ', '2348084598423 ', '2348133338538 ', '2349018763425 ', '2348133338539 ', '2349024964110 ', '2348032074825 ', '2348139113165 ', '2348037927394 ', '2348038315914 ', '2347066631402 ', '2348034249815 ', '2348034675141 ', '2347068889237 ', '2347068892387 ', '2347066219420 ', '2348030579135 ', '2340903820623 ', '2349038206238 ', '2348066385855 ', '2348060975218 ', '2348032785000 ', '2348032770636 ', '2349470073284 ', '2348168126660 ', '2348109212446 ', '2348060021208 ', '2347063964830 ', '2349133226463 ', '2348186785356 ', '2348105496204 ', '2348036166166 ', '2348023355483 ', '2348065468658 ', '2348032427457 ', '2348130732629 ', '2348105602494 ', '2348031524976 ', '2348103314188 ', '2340814486738 ', '2348037000238 ', '2348134457571 ', '2348028696583 ', '2348169017164 ', '2348137273834 ', '2348127373834 ', '2347067449037 ', '2348022130840 ', '2340703359863 ', '2348038050022 ', '2349050564804 ', '2349038560853 ', '2347731073296 ', '2349390466578 ', '2349177310732 ', '2348089330169 ', '2348055570364 ', '2349062381246 ', '2348148447054 ', '2347031390531 ', '2348104413282 ', '2348104487381 ', '2348166009175 ', '2347038544338 ', '2348106598527 ', '2347035119073 ', '2347060753457 ', '2348033977928 ', '2347059277892 ', '2347037544319 ', '2348100832996 ', '2348144784434 ', '2340706124002 ', '2348032407904 ', '2348033856728 ', '2348026285346 ', '2348167412220 ', '2348154095805 ', '2348103286382 ', '2349036854756 ', '2348104906358 ', '2349034009205 ', '2348146989073 ', '2347044270826 ', '2348071450253 ', '2347035954828 ', '2348067851702 ', '2348105184283 ', '2349399705411 ', '2348034064881 ', '2349021283020 ', '2348130032615 ', '2348103214041 ', '2349060800160 ', '2349099355655 ', '2349066261237 ', '2340802438357 ', '2348061636882 ', '2348169816360 ', '2348169193528 ', '2348068312048 ', '2340803429203 ', '2348034292036 ', '2348149149188 ', '2348130184745 ', '2348167927835 ', '2347062360091 ', '2349083533247 ', '2349043846289 ', '2347036728732 ', '2348056234435 ', '2340703056528 ', '2348107889541 ', '2347030565285 ', '2340723907268 ', '2348064417932 ', '2348146242312 ', '2349045422411 ', '2347033969389 ', '2348157143698 ', '2347011445754 ', '2348029498013 ', '2348183828224 ', '2347016382424 ', '2348089363945 ', '2348122799095 ', '2348134476515 ', '2347080089505 ', '2348186174264 ', '2348136258768 ', '2347063036983 ', '2347044391015 ', '2347066212499 ', '2348065100567 ', '2340818286283 ', '2340706352890 ', '2347063528908 ', '2348168004536 ', '2347038984332 ', '2348134372064 ', '2348134372864 ', '2348033955841 ', '2347053805853 ', '2348167975743 ', '2348037860720 ', '2349039124480 ', '2348140863140 ', '2349022040008 ', '2347048225167 ', '2349018555683 ', '2340703781576 ', '2348134724442 ', '2349069744143 ', '2347012018713 ', '2348144728434 ', '2348163060956 ', '2348067908625 ', '2348106505575 ', '2349079564472 ', '2347065228651 ', '2348101663694 ', '2349063649114 ', '2347063665883 ', '2348107997812 ', '2348161579055 ', '2340806658911 ', '2348066589115 ', '2348164574397 ', '2348037760740 ', '2348121092380 ', '2347038625226 ', '2348078648876 ', '2347084033564 ', '2348098990500 ', '2347033598635 ', '2347068366336 ', '2348073291729 ', '2348062129090 ', '2348027256341 ', '2348027333201 ', '2348174699666 ', '2349069947307 ', '2348081380625 ', '2347014266468 ', '2348140098480 ', '2348023197774 ', '2348126355509 ', '2348034780505 ', '2348056428824 ', '2347062041527 ', '2348037140101 ', '2348158191181 ', '2340803839736 ', '2348038397936 ', '2349032021903 ', '2348156057772 ', '2348037166132 ', '2348106934124 ', '2348063675604 ', '2340816704133 ', '2348167041338 ', '2348034397359 ', '2348032066363 ', '2347063300600 ', '2347080504900 ', '2347038870518 ', '2348104895852 ', '2348149794446 ', '2347063880230 ', '2348187090553 ', '2349078756575 ', '2348169096281 ', '2348165634576 ', '2347067036784 ', '2340982470582 ', '2340902470582 ', '2340904653233 ', '2348165120523 ', '2347038271030 ', '2348135676094 ', '2349055120883 ', '2348032875509 ', '2349032749350 ', '2348131077032 ', '2348148919797 ', '2348148622323 ', '2340906229264 ', '2349062292642 ', '2347040328658 ', '2347016472603 ', '2347064970413 ', '2348051721939 ', '2348103402400 ', '2340704427082 ', '2348170907096 ', '2340816546165 ', '2348166795501 ', '2347068727968 ', '2347068727965 ', '2348131150005 ', '2348065009990 ', '2349036623635 ', '2348068659056 ', '2348181243683 ', '2349052652144 ', '2348069141311 ', '2348035945516 ', '2348025862861 ', '2348162890516 ', '2349017135420 ', '2348142743347 ', '2348061331833 ', '2348037538319 ', '2340814819174 ', '2348148191742 ', '2349037690008 ', '2348030468721 ', '2348186003208 ', '2348175418415 ', '2348037577625 ', '2347068837837 ', '2347065086854 ', '2348163339050 ', '2348076637015 ', '2348136319499 ', '2348080837304 ', '2348132743806 ', '2349059422759 ', '2347038228713 ', '2349166565516 ', '2348070567972 ', '2348137801426 ', '2347039223125 ', '2349134494629 ', '2348066211253 ', '2348064425322 ', '2348132636192 ', '2348166871587 ', '2347064500861 ', '2348140649877 ', '2347044384157 ', '2348033162005 ', '2348104598900 ', '2347037281089 ', '2348022338658 ', '2347069559509 ', '2347041120734 ', '2347039415100 ', '2349059188463 ', '2347060560695 ', '2347051729234 ', '2347018179929 ', '2349029269866 ', '2348061581216 ', '2347033375296 ', '2349067264602 ', '2348138573918 ', '2340811502311 ', '2340901664772 ', '2348115023115 ', '2347065184481 ', '2348156320746 ', '2347069625105 ', '2349060731308 ', '2348186003508 ', '2348089344163 ', '2347066021083 ', '2348066449263 ', '2347034366080 ', '2348122327690 ', '2349065292646 ', '2348035365667 ', '2347019724031 ', '2348142109404 ', '2348036198303 ', '2348038843217 ', '2347030309678 ', '2348115733902 ', '2347066970190 ', '2347063569357 ', '2349975535363 ', '2348064654988 ', '2347055525132 ', '2348134927292 ', '2348022445621 ', '2349074953197 ', '2348069263894 ', '2349054272006 ', '2348036828827 ', '2349031598976 ', '2348031317468 ', '2348069441789 ', '2349053115462 ', '2348125231632 ', '2348062310276 ', '2348062459662 ', '2348069466332 ', '2348029715767 ', '2340814571803 ', '2348145718033 ', '2347062277259 ', '2347064704479 ', '2349051880633 ', '2349076127163 ', '2348064393825 ', '2348102868623 ', '2348098573923 ', '2348034862030 ', '2349056580622 ', '2348032067602 ', '2348036911820 ', '2349044806694 ', '2348102087320 ', '2347060722062 ', '2347065453537 ', '2347065856508 ', '2348036635622 ', '2349079849548 ', '2340811310348 ', '2348183723899 ', '2340807397993 ', '2347038887197 ', '2347017565759 ', '2349853582269 ', '2347020710788 ', '2347031957382 ', '2349545683591 ', '2348061104189 ', '2347666786700 ', '2347035799939 ', '2348143177118 ', '2349479288953 ', '2349037935570 ', '2348145404223 ', '2348075702294 ', '2349033520702 ', '2349032298009 ', '2347086124780 ', '2348034130102 ', '2348062813697 ', '2349065828103 ', '2348063241121 ', '2348144867387 ', '2347069779305 ', '2348038518810 ', '2348032560983 ', '2348038911055 ', '2348032032318 ', '2348064488684 ', '2349090077752 ', '2348155224199 ', '2348160652750 ', '2340902853345 ', '2347064963887 ', '2348074778900 ', '2349028533458 ', '2347044513837 ', '2348162401831 ', '2348137161478 ', '2349066994345 ', '2340915250353 ', '2349152503531 ', '2348036389358 ', '2347061042831 ', '2348060858177 ', '2348038192020 ', '2347033340685 ', '2348068323815 ', '2349029691105 ', '2347031034537 ', '2348027895352 ', '2348068684298 ', '2348054517056 ', '2348132601321 ', '2348097703601 ', '2347031056372 ', '2347040406507 ', '2348098892233 ', '2349033643622 ', '2347049519413 ', '2347035225963 ', '2349098963749 ', '2349151781169 ', '2340909896374 ', '2348165461658 ', '2348023339659 ', '2349061358744 ', '2347033804666 ', '2349035842514 ', '2348020926790 ', '2347032089052 ', '2348062162048 ', '2349061029451 ', '2347037634217 ', '2347068424315 ', '2348055065570 ', '2348168208015 ', '2347064933165 ', '2348117937021 ', '2348061602550 ', '2347039296860 ', '2348038153958 ', '2340810111378 ', '2348135940641 ', '2349022234690 ', '2348063995130 ', '2348033104512 ', '2348065091527 ', '2349359024362 ', '2348037189098 ', '2347032323626 ', '2348136163155 ', '2347039558692 ', '2349061674157 ', '2348087683709 ', '2348146308960 ', '2348088475744 ', '2349014081344 ', '2347038413250 ', '2349067750597 ', '2348144028370 ', '2348136136235 ', '2347031393230 ', '2348101007654 ', '2348111570016 ', '2340805789444 ', '2348057894444 ', '2348080294091 ', '2349081331789 ', '2348034129171 ', '2347038651350 ', '2348109741034 ', '2348091499329 ', '2347035148663 ', '2347039067751 ', '2348087203146 ', '2348032166822 ', '2348033702081 ', '2347025367476 ', '2349011215876 ', '2348101075707 ', '2349038415127 ', '2348136607322 ', '2347064648026 ', '2348077228875 ', '2340806048321 ', '2349911818806 ', '2347038398695 ', '2348069759755 ', '2348159428997 ', '2347060551837 ', '2348169056017 ', '2348026959730 ', '2347068010446 ', '2347034800730 ', '2348169184596 ', '2347017352538 ', '2347034847343 ', '2348035239642 ', '2348073979938 ', '2349016168394 ', '2349039240472 ', '2349027380563 ', '2347035781563 ', '2348133311197 ', '2349044094737 ', '2348067476676 ', '2349064685301 ', '2348083555697 ', '2348068467202 ', '2348133909346 ', '2349026169690 ', '2348068920151 ', '2348167074112 ', '2347087155487 ', '2348107087003 ', '2348025695681 ', '2347066381937 ', '2348168529086 ', '2340703046494 ', '2347030464948 ', '2349034219323 ', '2348067883588 ', '2347068244004 ', '2340781319552 ', '2348149668429 ', '2347089423843 ', '2348031893488 ', '2348050323056 ', '2340806336983 ', '2348114099816 ', '2348062878688 ', '2348038039963 ', '2349023086700 ', '2348063250250 ', '2347069206764 ', '2348039183824 ', '2340803416610 ', '2348034166104 ', '2348039440433 ', '2348080349383 ', '2349036456088 ', '2349055334385 ', '2349030502336 ', '2348147439850 ', '2348065377908 ', '2349018968108 ', '2349013719675 ', '2348105072618 ', '2349777107172 ', '2348036689201 ', '2347063857660 ', '2347055971295 ', '2349095092266 ', '2348132901658 ', '2348034301954 ', '2348186346379 ', '2348032423545 ', '2349029527910 ', '2347048519575 ', '2348107850324 ', '2347052054644 ', '2348037559280 ', '2348134608932 ', '2348056800468 ', '2349050478585 ', '2340909007775 ', '2349048590876 ', '2348100007303 ', '2347088333395 ', '2347034732992 ', '2348167327338 ', '2347063022838 ', '2347034594384 ', '2346207644801 ', '2348135268262 ', '2348103119642 ', '2348062786255 ', '2347010488713 ', '2348065115221 ', '2348173424608 ', '2348032787294 ', '2348137217631 ', '2349064585412 ', '2347033449466 ', '2347065469973 ', '2348100540750 ', '2348062490714 ', '2348106523416 ', '2348024488631 ', '2348033593515 ', '2349065303167 ', '2348101281591 ', '2348164678131 ', '2348146553113 ', '2347063472485 ', '2348130100464 ', '2348172917675 ', '2347048200153 ', '2348036269543 ', '2348032573038 ', '2347066713167 ', '2348186766653 ', '2348053448847 ', '2340803969885 ', '2348039698852 ', '2348030858555 ', '2348066673980 ', '2348106566074 ', '2349067686909 ', '2348098416322 ', '2347048606968 ', '2349095111379 ', '2348032431656 ', '2347061539201 ', '2348106600082 ', '2347063908729 ', '2348135361876 ', '2349014324515 ', '2347035000850 ', '2348069638814 ', '2349138119008 ', '2347066134759 ', '2340806902317 ', '2348034171699 ', '2348032191817 ', '2348165276504 ', '2348036755499 ', '2348024692670 ', '2349090495534 ', '2348089817676 ', '2348035184599 ', '2348104528501 ', '2348066045593 ', '2347043085508 ', '2347033338015 ', '2349064613490 ', '2349077179997 ', '2348138562486 ', '2340816688956 ', '2348166889568 ', '2348070806818 ', '2348066227821 ', '2347411832350 ', '2348036165459 ', '2348024566585 ', '2349030531188 ', '2348083730562 ', '2349122108056 ', '2349027218577 ', '2349092121586 ', '2347065497945 ', '2347059847070 ', '2349069744062 ', '2347089434990 ', '2347089434660 ', '2349034630787 ', '2347067844526 ', '2348124357147 ', '2340803133853 ', '2348031338531 ', '2349093739610 ', '2347068070026 ', '2348139569625 ', '2348164968566 ', '2348039569863 ', '2348164162582 ', '2348032554565 ', '2348159804934 ', '2348156677167 ', '2348167411588 ', '2348066441524 ', '2347040347958 ', '2348064928545 ', '2347001891504 ', '2348170778797 ', '2349035711668 ', '2347042752338 ', '2349035375623 ', '2348068836499 ', '2348061658869 ', '2348166511047 ', '2348163229818 ', '2348186897032 ', '2348038806858 ', '2347064473680 ', '2349062710848 ', '2348036827229 ', '2348038238257 ', '2349025546312 ', '2347838659892 ', '2348151795450 ', '2347038659892 ', '2348030610675 ', '2347017938041 ', '2348078499740 ', '2348065521635 ', '2347060830632 ', '2348035006071 ', '2348069273269 ', '2347036048100 ', '2348131504392 ', '2348028958657 ', '2348038069925 ', '2348168628097 ', '2347066195447 ', '2340810473706 ', '2349054203789 ', '2348133564181 ', '2349137108412 ', '2349060353375 ', '2348037545039 ', '2349042816037 ', '2349132940697 ', '2340706197147 ', '2347061971470 ', '2348109239339 ', '2349091275058 ', '2349053291808 ', '2348036497117 ', '2348106053721 ', '2348067942089 ', '2340703617163 ', '2347036171639 ', '2347030681549 ', '2348106306593 ', '2347069450610 ', '2348142808843 ', '2348055812063 ', '2348138347613 ', '2348068752674 ', '2348147856788 ', '2347081865866 ', '2348162666356 ', '2348148682150 ', '2348030817086 ', '2349036841847 ', '2348066504455 ', '2349065625175 ', '2348130036064 ', '2348164800235 ', '2347035771113 ', '2349082355304 ', '2349069991201 ', '2347033389469 ', '2348140367126 ', '2348030553859 ', '2348026318455 ', '2348056544399 ', '2347036690275 ', '2348037199278 ', '2348166110764 ', '2340703879668 ', '2348110749434 ', '2347068220605 ', '2349090167170 ', '2348065218713 ', '2348036283112 ', '2348069023179 ', '2348108097108 ', '2349058582551 ', '2349068700483 ', '2347069079066 ', '2348030775571 ', '2348064736767 ', '2349611664077 ', '2347066896074 ', '2349122133040 ', '2347064754369 ', '2347035775534 ', '2348059757282 ', '2347068899011 ', '2347050881077 ', '2348066737612 ', '2349019362771 ', '2347066916228 ', '2340707062030 ', '2349023630573 ', '2347061241008 ', '2348101011092 ', '2349035498725 ', '2348033362456 ', '2348039363466 ', '2348104307610 ', '2340701725358 ', '2347039735031 ', '2348038992658 ', '2348136278083 ', '2348102034565 ', '2347050387833 ', '2347011861194 ', '2347037062031 ', '2348065149158 ', '2348146557413 ', '2348104053975 ', '2349046867004 ', '2349022131709 ', '2347032667094 ', '2340706124955 ', '2347061249551 ', '2348153855228 ', '2349063858788 ', '2340806914131 ', '2348068266024 ', '2349009848409 ', '2348114222678 ', '2348037308904 ', '2347081308909 ', '2348020316827 ', '2348131575161 ', '2348137646181 ', '2348081982016 ', '2348034522272 ', '2348104930852 ', '2340803493057 ', '2348159880098 ', '2347064812938 ', '2348148184797 ', '2348102648221 ', '2347061121306 ', '2348035703629 ', '2348035766766 ', '2349037570178 ', '2347063419592 ', '2348067270061 ', '2340706089068 ', '2349023730588 ', '2348036105696 ', '2348104643060 ', '2348138022913 ', '2347035391300 ', '2348060184896 ', '2348139461796 ', '2347067506760 ', '2348168057663 ', '2348034925991 ', '2348038175215 ', '2347060404977 ', '2348117651056 ', '2348032166665 ', '2348033899853 ', '2348100318204 ', '2349014363009 ', '2347061101898 ', '2348106511936 ', '2348141121414 ', '2349078614198 ', '2348134743417 ', '2340903684184 ', '2349429680826 ', '2348160564676 ', '2348034852582 ', '2347059665470 ', '2348036545484 ', '2349061508261 ', '2348037841660 ', '2347088588945 ', '2347060694836 ', '2349811172441 ', '2347033776061 ', '2347069700029 ', '2347031669882 ', '2348054392456 ', '2348174879389 ', '2348147837417 ', '2348166499882 ', '2347069363482 ', '2347064315936 ', '2347065318528 ', '2348176252553 ', '2348085298913 ', '2349138121099 ', '2347082997462 ', '2348144459770 ', '2349138271634 ', '2348032819279 ', '2348137340733 ', '2348100587961 ', '2347031534738 ', '2349335289982 ', '2348104715769 ', '2348063238939 ', '2349100783845 ', '2348116834284 ', '2348138134358 ', '2349012594921 ', '2349022131136 ', '2349022750360 ', '2347030647571 ', '2348034930570 ', '2348119913202 ', '2348118147001 ', '2348137460655 ', '2349031155610 ', '2347875755456 ', '2348108991884 ', '2348102348850 ', '2348146274621 ', '2348036481211 ', '2340818709055 ', '2348149308218 ', '2348108988200 ', '2348114860516 ', '2348169160710 ', '2349137455766 ', '2348100496537 ', '2348066524264 ', '2340810720894 ', '2348107208943 ', '2347068856133 ', '2347065218739 ', '2348036959550 ', '2347053716746 ', '2348025689608 ', '2348135729988 ', '2349081282940 ', '2348141835014 ', '2348140235068 ', '2348123980990 ', '2349153078366 ', '2340904041157 ', '2349040411577 ', '2348136541130 ', '2349097114643 ', '2347087002616 ', '2349036365691 ', '2349058205248 ', '2349158205248 ', '2348106525558 ', '2349060738766 ', '2348134706639 ', '2348053317569 ', '2349030563625 ', '2347034505272 ', '2348033330011 ', '2340706135978 ', '2347061359789 ', '2349022011001 ', '2348077862537 ', '2347036163057 ', '2340810051494 ', '2348100514948 ', '2349065434160 ', '2348136155985 ', '2349051934458 ', '2348130995212 ', '2348162744911 ', '2349035810134 ', '2349060399774 ', '2348167572436 ', '2348154153536 ', '2348064595453 ', '2348478837343 ', '2349184788373 ', '2348075135687 ', '2347037282055 ', '2340810891884 ', '2340803743671 ', '2348037436719 ', '2348126073733 ', '2349026560270 ', '2348118540772 ', '2348067800639 ', '2349026710954 ', '2348134744127 ', '2348065499315 ', '2349056212268 ', '2348138084417 ', '2348037224569 ', '2347010355264 ', '2348065254400 ', '2347065185861 ', '2348133801933 ', '2348023626029 ', '2347039257229 ', '2348189717809 ', '2348032414771 ', '2348035864593 ', '2348020664440 ', '2349051541889 ', '2347048307191 ', '2348149582839 ', '2348065908549 ', '2348161732612 ', '2348103090379 ', '2348051279957 ', '2349093290932 ', '2347085153622 ', '2340816210675 ', '2349021140388 ', '2348038763698 ', '2349902996929 ', '2348065117043 ', '2348065359629 ', '2340901841202 ', '2349018412021 ', '2348035135171 ', '2349059862372 ', '2349028941578 ', '2347064464155 ', '2349135669205 ', '2349150551229 ', '2349058751865 ', '2347004497316 ', '2348137912361 ', '2348033496550 ', '2348164525578 ', '2340903491474 ', '2349034914740 ', '2347045721572 ', '2348156653211 ', '2348063555255 ', '2348101173467 ', '2349135037081 ', '2348053433650 ', '2347039334224 ', '2348084217790 ', '2348064990765 ', '2347033593547 ', '2347060523911 ', '2348065401430 ', '2349151799331 ', '2347019360949 ', '2348054442584 ', '2349061283105 ', '2348167518792 ', '2348116227172 ', '2348028445937 ', '2347081841356 ', '2340706918800 ', '2349053625427 ', '2348063238275 ', '2348165793782 ', '2348066952664 ', '2348167422912 ', '2347067070832 ', '2340809651338 ', '2348145159975 ', '2348060960860 ', '2348160370646 ', '2348027228304 ', '2347031074766 ', '2348038836477 ', '2349515741158 ', '2340815403898 ', '2348154038989 ', '2348138662483 ', '2349866985342 ', '2348036475440 ', '2347069459611 ', '2340803243253 ', '2349012858006 ', '2340703480695 ', '2349044851702 ', '2348104400008 ', '2349059525879 ', '2340905952587 ', '2348036556177 ', '2348130025847 ', '2349131263598 ', '2348897141492 ', '2349033522723 ', '2348033382131 ', '2348067476546 ', '2347013098589 ', '2340904975082 ', '2347013671418 ', '2349041534374 ', '2349055381929 ', '2349019362741 ', '2348132127521 ', '2348160893134 ', '2348065584854 ', '2347038785463 ', '2348035314977 ', '2349054068965 ', '2348102555214 ', '2348104753717 ', '2349079785368 ', '2348089894683 ', '2348178684284 ', '2348063563662 ', '2348027758379 ', '2349020465378 ', '2347032727279 ', '2349078241545 ', '2348031506959 ', '2348162095380 ', '2349019009109 ', '2348120007775 ', '2348101952439 ', '2348104099134 ', '2348136572593 ', '2348080286624 ', '2348023528707 ', '2340815514135 ', '2348155141352 ', '2348167666163 ', '2348138036514 ', '2348139443438 ', '2348062860303 ', '2340806991219 ', '2348129882409 ', '2348144233533 ', '2348063843521 ', '2348109483642 ', '2348100238016 ', '2348033426334 ', '2347620365760 ', '2349084807591 ', '2340803883458 ', '2348037104161 ', '2348100291838 ', '2348062714635 ', '2348063344979 ', '2348163048472 ', '2349034401444 ', '2348030874145 ', '2348144027115 ', '2348038834586 ', '2348033135473 ', '2348095369583 ', '2348130000283 ', '2348449507140 ', '2348065512752 ', '2349064450129 ', '2347080928365 ', '2348168428404 ', '2348130007413 ', '2348139455767 ', '2340802915806 ', '2348029158066 ', '2348076522187 ', '2348054702554 ', '2348111641978 ', '2348133151667 ', '2349031646274 ', '2347065237348 ', '2348033171320 ', '2348165610061 ', '2347037093567 ', '2349034981681 ', '2348769000647 ', '2348064056581 ', '2348128975309 ', '2348023904035 ', '2340732435312 ', '2349122103024 ', '2347032435312 ', '2348063369830 ', '2347042889148 ', '2348169026301 ', '2348137928505 ', '2347044801834 ', '2347039126230 ', '2348141210712 ', '2349046487271 ', '2347053684435 ', '2348032519041 ', '2348062110919 ', '2347037640576 ', '2348169805346 ', '2348129704834 ', '2348034141407 ', '2349036723326 ', '2348120944577 ', '2348063343320 ', '2348097043629 ', '2347382723973 ', '2348036500559 ', '2347037341034 ', '2348066993711 ', '2349059292883 ', '2349093637687 ', '2347012830940 ', '2347065952796 ', '2348032251675 ', '2348084974820 ', '2348027600185 ', '2347018577323 ', '2349063301964 ', '2340745118809 ', '2348144190234 ', '2348141923011 ', '2348143833004 ', '2349050587568 ', '2349530338533 ', '2348052512322 ', '2347086403699 ', '2348036573837 ', '2349036720117 ', '2347063111476 ', '2340814116042 ', '2348041160402 ', '2348135922576 ', '2347031901985 ', '2348137311464 ', '2348028557839 ', '2348098026601 ', '2347069061203 ', '2348072707777 ', '2349982676674 ', '2347064706572 ', '2347063955695 ', '2349039039304 ', '2348145795844 ', '2340806253753 ', '2348062537531 ', '2347030263394 ', '2340808806523 ', '2348088065235 ', '2347034263092 ', '2349018503099 ', '2347037934974 ', '2347056692499 ', '2349043286003 ', '2348068796187 ', '2347064464791 ', '2347031551667 ', '2349042735497 ', '2349064809729 ', '2347030211585 ', '2340813223002 ', '2348167137680 ', '2348133420315 ', '2347058670707 ', '2348161326553 ', '2348058530358 ', '2340810693412 ', '2349064522303 ', '2348073637919 ', '2348080398031 ', '2348156272975 ', '2348131976803 ', '2349063871432 ', '2348103811355 ', '2347033251867 ', '2348083379011 ', '2349079480117 ', '2348035923521 ', '2348036056976 ', '2347080442961 ', '2347030948275 ', '2347010483967 ', '2348066178927 ', '2347035665540 ', '2349085931342 ', '2348121828226 ', '2348123241370 ', '2348148268407 ', '2348036182286 ', '2348030959086 ', '2348065355516 ', '2347057486905 ', '2347031088684 ', '2349022666624 ', '2348163557361 ', '2347061527259 ', '2340814504860 ', '2348145048600 ', '2340708227699 ', '2347082276993 ', '2348037835263 ', '2348060840812 ', '2348167469194 ', '2347032225317 ', '2349063437320 ', '2349074215036 ', '2348141534560 ', '2347032935882 ', '2348146222424 ', '2348125011269 ', '2348125011266 ', '2340838711270 ', '2348131947205 ', '2348034607135 ', '2340812316069 ', '2348123160693 ', '2347065561425 ', '2347031181188 ', '2347064593880 ', '2348141927357 ', '2348146888101 ', '2348038711270 ', '2348038309821 ', '2348036396912 ', '2348132174851 ', '2347064593269 ', '2348100548571 ', '2347062502348 ', '2347035714636 ', '2348064383007 ', '2349034557627 ', '2349053516552 ', '2347018008204 ', '2349079947639 ', '2349030102637 ', '2348094989997 ', '2348076568757 ', '2347040395354 ', '2348182211084 ', '2348160762600 ', '2348024465788 ', '2347065758882 ', '2347037216275 ', '2348058893166 ', '2347263015796 ', '2349034490250 ', '2348184899286 ', '2347068746821 ', '2347030857322 ', '2348137265016 ', '2349038728156 ', '2348026494156 ', '2348112278435 ', '2347063635807 ', '2348105153546 ', '2348032287196 ', '2349074900701 ', '2348132720821 ', '2348033040204 ', '2347043655656 ', '2347017611964 ', '2340703734103 ', '2347038572415 ', '2348128803857 ', '2347063621373 ', '2348135531217 ', '2348167140486 ', '2347831192917 ', '2347062173943 ', '2347043728129 ', '2347016767464 ', '2348163865929 ', '2348076901186 ', '2348154390923 ', '2349075541848 ', '2347032848630 ', '2348161699842 ', '2347060800291 ', '2349035535971 ', '2348135900997 ', '2348102492613 ', '2348141203105 ', '2348168170608 ', '2340790406373 ', '2348668931974 ', '2348131315687 ', '2349056611287 ', '2348088666442 ', '2349053070629 ', '2349067695699 ', '2349052725324 ', '2348134396911 ', '2348111885051 ', '2348168434320 ', '2348064070983 ', '2347060636702 ', '2349037893237 ', '2340755560193 ', '2347030700507 ', '2348101639297 ', '2348167322466 ', '2340816496856 ', '2349131171387 ', '2347045548694 ', '2349036493099 ', '2348101504777 ', '2347042895534 ', '2347042347682 ', '2349039797272 ', '2348115626793 ', '2340023904035 ', '2347030343620 ', '2348064502412 ', '2348162348296 ', '2347068854542 ', '2349031226912 ', '2348147257649 ', '2348135316877 ', '2348118503876 ', '2347063492113 ', '2349057487305 ', '2348173103909 ', '2347015446066 ', '2349058282053 ', '2340813916924 ', '2348139169243 ', '2347053561296 ', '2349074958552 ', '2349028982954 ', '2348035825060 ', '2347037550257 ', '2347044054623 ', '2349062491268 ', '2348135465808 ', '2348135465805 ', '2348161132096 ', '2347013295935 ', '2348083902842 ', '2348140934637 ', '2347041675349 ', '2348167624285 ', '2348034826884 ', '2347068886333 ', '2348139257740 ', '2348146457518 ', '2349067406193 ', '2340906128310 ', '2348100094784 ', '2340813848788 ', '2348138487880 ', '2348162839787 ', '2348117810552 ', '2340949750827 ', '2348174452805 ', '2347037892624 ', '2348167012798 ', '2348063058539 ', '2348109935430 ', '2348167740886 ', '2348039826873 ', '2348136723402 ', '2347083029055 ', '2347038126387 ', '2348147774729 ', '2348173432656 ', '2348100539326 ', '2347069324535 ', '2348036704396 ', '2349035288710 ', '2347064615067 ', '2348036421295 ', '2348104428839 ', '2347069451795 ', '2348036280229 ', '2349054804650 ', '2347035387316 ', '2347046427306 ', '2348023302763 ', '2340906658514 ', '2348028262803 ', '2348122812049 ', '2348076504029 ', '2349057822321 ', '2348051909801 ', '2348033380839 ', '2348090611788 ', '2348090611700 ', '2348116711351 ', '2348165594767 ', '2348129163331 ', '2348065905545 ', '2348167159579 ', '2349011318634 ', '2348132858028 ', '2348092935590 ', '2348159857793 ', '2349033191511 ', '2349033631698 ', '2347066046677 ', '2348037433896 ', '2349066585146 ', '2348032151111 ', '2348166464239 ', '2349138858149 ', '2349050482247 ', '2349150482247 ', '2349014487469 ', '2348128354064 ', '2349066249177 ', '2349055210121 ', '2349039712913 ', '2348032395700 ', '2347019306894 ', '2348179211800 ', '2348067637697 ', '2347065831551 ', '2348134111113 ', '2348103284422 ', '2348038388417 ', '2349135072736 ', '2348129870034 ', '2348155499487 ', '2348036069353 ', '2349095111373 ', '2348063696868 ', '2349050568305 ', '2348164128861 ', '2347018402108 ', '2349024334521 ', '2347015524022 ', '2349066361553 ', '2347026000089 ', '2340703844447 ', '2347038444473 ', '2348093055857 ', '2349049572744 ', '2348083865432 ', '2349030388225 ', '2348137506465 ', '2348132577038 ', '2347035890262 ', '2347063505893 ', '2348139153129 ', '2349024460526 ', '2347056371200 ', '2349069660563 ', '2348147117375 ', '2340816744097 ', '2348056791425 ', '2348156791425 ', '2349134943830 ', '2349136682599 ', '2347049410240 ', '2349034966950 ', '2349056658429 ', '2349044920461 ', '2348123347203 ', '2340811108319 ', '2348111083195 ', '2348059626258 ', '2348037004871 ', '2340808305366 ', '2348083053663 ', '2349053451768 ', '2347065061799 ', '2348147316538 ', '2349054033143 ', '2348071942481 ', '2348129811186 ', '2340816299864 ', '2348162998648 ', '2349058328292 ', '2349024902568 ', '2347068074503 ', '2347044597280 ', '2348109942626 ', '2347035998452 ', '2347035099017 ', '2348103030121 ', '2348141194675 ', '2340902860449 ', '2349028604496 ', '2348052413610 ', '2348038739266 ', '2349010908410 ', '2348028567174 ', '2349021753831 ', '2348062359727 ', '2349033339958 ', '2343253868686 ', '2348139307399 ', '2348033362933 ', '2348132394779 ', '2349053048052 ', '2348066183256 ', '2348107347040 ', '2349033122982 ', '2348085253999 ', '2349044517475 ', '2348131150622 ', '2348109623179 ', '2348110554782 ', '2347030447955 ', '2349049750827 ', '2349039400689 ', '2348074521336 ', '2349066576444 ', '2340708150845 ', '2340781508450 ', '2347081508450 ', '2347087130086 ', '2349026630871 ', '2348059132143 ', '2348105179588 ', '2348172012323 ', '2349095555451 ', '2348060600180 ', '2347049262783 ', '2349059623736 ', '2347064240647 ', '2348100529554 ', '2349991152332 ', '2347035172609 ', '2349021936880 ', '2340805851003 ', '2348058510038 ', '2348038718591 ', '2347055904604 ', '2348020905974 ', '2348105009461 ', '2348062986601 ', '2340907776275 ', '2349077762758 ', '2348036059925 ', '2349068530379 ', '2348165865541 ', '2348036087395 ', '2347047495630 ', '2347033145382 ', '2349158639908 ', '2348062222313 ', '2349033363409 ', '2348136020025 ', '2347048093214 ', '2347039056756 ', '2348133308323 ', '2348143345535 ', '2348143345537 ', '2348167453515 ', '2348166863432 ', '2347038198526 ', '2349067041206 ', '2349091269336 ', '2347030735955 ', '2348184188400 ', '2340814280068 ', '2348142800685 ', '2348171109425 ', '2348139719113 ', '2348025607880 ', '2347083075646 ', '2349082041961 ', '2348108909375 ', '2348085428788 ', '2349069185442 ', '2347083329088 ', '2347064598594 ', '2348167473687 ', '2348123383841 ', '2349066455273 ', '2340812339752 ', '2348123397528 ', '2349061728928 ', '2347037223704 ', '2340810460630 ', '2348104606303 ', '2348107175923 ', '2348131514768 ', '2349033018028 ', '2348065532446 ', '2348035738744 ', '2347035359155 ', '2349017892940 ', '2348030456697 ', '2348139751110 ', '2347065769412 ', '2348032295468 ', '2348032934769 ', '2349076947828 ', '2347068962544 ', '2348180293526 ', '2348091825408 ', '2348120001994 ', '2349060643395 ', '2348131355504 ', '2349099717425 ', '2347069026973 ', '2340805905471 ', '2348162469673 ', '2347030752271 ', '2348037355643 ', '2348156719130 ', '2349151754926 ', '2348064034406 ', '2347061085698 ', '2348133798101 ', '2349035467664 ', '2347032085397 ', '2348063194318 ', '2348036638735 ', '2348038287807 ', '2349037312997 ', '2348033949644 ', '2348133584591 ', '2349058395452 ', '2348063239523 ', '2348148090967 ', '2347013794528 ', '2347039540531 ', '2347068867325 ', '2347065125702 ', '2349037152346 ', '2348032953780 ', '2348032211161 ', '2348103638527 ', '2348100932074 ', '2349069034874 ', '2348062479117 ', '2349043846060 ', '2349042328627 ', '2349137779621 ', '2348107711472 ', '2340782020962 ', '2347031275619 ', '2349131478162 ', '2348054596799 ', '2349017297550 ', '2348066314535 ', '2348158121815 ', '2349069397352 ', '2348077001069 ', '2348035705790 ', '2347039432707 ', '2348083517011 ', '2347068100029 ', '2348033401754 ', '2348100879473 ', '2347049952101 ', '2348035628595 ', '2347037188825 ', '2348146393058 ', '2348035122948 ', '2348075007760 ', '2349032399123 ', '2340813470387 ', '2348155755392 ', '2348123111441 ', '2348135592272 ', '2348166034174 ', '2340802074212 ', '2348139169569 ', '2347035864882 ', '2348027050994 ', '2348029309469 ', '2348101492603 ', '2348053022735 ', '2340941892870 ', '2348108182033 ', '2348023195022 ', '2348135369988 ', '2348084487979 ', '2348116559590 ', '2340816911569 ', '2348169115699 ', '2348035063634 ', '2340514387398 ', '2348134416963 ', '2347039213873 ', '2348039818604 ', '2348066901092 ', '2348152256652 ', '2348067100596 ', '2347060551691 ', '2340803545505 ', '2348035455051 ', '2347060427011 ', '2340902486855 ', '2349024868556 ', '2348162869646 ', '2347065796631 ', '2348182498661 ', '2349021700714 ', '2348032572750 ', '2347030133000 ', '2349152152920 ', '2348037910994 ', '2348144139640 ', '2346204258735 ', '2347038426222 ', '2348164287002 ', '2347062694948 ', '2348147526550 ', '2349065431222 ', '2341856342099 ', '2349929016555 ', '2347061925133 ', '2348037945002 ', '2347031891781 ', '08165967191 ', '08033984930 ', '08065117043 ', '08068492563 ', '08034420667 ', '07031030900 ', '08177608934 ', '08032068418 ', '08166090619 ', '09097777124 ', '08134573250 ', '08033202232 ', '07038716393 ', '08026417478 ', '08027551851 ', '08023021239 ', '08076176963 ', '08139325654 ', '09053552836 ', '08036707155 ', '08035781281 ', '08188901546 ', '08038483451 ', '09068045843 ', '08022242681 ', '07052960619 ', '08108302263 ', '08068802264 ', '08166715418 ', '08136903705 ', '07032057588 ', '08109690422 ', '08101666365 ', '07032130036 ', '08035201621 ', '08023105039 ', '08062847041 ', '07037394826 ', '08134359601 ', '09067465555 ', '09064535580 ', '08165675472 ', '08133613828 ', '07069189651 ', '08126229137 ', '08107085537 ', '08027170517 ', '09069392738 ', '08137772005 ', '08029721135 ', '09134385240 ', '08023102039 ', '07038416517 ', '09061246328 ', '09025180473 ', '07042997561 ', '08058842270 ', '08113375843 ', '08032614802 ', '08167230438 ', '08136883682 ', '08075507365 ', '09023164469 ', '08092347840 ', '07030197924 ', '08062185919 ', '08033003738 ', '08169699617 ', '09068971012 ', '08102721100 ', '08123323561 ', '08171270027 ', '08137537121 ', '08097777124 ', '09036153393 ', '08133996081 ', '08135004715 ', '09042328627 ', '08142529325 ', '08086265450 ', '08151617018 ', '09039203974 ', '08162294710 ', '08144151083 ', '08034354554 ', '08060941944 ', '09093893760 ', '08132976934 ', '08182122419 ', '08162955012 ', '08083015222 ', '08108021936 ', '09066858181 ', '08034941674 ', '08063528781 ', '09041322313 ', '08160833381 ', '08056733040 ', '08160452592 ', '08102936826 ', '08037147473 ', '09044909236 ', '08082732697 ', '09019643555 ', '09016425155 ', '08130847499 ', '09064248521 ', '08066756373 ', '09043089589 ', '09063903778 ', '08140640557 ', '08139421282 ', '07068063494 ', '08140717000 ', '08130519386 ', '08146754277 ', '08085557195 ', '08149203956 ', '08166660409 ', '07043663611 ', '08146111487 ', '08145349092 ', '08027333201 ', '08061983677 ', '08148919797 ', '07034559159 ', '08058643225 ', '09011235972 ', '08037442844 ', '09026020906 ', '07016738709 ', '07011030185 ', '07033340685 ', '08088644131 ', '08027540577 ', '09152503531 ', '08134986274 ', '08155212371 ', '08188212371 ', '08161654388 ', '08163822858 ', '07061639201 ', '08161654688 ', '07068070026 ', '07037062030 ', '07017352538 ', '08038814408 ', '09078053032 ', '08102348850 ', '09122108056 ', '08135729988 ', '07037961695 ', '07044270826 ', '09062292642 ', '07037341034 ', '09075885401 ', '08169918168 ', '08105184283 ', '08141927357 ', '08161699842 ', '07038316517 ', '09031613648 ', '08135465805 ', '09024902568 ', '08062986601 ', '09036657738 ', '08142529625 ', '9977672137 ', '9977672144 ', '9977586005 ', '9979361451 ', '9981161119 ', '9982764579 ', '9981297380 ', '9980284347 ', '9979035174 ', '9978222955 ', '9982791892 ', '9982615640 ', '9980407740 ', '9981650093 ', '9981736496 ', '9981380260 ', '9978762422 ', '9978152324 ', '9979016782 ', '9979341206 ', '9981513488 ', '9978649723 ', '9979217905 ', '9981413148 ', '9981131675 ', '9982880523 ', '9979161338 ', '9980318246 ', '9979735302 ', '9980026123 ', '9978554272 ', '9980942528 ', '9981756823 ', '9982081313 ', '9978617584 ', '9979379997 ', '9978186567 ', '9981642454 ', '9979149914 ', '9981519033 ', '9978436169 ', '9979567301 ', '9978537358 ', '9977803296 ', '9979597955 ', '9978377109 ', '9982062031 ', '9982913009 ', '9978516319 ', '9978705689 ', '9978110322 ', '9980254542 ', '9978133097 ', '9978459274 ', '9978740565 ', '9979568377 ', '9978682753 ', '9979123183 ', '9979107307 ', '9982624413 ', '9977797232 ', '9979282088 ', '9982100708 ', '9982549684 ', '9981622656 ', '9978114681 ', '9978390788 ', '9979117713 ', '9982335102 ', '9981776731 ', '9978513435 ', '9980142294 ', '9981613395 ', '9978304738 ', '9982040301 ', '9978415890 ', '9981636431 ', '9980108126 ', '9978824036 ', '9979625508 ', '9979273497 ', '9977803258 ', '9979534062 ', '9978593675 ', '9979813053 ', '9981208834 ', '9978575912 ', '9979896294 ', '9980897202 ', '9979858733 ', '9981794092 ', '9981586938 ', '9978456534 ', '9981272460 ', '9982804790 ', '9982602934 ', '9979754244 ', '9981094871 ', '9977884622 ', '9982117151 ', '9978654134 ', '9978327836 ', '9980223427 ', '9979513308 ', '9979141145 ', '9982345484 ', '9978334674 ', '9979809089 ', '9980315881 ', '9979776699 ', '9980379180 ', '9982488967 ', '9979296227 ', '9979402703 ', '9979915555 ', '9979031004 ', '9982571438 ', '9982721903 ', '9982587712 ', '9981718960 ', '9981074664 ', '9982286864 ', '9980575229 ', '9981151521 ', '9978745364 ', '9978602850 ', '9982764933 ', '9980719836 ', '9982921947 ', '9981906305 ', '9980059039 ', '9979368869 ', '9978837443 ', '9980733261 ', '9980367835 ', '9982903442 ', '9979505367 ', '9979865375 ', '9979978510 ', '9979625711 ', '9981288775 ', '9980223795 ', '9981949919 ', '9980943594 ', '9980476034 ', '9978282971 ', '9977714651 ', '9980257897 ', '9979200349 ', '9978108675 ', '9981538322 ', '9977892539 ', '9981078961 ', '9981494110 ', '9982568289 ', '9982252054 ', '9982170721 ', '9979725233 ', '9982696461 ', '9979143046 ', '9979243654 ', '9979700117 ', '9980409751 ', '9980575164 ', '9981173608 ', '9979229676 ', '9978948017 ', '9980697945 ', '9979910574 ', '9978543821 ', '9981102183 ', '9979460433 ', '9979840871 ', '9980362593 ', '9981081691 ', '9978153840 ', '9982057826 ', '9982873194 ', '9982457103 ', '9979371348 ', '9980171322 ', '9982250706 ', '9979954642 ', '9982255433 ', '9981022562 ', '9978497302 ', '9981002805 ', '9979989167 ', '9981756328 ', '9980948513 ', '9982128935 ', '9981687361 ', '9981277908 ', '9981521869 ', '9981256763 ', '9982235305 ', '9979096166 ', '9981458512 ', '9978936731 ', '9979633288 ', '9982833220 ', '9980231396 ', '9982004813 ', '9981282395 ', '9978993938 ', '9980092155 ', '9982505028 ', '9981577880 ', '9979923589 ', '9982806990 ', '9980009845 ', '9979428194 ', '9977711399 ', '9980317005 ', '9981702796 ', '9981410305 ', '9978713589 ', '9979357597 ', '9979128487 ', '9978060087 ', '9978266889 ', '9982481559 ', '9981333046 ', '9977990727 ', '9979072920 ', '9977725679 ', '9978147205 ', '9980893699 ', '9977756639 ', '9980087043 ', '9981527294 ', '9982518459 ', '9978354128 ', '9980715429 ', '9979061751 ', '9981495186 ', '9980837176 ', '9978703180 ', '9982689867 ', '9979307248 ', '9980097851 ', '9978581296 ', '9980080800 ', '9981711208 ', '9979143008 ', '9979768562 ', '9979935676 ', '9981431014 ', '9979621524 ', '9980089614 ', '9979420569 ', '9981221774 ', '9980432021 ']\n"
          ]
        }
      ]
    },
    {
      "cell_type": "code",
      "metadata": {
        "colab": {
          "base_uri": "https://localhost:8080/"
        },
        "id": "VLi__VfhQyTH",
        "outputId": "0cb0576b-6535-4c47-8ded-a0d36aa8334e"
      },
      "source": [
        "len(all_users_phone_number)"
      ],
      "execution_count": 90,
      "outputs": [
        {
          "output_type": "execute_result",
          "data": {
            "text/plain": [
              "6098"
            ]
          },
          "metadata": {},
          "execution_count": 90
        }
      ]
    },
    {
      "cell_type": "code",
      "metadata": {
        "colab": {
          "base_uri": "https://localhost:8080/"
        },
        "id": "NCdVwWuhOype",
        "outputId": "c45ce704-8da2-4072-c234-81e146242b7c"
      },
      "source": [
        "all_df_phone_number = [] # to get list of dataframes\n",
        "for phoneNumber in tqdm(all_users_phone_number):\n",
        "  df_phone_number = df_final[df_final['Phone_Number'] == phoneNumber] # récupérer les dataframes avec seulement les numéros de téléphone\n",
        "  all_df_phone_number.append(df_phone_number)  # mettre chaque dataframe dans la"
      ],
      "execution_count": 92,
      "outputs": [
        {
          "output_type": "stream",
          "name": "stderr",
          "text": [
            "100%|██████████| 6098/6098 [00:39<00:00, 153.57it/s]\n"
          ]
        }
      ]
    },
    {
      "cell_type": "code",
      "metadata": {
        "colab": {
          "background_save": true
        },
        "id": "4N_svHCqr159"
      },
      "source": [
        "df_final[(df_final['Total Sent'].isnull() == False) & (df_final['Cost'].isnull() == False)]"
      ],
      "execution_count": null,
      "outputs": []
    },
    {
      "cell_type": "code",
      "metadata": {
        "colab": {
          "background_save": true
        },
        "id": "W7gdiTd3r14L"
      },
      "source": [
        ""
      ],
      "execution_count": null,
      "outputs": []
    },
    {
      "cell_type": "code",
      "metadata": {
        "colab": {
          "background_save": true
        },
        "id": "CKhkzew9ou0n"
      },
      "source": [
        "df_final[(df_final['Loan Amount'].isnull() == False) & (df_final['Phone_Number'].isnull() == False)]"
      ],
      "execution_count": null,
      "outputs": []
    },
    {
      "cell_type": "markdown",
      "metadata": {
        "id": "_PFhigDtPIgb"
      },
      "source": [
        "### sauvegarder les dataframes sur disque"
      ]
    },
    {
      "cell_type": "markdown",
      "metadata": {
        "id": "e9aFFxtofAch"
      },
      "source": [
        "### Sauvegarder sur le disque les dataframes de chaque utilisateur"
      ]
    },
    {
      "cell_type": "code",
      "metadata": {
        "colab": {
          "base_uri": "https://localhost:8080/"
        },
        "id": "5OJHQyIyQv66",
        "outputId": "79ab1688-29c8-4e8a-bf4b-5174cfbab913"
      },
      "source": [
        "from tqdm import tqdm\n",
        "# tqdm permet\n",
        "for phoneNumber in tqdm(all_users_phone_number):\n",
        "  df_phone_number = df_final[df_final['Phone_Number'] == phoneNumber]\n",
        "  df_phone_number.to_csv(f'/content/drive/MyDrive/datasets/final/files/{phoneNumber}.csv', index=None)"
      ],
      "execution_count": 93,
      "outputs": [
        {
          "output_type": "stream",
          "name": "stderr",
          "text": [
            "100%|██████████| 6098/6098 [01:39<00:00, 61.24it/s]\n"
          ]
        }
      ]
    },
    {
      "cell_type": "markdown",
      "metadata": {
        "id": "72zTYx0we3VF"
      },
      "source": [
        "### se déplacer dans le dossier contenant les dataframes de chaque utilisateur"
      ]
    },
    {
      "cell_type": "code",
      "metadata": {
        "id": "xZh2y-x8PdIv",
        "colab": {
          "base_uri": "https://localhost:8080/"
        },
        "outputId": "c2aed051-4cc2-47fd-f25f-061017f868b6"
      },
      "source": [
        "cd /content/drive/MyDrive/datasets/final/files/"
      ],
      "execution_count": 94,
      "outputs": [
        {
          "output_type": "stream",
          "name": "stdout",
          "text": [
            "/content/drive/MyDrive/datasets/final/files\n"
          ]
        }
      ]
    },
    {
      "cell_type": "code",
      "metadata": {
        "colab": {
          "base_uri": "https://localhost:8080/"
        },
        "id": "-Jg94X1ZPzDf",
        "outputId": "07a0120b-e745-4568-b33b-f68c9c3a67f5"
      },
      "source": [
        "import pandas as pd\n",
        "import os\n",
        "import glob\n",
        "from tqdm import tqdm\n",
        "import pandas as pd\n",
        "from pandas.plotting import scatter_matrix\n",
        "import matplotlib.pyplot as plt\n",
        "import numpy as np\n",
        "\n",
        "\n",
        "# use glob to get all the csv files \n",
        "# in the folder\n",
        "path = os.getcwd()\n",
        "csv_files = glob.glob(os.path.join(path, \"*.csv\"))\n",
        "all_df_list = [] # list of all dataframe\n",
        "# loop over the list of csv files\n",
        "number_transactions = []\n",
        "all_df_list_with_number_transaction = []\n",
        "list_df_with_diff_ts = []\n",
        "\n",
        "for f in tqdm(csv_files):    \n",
        "    # read the csv file\n",
        "    df = pd.read_csv(f)  \n",
        "    all_df_list.append(df)   \n",
        "\n",
        "for element in all_df_list:\n",
        "  element['Number_Transactions'] = element.shape[0] # faire la somme des lignes et mettre dans la colonne Number_Transactions\n",
        "  all_df_list_with_number_transaction.append(element)# mettre tous les éléments dans une nouvelle liste\n",
        "\n",
        "#Faire la différence entre les timestamp\n",
        "for ele_with_num_trans in all_df_list_with_number_transaction:\n",
        "  df_ts = pd.DataFrame(ele_with_num_trans['ts'])\n",
        "  df_ts.sort_values('ts')\n",
        "  ele_with_num_trans['ts_diff'] = df_ts.diff(axis=0)\n",
        "  list_df_with_diff_ts.append(ele_with_num_trans)\n"
      ],
      "execution_count": 95,
      "outputs": [
        {
          "output_type": "stream",
          "name": "stderr",
          "text": [
            "100%|██████████| 6098/6098 [01:16<00:00, 79.28it/s]\n"
          ]
        }
      ]
    },
    {
      "cell_type": "code",
      "metadata": {
        "id": "FyOeCnWMfUnj"
      },
      "source": [
        "from datetime import datetime\n",
        "\n",
        "def list_load_all_df(path='/content/drive/My Drive/datasets/final/files'):\n",
        "  #path = os.getcwd()\n",
        "  csv_files_new = glob.glob(os.path.join(path, \"*.csv\"))\n",
        "  all_df_list_new = []\n",
        "  # loop over the list of csv files\n",
        "  for f in tqdm(csv_files_new):    \n",
        "      # read the csv file\n",
        "      df_new = pd.read_csv(f)\n",
        "      df_new['TS_to_DateTime'] = df_new['ts'].apply(lambda x:datetime.fromtimestamp(x))\n",
        "      all_df_list_new.append(df_new)\n",
        "  return all_df_list_new"
      ],
      "execution_count": 96,
      "outputs": []
    },
    {
      "cell_type": "code",
      "metadata": {
        "colab": {
          "base_uri": "https://localhost:8080/"
        },
        "id": "E4knEW4ebk_a",
        "outputId": "d4b4a024-2900-42ac-baa6-7521df27e227"
      },
      "source": [
        "all_df_list_new = list_load_all_df()"
      ],
      "execution_count": 97,
      "outputs": [
        {
          "output_type": "stream",
          "name": "stderr",
          "text": [
            "100%|██████████| 6098/6098 [01:25<00:00, 71.52it/s]\n"
          ]
        }
      ]
    },
    {
      "cell_type": "markdown",
      "metadata": {
        "id": "x0r832u7bqii"
      },
      "source": [
        "### Sauvegarder sur le disque les dataframes avec les nouvelles infos"
      ]
    },
    {
      "cell_type": "code",
      "metadata": {
        "colab": {
          "base_uri": "https://localhost:8080/"
        },
        "id": "XJd7D01ycvHv",
        "outputId": "b4582301-1fe0-47a9-a47f-1aa3cd4d2e7b"
      },
      "source": [
        "cd /content/drive/MyDrive/datasets/final"
      ],
      "execution_count": 98,
      "outputs": [
        {
          "output_type": "stream",
          "name": "stdout",
          "text": [
            "/content/drive/MyDrive/datasets/final\n"
          ]
        }
      ]
    },
    {
      "cell_type": "code",
      "metadata": {
        "colab": {
          "base_uri": "https://localhost:8080/",
          "height": 35
        },
        "id": "qOYxr_Atdc7a",
        "outputId": "0b772c47-3ef7-4473-b137-a8976095abe0"
      },
      "source": [
        "pwd"
      ],
      "execution_count": null,
      "outputs": [
        {
          "output_type": "execute_result",
          "data": {
            "application/vnd.google.colaboratory.intrinsic+json": {
              "type": "string"
            },
            "text/plain": [
              "'/content/drive/My Drive/datasets/final'"
            ]
          },
          "metadata": {},
          "execution_count": 100
        }
      ]
    },
    {
      "cell_type": "code",
      "metadata": {
        "colab": {
          "base_uri": "https://localhost:8080/"
        },
        "id": "7NaqNBsAbwXf",
        "outputId": "c888fa1d-5110-4950-e0df-22fd6ff30457"
      },
      "source": [
        "from tqdm import tqdm\n",
        "# tqdm permet\n",
        "for new_df in tqdm(all_df_list_new):\n",
        "  if new_df.shape[0] > 0:\n",
        "    phoneNumber = new_df['Phone_Number'][0]\n",
        "    new_df.to_csv(f'/content/drive/MyDrive/datasets/final/files_with_new_characteristics/{phoneNumber}.csv', index=None)"
      ],
      "execution_count": 99,
      "outputs": [
        {
          "output_type": "stream",
          "name": "stderr",
          "text": [
            "100%|██████████| 6098/6098 [01:09<00:00, 87.26it/s] \n"
          ]
        }
      ]
    },
    {
      "cell_type": "markdown",
      "metadata": {
        "id": "PrcETXq5fXD6"
      },
      "source": [
        "### Pour chaque utilisateur, calculons la fréquence d'opérations soit par minute, ou toutes les 5 minutes ou plus"
      ]
    },
    {
      "cell_type": "code",
      "metadata": {
        "id": "oavoJKfUwkeW"
      },
      "source": [
        "import pandas as pd\n",
        "\n",
        "# Récupérer le nombre d'opérations consécutives (opérations qui se déroulent dans l'interval de 5 min)\n",
        "def df_nombre_operations_consecutives(each_df_2):\n",
        "  \n",
        "  '''\n",
        "    cette fonction prend comme paramètre un dataframe et retourne un dataframe avec les nouvelles colonnes\n",
        "  '''\n",
        "  each_df = each_df_2.copy() \n",
        "  size_df = each_df.shape[0]\n",
        "  ts_delta=0\n",
        "  count = 0\n",
        "  last_ts = 0\n",
        "  number_consecutive_operations = []\n",
        "  time_consecutive_operations = []\n",
        "  phone_number_each_df = []\n",
        "  # on récupère la 1ere date ou la 1ère lige de la colonne \"TS_to_DateTime\"\n",
        "  start_ts = each_df.iloc[0]['TS_to_DateTime']\n",
        "  result = pd.DataFrame(columns=['Phone_Number', 'Number_consecutive_operations', 'Time_consecutive_operations',\n",
        "                                                                'Number_operations_per_minute', 'Max_number_operation_per_minute',\n",
        "                                                                'Min_number_operation_per_minute', 'Mean_operation_per_minute',\n",
        "                                                                'Median_operation_per_minute'])\n",
        "  \n",
        "  for i in range(size_df-1):\n",
        "    ts_delta = each_df.iloc[i+1]['TS_to_DateTime'] - each_df.iloc[i]['TS_to_DateTime']\n",
        "    # si l'interval de temps pendant lequel les opérations se sont effectuées est <= à 5 min \n",
        "    if (ts_delta.total_seconds()/60) <= 5:\n",
        "      last_ts = each_df.iloc[i+1]['TS_to_DateTime']\n",
        "      # on compte les opérations effectuées en 5 minutes\n",
        "      count +=1\n",
        "    else :\n",
        "      last_ts = each_df.iloc[i+1]['TS_to_DateTime']\n",
        "      ts_delta = (last_ts - start_ts).total_seconds()/60\n",
        "      # liste des temps en minutes pendant lequel les opérations se sont déroulées\n",
        "      time_consecutive_operations.append(ts_delta)\n",
        "      # nombres d'opérations consécutives (c-à-d opérations qui se déroulées dans un interval de 5 min)\n",
        "      number_consecutive_operations.append(count)\n",
        "      phone_number_each_df.append(each_df.iloc[i+1]['Phone_Number'])\n",
        "      count = 0\n",
        "      start_ts = each_df.iloc[i+1]['TS_to_DateTime']\n",
        "      last_ts = each_df.iloc[i+1]['TS_to_DateTime']\n",
        "\n",
        "      df_phone_number_each_df = pd.DataFrame(phone_number_each_df)  \n",
        "      df_number_consecutive_operations = pd.DataFrame(number_consecutive_operations)\n",
        "      df_time_consecutive_operations = pd.DataFrame(time_consecutive_operations)\n",
        "      pdList_consecutive_operations = [df_phone_number_each_df, df_number_consecutive_operations, df_time_consecutive_operations] # List of our dataframes\n",
        "      df_final_consecutive_operations = pd.concat(pdList_consecutive_operations, axis=1)\n",
        "      df_final_consecutive_operations.columns=['Phone_Number', 'Number_consecutive_operations', 'Time_consecutive_operations']\n",
        "      df_final_consecutive_operations['Number_operations_per_minute'] = df_final_consecutive_operations['Number_consecutive_operations']/df_final_consecutive_operations['Time_consecutive_operations']\n",
        "      df_final_consecutive_operations['Max_number_operation_per_minute'] = df_final_consecutive_operations['Number_operations_per_minute'].max()\n",
        "      df_final_consecutive_operations['Min_number_operation_per_minute'] = df_final_consecutive_operations['Number_operations_per_minute'].min()\n",
        "      df_final_consecutive_operations['Mean_operation_per_minute'] = df_final_consecutive_operations['Number_operations_per_minute'].mean()\n",
        "      df_final_consecutive_operations['Median_operation_per_minute'] = df_final_consecutive_operations['Number_operations_per_minute'].median()\n",
        "      result = df_final_consecutive_operations\n",
        "  return result\n"
      ],
      "execution_count": 100,
      "outputs": []
    },
    {
      "cell_type": "code",
      "metadata": {
        "colab": {
          "base_uri": "https://localhost:8080/"
        },
        "id": "eJ3fPKy5Oqyd",
        "outputId": "49efc40a-f107-4fcc-ac6b-2a45b5d34048"
      },
      "source": [
        ""
      ],
      "execution_count": null,
      "outputs": [
        {
          "name": "stderr",
          "output_type": "stream",
          "text": [
            "100%|██████████| 6098/6098 [01:25<00:00, 71.25it/s]\n"
          ]
        }
      ]
    },
    {
      "cell_type": "code",
      "metadata": {
        "colab": {
          "base_uri": "https://localhost:8080/"
        },
        "id": "3KobGvvDxZsx",
        "outputId": "90317c3d-bf4d-4cf2-ccd6-ee30a19ef0d2"
      },
      "source": [
        "list_all_df_with_time_series = []\n",
        "for element in tqdm(all_df_list_new):\n",
        "  # pour debugger il faut utiliser try -  except et utiliser pass\n",
        "  # ainsi, en cas de problème on pourrait savoir dans quel DataFrame il se trouve\n",
        "  if element.shape[0] > 1:\n",
        "    list_all_df_with_time_series.append(df_nombre_operations_consecutives(element))"
      ],
      "execution_count": 101,
      "outputs": [
        {
          "output_type": "stream",
          "name": "stderr",
          "text": [
            "100%|██████████| 6098/6098 [01:41<00:00, 60.21it/s] \n"
          ]
        }
      ]
    },
    {
      "cell_type": "code",
      "metadata": {
        "colab": {
          "base_uri": "https://localhost:8080/"
        },
        "id": "AcF4Tmf4TbKW",
        "outputId": "83f35a29-531b-4046-8f9d-6611439699a6"
      },
      "source": [
        "len(list_all_df_with_time_series)"
      ],
      "execution_count": 102,
      "outputs": [
        {
          "output_type": "execute_result",
          "data": {
            "text/plain": [
              "2665"
            ]
          },
          "metadata": {},
          "execution_count": 102
        }
      ]
    },
    {
      "cell_type": "code",
      "metadata": {
        "id": "YTDFfFS7ew2f",
        "colab": {
          "base_uri": "https://localhost:8080/",
          "height": 132
        },
        "outputId": "f8954f76-8907-4ac6-ffc6-2785abc5a537"
      },
      "source": [
        "list_all_df_with_time_series[2]"
      ],
      "execution_count": 106,
      "outputs": [
        {
          "output_type": "execute_result",
          "data": {
            "text/html": [
              "<div>\n",
              "<style scoped>\n",
              "    .dataframe tbody tr th:only-of-type {\n",
              "        vertical-align: middle;\n",
              "    }\n",
              "\n",
              "    .dataframe tbody tr th {\n",
              "        vertical-align: top;\n",
              "    }\n",
              "\n",
              "    .dataframe thead th {\n",
              "        text-align: right;\n",
              "    }\n",
              "</style>\n",
              "<table border=\"1\" class=\"dataframe\">\n",
              "  <thead>\n",
              "    <tr style=\"text-align: right;\">\n",
              "      <th></th>\n",
              "      <th>Phone_Number</th>\n",
              "      <th>Number_consecutive_operations</th>\n",
              "      <th>Time_consecutive_operations</th>\n",
              "      <th>Number_operations_per_minute</th>\n",
              "      <th>Max_number_operation_per_minute</th>\n",
              "      <th>Min_number_operation_per_minute</th>\n",
              "      <th>Mean_operation_per_minute</th>\n",
              "      <th>Median_operation_per_minute</th>\n",
              "    </tr>\n",
              "  </thead>\n",
              "  <tbody>\n",
              "    <tr>\n",
              "      <th>0</th>\n",
              "      <td>4734</td>\n",
              "      <td>2</td>\n",
              "      <td>46.900163</td>\n",
              "      <td>0.042644</td>\n",
              "      <td>0.136384</td>\n",
              "      <td>0.042644</td>\n",
              "      <td>0.089514</td>\n",
              "      <td>0.089514</td>\n",
              "    </tr>\n",
              "    <tr>\n",
              "      <th>1</th>\n",
              "      <td>4734</td>\n",
              "      <td>60</td>\n",
              "      <td>439.933130</td>\n",
              "      <td>0.136384</td>\n",
              "      <td>0.136384</td>\n",
              "      <td>0.042644</td>\n",
              "      <td>0.089514</td>\n",
              "      <td>0.089514</td>\n",
              "    </tr>\n",
              "  </tbody>\n",
              "</table>\n",
              "</div>"
            ],
            "text/plain": [
              "   Phone_Number  ...  Median_operation_per_minute\n",
              "0          4734  ...                     0.089514\n",
              "1          4734  ...                     0.089514\n",
              "\n",
              "[2 rows x 8 columns]"
            ]
          },
          "metadata": {},
          "execution_count": 106
        }
      ]
    },
    {
      "cell_type": "code",
      "metadata": {
        "colab": {
          "base_uri": "https://localhost:8080/"
        },
        "id": "qMXauVIkebtT",
        "outputId": "6453beca-41bd-48a9-bac4-16f7e9fc64f5"
      },
      "source": [
        "users_with_more_Number_consecutive_operations = []\n",
        "users_with_less_Number_consecutive_operations = []\n",
        "for elem in tqdm(list_all_df_with_time_series):\n",
        "  if elem.shape[0]>0:\n",
        "    if elem['Number_consecutive_operations'][0]>10:\n",
        "      users_with_more_Number_consecutive_operations.append(elem)\n",
        "    else:\n",
        "      users_with_less_Number_consecutive_operations.append(elem)"
      ],
      "execution_count": null,
      "outputs": [
        {
          "output_type": "stream",
          "name": "stderr",
          "text": [
            "100%|██████████| 2882/2882 [00:00<00:00, 67181.22it/s]\n"
          ]
        }
      ]
    },
    {
      "cell_type": "code",
      "metadata": {
        "colab": {
          "base_uri": "https://localhost:8080/"
        },
        "id": "IwmJoxhufKV9",
        "outputId": "43f26d14-1f38-42b0-dfa0-5d77103d0160"
      },
      "source": [
        "len(users_with_more_Number_consecutive_operations)"
      ],
      "execution_count": null,
      "outputs": [
        {
          "output_type": "execute_result",
          "data": {
            "text/plain": [
              "248"
            ]
          },
          "metadata": {},
          "execution_count": 115
        }
      ]
    },
    {
      "cell_type": "code",
      "metadata": {
        "colab": {
          "base_uri": "https://localhost:8080/"
        },
        "id": "JFfuigVWfN9w",
        "outputId": "2c2eec94-d557-4557-b3b8-cff66df9e8b2"
      },
      "source": [
        "len(users_with_less_Number_consecutive_operations)"
      ],
      "execution_count": null,
      "outputs": [
        {
          "output_type": "execute_result",
          "data": {
            "text/plain": [
              "1336"
            ]
          },
          "metadata": {},
          "execution_count": 116
        }
      ]
    },
    {
      "cell_type": "code",
      "metadata": {
        "colab": {
          "base_uri": "https://localhost:8080/",
          "height": 163
        },
        "id": "EE2c_VbFfTVf",
        "outputId": "b0378ee3-5a23-4a23-f946-c9614f4df7fe"
      },
      "source": [
        "users_with_more_Number_consecutive_operations[50]"
      ],
      "execution_count": null,
      "outputs": [
        {
          "output_type": "execute_result",
          "data": {
            "text/html": [
              "<div>\n",
              "<style scoped>\n",
              "    .dataframe tbody tr th:only-of-type {\n",
              "        vertical-align: middle;\n",
              "    }\n",
              "\n",
              "    .dataframe tbody tr th {\n",
              "        vertical-align: top;\n",
              "    }\n",
              "\n",
              "    .dataframe thead th {\n",
              "        text-align: right;\n",
              "    }\n",
              "</style>\n",
              "<table border=\"1\" class=\"dataframe\">\n",
              "  <thead>\n",
              "    <tr style=\"text-align: right;\">\n",
              "      <th></th>\n",
              "      <th>Phone_Number</th>\n",
              "      <th>Number_consecutive_operations</th>\n",
              "      <th>Time_consecutive_operations</th>\n",
              "      <th>Number_operations_per_minute</th>\n",
              "      <th>Max_number_operation_per_minute</th>\n",
              "      <th>Min_number_operation_per_minute</th>\n",
              "      <th>Mean_operation_per_minute</th>\n",
              "      <th>Median_operation_per_minute</th>\n",
              "    </tr>\n",
              "  </thead>\n",
              "  <tbody>\n",
              "    <tr>\n",
              "      <th>0</th>\n",
              "      <td>7037892624</td>\n",
              "      <td>52</td>\n",
              "      <td>19.433427</td>\n",
              "      <td>2.675802</td>\n",
              "      <td>2.675802</td>\n",
              "      <td>-1559.844016</td>\n",
              "      <td>-518.276854</td>\n",
              "      <td>2.337653</td>\n",
              "    </tr>\n",
              "    <tr>\n",
              "      <th>1</th>\n",
              "      <td>7037892624</td>\n",
              "      <td>39</td>\n",
              "      <td>16.683402</td>\n",
              "      <td>2.337653</td>\n",
              "      <td>2.675802</td>\n",
              "      <td>-1559.844016</td>\n",
              "      <td>-518.276854</td>\n",
              "      <td>2.337653</td>\n",
              "    </tr>\n",
              "    <tr>\n",
              "      <th>2</th>\n",
              "      <td>7037892624</td>\n",
              "      <td>26</td>\n",
              "      <td>-0.016668</td>\n",
              "      <td>-1559.844016</td>\n",
              "      <td>2.675802</td>\n",
              "      <td>-1559.844016</td>\n",
              "      <td>-518.276854</td>\n",
              "      <td>2.337653</td>\n",
              "    </tr>\n",
              "  </tbody>\n",
              "</table>\n",
              "</div>"
            ],
            "text/plain": [
              "   Phone_Number  ...  Median_operation_per_minute\n",
              "0    7037892624  ...                     2.337653\n",
              "1    7037892624  ...                     2.337653\n",
              "2    7037892624  ...                     2.337653\n",
              "\n",
              "[3 rows x 8 columns]"
            ]
          },
          "metadata": {},
          "execution_count": 118
        }
      ]
    },
    {
      "cell_type": "code",
      "metadata": {
        "id": "X4_sitHmSvBH"
      },
      "source": [
        "list_all_df_with_time_series[350]"
      ],
      "execution_count": null,
      "outputs": []
    },
    {
      "cell_type": "code",
      "metadata": {
        "id": "8OEzZ5khRodR"
      },
      "source": [
        "all_df_res = []\n",
        "new_endpoint_col = []\n",
        "for new_data_frame in tqdm(list_df_with_diff_ts):\n",
        "  new_data_frame['EndPoint'].fillna('', inplace=True) # modifie la colonne\n",
        "\n",
        "  new_data_frame['Appplication_get'] = new_data_frame['EndPoint'].str.contains('applications/get').astype(np.float).astype('Int32')\n",
        "  new_data_frame['Payment'] = new_data_frame['EndPoint'].str.contains('payment').astype(np.float).astype('Int32')\n",
        "  new_data_frame['Declined'] = new_data_frame['EndPoint'].str.contains('decline').astype(np.float).astype('Int32')\n",
        "  new_data_frame['Preapprouved'] = new_data_frame['EndPoint'].str.contains('preapproved').astype(np.float).astype('Int32')\n",
        "  new_data_frame['Accepted'] = new_data_frame['EndPoint'].str.contains('accept').astype(np.float).astype('Int32')\n",
        "  new_data_frame['Lifestyle'] = new_data_frame['EndPoint'].str.contains('lifestyle').astype(np.float).astype('Int32')\n",
        "  new_data_frame['Wallet_balance'] = new_data_frame['EndPoint'].str.contains('wallet/balance').astype(np.float).astype('Int32')\n",
        "  new_data_frame['Adverts'] = new_data_frame['EndPoint'].str.contains('adverts').astype(np.float).astype('Int32')\n",
        "  new_data_frame['Bank'] = new_data_frame['EndPoint'].str.contains('bank').astype(np.float).astype('Int32')\n",
        "  new_data_frame['Updated'] = new_data_frame['EndPoint'].str.contains('update').astype(np.float).astype('Int32')\n",
        "  new_data_frame['Products'] = new_data_frame['EndPoint'].str.contains('products').astype(np.float).astype('Int32')\n",
        "  new_data_frame['Locations'] = new_data_frame['EndPoint'].str.contains('locations').astype(np.float).astype('Int32')\n",
        "  new_data_frame['Client_Get'] = new_data_frame['EndPoint'].str.contains('client/get').astype(np.float).astype('Int32')\n",
        "  new_data_frame['Client_V2_Create'] = new_data_frame['EndPoint'].str.contains('client/v2/create').astype(np.float).astype('Int32')\n",
        "  \n",
        "  \n",
        "  new_data_frame['Dummy'] = 0\n",
        "  new_data_frame['Payment_cumulative'] = new_data_frame.groupby(['Dummy'])['Payment'].cumsum()\n",
        "  new_data_frame['Decline_cumulative'] = new_data_frame.groupby(['Dummy'])['Declined'].cumsum()\n",
        "  new_data_frame['Application_get_cumulative'] = new_data_frame.groupby(['Dummy'])['Appplication_get'].cumsum()\n",
        "  new_data_frame['Preapprouved_cumulative'] = new_data_frame.groupby(['Dummy'])['Preapprouved'].cumsum()\n",
        "  new_data_frame['Accepted_cumulative'] = new_data_frame.groupby(['Dummy'])['Accepted'].cumsum()\n",
        "  new_data_frame['Lifestyle_cumulative'] = new_data_frame.groupby(['Dummy'])['Lifestyle'].cumsum()\n",
        "  new_data_frame['Wallet_balance_cumulative'] = new_data_frame.groupby(['Dummy'])['Wallet_balance'].cumsum()\n",
        "  new_data_frame['Adverts_cumulative'] = new_data_frame.groupby(['Dummy'])['Adverts'].cumsum()\n",
        "  new_data_frame['Bank_cumulative'] = new_data_frame.groupby(['Dummy'])['Bank'].cumsum()\n",
        "  new_data_frame['Update_cumulative'] = new_data_frame.groupby(['Dummy'])['Updated'].cumsum()\n",
        "  new_data_frame['Products_cumulative'] = new_data_frame.groupby(['Dummy'])['Products'].cumsum()\n",
        "  new_data_frame['Locations_cumulative'] = new_data_frame.groupby(['Dummy'])['Locations'].cumsum()\n",
        "  new_data_frame['Client_Get_cumulative'] = new_data_frame.groupby(['Dummy'])['Client_Get'].cumsum()\n",
        "  new_data_frame['Client_Get_cumulative'] = new_data_frame.groupby(['Dummy'])['Client_V2_Create'].cumsum()\n",
        "  all_df_res.append(new_data_frame)\n",
        "        "
      ],
      "execution_count": null,
      "outputs": []
    },
    {
      "cell_type": "markdown",
      "metadata": {
        "id": "q2pcP8awSqNi"
      },
      "source": [
        "### Entrainer premièrement le modèle global"
      ]
    },
    {
      "cell_type": "code",
      "metadata": {
        "colab": {
          "base_uri": "https://localhost:8080/"
        },
        "id": "UElUbtcVSxG3",
        "outputId": "ce9ca5a8-d42a-44f4-e978-a197731884c0"
      },
      "source": [
        "# avoir la distribution des nombres de transactions de tous les utilisateurs et faire un histogramme\n",
        "list_number_transactions = []\n",
        "for ele in tqdm(list_df_with_diff_ts):\n",
        "  if len(ele) > 0:\n",
        "    list_number_transactions.append(ele['Number_Transactions'][0])"
      ],
      "execution_count": null,
      "outputs": [
        {
          "name": "stderr",
          "output_type": "stream",
          "text": [
            "100%|██████████| 6098/6098 [00:00<00:00, 13244.99it/s]\n"
          ]
        }
      ]
    },
    {
      "cell_type": "code",
      "metadata": {
        "id": "8NWWTqVcZ8OU"
      },
      "source": [
        "max(list_number_transactions)"
      ],
      "execution_count": null,
      "outputs": []
    },
    {
      "cell_type": "markdown",
      "metadata": {
        "id": "WGmvbJ6Mh5iL"
      },
      "source": [
        "### Tracer l'histogramme logarithme en fonction de la liste contenant le nombre de transactions pour chaque utilisateur."
      ]
    },
    {
      "cell_type": "code",
      "metadata": {
        "id": "dN-ZVXZUXI4W"
      },
      "source": [
        "df_liste_transactions = pd.DataFrame(list_number_transactions, columns=['Number_Transactions_per_user'])"
      ],
      "execution_count": null,
      "outputs": []
    },
    {
      "cell_type": "code",
      "metadata": {
        "colab": {
          "base_uri": "https://localhost:8080/",
          "height": 265
        },
        "id": "KvGEP4sHX-XP",
        "outputId": "8ad20f1e-b18f-4652-8463-b50db28649c1"
      },
      "source": [
        "import matplotlib.pyplot as plt\n",
        "import numpy as np\n",
        "\n",
        "# tracer un histogramme logarithmique\n",
        "y = pd.Series(list_number_transactions)\n",
        "hist, bins, _ = plt.hist(y, bins=8)\n",
        "logbins = np.logspace(np.log10(bins[0]),np.log10(bins[-1]),len(bins))\n",
        "plt.yscale('log', nonposy='clip')\n",
        "plt.hist(y, bins=logbins)\n",
        "plt.show()"
      ],
      "execution_count": null,
      "outputs": [
        {
          "data": {
            "image/png": "[encoded data removed]",
            "text/plain": [
              "<Figure size 432x288 with 1 Axes>"
            ]
          },
          "metadata": {},
          "output_type": "display_data"
        }
      ]
    },
    {
      "cell_type": "code",
      "metadata": {
        "id": "VBFF5uVtouAo"
      },
      "source": [
        "import plotly.graph_objects as go\n",
        "fig = go.Figure(\n",
        "    data=[go.Bar(y=list_number_transactions)],\n",
        "    layout_title_text=\"A Figure Displayed with fig.show()\"\n",
        ")\n",
        "fig.show()"
      ],
      "execution_count": null,
      "outputs": []
    },
    {
      "cell_type": "markdown",
      "metadata": {
        "id": "wrbjuOgVggif"
      },
      "source": [
        "### récupérer la liste des utilisateurs qui pourraient etre problématiques"
      ]
    },
    {
      "cell_type": "code",
      "metadata": {
        "colab": {
          "base_uri": "https://localhost:8080/"
        },
        "id": "gwmkUFm-ggIK",
        "outputId": "7e82d186-dc4a-4d71-859c-5e802c82733e"
      },
      "source": [
        "### selon l'histogramme on a environs une vingtaine d'utilisateurs qui ont effectué entre 400 et plus de 800 transactions\n",
        "# on peut essayer de récupérer la liste de ces utilisateurs et étudier leurs comportements\n",
        "# sauvegarder sur le disque la liste des utilisateurs ayant plus de 400 transactions\n",
        "liste_utilisateurs_avec_grand_nombre_transactions = []\n",
        "for one_df_diff_ts in tqdm(list_df_with_diff_ts):\n",
        "  if one_df_diff_ts.shape[0] >= 300:\n",
        "    liste_utilisateurs_avec_grand_nombre_transactions.append(one_df_diff_ts)"
      ],
      "execution_count": null,
      "outputs": [
        {
          "name": "stderr",
          "output_type": "stream",
          "text": [
            "100%|██████████| 6098/6098 [00:00<00:00, 283422.16it/s]\n"
          ]
        }
      ]
    },
    {
      "cell_type": "markdown",
      "metadata": {
        "id": "SDG_gn8wjLMd"
      },
      "source": [
        "### sauvegarder ces utilisateurs dans le disque en local"
      ]
    },
    {
      "cell_type": "code",
      "metadata": {
        "id": "wAAWQ3KJjKT3"
      },
      "source": [
        "for elem in tqdm(liste_utilisateurs_avec_grand_nombre_transactions):\n",
        "  phone = elem['Phone_Number'][0]\n",
        "  elem.to_csv(f'/content/drive/MyDrive/datasets/final/users_with_more_transactions/{phone}.csv', index=None)"
      ],
      "execution_count": null,
      "outputs": []
    },
    {
      "cell_type": "markdown",
      "metadata": {
        "id": "O8w2z-JgRnGz"
      },
      "source": [
        "### Création des times series sur tous les utilisateurs"
      ]
    },
    {
      "cell_type": "code",
      "metadata": {
        "id": "6A9RzsG_vI1G"
      },
      "source": [
        "cd /content/drive/MyDrive/datasets/final/files_with_new_characteristics"
      ],
      "execution_count": null,
      "outputs": []
    },
    {
      "cell_type": "markdown",
      "metadata": {
        "id": "dQTeMCGpvkfG"
      },
      "source": [
        "### Sauvegarder les nouveaux datasets dans un nouveau dossier"
      ]
    },
    {
      "cell_type": "code",
      "metadata": {
        "id": "MZqSV2HDvdew"
      },
      "source": [
        "from tqdm import tqdm\n",
        " #tqdm permet\n",
        "for elem in tqdm(all_df_res):\n",
        "  if elem.shape[0] != 0:\n",
        "    try:\n",
        "      phone = elem['Phone_Number'][0]\n",
        "      elem.to_csv(f'/content/drive/MyDrive/datasets/final/files_with_new_characteristics/{phone}.csv', index=None)\n",
        "    except IndexError:\n",
        "      print(elem)\n",
        "      raise"
      ],
      "execution_count": null,
      "outputs": []
    },
    {
      "cell_type": "markdown",
      "metadata": {
        "id": "-UBFCkJyv9DV"
      },
      "source": [
        "### Parcourir le dossier contenant les dataframes et convertir dans une nouvelle colonne \"TS_to_DateTime\" la colonne \"ts\" en Datetime et mettre dans la liste all_df_list_new"
      ]
    },
    {
      "cell_type": "code",
      "metadata": {
        "id": "7HxU7fWRvxPd"
      },
      "source": [
        "from datetime import datetime\n",
        "\n",
        "def list_load_all_df(path='/content/drive/My Drive/datasets/final/files_with_new_characteristics'):\n",
        "  #path = os.getcwd()\n",
        "  csv_files_new = glob.glob(os.path.join(path, \"*.csv\"))\n",
        "  all_df_list_new = []\n",
        "  # loop over the list of csv files\n",
        "  for f in tqdm(csv_files_new):    \n",
        "      # read the csv file\n",
        "      df_new = pd.read_csv(f)\n",
        "      df_new['TS_to_DateTime'] = df_new['ts'].apply(lambda x:datetime.fromtimestamp(x))\n",
        "      all_df_list_new.append(df_new)\n",
        "  return all_df_list_new"
      ],
      "execution_count": null,
      "outputs": []
    },
    {
      "cell_type": "code",
      "metadata": {
        "id": "R5vGSKHgwt51"
      },
      "source": [
        "res_all_df = list_load_all_df()"
      ],
      "execution_count": null,
      "outputs": []
    },
    {
      "cell_type": "code",
      "metadata": {
        "id": "L8PzeNFmwqUe"
      },
      "source": [
        "def df_one_operation(each_df):\n",
        "\n",
        "  copy_df = each_df.copy()\n",
        "  copy_df['Number_consecutive_operations'] = 0\n",
        "  copy_df['Time_consecutive_operations'] = 0\n",
        "  copy_df['Number_operations_per_minute'] = 0\n",
        "  copy_df['Max_number_operation_per_minute'] = 0\n",
        "  copy_df['Min_number_operation_per_minute'] = 0\n",
        "  copy_df['Mean_operation_per_minute'] = 0\n",
        "  copy_df['Median_operation_per_minute'] = 0\n",
        "  return copy_df['Phone_Number'][0]"
      ],
      "execution_count": null,
      "outputs": []
    },
    {
      "cell_type": "markdown",
      "metadata": {
        "id": "lEi2T7Q8mrxh"
      },
      "source": [
        "### Récupérer le nombre d'opérations par minute ou toutes les 5 minutes pour chaque utilisateur"
      ]
    },
    {
      "cell_type": "code",
      "metadata": {
        "id": "_zKxolzfxg7S"
      },
      "source": [
        "list_all_df_with_time_series[20].head(5)"
      ],
      "execution_count": null,
      "outputs": []
    },
    {
      "cell_type": "code",
      "metadata": {
        "id": "er6gBTX7x5TK"
      },
      "source": [
        "def give_dataframe(phone_number, path_df='/content/drive/My Drive/datasets/final/files_with_new_characteristics'):\n",
        "  df = pd.read_csv(f'{path_df}/{phone_number}.csv')\n",
        "  df['TS_to_DateTime'] = df['ts'].apply(lambda x:datetime.fromtimestamp(x))\n",
        "  return df"
      ],
      "execution_count": null,
      "outputs": []
    },
    {
      "cell_type": "code",
      "metadata": {
        "id": "y3OlWvAOzJBt"
      },
      "source": [
        "def give_dataframe_complete_path(path_complet_df='/content/drive/MyDrive/datasets/final/files_with_new_characteristics/2349152152920.csv'):\n",
        "  df_2 = pd.read_csv(path_complet_df)\n",
        "  df_2['TS_to_DateTime'] = df_2['ts'].apply(lambda x:datetime.fromtimestamp(x))\n",
        "  return df_2"
      ],
      "execution_count": null,
      "outputs": []
    },
    {
      "cell_type": "code",
      "metadata": {
        "id": "hk3BvIFfzrIJ"
      },
      "source": [
        "import statistics\n",
        "\n",
        "def calculate_metric(list_df, str_key_word='/client/'):\n",
        "  '''cette fonction permet de calculer la moyenne, la mediane, la valeur min, max et le seuil\n",
        "    en se référant sur la liste contenant la somme des opérations effectuées dans chaque dataframe. ''' \n",
        "  sum_operation = []\n",
        "  list_phone_number_user = []\n",
        "  for one_df in list_df:\n",
        "    one_df['EndPoint'].fillna('', inplace=True)\n",
        "    # tenir compte du cast d'un boolean en float avec la propriété astype(float)\n",
        "    sum_operation.append(one_df['EndPoint'].str.contains(str_key_word).astype(float).sum())\n",
        "    list_phone_number_user.append(one_df['Phone_Number'][0])\n",
        "\n",
        "  mini = min(sum_operation)\n",
        "  maxi = max(sum_operation)\n",
        "  mediane = statistics.median(sum_operation)\n",
        "  moyenne = statistics.mean(sum_operation)\n",
        "  ecart_type = statistics.pstdev(sum_operation)\n",
        "  threshold = mediane + (3*ecart_type) # les valeurs au délà de 3* écart type sont considérées comme outliers, on considère cette valeur comme notre seuil\n",
        "  print(f' print 3 écart-type: {3*ecart_type}')\n",
        "  print(f'somme operation est: {sum_operation}')\n",
        "  print(f'la liste des numéros de téléphone des utilisateur est: {list_phone_number_user}')\n",
        "  print(f'le max est: {maxi}\\nle min est: {mini}\\nla mediane est: {mediane}\\nla moyenne est {moyenne}\\necart type est {ecart_type}\\nle seuil est {threshold}')\n",
        "  return list_phone_number_user, sum_operation, mini, maxi, mediane, moyenne, ecart_type, threshold"
      ],
      "execution_count": null,
      "outputs": []
    },
    {
      "cell_type": "code",
      "metadata": {
        "id": "Qdh4eBWpzxw9"
      },
      "source": [
        "list_phone_number_user_client, sum_operation_client, min_client, max_client, mediane_client, moyenne_client, et_client, threshold_client = calculate_metric(res_all_df)\n"
      ],
      "execution_count": null,
      "outputs": []
    },
    {
      "cell_type": "code",
      "metadata": {
        "id": "KU8D4zdvzxVx"
      },
      "source": [
        "list_phone_number_user_client, sum_operation_client, min_client, max_client, mediane_client, moyenne_client, et_client, threshold_client = calculate_metric(res_all_df)\n",
        "list_phone_number_user_decline, sum_operation_decline, mini_decline, maxi_decline, mediane_decline, moyenne_decline, et_decline, threshold_decline = calculate_metric(res_all_df, str_key_word='/decline/')\n",
        "list_phone_number_user_lifestyle, sum_operation_lifestyle, min_lifestyle, max_lifestyle, mediane_lifestyle, moyenne_lifestyle, et_lifestyle, threshold_lifestyle = calculate_metric(res_all_df, str_key_word='lifestyle')\n",
        "list_phone_number_user_payment, sum_operation_payment, min_payment, max_payment, mediane_payment, moyenne_payment, et_payment, threshold_payment = calculate_metric(res_all_df, str_key_word='payment')\n",
        "list_phone_number_user_app_get, sum_operation_app_get, min_app_get, max_app_get, mediane_app_get, moyenne_app_get, et_app_get, threshold_app_get = calculate_metric(res_all_df, str_key_word='applications/get')\n",
        "list_phone_number_user_preapproved, sum_operation_preapproved, min_preapproved, max_preapproved, mediane_preapproved, moyenne_preapproved, et_preapproved, threshold_preapproved = calculate_metric(res_all_df, str_key_word='preapproved')\n",
        "list_phone_number_user_accept, sum_operation_accept, min_accept, max_accept, mediane_accept, moyenne_accept, et_accept, threshold_accept = calculate_metric(res_all_df, str_key_word='accept')\n",
        "list_phone_number_user_wallet_balance, sum_operation_wallet_balance, min_wallet_balance, max_wallet_balance, mediane_wallet_balance, moyenne_wallet_balance, et_wallet_balance, threshold_wallet_balance = calculate_metric(res_all_df, str_key_word='wallet/balance')\n",
        "list_phone_number_user_adverts, sum_operation_adverts, min_adverts, max_adverts, mediane_adverts, moyenne_adverts, et_adverts, threshold_adverts = calculate_metric(res_all_df, str_key_word='adverts')\n",
        "list_phone_number_user_bank, sum_operation_bank, min_bank, max_bank, mediane_bank, moyenne_bank, et_bank, threshold_bank = calculate_metric(res_all_df, str_key_word='bank')\n",
        "list_phone_number_user_update, sum_operation_update, min_update, max_update, mediane_update, moyenne_update, et_update, threshold_update = calculate_metric(res_all_df, str_key_word='update')\n",
        "list_phone_number_user_product, sum_operation_product, min_product, max_product, mediane_product, moyenne_product, et_product, threshold_product = calculate_metric(res_all_df, str_key_word='products')\n",
        "list_phone_number_user_location, sum_operation_Location, min_Location, max_Location, mediane_Location, moyenne_Location, et_Location, threshold_Location = calculate_metric(res_all_df, str_key_word='locations')\n",
        "list_phone_number_user_client_get, sum_operation_client_get, min_client_get, max_client_get, mediane_client_get, moyenne_client_get, et_client_get, threshold_client_get = calculate_metric(res_all_df, str_key_word='client/get')\n",
        "list_phone_number_user_client_v2_create, sum_operation_client_v2_create, min_client_v2_create, max_client_v2_create, mediane_client_v2_create, moyenne_client_v2_create, et_client_v2_create, threshold_client_v2_create = calculate_metric(res_all_df, str_key_word='client/v2/create')\n"
      ],
      "execution_count": null,
      "outputs": []
    },
    {
      "cell_type": "markdown",
      "metadata": {
        "id": "u-Z73BNJ1Ogm"
      },
      "source": [
        "### Plot des utilisateurs en fonctions des opérations effectuées."
      ]
    },
    {
      "cell_type": "code",
      "metadata": {
        "id": "WzMB3Fbd1QdL"
      },
      "source": [
        "import numpy as np\n",
        "import math\n",
        "from matplotlib import pyplot as plt\n",
        "\n",
        "def plot_users(list_operations, title_operation='lifestyle', threshold=threshold_lifestyle):\n",
        "  bins = np.linspace(math.ceil(min(list_operations)), \n",
        "                    math.floor(max(list_operations)),\n",
        "                    10) # fixed number of bins\n",
        "  plt.axvline(x=threshold, color='red') # pour tracer le threshold \n",
        "  plt.xlim([min(list_operations)-5, max(list_operations)+5])\n",
        "\n",
        "  plt.hist(list_operations, bins=bins, alpha=0.5)\n",
        "  plt.title(f'Distribution des operations ({title_operation}) avec seuil {threshold}')\n",
        "  plt.xlabel(f'somme des opérations {title_operation}')\n",
        "  plt.ylabel('count')\n",
        "\n",
        "  plt.show()"
      ],
      "execution_count": null,
      "outputs": []
    },
    {
      "cell_type": "markdown",
      "metadata": {
        "id": "mvyPtS8x1YBn"
      },
      "source": [
        "### si les données sont à la moyenne plus 3 écart-types alors, il y'a de fortes chances qu'elles soient des outliers."
      ]
    },
    {
      "cell_type": "code",
      "metadata": {
        "id": "vom5kIGP1afx"
      },
      "source": [
        "plot_users(sum_operation_lifestyle, 'lifestyle', threshold_lifestyle)"
      ],
      "execution_count": null,
      "outputs": []
    },
    {
      "cell_type": "code",
      "metadata": {
        "id": "DvQhV7Vm1xxb"
      },
      "source": [
        "plot_users(sum_operation_accept, 'accept', threshold_accept)"
      ],
      "execution_count": null,
      "outputs": []
    },
    {
      "cell_type": "code",
      "metadata": {
        "id": "7slwD3Gy16tj"
      },
      "source": [
        "plot_users(sum_operation_adverts, 'adverts', threshold_adverts)"
      ],
      "execution_count": null,
      "outputs": []
    },
    {
      "cell_type": "code",
      "metadata": {
        "id": "hhnkbV6T2Aa1"
      },
      "source": [
        "plot_users(sum_operation_app_get, 'app_get', threshold_app_get)"
      ],
      "execution_count": null,
      "outputs": []
    },
    {
      "cell_type": "code",
      "metadata": {
        "id": "vnsCiTVD2DX2"
      },
      "source": [
        "plot_users(sum_operation_bank, 'bank', threshold_bank)"
      ],
      "execution_count": null,
      "outputs": []
    },
    {
      "cell_type": "code",
      "metadata": {
        "id": "84ED97932Giq"
      },
      "source": [
        "plot_users(sum_operation_client, 'client', threshold_client)"
      ],
      "execution_count": null,
      "outputs": []
    },
    {
      "cell_type": "code",
      "metadata": {
        "id": "7072ck_R3usA"
      },
      "source": [
        "plot_users(sum_operation_client_get, 'client_get', threshold_client_get)"
      ],
      "execution_count": null,
      "outputs": []
    },
    {
      "cell_type": "code",
      "metadata": {
        "id": "4rIyxztg3x7U"
      },
      "source": [
        "plot_users(sum_operation_client_v2_create, 'client_v2_create', threshold_client_v2_create)"
      ],
      "execution_count": null,
      "outputs": []
    },
    {
      "cell_type": "code",
      "metadata": {
        "id": "V3nMsQmV33eg"
      },
      "source": [
        "plot_users(sum_operation_decline, 'decline', threshold_decline)"
      ],
      "execution_count": null,
      "outputs": []
    },
    {
      "cell_type": "code",
      "metadata": {
        "id": "UwP81Hk936kh"
      },
      "source": [
        "plot_users(sum_operation_Location, 'locations', threshold_Location)"
      ],
      "execution_count": null,
      "outputs": []
    },
    {
      "cell_type": "code",
      "metadata": {
        "id": "kPoISSKQ3_Ht"
      },
      "source": [
        "plot_users(sum_operation_payment, 'payment', threshold_payment)"
      ],
      "execution_count": null,
      "outputs": []
    },
    {
      "cell_type": "code",
      "metadata": {
        "id": "sO3v9dec4F8G"
      },
      "source": [
        "plot_users(sum_operation_preapproved, 'preapproved', threshold_preapproved)"
      ],
      "execution_count": null,
      "outputs": []
    },
    {
      "cell_type": "code",
      "metadata": {
        "id": "7Ffhf9lq4JIY"
      },
      "source": [
        "plot_users(sum_operation_product, 'products', threshold_product)"
      ],
      "execution_count": null,
      "outputs": []
    },
    {
      "cell_type": "code",
      "metadata": {
        "id": "m7Np4Usg4f8v"
      },
      "source": [
        "plot_users(sum_operation_update, 'updated', threshold_update)"
      ],
      "execution_count": null,
      "outputs": []
    },
    {
      "cell_type": "code",
      "metadata": {
        "id": "EX3TDdnp4lQ-"
      },
      "source": [
        "plot_users(sum_operation_wallet_balance, 'wallet_balance', threshold_wallet_balance)"
      ],
      "execution_count": null,
      "outputs": []
    },
    {
      "cell_type": "markdown",
      "metadata": {
        "id": "hznCVyQo404A"
      },
      "source": [
        "### Regrouper les utilisateurs en fonction du seuil"
      ]
    },
    {
      "cell_type": "code",
      "metadata": {
        "id": "EU3WdW7h4xjj"
      },
      "source": [
        "def group_users(list_users, list_phone_number_user, threshold):\n",
        "  '''cette fonction permet de regrouper les utilisateurs\n",
        "    en fonction de si leurs nombres d'opérations sont supérieurs ou inférieurs\n",
        "    à un seuil.  '''\n",
        "\n",
        "  list_users_great_than_threshold = []\n",
        "  list_users_less_than_threshold = []\n",
        "  dict_res = {}\n",
        "\n",
        "  for i, element in enumerate(list_users):\n",
        "    if element > threshold:\n",
        "      dict_res[list_phone_number_user[i]] = 1\n",
        "      list_users_great_than_threshold.append(list_phone_number_user[i])\n",
        "    elif element < threshold:\n",
        "      dict_res[list_phone_number_user[i]] = 0\n",
        "      list_users_less_than_threshold.append(list_phone_number_user[i])\n",
        "  \n",
        "  return dict_res"
      ],
      "execution_count": null,
      "outputs": []
    },
    {
      "cell_type": "code",
      "metadata": {
        "id": "XY03FvSv45-N"
      },
      "source": [
        "dict_client = group_users(sum_operation_client, list_phone_number_user_client, threshold_client)\n",
        "dict_accept = group_users(sum_operation_accept, list_phone_number_user_accept, threshold_accept)\n",
        "dict_adverts = group_users(sum_operation_adverts, list_phone_number_user_adverts, threshold_adverts)\n",
        "dict_app_get = group_users(sum_operation_app_get, list_phone_number_user_app_get, threshold_app_get)\n",
        "dict_bank = group_users(sum_operation_bank, list_phone_number_user_bank, threshold_bank)\n",
        "dict_client_get = group_users(sum_operation_client_get, list_phone_number_user_client_get, threshold_client_get)\n",
        "dict_client_v2_create = group_users(sum_operation_client_v2_create, list_phone_number_user_client_v2_create, threshold_client_v2_create)\n",
        "dict_decline = group_users(sum_operation_decline, list_phone_number_user_decline, threshold_decline)\n",
        "dict_lifestyle = group_users(sum_operation_lifestyle, list_phone_number_user_lifestyle, threshold_lifestyle)\n",
        "dict_location = group_users(sum_operation_Location, list_phone_number_user_location, threshold_Location)\n",
        "dict_payment = group_users(sum_operation_payment, list_phone_number_user_payment, threshold_payment)\n",
        "dict_preapproved = group_users(sum_operation_preapproved, list_phone_number_user_preapproved, threshold_preapproved)\n",
        "dict_product = group_users(sum_operation_product, list_phone_number_user_product, threshold_product)\n",
        "dict_update = group_users(sum_operation_update, list_phone_number_user_update, threshold_update)\n",
        "dict_wallet_balance = group_users(sum_operation_wallet_balance, list_phone_number_user_wallet_balance, threshold_wallet_balance)"
      ],
      "execution_count": null,
      "outputs": []
    },
    {
      "cell_type": "markdown",
      "metadata": {
        "id": "U09ItskE5DOC"
      },
      "source": [
        "### Créer des DataFrame en fonction des utilisateurs"
      ]
    },
    {
      "cell_type": "code",
      "metadata": {
        "id": "nXr7KFmF5AaP"
      },
      "source": [
        "import pandas as pd\n",
        "\n",
        "def create_df(one_dict, key_word='great_less_than_threshold'):\n",
        "\n",
        "  list_key = []\n",
        "  list_value = []\n",
        "  for key in one_dict:\n",
        "    list_key.append(key)\n",
        "    list_value.append(one_dict[key])\n",
        "\n",
        "  dict_res ={'phone_number_user': list_key, key_word: list_value}\n",
        "  return pd.DataFrame(dict_res)"
      ],
      "execution_count": null,
      "outputs": []
    },
    {
      "cell_type": "markdown",
      "metadata": {
        "id": "ou7-50Kq5Ldx"
      },
      "source": [
        "### création du dataframe pour les utilisateurs qui ont effectué les opérations de endpoint"
      ]
    },
    {
      "cell_type": "code",
      "metadata": {
        "id": "Txh-7vCc5Mxv"
      },
      "source": [
        "# Création du dataframe en fonction de l'utilisation du threshold de l'endpoint \"client\"\n",
        "df_client=create_df(dict_client, key_word='great_less_than_threshold_client')\n",
        "df_client"
      ],
      "execution_count": null,
      "outputs": []
    },
    {
      "cell_type": "code",
      "metadata": {
        "id": "SApUu8Bp5Saq"
      },
      "source": [
        "# vérifions les utilisateurs qui ont un seuil = 1\n",
        "df_client[df_client['great_less_than_threshold_client'] == 1]"
      ],
      "execution_count": null,
      "outputs": []
    },
    {
      "cell_type": "markdown",
      "metadata": {
        "id": "v2_T0AH05YxB"
      },
      "source": [
        "### création du dataframe pour les utilisateurs qui ont effectué les opérations de \"accept\"."
      ]
    },
    {
      "cell_type": "code",
      "metadata": {
        "id": "xpGaTERP5WKZ"
      },
      "source": [
        "df_accept = create_df(dict_accept, key_word='great_less_than_threshold_accept')\n",
        "df_accept"
      ],
      "execution_count": null,
      "outputs": []
    },
    {
      "cell_type": "code",
      "metadata": {
        "id": "bZacxHO45eOe"
      },
      "source": [
        "df_accept[df_accept['great_less_than_threshold_accept'] == 1]"
      ],
      "execution_count": null,
      "outputs": []
    },
    {
      "cell_type": "markdown",
      "metadata": {
        "id": "R2zredbj8K40"
      },
      "source": [
        "### création du dataframe pour les utilisateurs qui ont effectué les opérations de \"adverts\"."
      ]
    },
    {
      "cell_type": "code",
      "metadata": {
        "id": "OdSEJeQR5kW2"
      },
      "source": [
        "df_adverts = create_df(dict_adverts, key_word='great_less_than_threshold_adverts')\n",
        "df_adverts"
      ],
      "execution_count": null,
      "outputs": []
    },
    {
      "cell_type": "code",
      "metadata": {
        "id": "GibGOIjC5kCg"
      },
      "source": [
        "df_adverts[df_adverts['great_less_than_threshold_adverts'] == 1]"
      ],
      "execution_count": null,
      "outputs": []
    },
    {
      "cell_type": "markdown",
      "metadata": {
        "id": "E7Mmdg9p8ROy"
      },
      "source": [
        "### création du dataframe pour les utilisateurs qui ont effectué les opérations de \"application get\"."
      ]
    },
    {
      "cell_type": "code",
      "metadata": {
        "id": "jDZ47vW08M6T"
      },
      "source": [
        "df_app_get = create_df(dict_app_get, key_word='great_less_than_threshold_app_get')\n",
        "df_app_get"
      ],
      "execution_count": null,
      "outputs": []
    },
    {
      "cell_type": "code",
      "metadata": {
        "id": "PnIduftg8axr"
      },
      "source": [
        "df_app_get[df_app_get['great_less_than_threshold_app_get'] == 1]"
      ],
      "execution_count": null,
      "outputs": []
    },
    {
      "cell_type": "markdown",
      "metadata": {
        "id": "SHJ0gVoA8k1m"
      },
      "source": [
        "### création du dataframe pour les utilisateurs qui ont effectué les opérations de \"bank\"."
      ]
    },
    {
      "cell_type": "code",
      "metadata": {
        "id": "mhiDjkYI8efA"
      },
      "source": [
        "df_bank = create_df(dict_bank, key_word='great_less_than_threshold_bank')\n",
        "df_bank"
      ],
      "execution_count": null,
      "outputs": []
    },
    {
      "cell_type": "code",
      "metadata": {
        "id": "5y8gnSOV8iLb"
      },
      "source": [
        "df_bank[df_bank['great_less_than_threshold_bank'] == 1]"
      ],
      "execution_count": null,
      "outputs": []
    },
    {
      "cell_type": "markdown",
      "metadata": {
        "id": "cd3D586P8mad"
      },
      "source": [
        "### création du dataframe pour les utilisateurs qui ont effectué les opérations de \"client get\"."
      ]
    },
    {
      "cell_type": "code",
      "metadata": {
        "id": "LdzM04Hc8mvi"
      },
      "source": [
        "df_client_get = create_df(dict_client_get, key_word='great_less_than_threshold_client_get')\n",
        "df_client_get"
      ],
      "execution_count": null,
      "outputs": []
    },
    {
      "cell_type": "code",
      "metadata": {
        "id": "jrhkn9Us8m7-"
      },
      "source": [
        "df_client_get[df_client_get['great_less_than_threshold_client_get'] == 1]"
      ],
      "execution_count": null,
      "outputs": []
    },
    {
      "cell_type": "markdown",
      "metadata": {
        "id": "bKtVk0PH86t5"
      },
      "source": [
        "### création du dataframe pour les utilisateurs qui ont effectué les opérations de \"client v2 create\"."
      ]
    },
    {
      "cell_type": "code",
      "metadata": {
        "id": "qRJg6XBs8z_W"
      },
      "source": [
        "df_client_v2_create = create_df(dict_client_v2_create, key_word='great_less_than_threshold_client_v2_create')\n",
        "df_client_v2_create"
      ],
      "execution_count": null,
      "outputs": []
    },
    {
      "cell_type": "code",
      "metadata": {
        "id": "E1DvYDet88Du"
      },
      "source": [
        "df_client_v2_create[df_client_v2_create['great_less_than_threshold_client_v2_create'] == 1]"
      ],
      "execution_count": null,
      "outputs": []
    },
    {
      "cell_type": "markdown",
      "metadata": {
        "id": "rUFI0Vj7-bZ9"
      },
      "source": [
        "### création du dataframe pour les utilisateurs qui ont effectué les opérations de \"decline\"."
      ]
    },
    {
      "cell_type": "code",
      "metadata": {
        "id": "0PRTGobv-cwc"
      },
      "source": [
        "df_decline = create_df(dict_decline, key_word='great_less_than_threshold_decline')\n",
        "df_decline"
      ],
      "execution_count": null,
      "outputs": []
    },
    {
      "cell_type": "code",
      "metadata": {
        "id": "a94eiVsr-dTL"
      },
      "source": [
        "df_decline[df_decline['great_less_than_threshold_decline'] == 1]"
      ],
      "execution_count": null,
      "outputs": []
    },
    {
      "cell_type": "markdown",
      "metadata": {
        "id": "pd9wjmMr-nLn"
      },
      "source": [
        "### création du dataframe pour les utilisateurs qui ont effectué les opérations de \"payment\"."
      ]
    },
    {
      "cell_type": "code",
      "metadata": {
        "id": "iSg9VTBU-oj2"
      },
      "source": [
        "df_payment = create_df(dict_payment, key_word='great_less_than_threshold_payment')"
      ],
      "execution_count": null,
      "outputs": []
    },
    {
      "cell_type": "code",
      "metadata": {
        "id": "3_5Osjaw-o5X"
      },
      "source": [
        "df_payment[df_payment['great_less_than_threshold_payment'] == 1]"
      ],
      "execution_count": null,
      "outputs": []
    },
    {
      "cell_type": "markdown",
      "metadata": {
        "id": "3YDBIWRD-1Tr"
      },
      "source": [
        "### création du dataframe pour les utilisateurs qui ont effectué les opérations de \"lifestyle\"."
      ]
    },
    {
      "cell_type": "code",
      "metadata": {
        "id": "6__1LTJe-2d5"
      },
      "source": [
        "df_lifestyle = create_df(dict_lifestyle, key_word='great_less_than_threshold_lifestyle')"
      ],
      "execution_count": null,
      "outputs": []
    },
    {
      "cell_type": "code",
      "metadata": {
        "id": "_VTLGzfN-8tW"
      },
      "source": [
        "df_lifestyle[df_lifestyle['great_less_than_threshold_lifestyle'] == 1]"
      ],
      "execution_count": null,
      "outputs": []
    },
    {
      "cell_type": "markdown",
      "metadata": {
        "id": "7jVJm8Tu_AoS"
      },
      "source": [
        "### création du dataframe pour les utilisateurs qui ont effectué les opérations de \"location\"."
      ]
    },
    {
      "cell_type": "code",
      "metadata": {
        "id": "7kYIq2JJ_CBA"
      },
      "source": [
        "df_location = create_df(dict_location, key_word='great_less_than_threshold_location')"
      ],
      "execution_count": null,
      "outputs": []
    },
    {
      "cell_type": "code",
      "metadata": {
        "id": "E21MZd6R_JM6"
      },
      "source": [
        "df_location[df_location['great_less_than_threshold_location'] == 1]"
      ],
      "execution_count": null,
      "outputs": []
    },
    {
      "cell_type": "markdown",
      "metadata": {
        "id": "IkfG2CB6_XBv"
      },
      "source": [
        "### création du dataframe pour les utilisateurs qui ont effectué les opérations de \"preapproved\"."
      ]
    },
    {
      "cell_type": "code",
      "metadata": {
        "id": "cQ9INCO9_ckB"
      },
      "source": [
        "df_preapproved = create_df(dict_preapproved, key_word='great_less_than_threshold_preapproved')"
      ],
      "execution_count": null,
      "outputs": []
    },
    {
      "cell_type": "code",
      "metadata": {
        "id": "HBTC_hNd_dCJ"
      },
      "source": [
        "df_preapproved[df_preapproved['great_less_than_threshold_preapproved'] == 1]"
      ],
      "execution_count": null,
      "outputs": []
    },
    {
      "cell_type": "markdown",
      "metadata": {
        "id": "8O38pbzk_ptf"
      },
      "source": [
        "### création du dataframe pour les utilisateurs qui ont effectué les opérations de \"products\"."
      ]
    },
    {
      "cell_type": "code",
      "metadata": {
        "id": "Nk9t1WVj_rNl"
      },
      "source": [
        "df_product = create_df(dict_product, key_word='great_less_than_threshold_products')"
      ],
      "execution_count": null,
      "outputs": []
    },
    {
      "cell_type": "code",
      "metadata": {
        "id": "1fVgcWSi_rqu"
      },
      "source": [
        "df_product[df_product['great_less_than_threshold_products'] == 1]"
      ],
      "execution_count": null,
      "outputs": []
    },
    {
      "cell_type": "markdown",
      "metadata": {
        "id": "Q8YAlnKR_2RQ"
      },
      "source": [
        "### création du dataframe pour les utilisateurs qui ont effectué les opérations de \"update\"."
      ]
    },
    {
      "cell_type": "code",
      "metadata": {
        "id": "OvO6a3Ld_yiW"
      },
      "source": [
        "df_update = create_df(dict_update, key_word='great_less_than_threshold_update')"
      ],
      "execution_count": null,
      "outputs": []
    },
    {
      "cell_type": "code",
      "metadata": {
        "id": "BWLKwkBO_yR4"
      },
      "source": [
        "df_update[df_update['great_less_than_threshold_update'] == 1]"
      ],
      "execution_count": null,
      "outputs": []
    },
    {
      "cell_type": "markdown",
      "metadata": {
        "id": "wGnSW9U3AA-S"
      },
      "source": [
        "### création du dataframe pour les utilisateurs qui ont effectué les opérations de \"wallet balance\"."
      ]
    },
    {
      "cell_type": "code",
      "metadata": {
        "id": "RDTYrFu4ACHv"
      },
      "source": [
        "df_wallet_balance = create_df(dict_wallet_balance, key_word='great_less_than_threshold_wallet_balance')"
      ],
      "execution_count": null,
      "outputs": []
    },
    {
      "cell_type": "code",
      "metadata": {
        "id": "-lcN60vqACri"
      },
      "source": [
        "df_wallet_balance[df_wallet_balance['great_less_than_threshold_wallet_balance'] == 1]"
      ],
      "execution_count": null,
      "outputs": []
    },
    {
      "cell_type": "markdown",
      "metadata": {
        "id": "IfSD3B6VAMB3"
      },
      "source": [
        "## Faire la jointure des dataframes"
      ]
    },
    {
      "cell_type": "markdown",
      "metadata": {
        "id": "BAJQl-i2AQKL"
      },
      "source": [
        "### premièrement: ordonner les colonnes de numéros de téléphone par ordre croissant\n",
        "### NB: Toujours re-indexer (.reset_index(drop=True)) les dataframe avant de faire des JOIN"
      ]
    },
    {
      "cell_type": "code",
      "metadata": {
        "id": "iXdKXnZTARSa"
      },
      "source": [
        "# Ordonnons les dataset, ensuite ré-indexons les index ce qui nous facilitera l'opération de concatenation.\n",
        "sorted_df_client = df_client.sort_values(by=['phone_number_user'], ascending=True).reset_index(drop=True)\n",
        "sorted_df_accept = df_accept.sort_values(by=['phone_number_user'], ascending=True).reset_index(drop=True)\n",
        "sorted_df_adverts = df_adverts.sort_values(by=['phone_number_user'], ascending=True).reset_index(drop=True)\n",
        "sorted_df_app_get = df_app_get.sort_values(by=['phone_number_user'], ascending=True).reset_index(drop=True)\n",
        "sorted_df_bank = df_bank.sort_values(by=['phone_number_user'], ascending=True).reset_index(drop=True)\n",
        "sorted_df_client_get = df_client_get.sort_values(by=['phone_number_user'], ascending=True).reset_index(drop=True)\n",
        "sorted_df_client_v2_create = df_client_v2_create.sort_values(by=['phone_number_user'], ascending=True).reset_index(drop=True)\n",
        "sorted_df_decline = df_decline.sort_values(by=['phone_number_user'], ascending=True).reset_index(drop=True)\n",
        "sorted_df_payment = df_payment.sort_values(by=['phone_number_user'], ascending=True).reset_index(drop=True)\n",
        "sorted_df_lifestyle = df_lifestyle.sort_values(by=['phone_number_user'], ascending=True).reset_index(drop=True)\n",
        "sorted_df_location = df_location.sort_values(by=['phone_number_user'], ascending=True).reset_index(drop=True)\n",
        "sorted_df_preapproved = df_preapproved.sort_values(by=['phone_number_user'], ascending=True).reset_index(drop=True)\n",
        "sorted_df_product = df_product.sort_values(by=['phone_number_user'], ascending=True).reset_index(drop=True)\n",
        "sorted_df_update = df_update.sort_values(by=['phone_number_user'], ascending=True).reset_index(drop=True)\n",
        "sorted_df_wallet_balance = df_wallet_balance.sort_values(by=['phone_number_user'], ascending=True).reset_index(drop=True)"
      ],
      "execution_count": null,
      "outputs": []
    },
    {
      "cell_type": "markdown",
      "metadata": {
        "id": "Iwfw3annAZ-U"
      },
      "source": [
        "### Concatenons tous les dataframes pour avoir un dataframe avec lequel on va entrainer nos modèles"
      ]
    },
    {
      "cell_type": "code",
      "metadata": {
        "id": "Ch652n2RAcAo"
      },
      "source": [
        "list_users = [sorted_df_client, sorted_df_accept['great_less_than_threshold_accept'], sorted_df_adverts['great_less_than_threshold_adverts'], sorted_df_app_get['great_less_than_threshold_app_get'], \n",
        "              sorted_df_bank['great_less_than_threshold_bank'], sorted_df_client_get['great_less_than_threshold_client_get'], \n",
        "              sorted_df_client_v2_create['great_less_than_threshold_client_v2_create'], sorted_df_decline['great_less_than_threshold_decline'], \n",
        "              sorted_df_payment['great_less_than_threshold_payment'], sorted_df_lifestyle['great_less_than_threshold_lifestyle'], \n",
        "              sorted_df_location['great_less_than_threshold_location'], sorted_df_preapproved['great_less_than_threshold_preapproved'], \n",
        "              sorted_df_product['great_less_than_threshold_products'], sorted_df_update['great_less_than_threshold_update'], \n",
        "              sorted_df_wallet_balance['great_less_than_threshold_wallet_balance']]  # List of our dataframes\n",
        "df_final_users = pd.concat(list_users, axis=1)\n",
        "df_final_users.head(5)"
      ],
      "execution_count": null,
      "outputs": []
    },
    {
      "cell_type": "code",
      "metadata": {
        "id": "3zX8XsnlApVy"
      },
      "source": [
        "# Faire la somme de toutes les colonnes et mettre dans le résultat dans la colonne \"score_total\"\n",
        "df_final_users['score_total'] = df_final_users.iloc[:, 1:16].sum(axis=1)\n",
        "df_final_users['score_total'].max()"
      ],
      "execution_count": null,
      "outputs": []
    },
    {
      "cell_type": "code",
      "metadata": {
        "id": "R0CkLTfOAtTB"
      },
      "source": [
        "list_score_total = df_final_users['score_total'].values # convertir une series en list"
      ],
      "execution_count": null,
      "outputs": []
    },
    {
      "cell_type": "code",
      "metadata": {
        "id": "v7rMOpssA5pY"
      },
      "source": [
        "list_score_total"
      ],
      "execution_count": null,
      "outputs": []
    },
    {
      "cell_type": "code",
      "metadata": {
        "id": "dBc7YPRFA_Aj"
      },
      "source": [
        "import numpy as np\n",
        "med = np.median(list_score_total)\n",
        "moy = np.mean(list_score_total)\n",
        "ecart_type_score_total = np.std(list_score_total)\n",
        "threshold_score_total = med + 3*ecart_type_score_total\n",
        "threshold_score_total"
      ],
      "execution_count": null,
      "outputs": []
    },
    {
      "cell_type": "code",
      "metadata": {
        "id": "mbiwciKDBCoI"
      },
      "source": [
        "plot_users(df_final_users['score_total'].values, 'score_total' , threshold_score_total)"
      ],
      "execution_count": null,
      "outputs": []
    },
    {
      "cell_type": "markdown",
      "metadata": {
        "id": "hem3YJT0BLst"
      },
      "source": [
        "### Récupérer les utilisateurs qui sont au delà du seuil.\n",
        "### les utilisateurs qui sont au délà du seuil peuvent etre considérés comme ceux qui ont effectué des transactions douteuses."
      ]
    },
    {
      "cell_type": "code",
      "metadata": {
        "id": "0IvgcXr0BKc_"
      },
      "source": [
        "df_resultats = df_final_users[df_final_users['score_total'] > threshold_score_total]\n",
        "df_resultats"
      ],
      "execution_count": null,
      "outputs": []
    },
    {
      "cell_type": "code",
      "metadata": {
        "id": "vhUHOLPeBcLF"
      },
      "source": [
        "df_final_users"
      ],
      "execution_count": null,
      "outputs": []
    },
    {
      "cell_type": "markdown",
      "metadata": {
        "id": "mlAGp5R3Bh-U"
      },
      "source": [
        "### Selon les résultats affichés, la composantes pc2 de PCA répresente les personnes qui ont effectués beaucoup d'achats"
      ]
    },
    {
      "cell_type": "markdown",
      "metadata": {
        "id": "BGYOxOMUBqhd"
      },
      "source": [
        "### on drop la prémière colonne parce que les données qu'on veut passer à notre modèle de clustering doivent etre des nombres"
      ]
    },
    {
      "cell_type": "code",
      "metadata": {
        "id": "27MlLI8kBjJ2"
      },
      "source": [
        "df_result = df_final_users.drop('phone_number_user', 1)"
      ],
      "execution_count": null,
      "outputs": []
    },
    {
      "cell_type": "markdown",
      "metadata": {
        "id": "71lzaD3sByAP"
      },
      "source": [
        "### Ensuite on convertit notre dataframe en liste pour le passer au modèle de clustering KMeans"
      ]
    },
    {
      "cell_type": "code",
      "metadata": {
        "id": "v0WgG9WtB0aZ"
      },
      "source": [
        "# convertir le dataframe en list\n",
        "list_resultats = df_result.values.tolist()"
      ],
      "execution_count": null,
      "outputs": []
    },
    {
      "cell_type": "code",
      "metadata": {
        "id": "60Ho0joWD56E"
      },
      "source": [
        "print(list_resultats)"
      ],
      "execution_count": null,
      "outputs": []
    },
    {
      "cell_type": "code",
      "metadata": {
        "id": "6PS-K60zE83R"
      },
      "source": [
        "cleanedList = [[x for x in y if not np.isnan(x)] for y in list_resultats]"
      ],
      "execution_count": null,
      "outputs": []
    },
    {
      "cell_type": "code",
      "metadata": {
        "id": "adOBiT2AEb3_"
      },
      "source": [
        "print(cleanedList)"
      ],
      "execution_count": null,
      "outputs": []
    },
    {
      "cell_type": "markdown",
      "metadata": {
        "id": "kMJVdL1hB6Iz"
      },
      "source": [
        "### Algorithme de clustering KMeans"
      ]
    },
    {
      "cell_type": "code",
      "metadata": {
        "id": "nhjgbYe9B5Fk"
      },
      "source": [
        "from sklearn.cluster import KMeans\n",
        "import matplotlib.pyplot as plt"
      ],
      "execution_count": null,
      "outputs": []
    },
    {
      "cell_type": "markdown",
      "metadata": {
        "id": "lkDMcq4qCEuP"
      },
      "source": [
        "### on fait la standardisation parce que la dernière colonne du dataframe a des valeurs prépondérantes (9, 3, etc...) par rapport aux autres pour que toutes les valeurs du dataframe soient comprises entre -1 et 1."
      ]
    },
    {
      "cell_type": "code",
      "metadata": {
        "id": "0EEvryCgCGHN"
      },
      "source": [
        "from sklearn.preprocessing import StandardScaler \n",
        "Scaled_data = StandardScaler().fit_transform(cleanedList)"
      ],
      "execution_count": null,
      "outputs": []
    },
    {
      "cell_type": "code",
      "metadata": {
        "id": "kHYNP33FCMzo"
      },
      "source": [
        "from sklearn.decomposition import PCA\n",
        "import random\n",
        "\n",
        "# Scale data before applying PCA\n",
        "#scaling=StandardScaler()\n",
        " \n",
        "# Use fit and transform method\n",
        "#scaling.fit(df1)\n",
        "#Scaled_data=scaling.transform(df1)\n",
        " \n",
        "# Set the n_components=2\n",
        "principal=PCA(n_components=2)\n",
        "principal.fit(Scaled_data)\n",
        "x=principal.transform(Scaled_data)\n",
        " \n",
        "# Check the dimensions of data after PCA\n",
        "#print(x.shape)\n",
        "\n",
        "principal.components_\n",
        "\n",
        "df_sortie = pd.DataFrame(x, columns=['pc1', 'pc2'])\n",
        "#print(df_sortie)\n",
        "df_filtre = df_sortie[(df_sortie['pc1'] >= 7) & (df_sortie['pc2'] >= 6)]\n",
        "print(df_filtre)\n",
        "\n",
        "plt.figure(figsize=(5,5))\n",
        "plt.scatter(x[:,0]+random.uniform(0, 1)/10, x[:,1]+random.uniform(0, 1)/100, c='blue', cmap='plasma', marker='x', alpha=0.4)\n",
        "plt.xlabel('pc1')\n",
        "plt.ylabel('pc2')"
      ],
      "execution_count": null,
      "outputs": []
    },
    {
      "cell_type": "code",
      "metadata": {
        "id": "xMBr6KTbCx61"
      },
      "source": [
        "df_filtre_1 = df_sortie[(df_sortie['pc1'] <= 5) & (df_sortie['pc2'] < -1)]\n",
        "print(df_filtre_1)"
      ],
      "execution_count": null,
      "outputs": []
    },
    {
      "cell_type": "markdown",
      "metadata": {
        "id": "Zhk7v4WhC-io"
      },
      "source": [
        "### Fonction pour faire le plot de tous nos points"
      ]
    },
    {
      "cell_type": "code",
      "metadata": {
        "id": "z12hJ1ndDHMj"
      },
      "source": [
        "cleanedList"
      ],
      "execution_count": null,
      "outputs": []
    },
    {
      "cell_type": "code",
      "metadata": {
        "id": "MCRmlkb6C9jN"
      },
      "source": [
        "def scatter_plot(list_points):\n",
        "  x = []\n",
        "  y = []\n",
        "  for i in list_points:\n",
        "    x.append(i[0])\n",
        "    y.append(i[1])\n",
        "\n",
        "  plt.scatter(x,y, s=200)\n",
        "  plt.show()"
      ],
      "execution_count": null,
      "outputs": []
    },
    {
      "cell_type": "code",
      "metadata": {
        "id": "Qti72J6fDEfH"
      },
      "source": [
        "scatter_plot(cleanedList)"
      ],
      "execution_count": null,
      "outputs": []
    },
    {
      "cell_type": "code",
      "metadata": {
        "id": "mxBE-OyYDQOr"
      },
      "source": [
        "# on choisit trois clusters\n",
        "kmeans = KMeans(n_clusters=3, random_state=0)"
      ],
      "execution_count": null,
      "outputs": []
    },
    {
      "cell_type": "code",
      "metadata": {
        "id": "qXHKKxe6DTZE"
      },
      "source": [
        "y_pred = kmeans.fit_predict(cleanedList)\n",
        "y_pred"
      ],
      "execution_count": null,
      "outputs": []
    }
  ]
}