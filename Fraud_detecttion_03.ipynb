{
  "nbformat": 4,
  "nbformat_minor": 0,
  "metadata": {
    "colab": {
      "name": "Fraud_detecttion_03.ipynb",
      "provenance": [],
      "collapsed_sections": [],
      "authorship_tag": "ABX9TyPWOiNru42a2SmdBLb0zEuR",
      "include_colab_link": true
    },
    "kernelspec": {
      "name": "python3",
      "display_name": "Python 3"
    },
    "language_info": {
      "name": "python"
    }
  },
  "cells": [
    {
      "cell_type": "markdown",
      "metadata": {
        "id": "view-in-github",
        "colab_type": "text"
      },
      "source": [
        "<a href=\"https://colab.research.google.com/github/pfolaa/fraud_detection/blob/main/Fraud_detecttion_03.ipynb\" target=\"_parent\"><img src=\"https://colab.research.google.com/assets/colab-badge.svg\" alt=\"Open In Colab\"/></a>"
      ]
    },
    {
      "cell_type": "code",
      "execution_count": 1,
      "metadata": {
        "colab": {
          "base_uri": "https://localhost:8080/"
        },
        "id": "12u6Z_Enw7w9",
        "outputId": "327e1bc8-36d1-4a8a-be1f-6d62568dfef7"
      },
      "outputs": [
        {
          "output_type": "stream",
          "name": "stdout",
          "text": [
            "Mounted at /content/drive\n"
          ]
        }
      ],
      "source": [
        "from google.colab import drive\n",
        "drive.mount('/content/drive')"
      ]
    },
    {
      "cell_type": "code",
      "source": [
        "!pip install flask-ngrok"
      ],
      "metadata": {
        "id": "uH_e_PCAPa58"
      },
      "execution_count": null,
      "outputs": []
    },
    {
      "cell_type": "code",
      "source": [
        "cd /content/drive/MyDrive/datasets"
      ],
      "metadata": {
        "colab": {
          "base_uri": "https://localhost:8080/"
        },
        "id": "_j4ChUFS0Zjp",
        "outputId": "15e2c4f8-9703-46ac-e5e3-691f26a3a867"
      },
      "execution_count": 2,
      "outputs": [
        {
          "output_type": "stream",
          "name": "stdout",
          "text": [
            "/content/drive/MyDrive/datasets\n"
          ]
        }
      ]
    },
    {
      "cell_type": "code",
      "source": [
        "!cp content/drive/MyDrive/datasets/model.py "
      ],
      "metadata": {
        "id": "i7RBVMHhxws9"
      },
      "execution_count": null,
      "outputs": []
    },
    {
      "cell_type": "code",
      "source": [
        "!python model.py"
      ],
      "metadata": {
        "colab": {
          "base_uri": "https://localhost:8080/"
        },
        "id": "ALC1j1eYx7-z",
        "outputId": "45040e58-e40d-4053-f076-28ee9efa2246"
      },
      "execution_count": null,
      "outputs": [
        {
          "output_type": "stream",
          "name": "stdout",
          "text": [
            "100% 6054/6054 [01:18<00:00, 76.73it/s]\n",
            "100% 6054/6054 [01:05<00:00, 91.75it/s]\n",
            "100% 6054/6054 [00:07<00:00, 839.33it/s]\n",
            "100% 6054/6054 [01:21<00:00, 74.54it/s]\n",
            "100% 6054/6054 [39:17<00:00,  2.57it/s]\n",
            "  2% 149/6054 [00:47<27:03,  3.64it/s]"
          ]
        }
      ]
    },
    {
      "cell_type": "code",
      "source": [
        "from flask import Flask, request, jsonify, render_template\n",
        "import pickle\n",
        "\n",
        "# create flask app\n",
        "app = Flask(__name__)\n",
        "\n",
        "# load the pickle model\n",
        "model = pickle.load(open(\"model.pkl\", \"rb\"))\n",
        "\n",
        "@app.route(\"/\")\n",
        "def index()\n",
        "  return \"Hello\"\n",
        "\n",
        "@app.route(\"/predict\", methods=[\"POST\"])\n",
        "def predict():\n",
        "\n",
        "  prediction = model.predict()\n",
        "  return render_template()\n",
        "\n",
        "\n",
        "if __name__ == \"__main__\":\n",
        "    app.run(debug=True65/*/)"
      ],
      "metadata": {
        "id": "6p9QLE4CIiSY"
      },
      "execution_count": null,
      "outputs": []
    },
    {
      "cell_type": "code",
      "source": [
        "import redis\n",
        "from rq import Queue\n",
        "import time\n",
        "\n",
        "app = Flask(__name__)\n",
        "\n",
        "r = redis.Redis()\n",
        "q = Queue(connection=r)\n",
        "\n",
        "def background_task(n):\n",
        "  delay = 2\n",
        "\n",
        "  print(\"Task running\")\n",
        "  print(f\"Simulating {delay} second delay\")\n",
        "\n",
        "  time.sleep(delay)\n",
        "  print(len(n))\n",
        "  print(\"Task complete\")\n",
        "\n",
        "  return len(n)\n",
        "\n",
        "@app.route(\"/task\")\n",
        "def add_task():\n",
        "\n",
        "  if request.args.get(\"n\"):\n",
        "    job = q.enqueue(background_task, request.args.get(\"n\"))\n",
        "    q_len = len(q)\n",
        "  \n",
        "    return f\"Task {job.id} added to queue at {job.enqueue_at}. {q_len} task in the queue\" \n",
        "   \n",
        "  return \"No value for n\" \n",
        "\n",
        "\n",
        "if __name__ == \"__main__\":\n",
        "    app.run()\n"
      ],
      "metadata": {
        "id": "8UvTDwNbQzp0"
      },
      "execution_count": null,
      "outputs": []
    }
  ]
}